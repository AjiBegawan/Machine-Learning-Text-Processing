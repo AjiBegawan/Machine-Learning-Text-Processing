{
 "cells": [
  {
   "cell_type": "code",
   "execution_count": 1,
   "metadata": {},
   "outputs": [
    {
     "name": "stdout",
     "output_type": "stream",
     "text": [
      "PhysicalDevice(name='/physical_device:GPU:0', device_type='GPU')\n"
     ]
    }
   ],
   "source": [
    "import tensorflow as tf\n",
    "gpu = tf.config.experimental.list_physical_devices('GPU')\n",
    "tf.config.experimental.set_memory_growth(gpu[0], True)\n",
    "print(gpu[0])"
   ]
  },
  {
   "attachments": {},
   "cell_type": "markdown",
   "metadata": {},
   "source": [
    "# 1. Import Libraries"
   ]
  },
  {
   "cell_type": "code",
   "execution_count": 2,
   "metadata": {},
   "outputs": [
    {
     "name": "stderr",
     "output_type": "stream",
     "text": [
      "[nltk_data] Downloading package punkt to\n",
      "[nltk_data]     C:\\Users\\indiz\\AppData\\Roaming\\nltk_data...\n",
      "[nltk_data]   Package punkt is already up-to-date!\n",
      "[nltk_data] Downloading package stopwords to\n",
      "[nltk_data]     C:\\Users\\indiz\\AppData\\Roaming\\nltk_data...\n",
      "[nltk_data]   Package stopwords is already up-to-date!\n",
      "[nltk_data] Downloading package wordnet to\n",
      "[nltk_data]     C:\\Users\\indiz\\AppData\\Roaming\\nltk_data...\n",
      "[nltk_data]   Package wordnet is already up-to-date!\n"
     ]
    }
   ],
   "source": [
    "import re\n",
    "import math\n",
    "import numpy as np\n",
    "import pandas as pd\n",
    "import seaborn as sns\n",
    "import matplotlib.pyplot as plt\n",
    "\n",
    "from collections import Counter\n",
    "from keras.utils import to_categorical\n",
    "from imblearn.under_sampling import RandomUnderSampler\n",
    "from tqdm.notebook import tqdm\n",
    "tqdm.pandas()\n",
    "\n",
    "from tensorflow import keras\n",
    "from tensorflow.keras.optimizers import Adam\n",
    "from tensorflow.keras.models import Sequential\n",
    "from tensorflow.keras.layers import Dense, Flatten, Conv1D, MaxPooling1D, LSTM, GRU, Embedding,\\\n",
    "    BatchNormalization, LeakyReLU, Dropout, ReLU, Bidirectional \n",
    "\n",
    "from sklearn.metrics import classification_report \n",
    "from sklearn.model_selection import train_test_split\n",
    "from sklearn.metrics import mean_squared_error, r2_score\n",
    "from sklearn.preprocessing import  MinMaxScaler, PowerTransformer\n",
    "from sklearn.metrics import accuracy_score, confusion_matrix, roc_auc_score\n",
    "from sklearn.feature_extraction.text import CountVectorizer, TfidfVectorizer\n",
    "\n",
    "from sklearn.tree import DecisionTreeClassifier\n",
    "from sklearn.neighbors import KNeighborsClassifier\n",
    "from sklearn.ensemble import (\n",
    "    GradientBoostingClassifier, \n",
    "    AdaBoostClassifier, \n",
    "    RandomForestClassifier,\n",
    "    BaggingClassifier,\n",
    "    ExtraTreesClassifier,\n",
    "    RandomForestClassifier,\n",
    "    StackingClassifier,\n",
    "    HistGradientBoostingClassifier\n",
    ")\n",
    "from xgboost import XGBClassifier\n",
    "\n",
    "from tensorflow.keras.preprocessing.text import Tokenizer\n",
    "from tensorflow.keras.preprocessing.sequence import pad_sequences\n",
    "\n",
    "import nltk\n",
    "nltk.download('punkt')\n",
    "nltk.download('stopwords')\n",
    "nltk.download('wordnet')\n",
    "from nltk.corpus import stopwords\n",
    "from nltk.stem.snowball import SnowballStemmer\n",
    "from nltk.stem.wordnet import WordNetLemmatizer"
   ]
  },
  {
   "attachments": {},
   "cell_type": "markdown",
   "metadata": {},
   "source": [
    "# 2. Load Data"
   ]
  },
  {
   "cell_type": "code",
   "execution_count": 3,
   "metadata": {},
   "outputs": [
    {
     "data": {
      "text/html": [
       "<div>\n",
       "<style scoped>\n",
       "    .dataframe tbody tr th:only-of-type {\n",
       "        vertical-align: middle;\n",
       "    }\n",
       "\n",
       "    .dataframe tbody tr th {\n",
       "        vertical-align: top;\n",
       "    }\n",
       "\n",
       "    .dataframe thead th {\n",
       "        text-align: right;\n",
       "    }\n",
       "</style>\n",
       "<table border=\"1\" class=\"dataframe\">\n",
       "  <thead>\n",
       "    <tr style=\"text-align: right;\">\n",
       "      <th></th>\n",
       "      <th>COMMENT_ID</th>\n",
       "      <th>AUTHOR</th>\n",
       "      <th>DATE</th>\n",
       "      <th>CONTENT</th>\n",
       "      <th>CLASS</th>\n",
       "    </tr>\n",
       "  </thead>\n",
       "  <tbody>\n",
       "    <tr>\n",
       "      <th>0</th>\n",
       "      <td>LZQPQhLyRh80UYxNuaDWhIGQYNQ96IuCg-AYWqNPjpU</td>\n",
       "      <td>Julius NM</td>\n",
       "      <td>2013-11-07T06:20:48</td>\n",
       "      <td>Huh, anyway check out this you[tube] channel: ...</td>\n",
       "      <td>1</td>\n",
       "    </tr>\n",
       "    <tr>\n",
       "      <th>1</th>\n",
       "      <td>LZQPQhLyRh_C2cTtd9MvFRJedxydaVW-2sNg5Diuo4A</td>\n",
       "      <td>adam riyati</td>\n",
       "      <td>2013-11-07T12:37:15</td>\n",
       "      <td>Hey guys check out my new channel and our firs...</td>\n",
       "      <td>1</td>\n",
       "    </tr>\n",
       "    <tr>\n",
       "      <th>2</th>\n",
       "      <td>LZQPQhLyRh9MSZYnf8djyk0gEF9BHDPYrrK-qCczIY8</td>\n",
       "      <td>Evgeny Murashkin</td>\n",
       "      <td>2013-11-08T17:34:21</td>\n",
       "      <td>just for test I have to say murdev.com</td>\n",
       "      <td>1</td>\n",
       "    </tr>\n",
       "    <tr>\n",
       "      <th>3</th>\n",
       "      <td>z13jhp0bxqncu512g22wvzkasxmvvzjaz04</td>\n",
       "      <td>ElNino Melendez</td>\n",
       "      <td>2013-11-09T08:28:43</td>\n",
       "      <td>me shaking my sexy ass on my channel enjoy ^_^ ﻿</td>\n",
       "      <td>1</td>\n",
       "    </tr>\n",
       "    <tr>\n",
       "      <th>4</th>\n",
       "      <td>z13fwbwp1oujthgqj04chlngpvzmtt3r3dw</td>\n",
       "      <td>GsMega</td>\n",
       "      <td>2013-11-10T16:05:38</td>\n",
       "      <td>watch?v=vtaRGgvGtWQ   Check this out .﻿</td>\n",
       "      <td>1</td>\n",
       "    </tr>\n",
       "  </tbody>\n",
       "</table>\n",
       "</div>"
      ],
      "text/plain": [
       "                                    COMMENT_ID            AUTHOR  \\\n",
       "0  LZQPQhLyRh80UYxNuaDWhIGQYNQ96IuCg-AYWqNPjpU         Julius NM   \n",
       "1  LZQPQhLyRh_C2cTtd9MvFRJedxydaVW-2sNg5Diuo4A       adam riyati   \n",
       "2  LZQPQhLyRh9MSZYnf8djyk0gEF9BHDPYrrK-qCczIY8  Evgeny Murashkin   \n",
       "3          z13jhp0bxqncu512g22wvzkasxmvvzjaz04   ElNino Melendez   \n",
       "4          z13fwbwp1oujthgqj04chlngpvzmtt3r3dw            GsMega   \n",
       "\n",
       "                  DATE                                            CONTENT  \\\n",
       "0  2013-11-07T06:20:48  Huh, anyway check out this you[tube] channel: ...   \n",
       "1  2013-11-07T12:37:15  Hey guys check out my new channel and our firs...   \n",
       "2  2013-11-08T17:34:21             just for test I have to say murdev.com   \n",
       "3  2013-11-09T08:28:43   me shaking my sexy ass on my channel enjoy ^_^ ﻿   \n",
       "4  2013-11-10T16:05:38            watch?v=vtaRGgvGtWQ   Check this out .﻿   \n",
       "\n",
       "   CLASS  \n",
       "0      1  \n",
       "1      1  \n",
       "2      1  \n",
       "3      1  \n",
       "4      1  "
      ]
     },
     "execution_count": 3,
     "metadata": {},
     "output_type": "execute_result"
    }
   ],
   "source": [
    "psy = pd.read_csv('../Dataset/Youtube01-Psy.csv')\n",
    "kp = pd.read_csv('../Dataset/Youtube02-KatyPerry.csv')\n",
    "lmfao = pd.read_csv('../Dataset/Youtube03-LMFAO.csv')\n",
    "eminem = pd.read_csv('../Dataset/Youtube04-Eminem.csv')\n",
    "shakira = pd.read_csv('../Dataset/Youtube05-Shakira.csv')\n",
    "\n",
    "data = pd.concat([psy, kp, lmfao, eminem, shakira]).drop_duplicates()\n",
    "data.head(5)"
   ]
  },
  {
   "attachments": {},
   "cell_type": "markdown",
   "metadata": {},
   "source": [
    "# 3. Initial Analysis"
   ]
  },
  {
   "cell_type": "markdown",
   "metadata": {},
   "source": [
    "### 3.1. Metadata"
   ]
  },
  {
   "cell_type": "code",
   "execution_count": 13,
   "metadata": {},
   "outputs": [
    {
     "name": "stdout",
     "output_type": "stream",
     "text": [
      "<class 'pandas.core.frame.DataFrame'>\n",
      "Int64Index: 1956 entries, 0 to 369\n",
      "Data columns (total 5 columns):\n",
      " #   Column      Non-Null Count  Dtype \n",
      "---  ------      --------------  ----- \n",
      " 0   COMMENT_ID  1956 non-null   object\n",
      " 1   AUTHOR      1956 non-null   object\n",
      " 2   DATE        1711 non-null   object\n",
      " 3   CONTENT     1956 non-null   object\n",
      " 4   CLASS       1956 non-null   int64 \n",
      "dtypes: int64(1), object(4)\n",
      "memory usage: 91.7+ KB\n"
     ]
    }
   ],
   "source": [
    "data.info()"
   ]
  },
  {
   "cell_type": "code",
   "execution_count": 21,
   "metadata": {},
   "outputs": [
    {
     "data": {
      "text/plain": [
       "COMMENT_ID      0\n",
       "AUTHOR          0\n",
       "DATE          243\n",
       "CONTENT         0\n",
       "CLASS           0\n",
       "dtype: int64"
      ]
     },
     "execution_count": 21,
     "metadata": {},
     "output_type": "execute_result"
    }
   ],
   "source": [
    "data.isnull().sum()"
   ]
  },
  {
   "cell_type": "code",
   "execution_count": 20,
   "metadata": {},
   "outputs": [
    {
     "data": {
      "text/plain": [
       "0"
      ]
     },
     "execution_count": 20,
     "metadata": {},
     "output_type": "execute_result"
    }
   ],
   "source": [
    "data.duplicated().sum()"
   ]
  },
  {
   "cell_type": "code",
   "execution_count": 22,
   "metadata": {},
   "outputs": [
    {
     "data": {
      "text/plain": [
       "M.E.S              8\n",
       "5000palo           7\n",
       "Louis Bryant       7\n",
       "Shadrach Grentz    7\n",
       "DanteBTV           6\n",
       "                  ..\n",
       "Nick McGoldrick    1\n",
       "Shaun Mac          1\n",
       "Denzel Saimi       1\n",
       "GX2re              1\n",
       "Latin Bosch        1\n",
       "Name: AUTHOR, Length: 1792, dtype: int64"
      ]
     },
     "execution_count": 22,
     "metadata": {},
     "output_type": "execute_result"
    }
   ],
   "source": [
    "data['AUTHOR'].value_counts()"
   ]
  },
  {
   "attachments": {},
   "cell_type": "markdown",
   "metadata": {},
   "source": [
    "### 3.2. EDA"
   ]
  },
  {
   "cell_type": "code",
   "execution_count": 25,
   "metadata": {},
   "outputs": [
    {
     "data": {
      "text/plain": [
       "[Text(0, 0, '950'), Text(0, 0, '1003')]"
      ]
     },
     "execution_count": 25,
     "metadata": {},
     "output_type": "execute_result"
    },
    {
     "data": {
      "image/png": "[encoded data removed]",
      "text/plain": [
       "<Figure size 640x480 with 1 Axes>"
      ]
     },
     "metadata": {},
     "output_type": "display_data"
    }
   ],
   "source": [
    "ax = sns.countplot(data, x = data['CLASS'])\n",
    "ax.bar_label(ax.containers[0])"
   ]
  },
  {
   "attachments": {},
   "cell_type": "markdown",
   "metadata": {},
   "source": [
    "# 4. Processing Text"
   ]
  },
  {
   "cell_type": "code",
   "execution_count": 5,
   "metadata": {},
   "outputs": [],
   "source": [
    "def lower_text(text):\n",
    "    return text.lower()\n",
    "\n",
    "def alphanumeric_text(text):\n",
    "    # return re.sub(\"[^a-z0-9\\s]\",\"\", text)\n",
    "    return re.sub(r'[^\\w\\s.,]', '', text)\n",
    "\n",
    "def remove_duplicate_words(text):\n",
    "    return re.sub(r'\\b(\\w+)(\\s+\\1)+\\b', r'\\1', text)\n",
    "\n",
    "def lemmatizer(text):\n",
    "    sentence = []\n",
    "    for word in text:\n",
    "        lemmatizer = WordNetLemmatizer()\n",
    "        sentence.append(lemmatizer.lemmatize(word, 'v'))\n",
    "    return ''.join(sentence)\n",
    "\n",
    "stopword_en = pd.read_csv('../../en_stopword_1555.txt', header=None).drop_duplicates()\n",
    "en_stopword = stopword_en[0].values.tolist()\n",
    "en_stopword = [word.strip() for word in en_stopword]\n",
    "\n",
    "nltk_stopword = stopwords.words('english')\n",
    "\n",
    "combined_stopwords = pd.DataFrame(en_stopword + nltk_stopword).drop_duplicates()\n",
    "stopword_list = combined_stopwords[0].values.tolist()"
   ]
  },
  {
   "cell_type": "code",
   "execution_count": 6,
   "metadata": {},
   "outputs": [
    {
     "data": {
      "application/vnd.jupyter.widget-view+json": {
       "model_id": "af40b3c8af834fb9ad38b286e7163aea",
       "version_major": 2,
       "version_minor": 0
      },
      "text/plain": [
       "  0%|          | 0/1953 [00:00<?, ?it/s]"
      ]
     },
     "metadata": {},
     "output_type": "display_data"
    },
    {
     "data": {
      "application/vnd.jupyter.widget-view+json": {
       "model_id": "9ebc52270d3946968e00e797cc6f493f",
       "version_major": 2,
       "version_minor": 0
      },
      "text/plain": [
       "  0%|          | 0/1953 [00:00<?, ?it/s]"
      ]
     },
     "metadata": {},
     "output_type": "display_data"
    },
    {
     "data": {
      "application/vnd.jupyter.widget-view+json": {
       "model_id": "9b0b36df2a304be381eb951d25c24eab",
       "version_major": 2,
       "version_minor": 0
      },
      "text/plain": [
       "  0%|          | 0/1953 [00:00<?, ?it/s]"
      ]
     },
     "metadata": {},
     "output_type": "display_data"
    },
    {
     "data": {
      "application/vnd.jupyter.widget-view+json": {
       "model_id": "c0407f241d334c1fb82706b72c052ae9",
       "version_major": 2,
       "version_minor": 0
      },
      "text/plain": [
       "  0%|          | 0/1953 [00:00<?, ?it/s]"
      ]
     },
     "metadata": {},
     "output_type": "display_data"
    },
    {
     "data": {
      "text/html": [
       "<div>\n",
       "<style scoped>\n",
       "    .dataframe tbody tr th:only-of-type {\n",
       "        vertical-align: middle;\n",
       "    }\n",
       "\n",
       "    .dataframe tbody tr th {\n",
       "        vertical-align: top;\n",
       "    }\n",
       "\n",
       "    .dataframe thead th {\n",
       "        text-align: right;\n",
       "    }\n",
       "</style>\n",
       "<table border=\"1\" class=\"dataframe\">\n",
       "  <thead>\n",
       "    <tr style=\"text-align: right;\">\n",
       "      <th></th>\n",
       "      <th>COMMENT_ID</th>\n",
       "      <th>AUTHOR</th>\n",
       "      <th>DATE</th>\n",
       "      <th>CONTENT</th>\n",
       "      <th>CLASS</th>\n",
       "      <th>clean_text</th>\n",
       "    </tr>\n",
       "  </thead>\n",
       "  <tbody>\n",
       "    <tr>\n",
       "      <th>0</th>\n",
       "      <td>LZQPQhLyRh80UYxNuaDWhIGQYNQ96IuCg-AYWqNPjpU</td>\n",
       "      <td>Julius NM</td>\n",
       "      <td>2013-11-07T06:20:48</td>\n",
       "      <td>Huh, anyway check out this you[tube] channel: ...</td>\n",
       "      <td>1</td>\n",
       "      <td>huh, anyway check out this youtube channel kob...</td>\n",
       "    </tr>\n",
       "    <tr>\n",
       "      <th>1</th>\n",
       "      <td>LZQPQhLyRh_C2cTtd9MvFRJedxydaVW-2sNg5Diuo4A</td>\n",
       "      <td>adam riyati</td>\n",
       "      <td>2013-11-07T12:37:15</td>\n",
       "      <td>Hey guys check out my new channel and our firs...</td>\n",
       "      <td>1</td>\n",
       "      <td>hey guys check out my new channel and our firs...</td>\n",
       "    </tr>\n",
       "    <tr>\n",
       "      <th>2</th>\n",
       "      <td>LZQPQhLyRh9MSZYnf8djyk0gEF9BHDPYrrK-qCczIY8</td>\n",
       "      <td>Evgeny Murashkin</td>\n",
       "      <td>2013-11-08T17:34:21</td>\n",
       "      <td>just for test I have to say murdev.com</td>\n",
       "      <td>1</td>\n",
       "      <td>just for test i have to say murdev.com</td>\n",
       "    </tr>\n",
       "    <tr>\n",
       "      <th>3</th>\n",
       "      <td>z13jhp0bxqncu512g22wvzkasxmvvzjaz04</td>\n",
       "      <td>ElNino Melendez</td>\n",
       "      <td>2013-11-09T08:28:43</td>\n",
       "      <td>me shaking my sexy ass on my channel enjoy ^_^ ﻿</td>\n",
       "      <td>1</td>\n",
       "      <td>me shaking my sexy ass on my channel enjoy _</td>\n",
       "    </tr>\n",
       "    <tr>\n",
       "      <th>4</th>\n",
       "      <td>z13fwbwp1oujthgqj04chlngpvzmtt3r3dw</td>\n",
       "      <td>GsMega</td>\n",
       "      <td>2013-11-10T16:05:38</td>\n",
       "      <td>watch?v=vtaRGgvGtWQ   Check this out .﻿</td>\n",
       "      <td>1</td>\n",
       "      <td>watchvvtarggvgtwq check this out .</td>\n",
       "    </tr>\n",
       "  </tbody>\n",
       "</table>\n",
       "</div>"
      ],
      "text/plain": [
       "                                    COMMENT_ID            AUTHOR  \\\n",
       "0  LZQPQhLyRh80UYxNuaDWhIGQYNQ96IuCg-AYWqNPjpU         Julius NM   \n",
       "1  LZQPQhLyRh_C2cTtd9MvFRJedxydaVW-2sNg5Diuo4A       adam riyati   \n",
       "2  LZQPQhLyRh9MSZYnf8djyk0gEF9BHDPYrrK-qCczIY8  Evgeny Murashkin   \n",
       "3          z13jhp0bxqncu512g22wvzkasxmvvzjaz04   ElNino Melendez   \n",
       "4          z13fwbwp1oujthgqj04chlngpvzmtt3r3dw            GsMega   \n",
       "\n",
       "                  DATE                                            CONTENT  \\\n",
       "0  2013-11-07T06:20:48  Huh, anyway check out this you[tube] channel: ...   \n",
       "1  2013-11-07T12:37:15  Hey guys check out my new channel and our firs...   \n",
       "2  2013-11-08T17:34:21             just for test I have to say murdev.com   \n",
       "3  2013-11-09T08:28:43   me shaking my sexy ass on my channel enjoy ^_^ ﻿   \n",
       "4  2013-11-10T16:05:38            watch?v=vtaRGgvGtWQ   Check this out .﻿   \n",
       "\n",
       "   CLASS                                         clean_text  \n",
       "0      1  huh, anyway check out this youtube channel kob...  \n",
       "1      1  hey guys check out my new channel and our firs...  \n",
       "2      1             just for test i have to say murdev.com  \n",
       "3      1      me shaking my sexy ass on my channel enjoy _   \n",
       "4      1                 watchvvtarggvgtwq check this out .  "
      ]
     },
     "execution_count": 6,
     "metadata": {},
     "output_type": "execute_result"
    }
   ],
   "source": [
    "data['clean_text'] = data['CONTENT'] \\\n",
    "                    .progress_apply(lower_text) \\\n",
    "                    .progress_apply(lemmatizer) \\\n",
    "                    .progress_apply(lambda x: ' '.join([word for word in x.split() if word not in (combined_stopwords)])) \\\n",
    "                    .progress_apply(alphanumeric_text) \n",
    "                    # .progress_apply(lambda x: ' '.join([word for word in x.split() if len(word) >= 4]))\n",
    "                    # .progress_apply(remove_duplicate_words) \\\n",
    "\n",
    "data.head()"
   ]
  },
  {
   "cell_type": "code",
   "execution_count": 8,
   "metadata": {},
   "outputs": [
    {
     "data": {
      "text/plain": [
       "0      huh, anyway check out this youtube channel kob...\n",
       "1      hey guys check out my new channel and our firs...\n",
       "2                 just for test i have to say murdev.com\n",
       "3          me shaking my sexy ass on my channel enjoy _ \n",
       "4                     watchvvtarggvgtwq check this out .\n",
       "                             ...                        \n",
       "365    i love this song because we sing it at camp al...\n",
       "366    i love this song for two reasons 1.it is about...\n",
       "367                                                  wow\n",
       "368                              shakira u are so wiredo\n",
       "369                           shakira is the best dancer\n",
       "Name: clean_text, Length: 1953, dtype: object"
      ]
     },
     "execution_count": 8,
     "metadata": {},
     "output_type": "execute_result"
    }
   ],
   "source": [
    "data['clean_text']"
   ]
  },
  {
   "cell_type": "code",
   "execution_count": 9,
   "metadata": {},
   "outputs": [
    {
     "data": {
      "text/plain": [
       "<Axes: xlabel='text_len'>"
      ]
     },
     "execution_count": 9,
     "metadata": {},
     "output_type": "execute_result"
    },
    {
     "data": {
      "image/png": "[encoded data removed]",
      "text/plain": [
       "<Figure size 2500x200 with 1 Axes>"
      ]
     },
     "metadata": {},
     "output_type": "display_data"
    }
   ],
   "source": [
    "text_len = [len(word) for word in data['clean_text'].str.split(' ')]\n",
    "data['text_len'] = pd.DataFrame(text_len)\n",
    "\n",
    "fig, ax = plt.subplots(figsize=(25, 2))\n",
    "sns.boxplot(x=data['text_len'], palette=\"crest\")"
   ]
  },
  {
   "cell_type": "code",
   "execution_count": 10,
   "metadata": {},
   "outputs": [
    {
     "name": "stdout",
     "output_type": "stream",
     "text": [
      "5.0\n",
      "39.87999999999988\n"
     ]
    }
   ],
   "source": [
    "print(data['text_len'].quantile(.25))\n",
    "print(data['text_len'].quantile(.94))"
   ]
  },
  {
   "cell_type": "code",
   "execution_count": 11,
   "metadata": {},
   "outputs": [
    {
     "name": "stdout",
     "output_type": "stream",
     "text": [
      "5.0\n",
      "39.87999999999988\n"
     ]
    },
    {
     "data": {
      "text/plain": [
       "<Axes: xlabel='text_len'>"
      ]
     },
     "execution_count": 11,
     "metadata": {},
     "output_type": "execute_result"
    },
    {
     "data": {
      "image/png": "[encoded data removed]",
      "text/plain": [
       "<Figure size 2500x200 with 1 Axes>"
      ]
     },
     "metadata": {},
     "output_type": "display_data"
    }
   ],
   "source": [
    "Q1 = data['text_len'].quantile(0.25)\n",
    "Q3 = data['text_len'].quantile(.94)\n",
    "\n",
    "print(Q1)\n",
    "print(Q3)\n",
    "\n",
    "data = data[(data['text_len'] > Q1) & (data['text_len'] < Q3)]\n",
    "\n",
    "fig, axes = plt.subplots(figsize=(25, 2))\n",
    "sns.boxplot(x=data['text_len'], palette=\"Oranges\")"
   ]
  },
  {
   "cell_type": "code",
   "execution_count": 12,
   "metadata": {},
   "outputs": [
    {
     "data": {
      "text/plain": [
       "[Text(0, 0, '616'), Text(0, 0, '640')]"
      ]
     },
     "execution_count": 12,
     "metadata": {},
     "output_type": "execute_result"
    },
    {
     "data": {
      "image/png": "[encoded data removed]",
      "text/plain": [
       "<Figure size 640x480 with 1 Axes>"
      ]
     },
     "metadata": {},
     "output_type": "display_data"
    }
   ],
   "source": [
    "ax = sns.countplot(data, x = data['CLASS'])\n",
    "ax.bar_label(ax.containers[0])"
   ]
  },
  {
   "attachments": {},
   "cell_type": "markdown",
   "metadata": {},
   "source": [
    "# 5. Model"
   ]
  },
  {
   "attachments": {},
   "cell_type": "markdown",
   "metadata": {},
   "source": [
    "### 5.1. Splitting Data"
   ]
  },
  {
   "cell_type": "code",
   "execution_count": 13,
   "metadata": {},
   "outputs": [
    {
     "name": "stdout",
     "output_type": "stream",
     "text": [
      "(881,)\n",
      "(249,)\n",
      "(126,)\n"
     ]
    }
   ],
   "source": [
    "X = data['clean_text']\n",
    "# Y = data['CLASS'] ### For Classification Algoritms\n",
    "Y = to_categorical(data['CLASS']) ### For Deep Learning Algoritms\n",
    "\n",
    "X_train, X_val, y_train, y_val = train_test_split(X, Y, train_size=0.9, random_state = 42)\n",
    "X_train, X_test, y_train, y_test = train_test_split(X_train, y_train, train_size=0.78, random_state = 42)\n",
    "\n",
    "print(X_train.shape)\n",
    "print(X_test.shape)\n",
    "print(X_val.shape)"
   ]
  },
  {
   "attachments": {},
   "cell_type": "markdown",
   "metadata": {},
   "source": [
    "### 5.2. Declare parameter for Tokenizing and Training Model process"
   ]
  },
  {
   "cell_type": "code",
   "execution_count": 14,
   "metadata": {},
   "outputs": [],
   "source": [
    "vocab_size = 3191\n",
    "embedding_dim = 256\n",
    "max_length = 40\n",
    "trunc_type = 'post'\n",
    "padding_type = 'post'\n",
    "oov_tok = \"<OOV>\""
   ]
  },
  {
   "attachments": {},
   "cell_type": "markdown",
   "metadata": {},
   "source": [
    "### 5.3. Tokenizing text"
   ]
  },
  {
   "cell_type": "code",
   "execution_count": 15,
   "metadata": {},
   "outputs": [
    {
     "name": "stdout",
     "output_type": "stream",
     "text": [
      "3324\n"
     ]
    }
   ],
   "source": [
    "# Tokenizing \n",
    "tokenizer = Tokenizer(num_words=vocab_size, oov_token=oov_tok)\n",
    "tokenizer.fit_on_texts(X)\n",
    "\n",
    "print(len(tokenizer.word_index))\n",
    "\n",
    "# Text to Sequences\n",
    "training_sequences = tokenizer.texts_to_sequences(X_train)\n",
    "testing_sequences = tokenizer.texts_to_sequences(X_test)\n",
    "validating_sequences = tokenizer.texts_to_sequences(X_val)\n",
    "\n",
    "# Add padding\n",
    "training_padded = pad_sequences(training_sequences, maxlen = max_length, padding = padding_type)\n",
    "testing_padded = pad_sequences(testing_sequences, maxlen = max_length, padding = padding_type)\n",
    "validating_padded = pad_sequences(validating_sequences, maxlen = max_length, padding = padding_type)\n",
    "\n",
    "# Convert to numpy array\n",
    "training_padded = np.array(training_padded)\n",
    "training_label = np.array(y_train)\n",
    "\n",
    "testing_padded = np.array(testing_padded)\n",
    "testing_label = np.array(y_test)\n",
    "\n",
    "validating_padded = np.array(validating_padded)\n",
    "validating_label = np.array(y_val)"
   ]
  },
  {
   "attachments": {},
   "cell_type": "markdown",
   "metadata": {},
   "source": [
    "# 6. Classification Algoritms"
   ]
  },
  {
   "cell_type": "code",
   "execution_count": 101,
   "metadata": {},
   "outputs": [],
   "source": [
    "adaboost = AdaBoostClassifier(n_estimators=100, random_state=42)\n",
    "bagging = BaggingClassifier(n_jobs=-1)\n",
    "extraTrees = ExtraTreesClassifier(max_depth=100, n_jobs=-1, random_state=42)\n",
    "gradient = GradientBoostingClassifier(max_depth=100, n_estimators=100, learning_rate=.01,  random_state=42)\n",
    "randomForest = RandomForestClassifier(max_depth=100, random_state=42, n_jobs=-1)\n",
    "histGradientBoosting = HistGradientBoostingClassifier()\n",
    "XGB = XGBClassifier(n_jobs=-1)\n",
    "knn = KNeighborsClassifier(n_jobs=-1)\n",
    "decisionTree = DecisionTreeClassifier(random_state=42, max_depth=100)\n",
    "\n",
    "model = StackingClassifier([\n",
    "    ('randomforest', randomForest),\n",
    "    ('histGradientBoosting', histGradientBoosting),\n",
    "    ('XGB', XGB),\n",
    "    # ('adaboost', adaboost),\n",
    "    # ('bagging', bagging),\n",
    "    # ('extraTress', extraTrees),\n",
    "    # ('gradient', gradient),\n",
    "    # ('knn', knn),\n",
    "    # ('decisionTree', decisionTree),\n",
    "\n",
    "], n_jobs=-1)"
   ]
  },
  {
   "cell_type": "code",
   "execution_count": 102,
   "metadata": {},
   "outputs": [
    {
     "data": {
      "text/html": [
       "<style>#sk-container-id-11 {color: black;background-color: white;}#sk-container-id-11 pre{padding: 0;}#sk-container-id-11 div.sk-toggleable {background-color: white;}#sk-container-id-11 label.sk-toggleable__label {cursor: pointer;display: block;width: 100%;margin-bottom: 0;padding: 0.3em;box-sizing: border-box;text-align: center;}#sk-container-id-11 label.sk-toggleable__label-arrow:before {content: \"▸\";float: left;margin-right: 0.25em;color: #696969;}#sk-container-id-11 label.sk-toggleable__label-arrow:hover:before {color: black;}#sk-container-id-11 div.sk-estimator:hover label.sk-toggleable__label-arrow:before {color: black;}#sk-container-id-11 div.sk-toggleable__content {max-height: 0;max-width: 0;overflow: hidden;text-align: left;background-color: #f0f8ff;}#sk-container-id-11 div.sk-toggleable__content pre {margin: 0.2em;color: black;border-radius: 0.25em;background-color: #f0f8ff;}#sk-container-id-11 input.sk-toggleable__control:checked~div.sk-toggleable__content {max-height: 200px;max-width: 100%;overflow: auto;}#sk-container-id-11 input.sk-toggleable__control:checked~label.sk-toggleable__label-arrow:before {content: \"▾\";}#sk-container-id-11 div.sk-estimator input.sk-toggleable__control:checked~label.sk-toggleable__label {background-color: #d4ebff;}#sk-container-id-11 div.sk-label input.sk-toggleable__control:checked~label.sk-toggleable__label {background-color: #d4ebff;}#sk-container-id-11 input.sk-hidden--visually {border: 0;clip: rect(1px 1px 1px 1px);clip: rect(1px, 1px, 1px, 1px);height: 1px;margin: -1px;overflow: hidden;padding: 0;position: absolute;width: 1px;}#sk-container-id-11 div.sk-estimator {font-family: monospace;background-color: #f0f8ff;border: 1px dotted black;border-radius: 0.25em;box-sizing: border-box;margin-bottom: 0.5em;}#sk-container-id-11 div.sk-estimator:hover {background-color: #d4ebff;}#sk-container-id-11 div.sk-parallel-item::after {content: \"\";width: 100%;border-bottom: 1px solid gray;flex-grow: 1;}#sk-container-id-11 div.sk-label:hover label.sk-toggleable__label {background-color: #d4ebff;}#sk-container-id-11 div.sk-serial::before {content: \"\";position: absolute;border-left: 1px solid gray;box-sizing: border-box;top: 0;bottom: 0;left: 50%;z-index: 0;}#sk-container-id-11 div.sk-serial {display: flex;flex-direction: column;align-items: center;background-color: white;padding-right: 0.2em;padding-left: 0.2em;position: relative;}#sk-container-id-11 div.sk-item {position: relative;z-index: 1;}#sk-container-id-11 div.sk-parallel {display: flex;align-items: stretch;justify-content: center;background-color: white;position: relative;}#sk-container-id-11 div.sk-item::before, #sk-container-id-11 div.sk-parallel-item::before {content: \"\";position: absolute;border-left: 1px solid gray;box-sizing: border-box;top: 0;bottom: 0;left: 50%;z-index: -1;}#sk-container-id-11 div.sk-parallel-item {display: flex;flex-direction: column;z-index: 1;position: relative;background-color: white;}#sk-container-id-11 div.sk-parallel-item:first-child::after {align-self: flex-end;width: 50%;}#sk-container-id-11 div.sk-parallel-item:last-child::after {align-self: flex-start;width: 50%;}#sk-container-id-11 div.sk-parallel-item:only-child::after {width: 0;}#sk-container-id-11 div.sk-dashed-wrapped {border: 1px dashed gray;margin: 0 0.4em 0.5em 0.4em;box-sizing: border-box;padding-bottom: 0.4em;background-color: white;}#sk-container-id-11 div.sk-label label {font-family: monospace;font-weight: bold;display: inline-block;line-height: 1.2em;}#sk-container-id-11 div.sk-label-container {text-align: center;}#sk-container-id-11 div.sk-container {/* jupyter's `normalize.less` sets `[hidden] { display: none; }` but bootstrap.min.css set `[hidden] { display: none !important; }` so we also need the `!important` here to be able to override the default hidden behavior on the sphinx rendered scikit-learn.org. See: https://github.com/scikit-learn/scikit-learn/issues/21755 */display: inline-block !important;position: relative;}#sk-container-id-11 div.sk-text-repr-fallback {display: none;}</style><div id=\"sk-container-id-11\" class=\"sk-top-container\"><div class=\"sk-text-repr-fallback\"><pre>StackingClassifier(estimators=[(&#x27;randomforest&#x27;,\n",
       "                                RandomForestClassifier(max_depth=100, n_jobs=-1,\n",
       "                                                       random_state=42)),\n",
       "                               (&#x27;histGradientBoosting&#x27;,\n",
       "                                HistGradientBoostingClassifier()),\n",
       "                               (&#x27;XGB&#x27;,\n",
       "                                XGBClassifier(base_score=None, booster=None,\n",
       "                                              callbacks=None,\n",
       "                                              colsample_bylevel=None,\n",
       "                                              colsample_bynode=None,\n",
       "                                              colsample_bytree=None,\n",
       "                                              early_stopping_rounds=None,\n",
       "                                              enable_categorical=Fa...\n",
       "                                              gpu_id=None, grow_policy=None,\n",
       "                                              importance_type=None,\n",
       "                                              interaction_constraints=None,\n",
       "                                              learning_rate=None, max_bin=None,\n",
       "                                              max_cat_threshold=None,\n",
       "                                              max_cat_to_onehot=None,\n",
       "                                              max_delta_step=None,\n",
       "                                              max_depth=None, max_leaves=None,\n",
       "                                              min_child_weight=None,\n",
       "                                              missing=nan,\n",
       "                                              monotone_constraints=None,\n",
       "                                              n_estimators=100, n_jobs=-1,\n",
       "                                              num_parallel_tree=None,\n",
       "                                              predictor=None, random_state=None, ...))],\n",
       "                   n_jobs=-1)</pre><b>In a Jupyter environment, please rerun this cell to show the HTML representation or trust the notebook. <br />On GitHub, the HTML representation is unable to render, please try loading this page with nbviewer.org.</b></div><div class=\"sk-container\" hidden><div class=\"sk-item sk-dashed-wrapped\"><div class=\"sk-label-container\"><div class=\"sk-label sk-toggleable\"><input class=\"sk-toggleable__control sk-hidden--visually\" id=\"sk-estimator-id-31\" type=\"checkbox\" ><label for=\"sk-estimator-id-31\" class=\"sk-toggleable__label sk-toggleable__label-arrow\">StackingClassifier</label><div class=\"sk-toggleable__content\"><pre>StackingClassifier(estimators=[(&#x27;randomforest&#x27;,\n",
       "                                RandomForestClassifier(max_depth=100, n_jobs=-1,\n",
       "                                                       random_state=42)),\n",
       "                               (&#x27;histGradientBoosting&#x27;,\n",
       "                                HistGradientBoostingClassifier()),\n",
       "                               (&#x27;XGB&#x27;,\n",
       "                                XGBClassifier(base_score=None, booster=None,\n",
       "                                              callbacks=None,\n",
       "                                              colsample_bylevel=None,\n",
       "                                              colsample_bynode=None,\n",
       "                                              colsample_bytree=None,\n",
       "                                              early_stopping_rounds=None,\n",
       "                                              enable_categorical=Fa...\n",
       "                                              gpu_id=None, grow_policy=None,\n",
       "                                              importance_type=None,\n",
       "                                              interaction_constraints=None,\n",
       "                                              learning_rate=None, max_bin=None,\n",
       "                                              max_cat_threshold=None,\n",
       "                                              max_cat_to_onehot=None,\n",
       "                                              max_delta_step=None,\n",
       "                                              max_depth=None, max_leaves=None,\n",
       "                                              min_child_weight=None,\n",
       "                                              missing=nan,\n",
       "                                              monotone_constraints=None,\n",
       "                                              n_estimators=100, n_jobs=-1,\n",
       "                                              num_parallel_tree=None,\n",
       "                                              predictor=None, random_state=None, ...))],\n",
       "                   n_jobs=-1)</pre></div></div></div><div class=\"sk-serial\"><div class=\"sk-item\"><div class=\"sk-parallel\"><div class=\"sk-parallel-item\"><div class=\"sk-item\"><div class=\"sk-label-container\"><div class=\"sk-label sk-toggleable\"><label>randomforest</label></div></div><div class=\"sk-serial\"><div class=\"sk-item\"><div class=\"sk-estimator sk-toggleable\"><input class=\"sk-toggleable__control sk-hidden--visually\" id=\"sk-estimator-id-32\" type=\"checkbox\" ><label for=\"sk-estimator-id-32\" class=\"sk-toggleable__label sk-toggleable__label-arrow\">RandomForestClassifier</label><div class=\"sk-toggleable__content\"><pre>RandomForestClassifier(max_depth=100, n_jobs=-1, random_state=42)</pre></div></div></div></div></div></div><div class=\"sk-parallel-item\"><div class=\"sk-item\"><div class=\"sk-label-container\"><div class=\"sk-label sk-toggleable\"><label>histGradientBoosting</label></div></div><div class=\"sk-serial\"><div class=\"sk-item\"><div class=\"sk-estimator sk-toggleable\"><input class=\"sk-toggleable__control sk-hidden--visually\" id=\"sk-estimator-id-33\" type=\"checkbox\" ><label for=\"sk-estimator-id-33\" class=\"sk-toggleable__label sk-toggleable__label-arrow\">HistGradientBoostingClassifier</label><div class=\"sk-toggleable__content\"><pre>HistGradientBoostingClassifier()</pre></div></div></div></div></div></div><div class=\"sk-parallel-item\"><div class=\"sk-item\"><div class=\"sk-label-container\"><div class=\"sk-label sk-toggleable\"><label>XGB</label></div></div><div class=\"sk-serial\"><div class=\"sk-item\"><div class=\"sk-estimator sk-toggleable\"><input class=\"sk-toggleable__control sk-hidden--visually\" id=\"sk-estimator-id-34\" type=\"checkbox\" ><label for=\"sk-estimator-id-34\" class=\"sk-toggleable__label sk-toggleable__label-arrow\">XGBClassifier</label><div class=\"sk-toggleable__content\"><pre>XGBClassifier(base_score=None, booster=None, callbacks=None,\n",
       "              colsample_bylevel=None, colsample_bynode=None,\n",
       "              colsample_bytree=None, early_stopping_rounds=None,\n",
       "              enable_categorical=False, eval_metric=None, feature_types=None,\n",
       "              gamma=None, gpu_id=None, grow_policy=None, importance_type=None,\n",
       "              interaction_constraints=None, learning_rate=None, max_bin=None,\n",
       "              max_cat_threshold=None, max_cat_to_onehot=None,\n",
       "              max_delta_step=None, max_depth=None, max_leaves=None,\n",
       "              min_child_weight=None, missing=nan, monotone_constraints=None,\n",
       "              n_estimators=100, n_jobs=-1, num_parallel_tree=None,\n",
       "              predictor=None, random_state=None, ...)</pre></div></div></div></div></div></div></div></div><div class=\"sk-item\"><div class=\"sk-parallel\"><div class=\"sk-parallel-item\"><div class=\"sk-item\"><div class=\"sk-label-container\"><div class=\"sk-label sk-toggleable\"><label>final_estimator</label></div></div><div class=\"sk-serial\"><div class=\"sk-item\"><div class=\"sk-estimator sk-toggleable\"><input class=\"sk-toggleable__control sk-hidden--visually\" id=\"sk-estimator-id-35\" type=\"checkbox\" ><label for=\"sk-estimator-id-35\" class=\"sk-toggleable__label sk-toggleable__label-arrow\">LogisticRegression</label><div class=\"sk-toggleable__content\"><pre>LogisticRegression()</pre></div></div></div></div></div></div></div></div></div></div></div></div>"
      ],
      "text/plain": [
       "StackingClassifier(estimators=[('randomforest',\n",
       "                                RandomForestClassifier(max_depth=100, n_jobs=-1,\n",
       "                                                       random_state=42)),\n",
       "                               ('histGradientBoosting',\n",
       "                                HistGradientBoostingClassifier()),\n",
       "                               ('XGB',\n",
       "                                XGBClassifier(base_score=None, booster=None,\n",
       "                                              callbacks=None,\n",
       "                                              colsample_bylevel=None,\n",
       "                                              colsample_bynode=None,\n",
       "                                              colsample_bytree=None,\n",
       "                                              early_stopping_rounds=None,\n",
       "                                              enable_categorical=Fa...\n",
       "                                              gpu_id=None, grow_policy=None,\n",
       "                                              importance_type=None,\n",
       "                                              interaction_constraints=None,\n",
       "                                              learning_rate=None, max_bin=None,\n",
       "                                              max_cat_threshold=None,\n",
       "                                              max_cat_to_onehot=None,\n",
       "                                              max_delta_step=None,\n",
       "                                              max_depth=None, max_leaves=None,\n",
       "                                              min_child_weight=None,\n",
       "                                              missing=nan,\n",
       "                                              monotone_constraints=None,\n",
       "                                              n_estimators=100, n_jobs=-1,\n",
       "                                              num_parallel_tree=None,\n",
       "                                              predictor=None, random_state=None, ...))],\n",
       "                   n_jobs=-1)"
      ]
     },
     "execution_count": 102,
     "metadata": {},
     "output_type": "execute_result"
    }
   ],
   "source": [
    "model.fit(training_padded, training_label)"
   ]
  },
  {
   "cell_type": "code",
   "execution_count": 103,
   "metadata": {},
   "outputs": [
    {
     "name": "stdout",
     "output_type": "stream",
     "text": [
      "Train Score        : 100.0 %\n",
      "Test Score         : 85.94 %\n",
      "Validating Score   : 81.75 %\n",
      "R Squared Error    : 0.44\n",
      "Mean Squared Error : 0.14\n"
     ]
    }
   ],
   "source": [
    "print(\"Train Score        :\",round((model.score(training_padded, training_label)*100), 2),'%')\n",
    "print(\"Test Score         :\",round((model.score(testing_padded, testing_label)*100), 2),'%')\n",
    "print(\"Validating Score   :\",round((model.score(validating_padded, validating_label)*100), 2),'%')\n",
    "\n",
    "y_pred = model.predict(testing_padded)\n",
    "\n",
    "print(\"R Squared Error    :\",round(r2_score(testing_label, y_pred), 2))\n",
    "print(\"Mean Squared Error :\",round(mean_squared_error(testing_label, y_pred), 2))"
   ]
  },
  {
   "cell_type": "code",
   "execution_count": 104,
   "metadata": {},
   "outputs": [
    {
     "name": "stdout",
     "output_type": "stream",
     "text": [
      "   Train Predictions  Actuals  Diff\n",
      "0                  0        0     0\n",
      "1                  1        1     0\n",
      "2                  0        0     0\n",
      "3                  0        0     0\n",
      "4                  0        1     1\n",
      "35 / 249\n"
     ]
    }
   ],
   "source": [
    "train_predictions = model.predict(testing_padded).flatten()\n",
    "\n",
    "train_results = pd.DataFrame(data={'Train Predictions':train_predictions, 'Actuals':testing_label})\n",
    "train_results['Diff'] = abs(train_results['Actuals'] - train_results['Train Predictions'])\n",
    "print(train_results.head(5))\n",
    "print(train_results['Diff'].sum(), '/', len(train_results['Diff']))"
   ]
  },
  {
   "cell_type": "code",
   "execution_count": 105,
   "metadata": {},
   "outputs": [
    {
     "name": "stdout",
     "output_type": "stream",
     "text": [
      "              precision    recall  f1-score   support\n",
      "\n",
      "           0       0.82      0.88      0.85       113\n",
      "           1       0.90      0.84      0.87       136\n",
      "\n",
      "    accuracy                           0.86       249\n",
      "   macro avg       0.86      0.86      0.86       249\n",
      "weighted avg       0.86      0.86      0.86       249\n",
      "\n"
     ]
    }
   ],
   "source": [
    "y_pred = model.predict(testing_padded)\n",
    "print(classification_report(y_pred,testing_label))"
   ]
  },
  {
   "cell_type": "code",
   "execution_count": 106,
   "metadata": {},
   "outputs": [
    {
     "data": {
      "image/png": "[encoded data removed]",
      "text/plain": [
       "<Figure size 640x480 with 2 Axes>"
      ]
     },
     "metadata": {},
     "output_type": "display_data"
    }
   ],
   "source": [
    "labels = ['Not Spam', 'Spam']\n",
    "\n",
    "y_pred = np.rint(model.predict(testing_padded))\n",
    "con_mat = confusion_matrix(testing_label,y_pred)\n",
    "\n",
    "cm_percent = con_mat.astype('float') / con_mat.sum(axis=1)[:, np.newaxis]\n",
    "\n",
    "sns.heatmap(cm_percent, annot=True, fmt='.2%', cmap='Blues', xticklabels=labels, yticklabels=labels)\n",
    "plt.xlabel('Predicted Labels')\n",
    "plt.ylabel('True Labels')\n",
    "plt.title('Confusion Matrix - Fake News Detection')\n",
    "plt.show()"
   ]
  },
  {
   "attachments": {},
   "cell_type": "markdown",
   "metadata": {},
   "source": [
    "# 7. Deep Learning Models"
   ]
  },
  {
   "cell_type": "code",
   "execution_count": 41,
   "metadata": {},
   "outputs": [
    {
     "name": "stdout",
     "output_type": "stream",
     "text": [
      "Model: \"sequential_10\"\n",
      "_________________________________________________________________\n",
      " Layer (type)                Output Shape              Param #   \n",
      "=================================================================\n",
      " embedding_10 (Embedding)    (None, 40, 256)           816896    \n",
      "                                                                 \n",
      " conv1d_7 (Conv1D)           (None, 40, 64)            49216     \n",
      "                                                                 \n",
      " batch_normalization_7 (Batc  (None, 40, 64)           256       \n",
      " hNormalization)                                                 \n",
      "                                                                 \n",
      " re_lu_7 (ReLU)              (None, 40, 64)            0         \n",
      "                                                                 \n",
      " max_pooling1d_7 (MaxPooling  (None, 20, 64)           0         \n",
      " 1D)                                                             \n",
      "                                                                 \n",
      " conv1d_8 (Conv1D)           (None, 20, 64)            12352     \n",
      "                                                                 \n",
      " batch_normalization_8 (Batc  (None, 20, 64)           256       \n",
      " hNormalization)                                                 \n",
      "                                                                 \n",
      " re_lu_8 (ReLU)              (None, 20, 64)            0         \n",
      "                                                                 \n",
      " max_pooling1d_8 (MaxPooling  (None, 10, 64)           0         \n",
      " 1D)                                                             \n",
      "                                                                 \n",
      " flatten_6 (Flatten)         (None, 640)               0         \n",
      "                                                                 \n",
      " dense_22 (Dense)            (None, 512)               328192    \n",
      "                                                                 \n",
      " dense_23 (Dense)            (None, 2)                 1026      \n",
      "                                                                 \n",
      "=================================================================\n",
      "Total params: 1,208,194\n",
      "Trainable params: 1,207,938\n",
      "Non-trainable params: 256\n",
      "_________________________________________________________________\n"
     ]
    }
   ],
   "source": [
    "def DNN_Model():\n",
    "    model = Sequential()\n",
    "    model.add(Embedding(vocab_size, embedding_dim, input_length=max_length))\n",
    "    model.add(Flatten())\n",
    "\n",
    "    model.add(Dense(4098, activation='relu'))\n",
    "    model.add(Dense(1024, activation='relu'))\n",
    "    # model.add(Dense(256, activation='relu'))\n",
    "    model.add(Dense(2, activation='softmax'))\n",
    "    return model\n",
    "\n",
    "\n",
    "def CNN_Model():\n",
    "    model = Sequential()\n",
    "    model.add(Embedding(vocab_size, embedding_dim, input_length=max_length))\n",
    "\n",
    "    model.add(Conv1D(64, 3, kernel_regularizer=keras.regularizers.l2(l=0.001), padding='same'))\n",
    "    model.add(BatchNormalization())\n",
    "    model.add(ReLU())\n",
    "    model.add(MaxPooling1D())\n",
    "\n",
    "    model.add(Conv1D(64, 3, kernel_regularizer=keras.regularizers.l2(l=0.001), padding='same'))\n",
    "    model.add(BatchNormalization())\n",
    "    model.add(ReLU())\n",
    "    model.add(MaxPooling1D())\n",
    "\n",
    "    model.add(Flatten())\n",
    "    # model.add(Dense(4098, activation='relu'))\n",
    "    model.add(Dense(512, activation='relu'))\n",
    "    # model.add(Dense(256, activation='relu'))\n",
    "    model.add(Dense(2, activation='softmax'))\n",
    "    return model\n",
    "\n",
    "def LSTM_Model():\n",
    "    model = Sequential()\n",
    "    model.add(Embedding(input_dim=vocab_size, output_dim=embedding_dim, input_length=max_length))\n",
    "    model.add(Bidirectional(LSTM(128, return_sequences=True)))\n",
    "    model.add(Bidirectional(LSTM(128)))\n",
    "    model.add(Dense(2, activation='softmax'))\n",
    "    return model\n",
    "\n",
    "def GRU_Model():\n",
    "    model = Sequential()\n",
    "    model.add(Embedding(vocab_size, embedding_dim, input_length=max_length))\n",
    "    model.add(Bidirectional(GRU(128, activation ='tanh', recurrent_activation ='sigmoid', recurrent_dropout = 0, unroll=False, use_bias=True, reset_after=True, return_sequences=True)))\n",
    "    model.add(Bidirectional(GRU(128, activation ='tanh', recurrent_activation ='sigmoid', recurrent_dropout = 0, unroll=False, use_bias=True, reset_after=True)))\n",
    "    model.add(Dense(2, activation='softmax'))\n",
    "    return model\n",
    "\n",
    "# model = DNN_Model()\n",
    "model = CNN_Model()\n",
    "# model = LSTM_Model()\n",
    "# model = GRU_Model()\n",
    "\n",
    "\n",
    "\n",
    "model.summary()\n",
    "\n",
    "# opt = RMSprop(learning_rate = 0.001)\n",
    "# opt = SGD(learning_rate = 0.01)\n",
    "opt = Adam(learning_rate = 0.000005)\n",
    "\n",
    "model.compile(loss='categorical_crossentropy', optimizer=opt, metrics=['accuracy'])\n",
    "# model.compile(loss='categorical_crossentropy', optimizer=opt, metrics=[tf.keras.metrics.AUC()])"
   ]
  },
  {
   "cell_type": "code",
   "execution_count": 42,
   "metadata": {},
   "outputs": [
    {
     "name": "stdout",
     "output_type": "stream",
     "text": [
      "Epoch 1/100\n",
      "28/28 [==============================] - 4s 22ms/step - loss: 1.0228 - accuracy: 0.5017 - val_loss: 0.8612 - val_accuracy: 0.5079\n",
      "Epoch 2/100\n",
      "28/28 [==============================] - 0s 8ms/step - loss: 0.9096 - accuracy: 0.5505 - val_loss: 0.8610 - val_accuracy: 0.5079\n",
      "Epoch 3/100\n",
      "28/28 [==============================] - 0s 9ms/step - loss: 0.8552 - accuracy: 0.6005 - val_loss: 0.8608 - val_accuracy: 0.4921\n",
      "Epoch 4/100\n",
      "28/28 [==============================] - 0s 7ms/step - loss: 0.8197 - accuracy: 0.6583 - val_loss: 0.8608 - val_accuracy: 0.5159\n",
      "Epoch 5/100\n",
      "28/28 [==============================] - 0s 7ms/step - loss: 0.7939 - accuracy: 0.6833 - val_loss: 0.8609 - val_accuracy: 0.5238\n",
      "Epoch 6/100\n",
      "28/28 [==============================] - 0s 7ms/step - loss: 0.7659 - accuracy: 0.7106 - val_loss: 0.8610 - val_accuracy: 0.4841\n",
      "Epoch 7/100\n",
      "28/28 [==============================] - 0s 7ms/step - loss: 0.7417 - accuracy: 0.7242 - val_loss: 0.8610 - val_accuracy: 0.4921\n",
      "Epoch 8/100\n",
      "28/28 [==============================] - 0s 7ms/step - loss: 0.7221 - accuracy: 0.7333 - val_loss: 0.8617 - val_accuracy: 0.4921\n",
      "Epoch 9/100\n",
      "28/28 [==============================] - 0s 7ms/step - loss: 0.7086 - accuracy: 0.7321 - val_loss: 0.8620 - val_accuracy: 0.4921\n",
      "Epoch 10/100\n",
      "28/28 [==============================] - 0s 7ms/step - loss: 0.6837 - accuracy: 0.7684 - val_loss: 0.8616 - val_accuracy: 0.4921\n",
      "Epoch 11/100\n",
      "28/28 [==============================] - 0s 7ms/step - loss: 0.6721 - accuracy: 0.7764 - val_loss: 0.8598 - val_accuracy: 0.5079\n",
      "Epoch 12/100\n",
      "28/28 [==============================] - 0s 7ms/step - loss: 0.6598 - accuracy: 0.7855 - val_loss: 0.8566 - val_accuracy: 0.5159\n",
      "Epoch 13/100\n",
      "28/28 [==============================] - 0s 7ms/step - loss: 0.6425 - accuracy: 0.7968 - val_loss: 0.8513 - val_accuracy: 0.5079\n",
      "Epoch 14/100\n",
      "28/28 [==============================] - 0s 7ms/step - loss: 0.6291 - accuracy: 0.8184 - val_loss: 0.8447 - val_accuracy: 0.5794\n",
      "Epoch 15/100\n",
      "28/28 [==============================] - 0s 9ms/step - loss: 0.6169 - accuracy: 0.8229 - val_loss: 0.8344 - val_accuracy: 0.5794\n",
      "Epoch 16/100\n",
      "28/28 [==============================] - 0s 7ms/step - loss: 0.6048 - accuracy: 0.8297 - val_loss: 0.8228 - val_accuracy: 0.6190\n",
      "Epoch 17/100\n",
      "28/28 [==============================] - 0s 7ms/step - loss: 0.5928 - accuracy: 0.8309 - val_loss: 0.8093 - val_accuracy: 0.6270\n",
      "Epoch 18/100\n",
      "28/28 [==============================] - 0s 7ms/step - loss: 0.5835 - accuracy: 0.8354 - val_loss: 0.7979 - val_accuracy: 0.6270\n",
      "Epoch 19/100\n",
      "28/28 [==============================] - 0s 7ms/step - loss: 0.5751 - accuracy: 0.8377 - val_loss: 0.7839 - val_accuracy: 0.6349\n",
      "Epoch 20/100\n",
      "28/28 [==============================] - 0s 7ms/step - loss: 0.5615 - accuracy: 0.8434 - val_loss: 0.7696 - val_accuracy: 0.6667\n",
      "Epoch 21/100\n",
      "28/28 [==============================] - 0s 7ms/step - loss: 0.5526 - accuracy: 0.8547 - val_loss: 0.7564 - val_accuracy: 0.6667\n",
      "Epoch 22/100\n",
      "28/28 [==============================] - 0s 7ms/step - loss: 0.5447 - accuracy: 0.8558 - val_loss: 0.7444 - val_accuracy: 0.6905\n",
      "Epoch 23/100\n",
      "28/28 [==============================] - 0s 8ms/step - loss: 0.5337 - accuracy: 0.8683 - val_loss: 0.7361 - val_accuracy: 0.6905\n",
      "Epoch 24/100\n",
      "28/28 [==============================] - 0s 7ms/step - loss: 0.5274 - accuracy: 0.8683 - val_loss: 0.7284 - val_accuracy: 0.6746\n",
      "Epoch 25/100\n",
      "28/28 [==============================] - 0s 8ms/step - loss: 0.5139 - accuracy: 0.8831 - val_loss: 0.7220 - val_accuracy: 0.6905\n",
      "Epoch 26/100\n",
      "28/28 [==============================] - 0s 7ms/step - loss: 0.5066 - accuracy: 0.8854 - val_loss: 0.7150 - val_accuracy: 0.7063\n",
      "Epoch 27/100\n",
      "28/28 [==============================] - 0s 8ms/step - loss: 0.4994 - accuracy: 0.8899 - val_loss: 0.7106 - val_accuracy: 0.6984\n",
      "Epoch 28/100\n",
      "28/28 [==============================] - 0s 7ms/step - loss: 0.4924 - accuracy: 0.8888 - val_loss: 0.7052 - val_accuracy: 0.7063\n",
      "Epoch 29/100\n",
      "28/28 [==============================] - 0s 8ms/step - loss: 0.4837 - accuracy: 0.8944 - val_loss: 0.7016 - val_accuracy: 0.7063\n",
      "Epoch 30/100\n",
      "28/28 [==============================] - 0s 8ms/step - loss: 0.4767 - accuracy: 0.9035 - val_loss: 0.6972 - val_accuracy: 0.7222\n",
      "Epoch 31/100\n",
      "28/28 [==============================] - 0s 7ms/step - loss: 0.4671 - accuracy: 0.9047 - val_loss: 0.6932 - val_accuracy: 0.7222\n",
      "Epoch 32/100\n",
      "28/28 [==============================] - 0s 7ms/step - loss: 0.4592 - accuracy: 0.9115 - val_loss: 0.6896 - val_accuracy: 0.7222\n",
      "Epoch 33/100\n",
      "28/28 [==============================] - 0s 8ms/step - loss: 0.4552 - accuracy: 0.9103 - val_loss: 0.6858 - val_accuracy: 0.7222\n",
      "Epoch 34/100\n",
      "28/28 [==============================] - 0s 7ms/step - loss: 0.4457 - accuracy: 0.9183 - val_loss: 0.6821 - val_accuracy: 0.7302\n",
      "Epoch 35/100\n",
      "28/28 [==============================] - 0s 7ms/step - loss: 0.4414 - accuracy: 0.9183 - val_loss: 0.6792 - val_accuracy: 0.7302\n",
      "Epoch 36/100\n",
      "28/28 [==============================] - 0s 7ms/step - loss: 0.4302 - accuracy: 0.9240 - val_loss: 0.6755 - val_accuracy: 0.7302\n",
      "Epoch 37/100\n",
      "28/28 [==============================] - 0s 7ms/step - loss: 0.4265 - accuracy: 0.9274 - val_loss: 0.6725 - val_accuracy: 0.7302\n",
      "Epoch 38/100\n",
      "28/28 [==============================] - 0s 7ms/step - loss: 0.4173 - accuracy: 0.9330 - val_loss: 0.6693 - val_accuracy: 0.7381\n",
      "Epoch 39/100\n",
      "28/28 [==============================] - 0s 9ms/step - loss: 0.4138 - accuracy: 0.9342 - val_loss: 0.6660 - val_accuracy: 0.7460\n",
      "Epoch 40/100\n",
      "28/28 [==============================] - 0s 7ms/step - loss: 0.4052 - accuracy: 0.9353 - val_loss: 0.6628 - val_accuracy: 0.7460\n",
      "Epoch 41/100\n",
      "28/28 [==============================] - 0s 8ms/step - loss: 0.3999 - accuracy: 0.9410 - val_loss: 0.6597 - val_accuracy: 0.7460\n",
      "Epoch 42/100\n",
      "28/28 [==============================] - 0s 10ms/step - loss: 0.3928 - accuracy: 0.9421 - val_loss: 0.6568 - val_accuracy: 0.7540\n",
      "Epoch 43/100\n",
      "28/28 [==============================] - 0s 7ms/step - loss: 0.3868 - accuracy: 0.9455 - val_loss: 0.6537 - val_accuracy: 0.7619\n",
      "Epoch 44/100\n",
      "28/28 [==============================] - 0s 7ms/step - loss: 0.3807 - accuracy: 0.9489 - val_loss: 0.6505 - val_accuracy: 0.7540\n",
      "Epoch 45/100\n",
      "28/28 [==============================] - 0s 7ms/step - loss: 0.3763 - accuracy: 0.9455 - val_loss: 0.6483 - val_accuracy: 0.7619\n",
      "Epoch 46/100\n",
      "28/28 [==============================] - 0s 7ms/step - loss: 0.3689 - accuracy: 0.9512 - val_loss: 0.6448 - val_accuracy: 0.7778\n",
      "Epoch 47/100\n",
      "28/28 [==============================] - 0s 7ms/step - loss: 0.3662 - accuracy: 0.9523 - val_loss: 0.6421 - val_accuracy: 0.7698\n",
      "Epoch 48/100\n",
      "28/28 [==============================] - 0s 8ms/step - loss: 0.3593 - accuracy: 0.9501 - val_loss: 0.6392 - val_accuracy: 0.7698\n",
      "Epoch 49/100\n",
      "28/28 [==============================] - 0s 7ms/step - loss: 0.3537 - accuracy: 0.9614 - val_loss: 0.6360 - val_accuracy: 0.7698\n",
      "Epoch 50/100\n",
      "28/28 [==============================] - 0s 7ms/step - loss: 0.3489 - accuracy: 0.9603 - val_loss: 0.6324 - val_accuracy: 0.7698\n",
      "Epoch 51/100\n",
      "28/28 [==============================] - 0s 7ms/step - loss: 0.3449 - accuracy: 0.9614 - val_loss: 0.6302 - val_accuracy: 0.7698\n",
      "Epoch 52/100\n",
      "28/28 [==============================] - 0s 7ms/step - loss: 0.3383 - accuracy: 0.9603 - val_loss: 0.6273 - val_accuracy: 0.7698\n",
      "Epoch 53/100\n",
      "28/28 [==============================] - 0s 7ms/step - loss: 0.3350 - accuracy: 0.9625 - val_loss: 0.6244 - val_accuracy: 0.7698\n",
      "Epoch 54/100\n",
      "28/28 [==============================] - 0s 7ms/step - loss: 0.3315 - accuracy: 0.9591 - val_loss: 0.6220 - val_accuracy: 0.7698\n",
      "Epoch 55/100\n",
      "28/28 [==============================] - 0s 9ms/step - loss: 0.3268 - accuracy: 0.9648 - val_loss: 0.6195 - val_accuracy: 0.7698\n",
      "Epoch 56/100\n",
      "28/28 [==============================] - 0s 7ms/step - loss: 0.3221 - accuracy: 0.9671 - val_loss: 0.6165 - val_accuracy: 0.7698\n",
      "Epoch 57/100\n",
      "28/28 [==============================] - 0s 7ms/step - loss: 0.3153 - accuracy: 0.9671 - val_loss: 0.6144 - val_accuracy: 0.7698\n",
      "Epoch 58/100\n",
      "28/28 [==============================] - 0s 7ms/step - loss: 0.3140 - accuracy: 0.9671 - val_loss: 0.6119 - val_accuracy: 0.7698\n",
      "Epoch 59/100\n",
      "28/28 [==============================] - 0s 7ms/step - loss: 0.3085 - accuracy: 0.9694 - val_loss: 0.6093 - val_accuracy: 0.7698\n",
      "Epoch 60/100\n",
      "28/28 [==============================] - 0s 7ms/step - loss: 0.3050 - accuracy: 0.9716 - val_loss: 0.6068 - val_accuracy: 0.7698\n",
      "Epoch 61/100\n",
      "28/28 [==============================] - 0s 7ms/step - loss: 0.3005 - accuracy: 0.9728 - val_loss: 0.6040 - val_accuracy: 0.7778\n",
      "Epoch 62/100\n",
      "28/28 [==============================] - 0s 8ms/step - loss: 0.2969 - accuracy: 0.9750 - val_loss: 0.6017 - val_accuracy: 0.7778\n",
      "Epoch 63/100\n",
      "28/28 [==============================] - 0s 7ms/step - loss: 0.2938 - accuracy: 0.9762 - val_loss: 0.5997 - val_accuracy: 0.7778\n",
      "Epoch 64/100\n",
      "28/28 [==============================] - 0s 7ms/step - loss: 0.2914 - accuracy: 0.9705 - val_loss: 0.5973 - val_accuracy: 0.7857\n",
      "Epoch 65/100\n",
      "28/28 [==============================] - 0s 7ms/step - loss: 0.2874 - accuracy: 0.9750 - val_loss: 0.5953 - val_accuracy: 0.7937\n",
      "Epoch 66/100\n",
      "28/28 [==============================] - 0s 7ms/step - loss: 0.2817 - accuracy: 0.9784 - val_loss: 0.5926 - val_accuracy: 0.7937\n",
      "Epoch 67/100\n",
      "28/28 [==============================] - 0s 7ms/step - loss: 0.2773 - accuracy: 0.9807 - val_loss: 0.5899 - val_accuracy: 0.7937\n",
      "Epoch 68/100\n",
      "28/28 [==============================] - 0s 7ms/step - loss: 0.2754 - accuracy: 0.9796 - val_loss: 0.5882 - val_accuracy: 0.7937\n",
      "Epoch 69/100\n",
      "28/28 [==============================] - 0s 7ms/step - loss: 0.2728 - accuracy: 0.9796 - val_loss: 0.5858 - val_accuracy: 0.7937\n",
      "Epoch 70/100\n",
      "28/28 [==============================] - 0s 7ms/step - loss: 0.2697 - accuracy: 0.9807 - val_loss: 0.5836 - val_accuracy: 0.7937\n",
      "Epoch 71/100\n",
      "28/28 [==============================] - 0s 8ms/step - loss: 0.2655 - accuracy: 0.9818 - val_loss: 0.5815 - val_accuracy: 0.7937\n",
      "Epoch 72/100\n",
      "28/28 [==============================] - 0s 7ms/step - loss: 0.2642 - accuracy: 0.9807 - val_loss: 0.5799 - val_accuracy: 0.7937\n",
      "Epoch 73/100\n",
      "28/28 [==============================] - 0s 7ms/step - loss: 0.2621 - accuracy: 0.9830 - val_loss: 0.5774 - val_accuracy: 0.7937\n",
      "Epoch 74/100\n",
      "28/28 [==============================] - 0s 7ms/step - loss: 0.2585 - accuracy: 0.9830 - val_loss: 0.5760 - val_accuracy: 0.7937\n",
      "Epoch 75/100\n",
      "28/28 [==============================] - 0s 8ms/step - loss: 0.2552 - accuracy: 0.9830 - val_loss: 0.5741 - val_accuracy: 0.7937\n",
      "Epoch 76/100\n",
      "28/28 [==============================] - 0s 8ms/step - loss: 0.2531 - accuracy: 0.9852 - val_loss: 0.5728 - val_accuracy: 0.7937\n",
      "Epoch 77/100\n",
      "28/28 [==============================] - 0s 7ms/step - loss: 0.2492 - accuracy: 0.9852 - val_loss: 0.5702 - val_accuracy: 0.7937\n",
      "Epoch 78/100\n",
      "28/28 [==============================] - 0s 9ms/step - loss: 0.2473 - accuracy: 0.9864 - val_loss: 0.5686 - val_accuracy: 0.7857\n",
      "Epoch 79/100\n",
      "28/28 [==============================] - 0s 7ms/step - loss: 0.2445 - accuracy: 0.9909 - val_loss: 0.5657 - val_accuracy: 0.7937\n",
      "Epoch 80/100\n",
      "28/28 [==============================] - 0s 7ms/step - loss: 0.2424 - accuracy: 0.9886 - val_loss: 0.5649 - val_accuracy: 0.7937\n",
      "Epoch 81/100\n",
      "28/28 [==============================] - 0s 8ms/step - loss: 0.2408 - accuracy: 0.9898 - val_loss: 0.5630 - val_accuracy: 0.7937\n",
      "Epoch 82/100\n",
      "28/28 [==============================] - 0s 7ms/step - loss: 0.2379 - accuracy: 0.9852 - val_loss: 0.5612 - val_accuracy: 0.7937\n",
      "Epoch 83/100\n",
      "28/28 [==============================] - 0s 7ms/step - loss: 0.2371 - accuracy: 0.9909 - val_loss: 0.5595 - val_accuracy: 0.8016\n",
      "Epoch 84/100\n",
      "28/28 [==============================] - 0s 7ms/step - loss: 0.2337 - accuracy: 0.9921 - val_loss: 0.5578 - val_accuracy: 0.8016\n",
      "Epoch 85/100\n",
      "28/28 [==============================] - 0s 7ms/step - loss: 0.2321 - accuracy: 0.9864 - val_loss: 0.5563 - val_accuracy: 0.8095\n",
      "Epoch 86/100\n",
      "28/28 [==============================] - 0s 7ms/step - loss: 0.2309 - accuracy: 0.9909 - val_loss: 0.5554 - val_accuracy: 0.8016\n",
      "Epoch 87/100\n",
      "28/28 [==============================] - 0s 7ms/step - loss: 0.2277 - accuracy: 0.9909 - val_loss: 0.5536 - val_accuracy: 0.8016\n",
      "Epoch 88/100\n",
      "28/28 [==============================] - 0s 7ms/step - loss: 0.2273 - accuracy: 0.9921 - val_loss: 0.5526 - val_accuracy: 0.8095\n",
      "Epoch 89/100\n",
      "28/28 [==============================] - 0s 8ms/step - loss: 0.2247 - accuracy: 0.9943 - val_loss: 0.5503 - val_accuracy: 0.8333\n",
      "Epoch 90/100\n",
      "28/28 [==============================] - 0s 7ms/step - loss: 0.2234 - accuracy: 0.9932 - val_loss: 0.5491 - val_accuracy: 0.8254\n",
      "Epoch 91/100\n",
      "28/28 [==============================] - 0s 8ms/step - loss: 0.2220 - accuracy: 0.9932 - val_loss: 0.5483 - val_accuracy: 0.8175\n",
      "Epoch 92/100\n",
      "28/28 [==============================] - 0s 7ms/step - loss: 0.2204 - accuracy: 0.9966 - val_loss: 0.5464 - val_accuracy: 0.8254\n",
      "Epoch 93/100\n",
      "28/28 [==============================] - 0s 7ms/step - loss: 0.2194 - accuracy: 0.9932 - val_loss: 0.5451 - val_accuracy: 0.8254\n",
      "Epoch 94/100\n",
      "28/28 [==============================] - 0s 7ms/step - loss: 0.2163 - accuracy: 0.9966 - val_loss: 0.5448 - val_accuracy: 0.8254\n",
      "Epoch 95/100\n",
      "28/28 [==============================] - 0s 8ms/step - loss: 0.2158 - accuracy: 0.9966 - val_loss: 0.5427 - val_accuracy: 0.8254\n",
      "Epoch 96/100\n",
      "28/28 [==============================] - 0s 7ms/step - loss: 0.2137 - accuracy: 0.9966 - val_loss: 0.5417 - val_accuracy: 0.8254\n",
      "Epoch 97/100\n",
      "28/28 [==============================] - 0s 7ms/step - loss: 0.2130 - accuracy: 0.9966 - val_loss: 0.5404 - val_accuracy: 0.8254\n",
      "Epoch 98/100\n",
      "28/28 [==============================] - 0s 7ms/step - loss: 0.2109 - accuracy: 0.9966 - val_loss: 0.5391 - val_accuracy: 0.8254\n",
      "Epoch 99/100\n",
      "28/28 [==============================] - 0s 8ms/step - loss: 0.2107 - accuracy: 0.9966 - val_loss: 0.5380 - val_accuracy: 0.8254\n",
      "Epoch 100/100\n",
      "28/28 [==============================] - 0s 8ms/step - loss: 0.2079 - accuracy: 0.9966 - val_loss: 0.5364 - val_accuracy: 0.8254\n"
     ]
    }
   ],
   "source": [
    "num_epoch = 100\n",
    "batch_size = 32\n",
    "\n",
    "history = model.fit(training_padded, training_label, \n",
    "                    batch_size = batch_size, epochs = num_epoch, \n",
    "                    validation_data = (validating_padded, validating_label))"
   ]
  },
  {
   "attachments": {},
   "cell_type": "markdown",
   "metadata": {},
   "source": [
    "### 7.1. Evaluate The Model"
   ]
  },
  {
   "cell_type": "code",
   "execution_count": 43,
   "metadata": {},
   "outputs": [
    {
     "data": {
      "image/png": "[encoded data removed]",
      "text/plain": [
       "<Figure size 2500x400 with 2 Axes>"
      ]
     },
     "metadata": {},
     "output_type": "display_data"
    }
   ],
   "source": [
    "fig, ax = plt.subplots(nrows=1, ncols=2,figsize=(25, 4))\n",
    "ax[0].plot(history.history['accuracy'])\n",
    "ax[0].plot(history.history['val_accuracy'])\n",
    "ax[0].set_title('Accuracy')\n",
    "ax[0].set_xlabel('Accuracy')\n",
    "ax[0].set_ylabel('Epoch')\n",
    "\n",
    "ax[1].plot(history.history['loss'])\n",
    "ax[1].plot(history.history['val_loss'])\n",
    "ax[1].set_title('Loss')\n",
    "ax[1].set_xlabel('Loss')\n",
    "ax[1].set_ylabel('Epoch')\n",
    "\n",
    "plt.legend(['Train', 'Test'])\n",
    "plt.show()"
   ]
  },
  {
   "cell_type": "code",
   "execution_count": 34,
   "metadata": {},
   "outputs": [
    {
     "name": "stdout",
     "output_type": "stream",
     "text": [
      "R Squared Error    : 0.73\n",
      "Mean Squared Error : 0.07\n"
     ]
    }
   ],
   "source": [
    "y_pred = model.predict(testing_padded, verbose = 0)\n",
    "\n",
    "print(\"R Squared Error    :\",round(r2_score(testing_label, y_pred), 2))\n",
    "print(\"Mean Squared Error :\",round(mean_squared_error(testing_label, y_pred), 2))"
   ]
  },
  {
   "cell_type": "code",
   "execution_count": 35,
   "metadata": {},
   "outputs": [
    {
     "name": "stdout",
     "output_type": "stream",
     "text": [
      "8/8 [==============================] - 0s 2ms/step\n",
      "   Train Predictions  Actuals  Diff\n",
      "0                  0        0     0\n",
      "1                  1        1     0\n",
      "2                  0        0     0\n",
      "3                  0        0     0\n",
      "4                  0        1     1\n",
      "23 / 249\n"
     ]
    }
   ],
   "source": [
    "train_predictions = model.predict(testing_padded).argmax(axis=1)\n",
    "\n",
    "train_results = pd.DataFrame(data={'Train Predictions':train_predictions, 'Actuals':testing_label.argmax(axis=1)})\n",
    "train_results['Diff'] = abs(train_results['Actuals'] - train_results['Train Predictions'])\n",
    "print(train_results.head(5))\n",
    "print(train_results['Diff'].sum(), '/', len(train_results['Diff']))"
   ]
  },
  {
   "cell_type": "code",
   "execution_count": 36,
   "metadata": {},
   "outputs": [
    {
     "name": "stdout",
     "output_type": "stream",
     "text": [
      "8/8 [==============================] - 0s 31ms/step\n",
      "              precision    recall  f1-score   support\n",
      "\n",
      "           0       0.89      0.92      0.90       117\n",
      "           1       0.93      0.89      0.91       132\n",
      "\n",
      "    accuracy                           0.91       249\n",
      "   macro avg       0.91      0.91      0.91       249\n",
      "weighted avg       0.91      0.91      0.91       249\n",
      "\n"
     ]
    }
   ],
   "source": [
    "y_pred = model.predict(testing_padded).argmax(axis=1)\n",
    "print(classification_report(y_pred,testing_label.argmax(axis=1)))"
   ]
  },
  {
   "cell_type": "code",
   "execution_count": 37,
   "metadata": {},
   "outputs": [
    {
     "name": "stdout",
     "output_type": "stream",
     "text": [
      "8/8 [==============================] - 0s 2ms/step\n"
     ]
    },
    {
     "data": {
      "image/png": "[encoded data removed]",
      "text/plain": [
       "<Figure size 640x480 with 2 Axes>"
      ]
     },
     "metadata": {},
     "output_type": "display_data"
    }
   ],
   "source": [
    "labels = ['Not Spam', 'Spam']\n",
    "\n",
    "\n",
    "y_pred = np.rint(model.predict(testing_padded))\n",
    "con_mat = confusion_matrix(testing_label.argmax(axis=1),y_pred.argmax(axis=1))\n",
    "\n",
    "cm_percent = con_mat.astype('float') / con_mat.sum(axis=1)[:, np.newaxis]\n",
    "\n",
    "sns.heatmap(cm_percent, annot=True, fmt='.2%', cmap='Blues', xticklabels=labels, yticklabels=labels)\n",
    "plt.xlabel('Predicted Labels')\n",
    "plt.ylabel('True Labels')\n",
    "plt.title('Confusion Matrix - Fake News Detection')\n",
    "plt.show()"
   ]
  }
 ],
 "metadata": {
  "kernelspec": {
   "display_name": "gan",
   "language": "python",
   "name": "python3"
  },
  "language_info": {
   "codemirror_mode": {
    "name": "ipython",
    "version": 3
   },
   "file_extension": ".py",
   "mimetype": "text/x-python",
   "name": "python",
   "nbconvert_exporter": "python",
   "pygments_lexer": "ipython3",
   "version": "3.9.16"
  },
  "orig_nbformat": 4
 },
 "nbformat": 4,
 "nbformat_minor": 2
}
