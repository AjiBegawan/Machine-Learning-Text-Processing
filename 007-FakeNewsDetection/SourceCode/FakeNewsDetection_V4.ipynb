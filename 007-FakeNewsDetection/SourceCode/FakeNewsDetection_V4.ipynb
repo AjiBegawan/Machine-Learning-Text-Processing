{
 "cells": [
  {
   "attachments": {},
   "cell_type": "markdown",
   "metadata": {},
   "source": [
    "# 1. Import Libraries"
   ]
  },
  {
   "cell_type": "code",
   "execution_count": 1,
   "metadata": {},
   "outputs": [
    {
     "name": "stdout",
     "output_type": "stream",
     "text": [
      "[PhysicalDevice(name='/physical_device:GPU:0', device_type='GPU')]\n"
     ]
    }
   ],
   "source": [
    "import tensorflow as tf\n",
    "gpu = tf.config.experimental.list_physical_devices('GPU')\n",
    "tf.config.experimental.set_memory_growth(gpu[0], True)\n",
    "print(gpu)"
   ]
  },
  {
   "cell_type": "code",
   "execution_count": 22,
   "metadata": {},
   "outputs": [
    {
     "name": "stderr",
     "output_type": "stream",
     "text": [
      "[nltk_data] Downloading package punkt to\n",
      "[nltk_data]     C:\\Users\\indiz\\AppData\\Roaming\\nltk_data...\n",
      "[nltk_data]   Package punkt is already up-to-date!\n",
      "[nltk_data] Downloading package stopwords to\n",
      "[nltk_data]     C:\\Users\\indiz\\AppData\\Roaming\\nltk_data...\n",
      "[nltk_data]   Package stopwords is already up-to-date!\n"
     ]
    }
   ],
   "source": [
    "import re\n",
    "import numpy as np\n",
    "import pandas as pd\n",
    "import seaborn as sns\n",
    "import tensorflow as tf\n",
    "import matplotlib.pyplot as plt\n",
    "\n",
    "from collections import Counter\n",
    "from tqdm.notebook import tqdm\n",
    "tqdm.pandas()\n",
    "\n",
    "from tensorflow import keras\n",
    "from tensorflow.keras.models import Sequential, Model\n",
    "from tensorflow.keras.preprocessing.text import Tokenizer\n",
    "from tensorflow.python.keras import models, layers, optimizers\n",
    "from tensorflow.keras.preprocessing.sequence import pad_sequences\n",
    "from tensorflow.keras.optimizers import SGD, Adam,  RMSprop, Nadam \n",
    "from tensorflow.keras.layers import Dense, Flatten, Conv1D, MaxPooling1D, LSTM, GRU, Embedding,\\\n",
    "    GlobalAveragePooling1D, BatchNormalization, LeakyReLU, Dropout\n",
    "\n",
    "from sklearn.model_selection import train_test_split\n",
    "from sklearn.feature_extraction.text import TfidfVectorizer\n",
    "from sklearn.linear_model import PassiveAggressiveClassifier\n",
    "from sklearn.metrics import accuracy_score, confusion_matrix\n",
    "\n",
    "import nltk\n",
    "nltk.download('punkt')\n",
    "nltk.download('stopwords')\n",
    "from nltk.corpus import stopwords\n",
    "from nltk.stem.wordnet import WordNetLemmatizer\n"
   ]
  },
  {
   "attachments": {},
   "cell_type": "markdown",
   "metadata": {},
   "source": [
    "# 2. Load Data"
   ]
  },
  {
   "cell_type": "code",
   "execution_count": 3,
   "metadata": {},
   "outputs": [
    {
     "data": {
      "text/html": [
       "<div>\n",
       "<style scoped>\n",
       "    .dataframe tbody tr th:only-of-type {\n",
       "        vertical-align: middle;\n",
       "    }\n",
       "\n",
       "    .dataframe tbody tr th {\n",
       "        vertical-align: top;\n",
       "    }\n",
       "\n",
       "    .dataframe thead th {\n",
       "        text-align: right;\n",
       "    }\n",
       "</style>\n",
       "<table border=\"1\" class=\"dataframe\">\n",
       "  <thead>\n",
       "    <tr style=\"text-align: right;\">\n",
       "      <th></th>\n",
       "      <th>title</th>\n",
       "      <th>text</th>\n",
       "      <th>label</th>\n",
       "    </tr>\n",
       "  </thead>\n",
       "  <tbody>\n",
       "    <tr>\n",
       "      <th>0</th>\n",
       "      <td>You Can Smell Hillary’s Fear</td>\n",
       "      <td>Daniel Greenfield, a Shillman Journalism Fello...</td>\n",
       "      <td>FAKE</td>\n",
       "    </tr>\n",
       "    <tr>\n",
       "      <th>1</th>\n",
       "      <td>Watch The Exact Moment Paul Ryan Committed Pol...</td>\n",
       "      <td>Google Pinterest Digg Linkedin Reddit Stumbleu...</td>\n",
       "      <td>FAKE</td>\n",
       "    </tr>\n",
       "    <tr>\n",
       "      <th>2</th>\n",
       "      <td>Kerry to go to Paris in gesture of sympathy</td>\n",
       "      <td>U.S. Secretary of State John F. Kerry said Mon...</td>\n",
       "      <td>REAL</td>\n",
       "    </tr>\n",
       "    <tr>\n",
       "      <th>3</th>\n",
       "      <td>Bernie supporters on Twitter erupt in anger ag...</td>\n",
       "      <td>— Kaydee King (@KaydeeKing) November 9, 2016 T...</td>\n",
       "      <td>FAKE</td>\n",
       "    </tr>\n",
       "    <tr>\n",
       "      <th>4</th>\n",
       "      <td>The Battle of New York: Why This Primary Matters</td>\n",
       "      <td>It's primary day in New York and front-runners...</td>\n",
       "      <td>REAL</td>\n",
       "    </tr>\n",
       "  </tbody>\n",
       "</table>\n",
       "</div>"
      ],
      "text/plain": [
       "                                               title  \\\n",
       "0                       You Can Smell Hillary’s Fear   \n",
       "1  Watch The Exact Moment Paul Ryan Committed Pol...   \n",
       "2        Kerry to go to Paris in gesture of sympathy   \n",
       "3  Bernie supporters on Twitter erupt in anger ag...   \n",
       "4   The Battle of New York: Why This Primary Matters   \n",
       "\n",
       "                                                text label  \n",
       "0  Daniel Greenfield, a Shillman Journalism Fello...  FAKE  \n",
       "1  Google Pinterest Digg Linkedin Reddit Stumbleu...  FAKE  \n",
       "2  U.S. Secretary of State John F. Kerry said Mon...  REAL  \n",
       "3  — Kaydee King (@KaydeeKing) November 9, 2016 T...  FAKE  \n",
       "4  It's primary day in New York and front-runners...  REAL  "
      ]
     },
     "execution_count": 3,
     "metadata": {},
     "output_type": "execute_result"
    }
   ],
   "source": [
    "df = pd.read_csv('news.csv')\n",
    "df = df.drop(columns=['Unnamed: 0'])\n",
    "df.head()"
   ]
  },
  {
   "cell_type": "code",
   "execution_count": 4,
   "metadata": {},
   "outputs": [
    {
     "data": {
      "text/plain": [
       "REAL    3171\n",
       "FAKE    3164\n",
       "Name: label, dtype: int64"
      ]
     },
     "execution_count": 4,
     "metadata": {},
     "output_type": "execute_result"
    }
   ],
   "source": [
    "df['label'].value_counts()"
   ]
  },
  {
   "attachments": {},
   "cell_type": "markdown",
   "metadata": {},
   "source": [
    "# 3. Preprocessing Data"
   ]
  },
  {
   "attachments": {},
   "cell_type": "markdown",
   "metadata": {},
   "source": [
    "### 3.1. Load English Stopwords "
   ]
  },
  {
   "cell_type": "code",
   "execution_count": 10,
   "metadata": {},
   "outputs": [],
   "source": [
    "def lower_text(text):\n",
    "    return text.lower()\n",
    "\n",
    "def clean_text(text):\n",
    "    text = re.sub(r'http\\S+', ' ', text)\n",
    "    text = re.sub(r'www\\S+', ' ', text)\n",
    "    text = re.sub(\"#+\",\" \", text)\n",
    "    text = re.sub(\"@[\\w]*\",\" \", text)\n",
    "    text = re.sub(\"[^a-z0-9\\s]\",\" \", text)\n",
    "    text = re.sub(\"@[a-z0-9_]+\",\" \", text)\n",
    "    return text\n",
    "\n",
    "def remove_duplicate_words(text):\n",
    "    return re.sub(r'\\b(\\w+)(\\s+\\1)+\\b', r'\\1', text)\n",
    "\n",
    "def lemmatizer(text):\n",
    "    sentence = []\n",
    "    for word in text:\n",
    "        lemmatizer = WordNetLemmatizer()\n",
    "        sentence.append(lemmatizer.lemmatize(word, 'v'))\n",
    "    return ''.join(sentence)\n",
    "\n",
    "stopword_en = pd.read_csv('../en_stopword_1555.txt', header=None).drop_duplicates()\n",
    "en_stopword = stopword_en[0].values.tolist()\n",
    "en_stopword = [word.strip() for word in en_stopword]\n",
    "\n",
    "nltk_stopword = stopwords.words('english')\n",
    "\n",
    "combined_stopwords = pd.DataFrame(en_stopword + nltk_stopword).drop_duplicates()\n",
    "stopword_list = combined_stopwords[0].values.tolist()"
   ]
  },
  {
   "attachments": {},
   "cell_type": "markdown",
   "metadata": {},
   "source": [
    "### 3.2. Remove Stopword from Data"
   ]
  },
  {
   "cell_type": "code",
   "execution_count": 11,
   "metadata": {},
   "outputs": [
    {
     "data": {
      "application/vnd.jupyter.widget-view+json": {
       "model_id": "3fa812491618498b9b99a5b1ed859039",
       "version_major": 2,
       "version_minor": 0
      },
      "text/plain": [
       "  0%|          | 0/6335 [00:00<?, ?it/s]"
      ]
     },
     "metadata": {},
     "output_type": "display_data"
    },
    {
     "data": {
      "application/vnd.jupyter.widget-view+json": {
       "model_id": "7bb34334df4f4c1092bec4f5a596efde",
       "version_major": 2,
       "version_minor": 0
      },
      "text/plain": [
       "  0%|          | 0/6335 [00:00<?, ?it/s]"
      ]
     },
     "metadata": {},
     "output_type": "display_data"
    },
    {
     "data": {
      "application/vnd.jupyter.widget-view+json": {
       "model_id": "dbbfa0b8a8794c279879e2dd30604bbf",
       "version_major": 2,
       "version_minor": 0
      },
      "text/plain": [
       "  0%|          | 0/6335 [00:00<?, ?it/s]"
      ]
     },
     "metadata": {},
     "output_type": "display_data"
    },
    {
     "data": {
      "application/vnd.jupyter.widget-view+json": {
       "model_id": "68d26ec52c8a46bb8e1b574fa21a222a",
       "version_major": 2,
       "version_minor": 0
      },
      "text/plain": [
       "  0%|          | 0/6335 [00:00<?, ?it/s]"
      ]
     },
     "metadata": {},
     "output_type": "display_data"
    }
   ],
   "source": [
    "df['clean_text'] = df['text'] \\\n",
    "                    .progress_apply(lower_text) \\\n",
    "                    .progress_apply(lambda x: ' '.join([word for word in x.split() if word not in (nltk_stopword)])) \\\n",
    "                    .progress_apply(clean_text) \\\n",
    "                    .progress_apply(lemmatizer)\n",
    "df"
   ]
  },
  {
   "attachments": {},
   "cell_type": "markdown",
   "metadata": {},
   "source": [
    "### 3.3. Change label to binary number and Counting the data"
   ]
  },
  {
   "cell_type": "code",
   "execution_count": 12,
   "metadata": {},
   "outputs": [
    {
     "name": "stdout",
     "output_type": "stream",
     "text": [
      "Counter({1: 3171, 0: 3164})\n"
     ]
    }
   ],
   "source": [
    "df['label'] = [0 if i == 'FAKE' else 1 for i in df['label']]\n",
    "print(Counter(df['label']))"
   ]
  },
  {
   "attachments": {},
   "cell_type": "markdown",
   "metadata": {},
   "source": [
    "# 4. Data Exploration"
   ]
  },
  {
   "attachments": {},
   "cell_type": "markdown",
   "metadata": {},
   "source": [
    "### 4.1. Number of words in each text"
   ]
  },
  {
   "cell_type": "code",
   "execution_count": 13,
   "metadata": {},
   "outputs": [
    {
     "data": {
      "text/plain": [
       "<Axes: xlabel='text_len'>"
      ]
     },
     "execution_count": 13,
     "metadata": {},
     "output_type": "execute_result"
    },
    {
     "data": {
      "image/png": "[encoded data removed]",
      "text/plain": [
       "<Figure size 2500x200 with 1 Axes>"
      ]
     },
     "metadata": {},
     "output_type": "display_data"
    }
   ],
   "source": [
    "text_len = [len(word) for word in df['clean_text'].str.split(' ')]\n",
    "df['text_len'] = pd.DataFrame(text_len)\n",
    "\n",
    "fig, axes = plt.subplots(figsize=(25, 2))\n",
    "sns.boxplot(x = df['text_len'], palette = \"Oranges\")"
   ]
  },
  {
   "attachments": {},
   "cell_type": "markdown",
   "metadata": {},
   "source": [
    "### 4.2. Remove Outliers based on label"
   ]
  },
  {
   "cell_type": "code",
   "execution_count": 15,
   "metadata": {},
   "outputs": [
    {
     "name": "stdout",
     "output_type": "stream",
     "text": [
      "224.5\n",
      "774.0\n"
     ]
    }
   ],
   "source": [
    "print(df['text_len'].quantile(0.25))\n",
    "print(df['text_len'].quantile(0.75))"
   ]
  },
  {
   "cell_type": "code",
   "execution_count": 16,
   "metadata": {},
   "outputs": [
    {
     "data": {
      "text/plain": [
       "<Axes: xlabel='text_len'>"
      ]
     },
     "execution_count": 16,
     "metadata": {},
     "output_type": "execute_result"
    },
    {
     "data": {
      "image/png": "[encoded data removed]",
      "text/plain": [
       "<Figure size 2500x200 with 1 Axes>"
      ]
     },
     "metadata": {},
     "output_type": "display_data"
    }
   ],
   "source": [
    "Q1 = df['text_len'].quantile(0.25)\n",
    "Q3 = df['text_len'].quantile(0.75)\n",
    "IQR = Q3 - Q1\n",
    "\n",
    "df = df[(df['text_len'] > Q1) & (df['text_len'] < Q3)]\n",
    "\n",
    "fig, axes = plt.subplots(figsize=(25, 2))\n",
    "sns.boxplot(x=df['text_len'], palette=\"Oranges\")"
   ]
  },
  {
   "attachments": {},
   "cell_type": "markdown",
   "metadata": {},
   "source": [
    "# 5. Supervised Learning Model"
   ]
  },
  {
   "attachments": {},
   "cell_type": "markdown",
   "metadata": {},
   "source": [
    "### 5.1. Split data"
   ]
  },
  {
   "cell_type": "code",
   "execution_count": 86,
   "metadata": {},
   "outputs": [],
   "source": [
    "X = df['clean_text']\n",
    "Y = df['label']\n",
    "\n",
    "x_train,x_test,y_train,y_test = train_test_split(X, Y, test_size=0.2, random_state=42)"
   ]
  },
  {
   "attachments": {},
   "cell_type": "markdown",
   "metadata": {},
   "source": [
    "### 5.2. Initialize a TfidfVectorizer"
   ]
  },
  {
   "cell_type": "code",
   "execution_count": 106,
   "metadata": {},
   "outputs": [],
   "source": [
    "# Initialize a TfidfVectorizer\n",
    "tfidf_vectorizer=TfidfVectorizer(stop_words='english', max_df=0.75)\n",
    "\n",
    "# Fit and transform train set, transform test set\n",
    "tfidf_train = tfidf_vectorizer.fit_transform(x_train) \n",
    "tfidf_test  = tfidf_vectorizer.transform(x_test)"
   ]
  },
  {
   "attachments": {},
   "cell_type": "markdown",
   "metadata": {},
   "source": [
    "### 5.3. Training Model"
   ]
  },
  {
   "cell_type": "code",
   "execution_count": 107,
   "metadata": {},
   "outputs": [
    {
     "name": "stdout",
     "output_type": "stream",
     "text": [
      "Accuracy: 89.91%\n"
     ]
    }
   ],
   "source": [
    "# Initialize a PassiveAggressiveClassifier\n",
    "pac = PassiveAggressiveClassifier(max_iter=50)\n",
    "pac.fit(tfidf_train,y_train)\n",
    "\n",
    "# Predict on the test set and calculate accuracy\n",
    "y_pred = np.rint(pac.predict(tfidf_test))\n",
    "score = accuracy_score(y_test,y_pred)\n",
    "print(f'Accuracy: {round(score*100,2)}%')"
   ]
  },
  {
   "attachments": {},
   "cell_type": "markdown",
   "metadata": {},
   "source": [
    "### 5.4. Confusion Matrix"
   ]
  },
  {
   "cell_type": "code",
   "execution_count": 109,
   "metadata": {},
   "outputs": [
    {
     "data": {
      "image/png": "[encoded data removed]",
      "text/plain": [
       "<Figure size 640x480 with 2 Axes>"
      ]
     },
     "metadata": {},
     "output_type": "display_data"
    }
   ],
   "source": [
    "labels = ['Fake', 'Real']\n",
    "\n",
    "# Build confusion matrix\n",
    "con_mat = confusion_matrix(y_test,y_pred)\n",
    "\n",
    "# Compute the percentages for the confusion matrix\n",
    "cm_percent = con_mat.astype('float') / con_mat.sum(axis=1)[:, np.newaxis]\n",
    "\n",
    "# Create the heatmap using Seaborn\n",
    "sns.heatmap(cm_percent, annot=True, fmt='.2%', cmap='Blues', xticklabels=labels, yticklabels=labels)\n",
    "\n",
    "# Add labels to the plot\n",
    "plt.xlabel('Predicted Labels')\n",
    "plt.ylabel('True Labels')\n",
    "plt.title('Confusion Matrix - Fake News Detection')\n",
    "plt.show()"
   ]
  },
  {
   "attachments": {},
   "cell_type": "markdown",
   "metadata": {},
   "source": [
    "# 6. Deep Learning Model"
   ]
  },
  {
   "attachments": {},
   "cell_type": "markdown",
   "metadata": {},
   "source": [
    "### 6.1. Split Train and Test Data"
   ]
  },
  {
   "cell_type": "code",
   "execution_count": 17,
   "metadata": {},
   "outputs": [
    {
     "name": "stdout",
     "output_type": "stream",
     "text": [
      "(2220,)\n",
      "(627,)\n",
      "(317,)\n"
     ]
    }
   ],
   "source": [
    "X = df['clean_text']\n",
    "Y = df['label']\n",
    "# Y = pd.get_dummies(df_filtered['label'])\n",
    "\n",
    "X_train, X_val, y_train, y_val = train_test_split(X, Y, train_size=0.9, random_state = 42)\n",
    "X_train, X_test, y_train, y_test = train_test_split(X_train, y_train, train_size=0.78, random_state = 42)\n",
    "\n",
    "print(X_train.shape)\n",
    "print(X_test.shape)\n",
    "print(X_val.shape)"
   ]
  },
  {
   "attachments": {},
   "cell_type": "markdown",
   "metadata": {},
   "source": [
    "### 6.2. Model and Tokenizing Configuration"
   ]
  },
  {
   "cell_type": "code",
   "execution_count": 18,
   "metadata": {},
   "outputs": [],
   "source": [
    "vocab_size = 10000\n",
    "embedding_dim = 1000\n",
    "max_length = 775\n",
    "trunc_type = 'post'\n",
    "padding_type = 'post'\n",
    "oov_tok = \"<OOV>\""
   ]
  },
  {
   "cell_type": "code",
   "execution_count": 19,
   "metadata": {},
   "outputs": [
    {
     "name": "stdout",
     "output_type": "stream",
     "text": [
      "43542\n"
     ]
    }
   ],
   "source": [
    "# Tokenizing \n",
    "tokenizer = Tokenizer(num_words=vocab_size, oov_token=oov_tok)\n",
    "tokenizer.fit_on_texts(X)\n",
    "\n",
    "print(len(tokenizer.word_index))\n",
    "\n",
    "# Text to Sequences\n",
    "training_sequences = tokenizer.texts_to_sequences(X_train)\n",
    "testing_sequences = tokenizer.texts_to_sequences(X_test)\n",
    "validating_sequences = tokenizer.texts_to_sequences(X_val)\n",
    "\n",
    "# Add padding\n",
    "training_padded = pad_sequences(training_sequences, maxlen = max_length, padding = padding_type)\n",
    "testing_padded = pad_sequences(testing_sequences, maxlen = max_length, padding = padding_type)\n",
    "validating_padded = pad_sequences(validating_sequences, maxlen = max_length, padding = padding_type)\n",
    "\n",
    "# Convert to numpy array\n",
    "training_padded = np.array(training_padded)\n",
    "training_label = np.array(y_train)\n",
    "\n",
    "testing_padded = np.array(testing_padded)\n",
    "testing_label = np.array(y_test)\n",
    "\n",
    "validating_padded = np.array(validating_padded)\n",
    "validating_label = np.array(y_val)"
   ]
  },
  {
   "attachments": {},
   "cell_type": "markdown",
   "metadata": {},
   "source": [
    "### 6.3. Build Model"
   ]
  },
  {
   "cell_type": "code",
   "execution_count": 43,
   "metadata": {},
   "outputs": [],
   "source": [
    "def DNN_Model():\n",
    "    model = Sequential()\n",
    "    model.add(Embedding(input_dim=vocab_size, output_dim=embedding_dim, input_length=max_length))\n",
    "    model.add(GlobalAveragePooling1D())\n",
    "\n",
    "    model.add(Dense(512, kernel_regularizer=keras.regularizers.l2(l=0.1)))\n",
    "    model.add(LeakyReLU(0.2))\n",
    "    model.add(Dropout(0.5))\n",
    "    model.add(BatchNormalization())\n",
    "\n",
    "    model.add(Dense(128, kernel_regularizer=keras.regularizers.l2(l=0.1)))\n",
    "    model.add(LeakyReLU(0.2))\n",
    "    model.add(Dropout(0.5))\n",
    "    model.add(BatchNormalization())\n",
    "\n",
    "\n",
    "    # model.add(Dense(2, activation='softmax'))\n",
    "    model.add(Dense(1, activation='sigmoid'))\n",
    "    return model\n",
    "\n",
    "def LSTM_Model():\n",
    "    model = Sequential()\n",
    "    model.add(Embedding(input_dim=vocab_size, output_dim=embedding_dim, input_length=max_length))\n",
    "    model.add(LSTM(32))\n",
    "    model.add(Dropout(0.5))\n",
    "    # model.add(Dense(32, activation='relu'))\n",
    "    # model.add(Dropout(0.5))\n",
    "    # model.add(Dense(16, activation='relu'))\n",
    "    model.add(Dense(2, activation='sigmoid'))\n",
    "    return model\n",
    "\n",
    "def GRU_Model():\n",
    "    model = Sequential()\n",
    "    model.add(Embedding(vocab_size, embedding_dim, input_length=max_length))\n",
    "    model.add(GRU(units=32))\n",
    "    model.add(Dense(units=1))\n",
    "    return model\n",
    "\n",
    "def CuDNNGRU_Model():\n",
    "    sequences = layers.Input(shape=(max_length,))\n",
    "    embedded = layers.Embedding(vocab_size, 64)(sequences)\n",
    "    x = layers.CuDNNGRU(128, return_sequences=True)(embedded)\n",
    "    x = layers.CuDNNGRU(128)(x)\n",
    "    x = layers.Dense(32, activation='relu')(x)\n",
    "    x = layers.Dense(100, activation='relu')(x)\n",
    "    predictions = layers.Dense(1, activation='sigmoid')(x)\n",
    "    model = models.Model(inputs=sequences, outputs=predictions)\n",
    "    return model\n",
    "    \n",
    "\n",
    "\n",
    "model = DNN_Model()\n",
    "# model = LSTM_Model()\n",
    "# model = GRU_Model()\n",
    "# model = CuDNNGRU_Model()\n",
    "# model = RNN_Model()\n",
    "\n",
    "opt = Adam(learning_rate = 0.00001)\n",
    "\n",
    "model.compile(loss='binary_crossentropy', optimizer=opt, metrics=['accuracy'])\n",
    "# model.compile(loss='binary_crossentropy', optimizer='nadam', metrics=['accuracy'])\n",
    "# model.compile(loss='binary_crossentropy', optimizer='rmsprop', metrics=['binary_accuracy'])\n",
    "# model.compile(loss='categorical_crossentropy', optimizer='adam', metrics=['categorical_accuracy'])"
   ]
  },
  {
   "attachments": {},
   "cell_type": "markdown",
   "metadata": {},
   "source": [
    "### 6.4. Training Model"
   ]
  },
  {
   "cell_type": "code",
   "execution_count": 44,
   "metadata": {},
   "outputs": [
    {
     "name": "stdout",
     "output_type": "stream",
     "text": [
      "Epoch 1/200\n",
      "35/35 [==============================] - 2s 33ms/step - loss: 88.5836 - accuracy: 0.5041 - val_loss: 87.7735 - val_accuracy: 0.4673\n",
      "Epoch 2/200\n",
      "35/35 [==============================] - 1s 27ms/step - loss: 87.3531 - accuracy: 0.5230 - val_loss: 86.5803 - val_accuracy: 0.4673\n",
      "Epoch 3/200\n",
      "35/35 [==============================] - 1s 27ms/step - loss: 86.1379 - accuracy: 0.5446 - val_loss: 85.3997 - val_accuracy: 0.4673\n",
      "Epoch 4/200\n",
      "35/35 [==============================] - 1s 27ms/step - loss: 84.9238 - accuracy: 0.5572 - val_loss: 84.2320 - val_accuracy: 0.4673\n",
      "Epoch 5/200\n",
      "35/35 [==============================] - 1s 27ms/step - loss: 83.7572 - accuracy: 0.5770 - val_loss: 83.0771 - val_accuracy: 0.4673\n",
      "Epoch 6/200\n",
      "35/35 [==============================] - 1s 27ms/step - loss: 82.5966 - accuracy: 0.5838 - val_loss: 81.9372 - val_accuracy: 0.4673\n",
      "Epoch 7/200\n",
      "35/35 [==============================] - 1s 27ms/step - loss: 81.4861 - accuracy: 0.5595 - val_loss: 80.8120 - val_accuracy: 0.4673\n",
      "Epoch 8/200\n",
      "35/35 [==============================] - 1s 28ms/step - loss: 80.3420 - accuracy: 0.5734 - val_loss: 79.7006 - val_accuracy: 0.4848\n",
      "Epoch 9/200\n",
      "35/35 [==============================] - 1s 27ms/step - loss: 79.2340 - accuracy: 0.5991 - val_loss: 78.6024 - val_accuracy: 0.5215\n",
      "Epoch 10/200\n",
      "35/35 [==============================] - 1s 28ms/step - loss: 78.1423 - accuracy: 0.6000 - val_loss: 77.5183 - val_accuracy: 0.5439\n",
      "Epoch 11/200\n",
      "35/35 [==============================] - 1s 27ms/step - loss: 77.0527 - accuracy: 0.6036 - val_loss: 76.4454 - val_accuracy: 0.5901\n",
      "Epoch 12/200\n",
      "35/35 [==============================] - 1s 27ms/step - loss: 75.9875 - accuracy: 0.6194 - val_loss: 75.3852 - val_accuracy: 0.6268\n",
      "Epoch 13/200\n",
      "35/35 [==============================] - 1s 27ms/step - loss: 74.8984 - accuracy: 0.6437 - val_loss: 74.3377 - val_accuracy: 0.6635\n",
      "Epoch 14/200\n",
      "35/35 [==============================] - 1s 26ms/step - loss: 73.8603 - accuracy: 0.6432 - val_loss: 73.3032 - val_accuracy: 0.6874\n",
      "Epoch 15/200\n",
      "35/35 [==============================] - 1s 27ms/step - loss: 72.8648 - accuracy: 0.6401 - val_loss: 72.2823 - val_accuracy: 0.6922\n",
      "Epoch 16/200\n",
      "35/35 [==============================] - 1s 28ms/step - loss: 71.8504 - accuracy: 0.6486 - val_loss: 71.2719 - val_accuracy: 0.7065\n",
      "Epoch 17/200\n",
      "35/35 [==============================] - 1s 27ms/step - loss: 70.8636 - accuracy: 0.6613 - val_loss: 70.2721 - val_accuracy: 0.7337\n",
      "Epoch 18/200\n",
      "35/35 [==============================] - 1s 26ms/step - loss: 69.8602 - accuracy: 0.6608 - val_loss: 69.2902 - val_accuracy: 0.7305\n",
      "Epoch 19/200\n",
      "35/35 [==============================] - 1s 25ms/step - loss: 68.8860 - accuracy: 0.6770 - val_loss: 68.3218 - val_accuracy: 0.7305\n",
      "Epoch 20/200\n",
      "35/35 [==============================] - 1s 27ms/step - loss: 67.9319 - accuracy: 0.6712 - val_loss: 67.3652 - val_accuracy: 0.7496\n",
      "Epoch 21/200\n",
      "35/35 [==============================] - 1s 28ms/step - loss: 66.9696 - accuracy: 0.6986 - val_loss: 66.4242 - val_accuracy: 0.7592\n",
      "Epoch 22/200\n",
      "35/35 [==============================] - 1s 27ms/step - loss: 66.0294 - accuracy: 0.7149 - val_loss: 65.4919 - val_accuracy: 0.7783\n",
      "Epoch 23/200\n",
      "35/35 [==============================] - 1s 28ms/step - loss: 65.1246 - accuracy: 0.7005 - val_loss: 64.5724 - val_accuracy: 0.7959\n",
      "Epoch 24/200\n",
      "35/35 [==============================] - 1s 27ms/step - loss: 64.2195 - accuracy: 0.7180 - val_loss: 63.6694 - val_accuracy: 0.8086\n",
      "Epoch 25/200\n",
      "35/35 [==============================] - 1s 28ms/step - loss: 63.3104 - accuracy: 0.7293 - val_loss: 62.7798 - val_accuracy: 0.8198\n",
      "Epoch 26/200\n",
      "35/35 [==============================] - 1s 27ms/step - loss: 62.4316 - accuracy: 0.7297 - val_loss: 61.9033 - val_accuracy: 0.8182\n",
      "Epoch 27/200\n",
      "35/35 [==============================] - 1s 27ms/step - loss: 61.5608 - accuracy: 0.7459 - val_loss: 61.0404 - val_accuracy: 0.8246\n",
      "Epoch 28/200\n",
      "35/35 [==============================] - 1s 27ms/step - loss: 60.6889 - accuracy: 0.7532 - val_loss: 60.1911 - val_accuracy: 0.8214\n",
      "Epoch 29/200\n",
      "35/35 [==============================] - 1s 27ms/step - loss: 59.8450 - accuracy: 0.7604 - val_loss: 59.3522 - val_accuracy: 0.8357\n",
      "Epoch 30/200\n",
      "35/35 [==============================] - 1s 28ms/step - loss: 58.9947 - accuracy: 0.7748 - val_loss: 58.5221 - val_accuracy: 0.8405\n",
      "Epoch 31/200\n",
      "35/35 [==============================] - 1s 27ms/step - loss: 58.1618 - accuracy: 0.7910 - val_loss: 57.7098 - val_accuracy: 0.8469\n",
      "Epoch 32/200\n",
      "35/35 [==============================] - 1s 27ms/step - loss: 57.3519 - accuracy: 0.8036 - val_loss: 56.9114 - val_accuracy: 0.8517\n",
      "Epoch 33/200\n",
      "35/35 [==============================] - 1s 27ms/step - loss: 56.5597 - accuracy: 0.8095 - val_loss: 56.1077 - val_accuracy: 0.8692\n",
      "Epoch 34/200\n",
      "35/35 [==============================] - 1s 27ms/step - loss: 55.7672 - accuracy: 0.8167 - val_loss: 55.3351 - val_accuracy: 0.8788\n",
      "Epoch 35/200\n",
      "35/35 [==============================] - 1s 27ms/step - loss: 54.9798 - accuracy: 0.8414 - val_loss: 54.5714 - val_accuracy: 0.8644\n",
      "Epoch 36/200\n",
      "35/35 [==============================] - 1s 27ms/step - loss: 54.2111 - accuracy: 0.8495 - val_loss: 53.8195 - val_accuracy: 0.8836\n",
      "Epoch 37/200\n",
      "35/35 [==============================] - 1s 27ms/step - loss: 53.4498 - accuracy: 0.8676 - val_loss: 53.0770 - val_accuracy: 0.8915\n",
      "Epoch 38/200\n",
      "35/35 [==============================] - 1s 27ms/step - loss: 52.7241 - accuracy: 0.8748 - val_loss: 52.3546 - val_accuracy: 0.8820\n",
      "Epoch 39/200\n",
      "35/35 [==============================] - 1s 27ms/step - loss: 51.9917 - accuracy: 0.8829 - val_loss: 51.6344 - val_accuracy: 0.8915\n",
      "Epoch 40/200\n",
      "35/35 [==============================] - 1s 27ms/step - loss: 51.2686 - accuracy: 0.8986 - val_loss: 50.9399 - val_accuracy: 0.8963\n",
      "Epoch 41/200\n",
      "35/35 [==============================] - 1s 28ms/step - loss: 50.5803 - accuracy: 0.9054 - val_loss: 50.2585 - val_accuracy: 0.9011\n",
      "Epoch 42/200\n",
      "35/35 [==============================] - 1s 27ms/step - loss: 49.8965 - accuracy: 0.9198 - val_loss: 49.5906 - val_accuracy: 0.8979\n",
      "Epoch 43/200\n",
      "35/35 [==============================] - 1s 27ms/step - loss: 49.2345 - accuracy: 0.9054 - val_loss: 48.9266 - val_accuracy: 0.9091\n",
      "Epoch 44/200\n",
      "35/35 [==============================] - 1s 27ms/step - loss: 48.5841 - accuracy: 0.9050 - val_loss: 48.2680 - val_accuracy: 0.9091\n",
      "Epoch 45/200\n",
      "35/35 [==============================] - 1s 28ms/step - loss: 47.9232 - accuracy: 0.9234 - val_loss: 47.6382 - val_accuracy: 0.9043\n",
      "Epoch 46/200\n",
      "35/35 [==============================] - 1s 27ms/step - loss: 47.2895 - accuracy: 0.9248 - val_loss: 47.0022 - val_accuracy: 0.9155\n",
      "Epoch 47/200\n",
      "35/35 [==============================] - 1s 27ms/step - loss: 46.6573 - accuracy: 0.9324 - val_loss: 46.3868 - val_accuracy: 0.9171\n",
      "Epoch 48/200\n",
      "35/35 [==============================] - 1s 27ms/step - loss: 46.0350 - accuracy: 0.9423 - val_loss: 45.7766 - val_accuracy: 0.9171\n",
      "Epoch 49/200\n",
      "35/35 [==============================] - 1s 27ms/step - loss: 45.4286 - accuracy: 0.9369 - val_loss: 45.1733 - val_accuracy: 0.9250\n",
      "Epoch 50/200\n",
      "35/35 [==============================] - 1s 27ms/step - loss: 44.8298 - accuracy: 0.9468 - val_loss: 44.5806 - val_accuracy: 0.9187\n",
      "Epoch 51/200\n",
      "35/35 [==============================] - 1s 27ms/step - loss: 44.2346 - accuracy: 0.9468 - val_loss: 43.9964 - val_accuracy: 0.9171\n",
      "Epoch 52/200\n",
      "35/35 [==============================] - 1s 27ms/step - loss: 43.6485 - accuracy: 0.9523 - val_loss: 43.4199 - val_accuracy: 0.9139\n",
      "Epoch 53/200\n",
      "35/35 [==============================] - 1s 27ms/step - loss: 43.0801 - accuracy: 0.9477 - val_loss: 42.8400 - val_accuracy: 0.9219\n",
      "Epoch 54/200\n",
      "35/35 [==============================] - 1s 27ms/step - loss: 42.5021 - accuracy: 0.9559 - val_loss: 42.2870 - val_accuracy: 0.9203\n",
      "Epoch 55/200\n",
      "35/35 [==============================] - 1s 28ms/step - loss: 41.9460 - accuracy: 0.9491 - val_loss: 41.7280 - val_accuracy: 0.9187\n",
      "Epoch 56/200\n",
      "35/35 [==============================] - 1s 27ms/step - loss: 41.3803 - accuracy: 0.9586 - val_loss: 41.1885 - val_accuracy: 0.9107\n",
      "Epoch 57/200\n",
      "35/35 [==============================] - 1s 27ms/step - loss: 40.8367 - accuracy: 0.9608 - val_loss: 40.6286 - val_accuracy: 0.9219\n",
      "Epoch 58/200\n",
      "35/35 [==============================] - 1s 27ms/step - loss: 40.2905 - accuracy: 0.9613 - val_loss: 40.1079 - val_accuracy: 0.9107\n",
      "Epoch 59/200\n",
      "35/35 [==============================] - 1s 26ms/step - loss: 39.7502 - accuracy: 0.9707 - val_loss: 39.5675 - val_accuracy: 0.9203\n",
      "Epoch 60/200\n",
      "35/35 [==============================] - 1s 27ms/step - loss: 39.2268 - accuracy: 0.9658 - val_loss: 39.0293 - val_accuracy: 0.9282\n",
      "Epoch 61/200\n",
      "35/35 [==============================] - 1s 28ms/step - loss: 38.7004 - accuracy: 0.9689 - val_loss: 38.5097 - val_accuracy: 0.9266\n",
      "Epoch 62/200\n",
      "35/35 [==============================] - 1s 27ms/step - loss: 38.1824 - accuracy: 0.9730 - val_loss: 38.0074 - val_accuracy: 0.9282\n",
      "Epoch 63/200\n",
      "35/35 [==============================] - 1s 26ms/step - loss: 37.6707 - accuracy: 0.9734 - val_loss: 37.5038 - val_accuracy: 0.9234\n",
      "Epoch 64/200\n",
      "35/35 [==============================] - 1s 28ms/step - loss: 37.1665 - accuracy: 0.9685 - val_loss: 36.9922 - val_accuracy: 0.9250\n",
      "Epoch 65/200\n",
      "35/35 [==============================] - 1s 27ms/step - loss: 36.6740 - accuracy: 0.9658 - val_loss: 36.5028 - val_accuracy: 0.9282\n",
      "Epoch 66/200\n",
      "35/35 [==============================] - 1s 27ms/step - loss: 36.1714 - accuracy: 0.9770 - val_loss: 36.0289 - val_accuracy: 0.9187\n",
      "Epoch 67/200\n",
      "35/35 [==============================] - 1s 28ms/step - loss: 35.6795 - accuracy: 0.9784 - val_loss: 35.5188 - val_accuracy: 0.9330\n",
      "Epoch 68/200\n",
      "35/35 [==============================] - 1s 27ms/step - loss: 35.2015 - accuracy: 0.9761 - val_loss: 35.0384 - val_accuracy: 0.9298\n",
      "Epoch 69/200\n",
      "35/35 [==============================] - 1s 27ms/step - loss: 34.7248 - accuracy: 0.9797 - val_loss: 34.5688 - val_accuracy: 0.9314\n",
      "Epoch 70/200\n",
      "35/35 [==============================] - 1s 28ms/step - loss: 34.2443 - accuracy: 0.9820 - val_loss: 34.1110 - val_accuracy: 0.9250\n",
      "Epoch 71/200\n",
      "35/35 [==============================] - 1s 27ms/step - loss: 33.7802 - accuracy: 0.9788 - val_loss: 33.6324 - val_accuracy: 0.9298\n",
      "Epoch 72/200\n",
      "35/35 [==============================] - 1s 27ms/step - loss: 33.3190 - accuracy: 0.9838 - val_loss: 33.1756 - val_accuracy: 0.9314\n",
      "Epoch 73/200\n",
      "35/35 [==============================] - 1s 28ms/step - loss: 32.8664 - accuracy: 0.9788 - val_loss: 32.7179 - val_accuracy: 0.9282\n",
      "Epoch 74/200\n",
      "35/35 [==============================] - 1s 26ms/step - loss: 32.4163 - accuracy: 0.9833 - val_loss: 32.2706 - val_accuracy: 0.9314\n",
      "Epoch 75/200\n",
      "35/35 [==============================] - 1s 27ms/step - loss: 31.9613 - accuracy: 0.9824 - val_loss: 31.8284 - val_accuracy: 0.9330\n",
      "Epoch 76/200\n",
      "35/35 [==============================] - 1s 27ms/step - loss: 31.5154 - accuracy: 0.9860 - val_loss: 31.3905 - val_accuracy: 0.9314\n",
      "Epoch 77/200\n",
      "35/35 [==============================] - 1s 28ms/step - loss: 31.0826 - accuracy: 0.9824 - val_loss: 30.9488 - val_accuracy: 0.9314\n",
      "Epoch 78/200\n",
      "35/35 [==============================] - 1s 27ms/step - loss: 30.6453 - accuracy: 0.9878 - val_loss: 30.5197 - val_accuracy: 0.9314\n",
      "Epoch 79/200\n",
      "35/35 [==============================] - 1s 26ms/step - loss: 30.2171 - accuracy: 0.9851 - val_loss: 30.0997 - val_accuracy: 0.9298\n",
      "Epoch 80/200\n",
      "35/35 [==============================] - 1s 28ms/step - loss: 29.7954 - accuracy: 0.9851 - val_loss: 29.6773 - val_accuracy: 0.9330\n",
      "Epoch 81/200\n",
      "35/35 [==============================] - 1s 27ms/step - loss: 29.3804 - accuracy: 0.9874 - val_loss: 29.2586 - val_accuracy: 0.9282\n",
      "Epoch 82/200\n",
      "35/35 [==============================] - 1s 27ms/step - loss: 28.9628 - accuracy: 0.9860 - val_loss: 28.8522 - val_accuracy: 0.9346\n",
      "Epoch 83/200\n",
      "35/35 [==============================] - 1s 27ms/step - loss: 28.5430 - accuracy: 0.9905 - val_loss: 28.4370 - val_accuracy: 0.9298\n",
      "Epoch 84/200\n",
      "35/35 [==============================] - 1s 27ms/step - loss: 28.1508 - accuracy: 0.9851 - val_loss: 28.0330 - val_accuracy: 0.9330\n",
      "Epoch 85/200\n",
      "35/35 [==============================] - 1s 27ms/step - loss: 27.7424 - accuracy: 0.9910 - val_loss: 27.6360 - val_accuracy: 0.9314\n",
      "Epoch 86/200\n",
      "35/35 [==============================] - 1s 28ms/step - loss: 27.3489 - accuracy: 0.9874 - val_loss: 27.2439 - val_accuracy: 0.9330\n",
      "Epoch 87/200\n",
      "35/35 [==============================] - 1s 26ms/step - loss: 26.9560 - accuracy: 0.9883 - val_loss: 26.8532 - val_accuracy: 0.9298\n",
      "Epoch 88/200\n",
      "35/35 [==============================] - 1s 27ms/step - loss: 26.5597 - accuracy: 0.9923 - val_loss: 26.4635 - val_accuracy: 0.9314\n",
      "Epoch 89/200\n",
      "35/35 [==============================] - 1s 28ms/step - loss: 26.1726 - accuracy: 0.9946 - val_loss: 26.0940 - val_accuracy: 0.9330\n",
      "Epoch 90/200\n",
      "35/35 [==============================] - 1s 27ms/step - loss: 25.7958 - accuracy: 0.9928 - val_loss: 25.7152 - val_accuracy: 0.9394\n",
      "Epoch 91/200\n",
      "35/35 [==============================] - 1s 27ms/step - loss: 25.4236 - accuracy: 0.9910 - val_loss: 25.3331 - val_accuracy: 0.9362\n",
      "Epoch 92/200\n",
      "35/35 [==============================] - 1s 27ms/step - loss: 25.0466 - accuracy: 0.9919 - val_loss: 24.9639 - val_accuracy: 0.9330\n",
      "Epoch 93/200\n",
      "35/35 [==============================] - 1s 27ms/step - loss: 24.6797 - accuracy: 0.9928 - val_loss: 24.5962 - val_accuracy: 0.9330\n",
      "Epoch 94/200\n",
      "35/35 [==============================] - 1s 27ms/step - loss: 24.3229 - accuracy: 0.9874 - val_loss: 24.2338 - val_accuracy: 0.9298\n",
      "Epoch 95/200\n",
      "35/35 [==============================] - 1s 27ms/step - loss: 23.9560 - accuracy: 0.9937 - val_loss: 23.8768 - val_accuracy: 0.9378\n",
      "Epoch 96/200\n",
      "35/35 [==============================] - 1s 27ms/step - loss: 23.5921 - accuracy: 0.9950 - val_loss: 23.5309 - val_accuracy: 0.9346\n",
      "Epoch 97/200\n",
      "35/35 [==============================] - 1s 27ms/step - loss: 23.2484 - accuracy: 0.9937 - val_loss: 23.1721 - val_accuracy: 0.9346\n",
      "Epoch 98/200\n",
      "35/35 [==============================] - 1s 27ms/step - loss: 22.8996 - accuracy: 0.9910 - val_loss: 22.8273 - val_accuracy: 0.9314\n",
      "Epoch 99/200\n",
      "35/35 [==============================] - 1s 27ms/step - loss: 22.5578 - accuracy: 0.9928 - val_loss: 22.4887 - val_accuracy: 0.9346\n",
      "Epoch 100/200\n",
      "35/35 [==============================] - 1s 27ms/step - loss: 22.2124 - accuracy: 0.9937 - val_loss: 22.1477 - val_accuracy: 0.9362\n",
      "Epoch 101/200\n",
      "35/35 [==============================] - 1s 27ms/step - loss: 21.8772 - accuracy: 0.9941 - val_loss: 21.8128 - val_accuracy: 0.9314\n",
      "Epoch 102/200\n",
      "35/35 [==============================] - 1s 28ms/step - loss: 21.5431 - accuracy: 0.9964 - val_loss: 21.4809 - val_accuracy: 0.9330\n",
      "Epoch 103/200\n",
      "35/35 [==============================] - 1s 27ms/step - loss: 21.2125 - accuracy: 0.9955 - val_loss: 21.1530 - val_accuracy: 0.9330\n",
      "Epoch 104/200\n",
      "35/35 [==============================] - 1s 27ms/step - loss: 20.8898 - accuracy: 0.9950 - val_loss: 20.8290 - val_accuracy: 0.9330\n",
      "Epoch 105/200\n",
      "35/35 [==============================] - 1s 27ms/step - loss: 20.5627 - accuracy: 0.9955 - val_loss: 20.5216 - val_accuracy: 0.9394\n",
      "Epoch 106/200\n",
      "35/35 [==============================] - 1s 27ms/step - loss: 20.2426 - accuracy: 0.9964 - val_loss: 20.1927 - val_accuracy: 0.9330\n",
      "Epoch 107/200\n",
      "35/35 [==============================] - 1s 27ms/step - loss: 19.9303 - accuracy: 0.9964 - val_loss: 19.8814 - val_accuracy: 0.9330\n",
      "Epoch 108/200\n",
      "35/35 [==============================] - 1s 28ms/step - loss: 19.6196 - accuracy: 0.9964 - val_loss: 19.5734 - val_accuracy: 0.9362\n",
      "Epoch 109/200\n",
      "35/35 [==============================] - 1s 27ms/step - loss: 19.3179 - accuracy: 0.9950 - val_loss: 19.2678 - val_accuracy: 0.9314\n",
      "Epoch 110/200\n",
      "35/35 [==============================] - 1s 28ms/step - loss: 19.0075 - accuracy: 0.9982 - val_loss: 18.9628 - val_accuracy: 0.9346\n",
      "Epoch 111/200\n",
      "35/35 [==============================] - 1s 27ms/step - loss: 18.7061 - accuracy: 0.9973 - val_loss: 18.6708 - val_accuracy: 0.9346\n",
      "Epoch 112/200\n",
      "35/35 [==============================] - 1s 27ms/step - loss: 18.4087 - accuracy: 0.9968 - val_loss: 18.3744 - val_accuracy: 0.9330\n",
      "Epoch 113/200\n",
      "35/35 [==============================] - 1s 28ms/step - loss: 18.1151 - accuracy: 0.9986 - val_loss: 18.0811 - val_accuracy: 0.9314\n",
      "Epoch 114/200\n",
      "35/35 [==============================] - 1s 27ms/step - loss: 17.8269 - accuracy: 0.9955 - val_loss: 17.7959 - val_accuracy: 0.9378\n",
      "Epoch 115/200\n",
      "35/35 [==============================] - 1s 27ms/step - loss: 17.5390 - accuracy: 0.9964 - val_loss: 17.5051 - val_accuracy: 0.9346\n",
      "Epoch 116/200\n",
      "35/35 [==============================] - 1s 27ms/step - loss: 17.2589 - accuracy: 0.9977 - val_loss: 17.2249 - val_accuracy: 0.9330\n",
      "Epoch 117/200\n",
      "35/35 [==============================] - 1s 26ms/step - loss: 16.9765 - accuracy: 0.9950 - val_loss: 16.9515 - val_accuracy: 0.9346\n",
      "Epoch 118/200\n",
      "35/35 [==============================] - 1s 26ms/step - loss: 16.7053 - accuracy: 0.9964 - val_loss: 16.6779 - val_accuracy: 0.9346\n",
      "Epoch 119/200\n",
      "35/35 [==============================] - 1s 29ms/step - loss: 16.4289 - accuracy: 0.9968 - val_loss: 16.4030 - val_accuracy: 0.9330\n",
      "Epoch 120/200\n",
      "35/35 [==============================] - 1s 27ms/step - loss: 16.1579 - accuracy: 0.9959 - val_loss: 16.1351 - val_accuracy: 0.9330\n",
      "Epoch 121/200\n",
      "35/35 [==============================] - 1s 28ms/step - loss: 15.8936 - accuracy: 0.9964 - val_loss: 15.8741 - val_accuracy: 0.9362\n",
      "Epoch 122/200\n",
      "35/35 [==============================] - 1s 28ms/step - loss: 15.6314 - accuracy: 0.9946 - val_loss: 15.6181 - val_accuracy: 0.9362\n",
      "Epoch 123/200\n",
      "35/35 [==============================] - 1s 26ms/step - loss: 15.3671 - accuracy: 0.9986 - val_loss: 15.3567 - val_accuracy: 0.9330\n",
      "Epoch 124/200\n",
      "35/35 [==============================] - 1s 27ms/step - loss: 15.1131 - accuracy: 0.9968 - val_loss: 15.1008 - val_accuracy: 0.9346\n",
      "Epoch 125/200\n",
      "35/35 [==============================] - 1s 27ms/step - loss: 14.8613 - accuracy: 0.9982 - val_loss: 14.8474 - val_accuracy: 0.9330\n",
      "Epoch 126/200\n",
      "35/35 [==============================] - 1s 27ms/step - loss: 14.6144 - accuracy: 0.9964 - val_loss: 14.5999 - val_accuracy: 0.9346\n",
      "Epoch 127/200\n",
      "35/35 [==============================] - 1s 26ms/step - loss: 14.3706 - accuracy: 0.9968 - val_loss: 14.3566 - val_accuracy: 0.9330\n",
      "Epoch 128/200\n",
      "35/35 [==============================] - 1s 27ms/step - loss: 14.1251 - accuracy: 0.9959 - val_loss: 14.1231 - val_accuracy: 0.9378\n",
      "Epoch 129/200\n",
      "35/35 [==============================] - 1s 28ms/step - loss: 13.8829 - accuracy: 0.9977 - val_loss: 13.8779 - val_accuracy: 0.9362\n",
      "Epoch 130/200\n",
      "35/35 [==============================] - 1s 27ms/step - loss: 13.6427 - accuracy: 0.9982 - val_loss: 13.6478 - val_accuracy: 0.9362\n",
      "Epoch 131/200\n",
      "35/35 [==============================] - 1s 28ms/step - loss: 13.4119 - accuracy: 0.9982 - val_loss: 13.4141 - val_accuracy: 0.9362\n",
      "Epoch 132/200\n",
      "35/35 [==============================] - 1s 27ms/step - loss: 13.1811 - accuracy: 0.9986 - val_loss: 13.1823 - val_accuracy: 0.9330\n",
      "Epoch 133/200\n",
      "35/35 [==============================] - 1s 27ms/step - loss: 12.9531 - accuracy: 0.9982 - val_loss: 12.9613 - val_accuracy: 0.9378\n",
      "Epoch 134/200\n",
      "35/35 [==============================] - 1s 28ms/step - loss: 12.7315 - accuracy: 0.9977 - val_loss: 12.7453 - val_accuracy: 0.9346\n",
      "Epoch 135/200\n",
      "35/35 [==============================] - 1s 27ms/step - loss: 12.5102 - accuracy: 0.9986 - val_loss: 12.5157 - val_accuracy: 0.9346\n",
      "Epoch 136/200\n",
      "35/35 [==============================] - 1s 26ms/step - loss: 12.2943 - accuracy: 0.9977 - val_loss: 12.3100 - val_accuracy: 0.9346\n",
      "Epoch 137/200\n",
      "35/35 [==============================] - 1s 27ms/step - loss: 12.0791 - accuracy: 0.9991 - val_loss: 12.0861 - val_accuracy: 0.9330\n",
      "Epoch 138/200\n",
      "35/35 [==============================] - 1s 26ms/step - loss: 11.8603 - accuracy: 1.0000 - val_loss: 11.8786 - val_accuracy: 0.9394\n",
      "Epoch 139/200\n",
      "35/35 [==============================] - 1s 27ms/step - loss: 11.6529 - accuracy: 0.9982 - val_loss: 11.6677 - val_accuracy: 0.9346\n",
      "Epoch 140/200\n",
      "35/35 [==============================] - 1s 27ms/step - loss: 11.4474 - accuracy: 0.9968 - val_loss: 11.4642 - val_accuracy: 0.9378\n",
      "Epoch 141/200\n",
      "35/35 [==============================] - 1s 26ms/step - loss: 11.2451 - accuracy: 0.9986 - val_loss: 11.2815 - val_accuracy: 0.9250\n",
      "Epoch 142/200\n",
      "35/35 [==============================] - 1s 26ms/step - loss: 11.0453 - accuracy: 0.9986 - val_loss: 11.0619 - val_accuracy: 0.9330\n",
      "Epoch 143/200\n",
      "35/35 [==============================] - 1s 27ms/step - loss: 10.8423 - accuracy: 0.9991 - val_loss: 10.8691 - val_accuracy: 0.9394\n",
      "Epoch 144/200\n",
      "35/35 [==============================] - 1s 28ms/step - loss: 10.6492 - accuracy: 0.9986 - val_loss: 10.6722 - val_accuracy: 0.9330\n",
      "Epoch 145/200\n",
      "35/35 [==============================] - 1s 27ms/step - loss: 10.4570 - accuracy: 0.9982 - val_loss: 10.4853 - val_accuracy: 0.9346\n",
      "Epoch 146/200\n",
      "35/35 [==============================] - 1s 28ms/step - loss: 10.2687 - accuracy: 0.9986 - val_loss: 10.2932 - val_accuracy: 0.9362\n",
      "Epoch 147/200\n",
      "35/35 [==============================] - 1s 27ms/step - loss: 10.0818 - accuracy: 0.9986 - val_loss: 10.1097 - val_accuracy: 0.9362\n",
      "Epoch 148/200\n",
      "35/35 [==============================] - 1s 27ms/step - loss: 9.9012 - accuracy: 0.9968 - val_loss: 9.9285 - val_accuracy: 0.9330\n",
      "Epoch 149/200\n",
      "35/35 [==============================] - 1s 27ms/step - loss: 9.7152 - accuracy: 0.9995 - val_loss: 9.7579 - val_accuracy: 0.9314\n",
      "Epoch 150/200\n",
      "35/35 [==============================] - 1s 26ms/step - loss: 9.5366 - accuracy: 0.9986 - val_loss: 9.5689 - val_accuracy: 0.9330\n",
      "Epoch 151/200\n",
      "35/35 [==============================] - 1s 27ms/step - loss: 9.3625 - accuracy: 0.9977 - val_loss: 9.4026 - val_accuracy: 0.9330\n",
      "Epoch 152/200\n",
      "35/35 [==============================] - 1s 27ms/step - loss: 9.1848 - accuracy: 0.9991 - val_loss: 9.2231 - val_accuracy: 0.9346\n",
      "Epoch 153/200\n",
      "35/35 [==============================] - 1s 27ms/step - loss: 9.0173 - accuracy: 0.9991 - val_loss: 9.0538 - val_accuracy: 0.9330\n",
      "Epoch 154/200\n",
      "35/35 [==============================] - 1s 27ms/step - loss: 8.8498 - accuracy: 0.9977 - val_loss: 8.8894 - val_accuracy: 0.9362\n",
      "Epoch 155/200\n",
      "35/35 [==============================] - 1s 27ms/step - loss: 8.6830 - accuracy: 0.9986 - val_loss: 8.7237 - val_accuracy: 0.9346\n",
      "Epoch 156/200\n",
      "35/35 [==============================] - 1s 27ms/step - loss: 8.5243 - accuracy: 0.9982 - val_loss: 8.5669 - val_accuracy: 0.9378\n",
      "Epoch 157/200\n",
      "35/35 [==============================] - 1s 27ms/step - loss: 8.3638 - accuracy: 0.9973 - val_loss: 8.4054 - val_accuracy: 0.9346\n",
      "Epoch 158/200\n",
      "35/35 [==============================] - 1s 27ms/step - loss: 8.2025 - accuracy: 0.9991 - val_loss: 8.2483 - val_accuracy: 0.9362\n",
      "Epoch 159/200\n",
      "35/35 [==============================] - 1s 28ms/step - loss: 8.0479 - accuracy: 0.9982 - val_loss: 8.1016 - val_accuracy: 0.9330\n",
      "Epoch 160/200\n",
      "35/35 [==============================] - 1s 27ms/step - loss: 7.8940 - accuracy: 0.9995 - val_loss: 7.9429 - val_accuracy: 0.9362\n",
      "Epoch 161/200\n",
      "35/35 [==============================] - 1s 27ms/step - loss: 7.7480 - accuracy: 0.9968 - val_loss: 7.7934 - val_accuracy: 0.9362\n",
      "Epoch 162/200\n",
      "35/35 [==============================] - 1s 27ms/step - loss: 7.6001 - accuracy: 0.9968 - val_loss: 7.6458 - val_accuracy: 0.9330\n",
      "Epoch 163/200\n",
      "35/35 [==============================] - 1s 27ms/step - loss: 7.4526 - accuracy: 0.9986 - val_loss: 7.5080 - val_accuracy: 0.9346\n",
      "Epoch 164/200\n",
      "35/35 [==============================] - 1s 27ms/step - loss: 7.3065 - accuracy: 0.9991 - val_loss: 7.3623 - val_accuracy: 0.9394\n",
      "Epoch 165/200\n",
      "35/35 [==============================] - 1s 28ms/step - loss: 7.1686 - accuracy: 0.9982 - val_loss: 7.2203 - val_accuracy: 0.9346\n",
      "Epoch 166/200\n",
      "35/35 [==============================] - 1s 27ms/step - loss: 7.0289 - accuracy: 0.9991 - val_loss: 7.0878 - val_accuracy: 0.9362\n",
      "Epoch 167/200\n",
      "35/35 [==============================] - 1s 26ms/step - loss: 6.8904 - accuracy: 1.0000 - val_loss: 6.9505 - val_accuracy: 0.9330\n",
      "Epoch 168/200\n",
      "35/35 [==============================] - 1s 28ms/step - loss: 6.7602 - accuracy: 0.9982 - val_loss: 6.8213 - val_accuracy: 0.9362\n",
      "Epoch 169/200\n",
      "35/35 [==============================] - 1s 27ms/step - loss: 6.6318 - accuracy: 0.9977 - val_loss: 6.6844 - val_accuracy: 0.9362\n",
      "Epoch 170/200\n",
      "35/35 [==============================] - 1s 27ms/step - loss: 6.4961 - accuracy: 0.9977 - val_loss: 6.5657 - val_accuracy: 0.9330\n",
      "Epoch 171/200\n",
      "35/35 [==============================] - 1s 28ms/step - loss: 6.3735 - accuracy: 0.9991 - val_loss: 6.4317 - val_accuracy: 0.9362\n",
      "Epoch 172/200\n",
      "35/35 [==============================] - 1s 27ms/step - loss: 6.2449 - accuracy: 0.9986 - val_loss: 6.3074 - val_accuracy: 0.9346\n",
      "Epoch 173/200\n",
      "35/35 [==============================] - 1s 27ms/step - loss: 6.1219 - accuracy: 0.9991 - val_loss: 6.1860 - val_accuracy: 0.9394\n",
      "Epoch 174/200\n",
      "35/35 [==============================] - 1s 28ms/step - loss: 5.9999 - accuracy: 0.9995 - val_loss: 6.0652 - val_accuracy: 0.9330\n",
      "Epoch 175/200\n",
      "35/35 [==============================] - 1s 27ms/step - loss: 5.8798 - accuracy: 0.9991 - val_loss: 5.9518 - val_accuracy: 0.9330\n",
      "Epoch 176/200\n",
      "35/35 [==============================] - 1s 27ms/step - loss: 5.7643 - accuracy: 0.9986 - val_loss: 5.8409 - val_accuracy: 0.9330\n",
      "Epoch 177/200\n",
      "35/35 [==============================] - 1s 28ms/step - loss: 5.6520 - accuracy: 0.9986 - val_loss: 5.7179 - val_accuracy: 0.9362\n",
      "Epoch 178/200\n",
      "35/35 [==============================] - 1s 27ms/step - loss: 5.5365 - accuracy: 0.9982 - val_loss: 5.6057 - val_accuracy: 0.9346\n",
      "Epoch 179/200\n",
      "35/35 [==============================] - 1s 27ms/step - loss: 5.4228 - accuracy: 1.0000 - val_loss: 5.5035 - val_accuracy: 0.9330\n",
      "Epoch 180/200\n",
      "35/35 [==============================] - 1s 28ms/step - loss: 5.3171 - accuracy: 0.9991 - val_loss: 5.3887 - val_accuracy: 0.9362\n",
      "Epoch 181/200\n",
      "35/35 [==============================] - 1s 27ms/step - loss: 5.2098 - accuracy: 0.9995 - val_loss: 5.2869 - val_accuracy: 0.9346\n",
      "Epoch 182/200\n",
      "35/35 [==============================] - 1s 28ms/step - loss: 5.1051 - accuracy: 0.9991 - val_loss: 5.1894 - val_accuracy: 0.9346\n",
      "Epoch 183/200\n",
      "35/35 [==============================] - 1s 28ms/step - loss: 5.0034 - accuracy: 0.9982 - val_loss: 5.0772 - val_accuracy: 0.9346\n",
      "Epoch 184/200\n",
      "35/35 [==============================] - 1s 28ms/step - loss: 4.8976 - accuracy: 1.0000 - val_loss: 4.9761 - val_accuracy: 0.9346\n",
      "Epoch 185/200\n",
      "35/35 [==============================] - 1s 27ms/step - loss: 4.7986 - accuracy: 0.9991 - val_loss: 4.8772 - val_accuracy: 0.9346\n",
      "Epoch 186/200\n",
      "35/35 [==============================] - 1s 28ms/step - loss: 4.7030 - accuracy: 0.9991 - val_loss: 4.7817 - val_accuracy: 0.9362\n",
      "Epoch 187/200\n",
      "35/35 [==============================] - 1s 27ms/step - loss: 4.6060 - accuracy: 0.9995 - val_loss: 4.6894 - val_accuracy: 0.9346\n",
      "Epoch 188/200\n",
      "35/35 [==============================] - 1s 27ms/step - loss: 4.5101 - accuracy: 1.0000 - val_loss: 4.5913 - val_accuracy: 0.9330\n",
      "Epoch 189/200\n",
      "35/35 [==============================] - 1s 27ms/step - loss: 4.4192 - accuracy: 0.9991 - val_loss: 4.5002 - val_accuracy: 0.9362\n",
      "Epoch 190/200\n",
      "35/35 [==============================] - 1s 27ms/step - loss: 4.3305 - accuracy: 0.9986 - val_loss: 4.4090 - val_accuracy: 0.9346\n",
      "Epoch 191/200\n",
      "35/35 [==============================] - 1s 27ms/step - loss: 4.2385 - accuracy: 0.9991 - val_loss: 4.3218 - val_accuracy: 0.9346\n",
      "Epoch 192/200\n",
      "35/35 [==============================] - 1s 28ms/step - loss: 4.1500 - accuracy: 0.9991 - val_loss: 4.2349 - val_accuracy: 0.9330\n",
      "Epoch 193/200\n",
      "35/35 [==============================] - 1s 27ms/step - loss: 4.0630 - accuracy: 0.9995 - val_loss: 4.1503 - val_accuracy: 0.9346\n",
      "Epoch 194/200\n",
      "35/35 [==============================] - 1s 27ms/step - loss: 3.9798 - accuracy: 0.9995 - val_loss: 4.0662 - val_accuracy: 0.9330\n",
      "Epoch 195/200\n",
      "35/35 [==============================] - 1s 27ms/step - loss: 3.8976 - accuracy: 0.9991 - val_loss: 3.9849 - val_accuracy: 0.9330\n",
      "Epoch 196/200\n",
      "35/35 [==============================] - 1s 27ms/step - loss: 3.8151 - accuracy: 1.0000 - val_loss: 3.9038 - val_accuracy: 0.9346\n",
      "Epoch 197/200\n",
      "35/35 [==============================] - 1s 27ms/step - loss: 3.7382 - accuracy: 0.9986 - val_loss: 3.8265 - val_accuracy: 0.9362\n",
      "Epoch 198/200\n",
      "35/35 [==============================] - 1s 27ms/step - loss: 3.6590 - accuracy: 0.9995 - val_loss: 3.7638 - val_accuracy: 0.9266\n",
      "Epoch 199/200\n",
      "35/35 [==============================] - 1s 27ms/step - loss: 3.5773 - accuracy: 1.0000 - val_loss: 3.6736 - val_accuracy: 0.9362\n",
      "Epoch 200/200\n",
      "35/35 [==============================] - 1s 27ms/step - loss: 3.5084 - accuracy: 0.9991 - val_loss: 3.6016 - val_accuracy: 0.9346\n"
     ]
    }
   ],
   "source": [
    "num_epoch = 200\n",
    "batch_size = 64\n",
    "history = model.fit(training_padded, training_label, \n",
    "                    batch_size = batch_size, epochs=num_epoch, \n",
    "                    validation_data = (testing_padded, testing_label))"
   ]
  },
  {
   "attachments": {},
   "cell_type": "markdown",
   "metadata": {},
   "source": [
    "### 6.5. Displays Accuracy and Loss"
   ]
  },
  {
   "cell_type": "code",
   "execution_count": 45,
   "metadata": {},
   "outputs": [
    {
     "data": {
      "image/png": "[encoded data removed]",
      "text/plain": [
       "<Figure size 2500x400 with 2 Axes>"
      ]
     },
     "metadata": {},
     "output_type": "display_data"
    }
   ],
   "source": [
    "fig, ax = plt.subplots(nrows=1, ncols=2,figsize=(25, 4))\n",
    "ax[0].plot(history.history['accuracy'])\n",
    "ax[0].plot(history.history['val_accuracy'])\n",
    "ax[0].set_title('Accuracy')\n",
    "ax[0].set_xlabel('Accuracy')\n",
    "ax[0].set_ylabel('Epoch')\n",
    "\n",
    "ax[1].plot(history.history['loss'])\n",
    "ax[1].plot(history.history['val_loss'])\n",
    "ax[1].set_title('Loss')\n",
    "ax[1].set_xlabel('Loss')\n",
    "ax[1].set_ylabel('Epoch')\n",
    "\n",
    "plt.legend(['Train', 'Test'])\n",
    "plt.show()"
   ]
  },
  {
   "attachments": {},
   "cell_type": "markdown",
   "metadata": {},
   "source": [
    "### 6.6.Confusion Matrix Neural Network Model"
   ]
  },
  {
   "cell_type": "code",
   "execution_count": 114,
   "metadata": {},
   "outputs": [
    {
     "data": {
      "image/png": "[encoded data removed]",
      "text/plain": [
       "<Figure size 640x480 with 2 Axes>"
      ]
     },
     "metadata": {},
     "output_type": "display_data"
    }
   ],
   "source": [
    "labels = ['Fake', 'Real']\n",
    "\n",
    "# Build confusion matrix\n",
    "con_mat = confusion_matrix(y_test,y_pred)\n",
    "\n",
    "# Compute the percentages for the confusion matrix\n",
    "cm_percent = con_mat.astype('float') / con_mat.sum(axis=1)[:, np.newaxis]\n",
    "\n",
    "# Create the heatmap using Seaborn\n",
    "sns.heatmap(cm_percent, annot=True, fmt='.2%', cmap='Blues', xticklabels=labels, yticklabels=labels)\n",
    "\n",
    "# Add labels to the plot\n",
    "plt.xlabel('Predicted Labels')\n",
    "plt.ylabel('True Labels')\n",
    "plt.title('Confusion Matrix - Fake News Detection')\n",
    "plt.show()"
   ]
  }
 ],
 "metadata": {
  "kernelspec": {
   "display_name": "gan",
   "language": "python",
   "name": "python3"
  },
  "language_info": {
   "codemirror_mode": {
    "name": "ipython",
    "version": 3
   },
   "file_extension": ".py",
   "mimetype": "text/x-python",
   "name": "python",
   "nbconvert_exporter": "python",
   "pygments_lexer": "ipython3",
   "version": "3.9.16"
  },
  "orig_nbformat": 4
 },
 "nbformat": 4,
 "nbformat_minor": 2
}
