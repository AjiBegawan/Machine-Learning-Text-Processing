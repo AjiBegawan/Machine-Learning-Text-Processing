{
 "cells": [
  {
   "attachments": {},
   "cell_type": "markdown",
   "metadata": {},
   "source": [
    "# 1. Import Libraries"
   ]
  },
  {
   "cell_type": "code",
   "execution_count": 1,
   "metadata": {},
   "outputs": [],
   "source": [
    "import tensorflow as tf\n",
    "gpu = tf.config.experimental.list_physical_devices('GPU')\n",
    "tf.config.experimental.set_memory_growth(gpu[0], True)"
   ]
  },
  {
   "cell_type": "code",
   "execution_count": 2,
   "metadata": {},
   "outputs": [
    {
     "name": "stderr",
     "output_type": "stream",
     "text": [
      "[nltk_data] Downloading package punkt to\n",
      "[nltk_data]     C:\\Users\\indiz\\AppData\\Roaming\\nltk_data...\n",
      "[nltk_data]   Package punkt is already up-to-date!\n",
      "[nltk_data] Downloading package stopwords to\n",
      "[nltk_data]     C:\\Users\\indiz\\AppData\\Roaming\\nltk_data...\n",
      "[nltk_data]   Package stopwords is already up-to-date!\n",
      "[nltk_data] Downloading package wordnet to\n",
      "[nltk_data]     C:\\Users\\indiz\\AppData\\Roaming\\nltk_data...\n",
      "[nltk_data]   Package wordnet is already up-to-date!\n"
     ]
    }
   ],
   "source": [
    "import re\n",
    "import math\n",
    "import string\n",
    "import numpy as np\n",
    "import pandas as pd\n",
    "import seaborn as sns\n",
    "import matplotlib.pyplot as plt\n",
    "\n",
    "from collections import Counter\n",
    "from keras.utils import to_categorical\n",
    "from imblearn.under_sampling import RandomUnderSampler\n",
    "from tqdm.notebook import tqdm\n",
    "tqdm.pandas()\n",
    "\n",
    "from tensorflow import keras\n",
    "from tensorflow.keras.optimizers import Adam\n",
    "from tensorflow.keras.models import Sequential\n",
    "from tensorflow.keras.layers import Dense, Flatten, Conv1D, MaxPooling1D, LSTM, GRU, Embedding,\\\n",
    "    BatchNormalization, LeakyReLU, Dropout, ReLU, Bidirectional \n",
    "\n",
    "from sklearn.model_selection import train_test_split\n",
    "from sklearn.feature_extraction.text import CountVectorizer, TfidfVectorizer\n",
    "from sklearn.preprocessing import  MinMaxScaler, PowerTransformer, LabelEncoder\n",
    "from sklearn.metrics import accuracy_score, confusion_matrix, roc_auc_score, \\\n",
    "mean_squared_error, r2_score, mean_absolute_error, classification_report \n",
    "\n",
    "from sklearn.tree import DecisionTreeClassifier\n",
    "from sklearn.neighbors import KNeighborsClassifier\n",
    "from sklearn.linear_model import LinearRegression, PassiveAggressiveClassifier\n",
    "from sklearn.ensemble import (\n",
    "    GradientBoostingClassifier, \n",
    "    AdaBoostClassifier, \n",
    "    RandomForestClassifier,\n",
    "    BaggingClassifier,\n",
    "    ExtraTreesClassifier,\n",
    "    RandomForestClassifier,\n",
    "    StackingClassifier,\n",
    "    HistGradientBoostingClassifier\n",
    ")\n",
    "from xgboost import XGBClassifier\n",
    "\n",
    "from tensorflow.keras.preprocessing.text import Tokenizer\n",
    "from tensorflow.keras.preprocessing.sequence import pad_sequences\n",
    "\n",
    "import nltk\n",
    "nltk.download('punkt')\n",
    "nltk.download('stopwords')\n",
    "nltk.download('wordnet')\n",
    "from nltk.corpus import stopwords\n",
    "from nltk.stem.snowball import SnowballStemmer\n",
    "from nltk.stem.wordnet import WordNetLemmatizer\n",
    "\n",
    "from faker import Faker\n"
   ]
  },
  {
   "attachments": {},
   "cell_type": "markdown",
   "metadata": {},
   "source": [
    "# 2. Load Data"
   ]
  },
  {
   "cell_type": "code",
   "execution_count": 11,
   "metadata": {},
   "outputs": [
    {
     "data": {
      "text/html": [
       "<div>\n",
       "<style scoped>\n",
       "    .dataframe tbody tr th:only-of-type {\n",
       "        vertical-align: middle;\n",
       "    }\n",
       "\n",
       "    .dataframe tbody tr th {\n",
       "        vertical-align: top;\n",
       "    }\n",
       "\n",
       "    .dataframe thead th {\n",
       "        text-align: right;\n",
       "    }\n",
       "</style>\n",
       "<table border=\"1\" class=\"dataframe\">\n",
       "  <thead>\n",
       "    <tr style=\"text-align: right;\">\n",
       "      <th></th>\n",
       "      <th>label</th>\n",
       "      <th>text</th>\n",
       "    </tr>\n",
       "  </thead>\n",
       "  <tbody>\n",
       "    <tr>\n",
       "      <th>0</th>\n",
       "      <td>ham</td>\n",
       "      <td>Go until jurong point, crazy.. Available only ...</td>\n",
       "    </tr>\n",
       "    <tr>\n",
       "      <th>1</th>\n",
       "      <td>ham</td>\n",
       "      <td>Ok lar... Joking wif u oni...</td>\n",
       "    </tr>\n",
       "    <tr>\n",
       "      <th>2</th>\n",
       "      <td>spam</td>\n",
       "      <td>Free entry in 2 a wkly comp to win FA Cup fina...</td>\n",
       "    </tr>\n",
       "    <tr>\n",
       "      <th>3</th>\n",
       "      <td>ham</td>\n",
       "      <td>U dun say so early hor... U c already then say...</td>\n",
       "    </tr>\n",
       "    <tr>\n",
       "      <th>4</th>\n",
       "      <td>ham</td>\n",
       "      <td>Nah I don't think he goes to usf, he lives aro...</td>\n",
       "    </tr>\n",
       "    <tr>\n",
       "      <th>...</th>\n",
       "      <td>...</td>\n",
       "      <td>...</td>\n",
       "    </tr>\n",
       "    <tr>\n",
       "      <th>5567</th>\n",
       "      <td>spam</td>\n",
       "      <td>This is the 2nd time we have tried 2 contact u...</td>\n",
       "    </tr>\n",
       "    <tr>\n",
       "      <th>5568</th>\n",
       "      <td>ham</td>\n",
       "      <td>Will Ì_ b going to esplanade fr home?</td>\n",
       "    </tr>\n",
       "    <tr>\n",
       "      <th>5569</th>\n",
       "      <td>ham</td>\n",
       "      <td>Pity, * was in mood for that. So...any other s...</td>\n",
       "    </tr>\n",
       "    <tr>\n",
       "      <th>5570</th>\n",
       "      <td>ham</td>\n",
       "      <td>The guy did some bitching but I acted like i'd...</td>\n",
       "    </tr>\n",
       "    <tr>\n",
       "      <th>5571</th>\n",
       "      <td>ham</td>\n",
       "      <td>Rofl. Its true to its name</td>\n",
       "    </tr>\n",
       "  </tbody>\n",
       "</table>\n",
       "<p>5572 rows × 2 columns</p>\n",
       "</div>"
      ],
      "text/plain": [
       "     label                                               text\n",
       "0      ham  Go until jurong point, crazy.. Available only ...\n",
       "1      ham                      Ok lar... Joking wif u oni...\n",
       "2     spam  Free entry in 2 a wkly comp to win FA Cup fina...\n",
       "3      ham  U dun say so early hor... U c already then say...\n",
       "4      ham  Nah I don't think he goes to usf, he lives aro...\n",
       "...    ...                                                ...\n",
       "5567  spam  This is the 2nd time we have tried 2 contact u...\n",
       "5568   ham              Will Ì_ b going to esplanade fr home?\n",
       "5569   ham  Pity, * was in mood for that. So...any other s...\n",
       "5570   ham  The guy did some bitching but I acted like i'd...\n",
       "5571   ham                         Rofl. Its true to its name\n",
       "\n",
       "[5572 rows x 2 columns]"
      ]
     },
     "execution_count": 11,
     "metadata": {},
     "output_type": "execute_result"
    }
   ],
   "source": [
    "data = pd.read_csv('../Dataset/spam.csv',encoding='latin-1')\n",
    "data = data.drop([\"Unnamed: 2\", \"Unnamed: 3\", \"Unnamed: 4\"], axis=1)\n",
    "data = data.rename(columns={\"v1\":\"label\", \"v2\":\"text\"})\n",
    "data"
   ]
  },
  {
   "attachments": {},
   "cell_type": "markdown",
   "metadata": {},
   "source": [
    "# 3. Initial Analysis"
   ]
  },
  {
   "attachments": {},
   "cell_type": "markdown",
   "metadata": {},
   "source": [
    "### 3.1. Metadata"
   ]
  },
  {
   "cell_type": "code",
   "execution_count": 7,
   "metadata": {},
   "outputs": [
    {
     "name": "stdout",
     "output_type": "stream",
     "text": [
      "<class 'pandas.core.frame.DataFrame'>\n",
      "RangeIndex: 5572 entries, 0 to 5571\n",
      "Data columns (total 2 columns):\n",
      " #   Column  Non-Null Count  Dtype \n",
      "---  ------  --------------  ----- \n",
      " 0   label   5572 non-null   object\n",
      " 1   sms     5572 non-null   object\n",
      "dtypes: object(2)\n",
      "memory usage: 87.2+ KB\n"
     ]
    }
   ],
   "source": [
    "data.info()"
   ]
  },
  {
   "cell_type": "code",
   "execution_count": 8,
   "metadata": {},
   "outputs": [
    {
     "data": {
      "text/plain": [
       "label    0\n",
       "sms      0\n",
       "dtype: int64"
      ]
     },
     "execution_count": 8,
     "metadata": {},
     "output_type": "execute_result"
    }
   ],
   "source": [
    "data.isnull().sum()"
   ]
  },
  {
   "cell_type": "code",
   "execution_count": 9,
   "metadata": {},
   "outputs": [
    {
     "data": {
      "image/png": "[encoded data removed]",
      "text/plain": [
       "<Figure size 2500x500 with 1 Axes>"
      ]
     },
     "metadata": {},
     "output_type": "display_data"
    }
   ],
   "source": [
    "plt.subplots(figsize = (25,5))\n",
    "ax = sns.countplot(data, y = data['label'])\n",
    "ax.bar_label(ax.containers[0])\n",
    "plt.show()"
   ]
  },
  {
   "attachments": {},
   "cell_type": "markdown",
   "metadata": {},
   "source": [
    "### 3.2. Processing Columns"
   ]
  },
  {
   "cell_type": "code",
   "execution_count": 10,
   "metadata": {},
   "outputs": [],
   "source": [
    "stopword_en = pd.read_csv('../../en_stopword_1106.txt', header=None).drop_duplicates()\n",
    "en_stopword = stopword_en[0].values.tolist()\n",
    "en_stopword = [word.strip() for word in en_stopword]\n",
    "\n",
    "nltk_stopword = stopwords.words('english')\n",
    "\n",
    "combined_stopwords = pd.DataFrame(en_stopword + nltk_stopword).drop_duplicates()\n",
    "stopword_list = combined_stopwords[0].values.tolist()\n",
    "\n",
    "def lower_text(text):\n",
    "    return text.lower()\n",
    "\n",
    "def alphanumeric_text(text):\n",
    "    # return re.sub(\"[^a-z0-9\\s]\",\"\", text)\n",
    "    text = text.lower()\n",
    "    return re.sub(r'[^\\w\\s.,]', '', text)\n",
    "\n",
    "def remove_duplicate_words(text):\n",
    "    return re.sub(r'\\b(\\w+)(\\s+\\1)+\\b', r'\\1', text)\n",
    "\n",
    "def clean_text(text):\n",
    "    text = str(text).lower()\n",
    "    text = re.sub(r'@[a-z0-9_]+', '', text) # Removes Twitter usernames\n",
    "    text = re.sub('rt|cc', ' ', text)  # remove RT and cc\n",
    "    text = re.sub('#\\S+', '', text)  # remove hashtags\n",
    "    text = re.sub('@\\S+', '  ', text)  # remove mentions\n",
    "    text = re.sub('\\[.*?\\]', '', text) # Removes all text enclosed in square brackets \n",
    "    text = re.sub('<.*?>+', '', text) # remove html tags\n",
    "    text = re.sub('https?://\\S+|www\\.\\S+', '', text) # remove URLs\n",
    "    text = re.sub('\\s+', ' ', text)  # remove extra whitespace\n",
    "    text = re.sub('[%s]' % re.escape(string.punctuation), '', text) # remove punctuations\n",
    "    text = re.sub(r'[^\\w\\s.,]', '', text) # Removes all non-word characters\n",
    "    # text = [word for word in text.split(' ') if word not in nltk_stopword]\n",
    "    return text\n",
    "\n",
    "\n",
    "repl_list = ['s/o','d/o','w/o','/','&',',','-']\n",
    "\n",
    "def clean_data(name):\n",
    "\tname = str(name).lower()\n",
    "\tname = (''.join(i for i in name if ord(i)<128)).strip()\n",
    "\tfor repl in repl_list:\n",
    "\t\tname = name.replace(repl,\" \")\n",
    "\tif '@' in name:\n",
    "\t\tpos = name.find('@')\n",
    "\t\tname = name[:pos].strip()\n",
    "\tname = name.split(\" \")\n",
    "\tname = \" \".join([each.strip() for each in name])\n",
    "\treturn name\n",
    "\n",
    "def remove_records(merged_data):\n",
    "\tmerged_data['delete'] = 0\n",
    "\tmerged_data.loc[merged_data['name'].str.find('with') != -1,'delete'] = 1\t\n",
    "\tmerged_data.loc[merged_data['count_words']>=5,'delete']=1\n",
    "\tmerged_data.loc[merged_data['count_words']==0,'delete']=1\n",
    "\tmerged_data.loc[merged_data['name'].str.contains(r'\\d') == True,'delete']=1\n",
    "\tcleaned_data = merged_data[merged_data.delete==0]\n",
    "\treturn cleaned_data\n",
    "\n",
    "def stop_word(text):\n",
    "    return \" \".join([word for word in text.split(' ') if word not in stopword_list])\n",
    "\n",
    "lemmatizer = WordNetLemmatizer()\n",
    "\n",
    "def lemmatize_word(word):\n",
    "    return lemmatizer.lemmatize(word, pos='v')\n",
    "\n",
    "def lemmatize_sentence(sentence):\n",
    "    words = nltk.word_tokenize(sentence) \n",
    "    words = [word for word in words if word.isalnum()] \n",
    "    words = [lemmatize_word(word) for word in words]  \n",
    "    return ' '.join(words)  "
   ]
  },
  {
   "cell_type": "code",
   "execution_count": 12,
   "metadata": {},
   "outputs": [
    {
     "data": {
      "application/vnd.jupyter.widget-view+json": {
       "model_id": "90c0fdda469046b5b92a096562f31077",
       "version_major": 2,
       "version_minor": 0
      },
      "text/plain": [
       "  0%|          | 0/5572 [00:00<?, ?it/s]"
      ]
     },
     "metadata": {},
     "output_type": "display_data"
    },
    {
     "data": {
      "application/vnd.jupyter.widget-view+json": {
       "model_id": "dd1ee087a3ed4dd386cc9c4f6fba85d9",
       "version_major": 2,
       "version_minor": 0
      },
      "text/plain": [
       "  0%|          | 0/5572 [00:00<?, ?it/s]"
      ]
     },
     "metadata": {},
     "output_type": "display_data"
    },
    {
     "data": {
      "application/vnd.jupyter.widget-view+json": {
       "model_id": "b56687002d9f467d8ad1c9c383bf329f",
       "version_major": 2,
       "version_minor": 0
      },
      "text/plain": [
       "  0%|          | 0/5572 [00:00<?, ?it/s]"
      ]
     },
     "metadata": {},
     "output_type": "display_data"
    },
    {
     "data": {
      "text/html": [
       "<div>\n",
       "<style scoped>\n",
       "    .dataframe tbody tr th:only-of-type {\n",
       "        vertical-align: middle;\n",
       "    }\n",
       "\n",
       "    .dataframe tbody tr th {\n",
       "        vertical-align: top;\n",
       "    }\n",
       "\n",
       "    .dataframe thead th {\n",
       "        text-align: right;\n",
       "    }\n",
       "</style>\n",
       "<table border=\"1\" class=\"dataframe\">\n",
       "  <thead>\n",
       "    <tr style=\"text-align: right;\">\n",
       "      <th></th>\n",
       "      <th>label</th>\n",
       "      <th>text</th>\n",
       "      <th>clean_text</th>\n",
       "    </tr>\n",
       "  </thead>\n",
       "  <tbody>\n",
       "    <tr>\n",
       "      <th>0</th>\n",
       "      <td>ham</td>\n",
       "      <td>Go until jurong point, crazy.. Available only ...</td>\n",
       "      <td>jurong crazy bugis n la e buffet cine amore wat</td>\n",
       "    </tr>\n",
       "    <tr>\n",
       "      <th>1</th>\n",
       "      <td>ham</td>\n",
       "      <td>Ok lar... Joking wif u oni...</td>\n",
       "      <td>lar joke wif oni</td>\n",
       "    </tr>\n",
       "    <tr>\n",
       "      <th>2</th>\n",
       "      <td>spam</td>\n",
       "      <td>Free entry in 2 a wkly comp to win FA Cup fina...</td>\n",
       "      <td>entry 2 wkly comp win fa cup final tkts 21st 2...</td>\n",
       "    </tr>\n",
       "    <tr>\n",
       "      <th>3</th>\n",
       "      <td>ham</td>\n",
       "      <td>U dun say so early hor... U c already then say...</td>\n",
       "      <td>dun hor c</td>\n",
       "    </tr>\n",
       "    <tr>\n",
       "      <th>4</th>\n",
       "      <td>ham</td>\n",
       "      <td>Nah I don't think he goes to usf, he lives aro...</td>\n",
       "      <td>nah usf live</td>\n",
       "    </tr>\n",
       "    <tr>\n",
       "      <th>...</th>\n",
       "      <td>...</td>\n",
       "      <td>...</td>\n",
       "      <td>...</td>\n",
       "    </tr>\n",
       "    <tr>\n",
       "      <th>5567</th>\n",
       "      <td>spam</td>\n",
       "      <td>This is the 2nd time we have tried 2 contact u...</td>\n",
       "      <td>2nd time 2 contact å750 pound prize 2 claim ea...</td>\n",
       "    </tr>\n",
       "    <tr>\n",
       "      <th>5568</th>\n",
       "      <td>ham</td>\n",
       "      <td>Will Ì_ b going to esplanade fr home?</td>\n",
       "      <td>ì b esplanade fr</td>\n",
       "    </tr>\n",
       "    <tr>\n",
       "      <th>5569</th>\n",
       "      <td>ham</td>\n",
       "      <td>Pity, * was in mood for that. So...any other s...</td>\n",
       "      <td>pity mood soany suggestions</td>\n",
       "    </tr>\n",
       "    <tr>\n",
       "      <th>5570</th>\n",
       "      <td>ham</td>\n",
       "      <td>The guy did some bitching but I acted like i'd...</td>\n",
       "      <td>guy bitch act id buy week</td>\n",
       "    </tr>\n",
       "    <tr>\n",
       "      <th>5571</th>\n",
       "      <td>ham</td>\n",
       "      <td>Rofl. Its true to its name</td>\n",
       "      <td>rofl true</td>\n",
       "    </tr>\n",
       "  </tbody>\n",
       "</table>\n",
       "<p>5572 rows × 3 columns</p>\n",
       "</div>"
      ],
      "text/plain": [
       "     label                                               text  \\\n",
       "0      ham  Go until jurong point, crazy.. Available only ...   \n",
       "1      ham                      Ok lar... Joking wif u oni...   \n",
       "2     spam  Free entry in 2 a wkly comp to win FA Cup fina...   \n",
       "3      ham  U dun say so early hor... U c already then say...   \n",
       "4      ham  Nah I don't think he goes to usf, he lives aro...   \n",
       "...    ...                                                ...   \n",
       "5567  spam  This is the 2nd time we have tried 2 contact u...   \n",
       "5568   ham              Will Ì_ b going to esplanade fr home?   \n",
       "5569   ham  Pity, * was in mood for that. So...any other s...   \n",
       "5570   ham  The guy did some bitching but I acted like i'd...   \n",
       "5571   ham                         Rofl. Its true to its name   \n",
       "\n",
       "                                             clean_text  \n",
       "0       jurong crazy bugis n la e buffet cine amore wat  \n",
       "1                                      lar joke wif oni  \n",
       "2     entry 2 wkly comp win fa cup final tkts 21st 2...  \n",
       "3                                             dun hor c  \n",
       "4                                          nah usf live  \n",
       "...                                                 ...  \n",
       "5567  2nd time 2 contact å750 pound prize 2 claim ea...  \n",
       "5568                                   ì b esplanade fr  \n",
       "5569                        pity mood soany suggestions  \n",
       "5570                          guy bitch act id buy week  \n",
       "5571                                          rofl true  \n",
       "\n",
       "[5572 rows x 3 columns]"
      ]
     },
     "execution_count": 12,
     "metadata": {},
     "output_type": "execute_result"
    }
   ],
   "source": [
    "data['clean_text'] = data['text'] \\\n",
    "                    .progress_apply(clean_text) \\\n",
    "                    .progress_apply(stop_word) \\\n",
    "                    .progress_apply(lemmatize_sentence) \\\n",
    "                    # .progress_apply(lower_text) \\\n",
    "                    # .progress_apply(remove_duplicate_words) \\\n",
    "                    # .progress_apply(alphanumeric_text) \\\n",
    "                    # .progress_apply(lambda x: ' '.join([word for word in x.split(' ') if word not in (nltk_stopword)])) \\\n",
    "                    # .progress_apply(lambda x: ' '.join([word for word in x.split(' ') if len(word) >= 4])) \\\n",
    "                    # .progress_apply(lemmatizer) \\\n",
    "data"
   ]
  },
  {
   "cell_type": "code",
   "execution_count": 15,
   "metadata": {},
   "outputs": [
    {
     "name": "stdout",
     "output_type": "stream",
     "text": [
      "1\n",
      "56\n"
     ]
    },
    {
     "data": {
      "image/png": "[encoded data removed]",
      "text/plain": [
       "<Figure size 2500x200 with 1 Axes>"
      ]
     },
     "metadata": {},
     "output_type": "display_data"
    }
   ],
   "source": [
    "text_len = [len(word) for word in data['clean_text'].str.split(' ')]\n",
    "data['text_len'] = pd.DataFrame(text_len)\n",
    "print(data['text_len'].min())\n",
    "print(data['text_len'].max())\n",
    "\n",
    "\n",
    "fig, ax = plt.subplots(figsize=(25, 2))\n",
    "sns.boxplot(x=data['text_len'], palette=\"crest\")\n",
    "plt.show()"
   ]
  },
  {
   "cell_type": "code",
   "execution_count": 10,
   "metadata": {},
   "outputs": [
    {
     "name": "stdout",
     "output_type": "stream",
     "text": [
      "31.0\n",
      "267.0\n"
     ]
    }
   ],
   "source": [
    "print(data['text_len'].quantile(.1))\n",
    "print(data['text_len'].quantile(.97))"
   ]
  },
  {
   "cell_type": "code",
   "execution_count": 16,
   "metadata": {},
   "outputs": [
    {
     "data": {
      "text/plain": [
       "<Axes: xlabel='text_len'>"
      ]
     },
     "execution_count": 16,
     "metadata": {},
     "output_type": "execute_result"
    },
    {
     "data": {
      "image/png": "[encoded data removed]",
      "text/plain": [
       "<Figure size 2500x200 with 1 Axes>"
      ]
     },
     "metadata": {},
     "output_type": "display_data"
    }
   ],
   "source": [
    "Q1 = data['text_len'].quantile(.1)\n",
    "Q3 = data['text_len'].quantile(.97)\n",
    "\n",
    "data = data[(data['text_len'] > Q1) & (data['text_len'] < Q3)]\n",
    "\n",
    "fig, axes = plt.subplots(figsize=(25, 2))\n",
    "sns.boxplot(x = data['text_len'], palette=\"Oranges\")"
   ]
  },
  {
   "cell_type": "code",
   "execution_count": 16,
   "metadata": {},
   "outputs": [
    {
     "data": {
      "image/png": "[encoded data removed]",
      "text/plain": [
       "<Figure size 2500x300 with 1 Axes>"
      ]
     },
     "metadata": {},
     "output_type": "display_data"
    }
   ],
   "source": [
    "plt.subplots(figsize = (25,3))\n",
    "ax = sns.countplot(data, y = data['label'])\n",
    "ax.bar_label(ax.containers[0])\n",
    "plt.show()"
   ]
  },
  {
   "attachments": {},
   "cell_type": "markdown",
   "metadata": {},
   "source": [
    "# 4. Preparing Dataset"
   ]
  },
  {
   "cell_type": "code",
   "execution_count": 60,
   "metadata": {},
   "outputs": [
    {
     "name": "stdout",
     "output_type": "stream",
     "text": [
      "(3910,) (3910,)\n",
      "(1104,) (1104,)\n",
      "(558,) (558,)\n"
     ]
    }
   ],
   "source": [
    "LE = LabelEncoder()\n",
    "\n",
    "X = data['clean_text']\n",
    "Y = LE.fit_transform(data['label']) ### For Classification Algoritms\n",
    "# Y = pd.get_dummies(data['label']) ### For Deep Learning Algoritms\n",
    "# Y = data['label'] ### For Deep Learning Algoritms\n",
    "\n",
    "X_train, X_val, y_train, y_val = train_test_split(X, Y, train_size=0.9, random_state = 42)\n",
    "X_train, X_test, y_train, y_test = train_test_split(X_train, y_train, train_size=0.78, random_state = 42)\n",
    "\n",
    "print(X_train.shape, y_train.shape)\n",
    "print(X_test.shape, y_test.shape)\n",
    "print(X_val.shape, y_val.shape)"
   ]
  },
  {
   "cell_type": "code",
   "execution_count": 61,
   "metadata": {},
   "outputs": [],
   "source": [
    "vocab_size = 7979\n",
    "embedding_dim = 128\n",
    "max_length = 56\n",
    "trunc_type = 'post'\n",
    "padding_type = 'post'\n",
    "oov_tok = \"<OOV>\"\n",
    "# num_label = y_train.shape[1]"
   ]
  },
  {
   "cell_type": "code",
   "execution_count": null,
   "metadata": {},
   "outputs": [],
   "source": [
    "# Tokenizing \n",
    "tokenizer = Tokenizer(num_words=vocab_size, oov_token=oov_tok)\n",
    "tokenizer.fit_on_texts(X)\n",
    "\n",
    "print(len(tokenizer.word_index))\n",
    "\n",
    "# Text to Sequences\n",
    "training_sequences = tokenizer.texts_to_sequences(X_train)\n",
    "testing_sequences = tokenizer.texts_to_sequences(X_test)\n",
    "validating_sequences = tokenizer.texts_to_sequences(X_val)\n",
    "\n",
    "# Add padding\n",
    "training_padded = pad_sequences(training_sequences, maxlen = max_length, padding = padding_type)\n",
    "testing_padded = pad_sequences(testing_sequences, maxlen = max_length, padding = padding_type)\n",
    "validating_padded = pad_sequences(validating_sequences, maxlen = max_length, padding = padding_type)\n",
    "\n",
    "# Convert to numpy array\n",
    "training_padded = np.array(training_padded)\n",
    "training_label = np.array(y_train)\n",
    "\n",
    "testing_padded = np.array(testing_padded)\n",
    "testing_label = np.array(y_test)\n",
    "\n",
    "validating_padded = np.array(validating_padded)\n",
    "validating_label = np.array(y_val)"
   ]
  },
  {
   "cell_type": "code",
   "execution_count": 62,
   "metadata": {},
   "outputs": [
    {
     "name": "stdout",
     "output_type": "stream",
     "text": [
      "7978\n",
      "(1056, 56)\n",
      "(304, 56)\n",
      "(134, 56)\n"
     ]
    }
   ],
   "source": [
    "# Tokenizing \n",
    "tokenizer = Tokenizer(num_words=vocab_size, oov_token=oov_tok)\n",
    "tokenizer.fit_on_texts(X)\n",
    "\n",
    "print(len(tokenizer.word_index))\n",
    "\n",
    "# Text to Sequences\n",
    "training_sequences = tokenizer.texts_to_sequences(X_train)\n",
    "testing_sequences = tokenizer.texts_to_sequences(X_test)\n",
    "validating_sequences = tokenizer.texts_to_sequences(X_val)\n",
    "\n",
    "# Add padding\n",
    "training_padded = pad_sequences(training_sequences, maxlen = max_length, padding = padding_type)\n",
    "testing_padded = pad_sequences(testing_sequences, maxlen = max_length, padding = padding_type)\n",
    "validating_padded = pad_sequences(validating_sequences, maxlen = max_length, padding = padding_type)\n",
    "\n",
    "# Convert to numpy array\n",
    "training_padded = np.array(training_padded)\n",
    "training_label = np.array(y_train)\n",
    "\n",
    "testing_padded = np.array(testing_padded)\n",
    "testing_label = np.array(y_test)\n",
    "\n",
    "validating_padded = np.array(validating_padded)\n",
    "validating_label = np.array(y_val)\n",
    "\n",
    "# Undersampling\n",
    "rus = RandomUnderSampler(random_state=42, replacement=True)# fit predictor and target variable\n",
    "\n",
    "training_padded, training_label = rus.fit_resample(training_padded, training_label)\n",
    "testing_padded, testing_label = rus.fit_resample(testing_padded, testing_label)\n",
    "validating_padded, validating_label = rus.fit_resample(validating_padded, validating_label)\n",
    "\n",
    "# Categorical Label\n",
    "# training_label = pd.get_dummies(training_label.reshape(-1)).values\n",
    "# testing_label = pd.get_dummies(testing_label.reshape(-1)).values\n",
    "# validating_label = pd.get_dummies(validating_label.reshape(-1)).values\n",
    "\n",
    "print(training_padded.shape)\n",
    "print(testing_padded.shape)\n",
    "print(validating_padded.shape)\n"
   ]
  },
  {
   "attachments": {},
   "cell_type": "markdown",
   "metadata": {},
   "source": [
    "# 5. Deep Learning Model"
   ]
  },
  {
   "cell_type": "code",
   "execution_count": 39,
   "metadata": {},
   "outputs": [
    {
     "name": "stdout",
     "output_type": "stream",
     "text": [
      "Model: \"sequential_2\"\n",
      "_________________________________________________________________\n",
      " Layer (type)                Output Shape              Param #   \n",
      "=================================================================\n",
      " embedding_2 (Embedding)     (None, 56, 128)           1021312   \n",
      "                                                                 \n",
      " bidirectional_2 (Bidirectio  (None, 256)              198144    \n",
      " nal)                                                            \n",
      "                                                                 \n",
      " dense_2 (Dense)             (None, 2)                 514       \n",
      "                                                                 \n",
      "=================================================================\n",
      "Total params: 1,219,970\n",
      "Trainable params: 1,219,970\n",
      "Non-trainable params: 0\n",
      "_________________________________________________________________\n"
     ]
    }
   ],
   "source": [
    "def DNN_Model():\n",
    "    model = Sequential()\n",
    "    model.add(Embedding(vocab_size, embedding_dim, input_length=max_length))\n",
    "    model.add(Flatten())\n",
    "\n",
    "    model.add(Dense(1024, activation='relu'))\n",
    "    model.add(Dense(1024, activation='relu'))\n",
    "    # model.add(Dense(256, activation='relu'))\n",
    "    model.add(Dense(num_label, activation='softmax'))\n",
    "    return model\n",
    "\n",
    "\n",
    "def CNN_Model():\n",
    "    model = Sequential()\n",
    "    model.add(Embedding(vocab_size, embedding_dim, input_length=max_length))\n",
    "\n",
    "    model.add(Conv1D(64, 3, kernel_regularizer=keras.regularizers.l2(l=0.001)))\n",
    "    model.add(BatchNormalization())\n",
    "    model.add(ReLU())\n",
    "    model.add(MaxPooling1D())\n",
    "\n",
    "    model.add(Conv1D(64, 3, kernel_regularizer=keras.regularizers.l2(l=0.001)))\n",
    "    model.add(BatchNormalization())\n",
    "    model.add(ReLU())\n",
    "    model.add(MaxPooling1D())\n",
    "\n",
    "    model.add(Flatten())\n",
    "    # model.add(Dense(4098, activation='relu'))\n",
    "    model.add(Dense(1024, activation='relu'))\n",
    "    # model.add(Dense(256, activation='relu'))\n",
    "    model.add(Dense(num_label, activation='softmax'))\n",
    "    return model\n",
    "\n",
    "def LSTM_Model():\n",
    "    model = Sequential()\n",
    "    model.add(Embedding(input_dim=vocab_size, output_dim=embedding_dim, input_length=max_length))\n",
    "    model.add(Bidirectional(LSTM(256, return_sequences=True)))\n",
    "    model.add(Bidirectional(LSTM(256)))\n",
    "    model.add(Dense(num_label, activation='softmax'))\n",
    "    return model\n",
    "\n",
    "def GRU_Model():\n",
    "    model = Sequential()\n",
    "    model.add(Embedding(vocab_size, embedding_dim, input_length=max_length))\n",
    "    # model.add(Bidirectional(GRU(128, activation ='tanh', recurrent_activation ='sigmoid', recurrent_dropout = 0, unroll=False, use_bias=True, reset_after=True, return_sequences=True)))\n",
    "    model.add(Bidirectional(GRU(128, activation ='tanh', recurrent_activation ='sigmoid', recurrent_dropout = 0, unroll=False, use_bias=True, reset_after=True)))\n",
    "    model.add(Dense(num_label, activation='softmax'))\n",
    "    return model\n",
    "\n",
    "# model = DNN_Model()\n",
    "# model = CNN_Model()\n",
    "# model = LSTM_Model()\n",
    "model = GRU_Model()\n",
    "\n",
    "model.summary()\n",
    "\n",
    "opt = Adam(learning_rate = 0.000_01)\n",
    "\n",
    "model.compile(loss='categorical_crossentropy', optimizer=opt, metrics=['accuracy'])\n",
    "# model.compile(loss='binary_crossentropy', optimizer=opt, metrics=['accuracy'])"
   ]
  },
  {
   "cell_type": "code",
   "execution_count": 42,
   "metadata": {},
   "outputs": [
    {
     "name": "stdout",
     "output_type": "stream",
     "text": [
      "Epoch 1/100\n",
      "17/17 [==============================] - 0s 20ms/step - loss: 0.1986 - accuracy: 0.9309 - val_loss: 0.2607 - val_accuracy: 0.8731\n",
      "Epoch 2/100\n",
      "17/17 [==============================] - 0s 19ms/step - loss: 0.1963 - accuracy: 0.9299 - val_loss: 0.2578 - val_accuracy: 0.8806\n",
      "Epoch 3/100\n",
      "17/17 [==============================] - 0s 18ms/step - loss: 0.1946 - accuracy: 0.9318 - val_loss: 0.2565 - val_accuracy: 0.8806\n",
      "Epoch 4/100\n",
      "17/17 [==============================] - 0s 20ms/step - loss: 0.1921 - accuracy: 0.9356 - val_loss: 0.2555 - val_accuracy: 0.8806\n",
      "Epoch 5/100\n",
      "17/17 [==============================] - 0s 18ms/step - loss: 0.1910 - accuracy: 0.9366 - val_loss: 0.2513 - val_accuracy: 0.8881\n",
      "Epoch 6/100\n",
      "17/17 [==============================] - 0s 19ms/step - loss: 0.1879 - accuracy: 0.9347 - val_loss: 0.2532 - val_accuracy: 0.8806\n",
      "Epoch 7/100\n",
      "17/17 [==============================] - 0s 19ms/step - loss: 0.1855 - accuracy: 0.9347 - val_loss: 0.2482 - val_accuracy: 0.8881\n",
      "Epoch 8/100\n",
      "17/17 [==============================] - 0s 19ms/step - loss: 0.1835 - accuracy: 0.9413 - val_loss: 0.2477 - val_accuracy: 0.8806\n",
      "Epoch 9/100\n",
      "17/17 [==============================] - 0s 19ms/step - loss: 0.1811 - accuracy: 0.9422 - val_loss: 0.2473 - val_accuracy: 0.8806\n",
      "Epoch 10/100\n",
      "17/17 [==============================] - 0s 19ms/step - loss: 0.1785 - accuracy: 0.9432 - val_loss: 0.2442 - val_accuracy: 0.8806\n",
      "Epoch 11/100\n",
      "17/17 [==============================] - 0s 19ms/step - loss: 0.1769 - accuracy: 0.9441 - val_loss: 0.2446 - val_accuracy: 0.8806\n",
      "Epoch 12/100\n",
      "17/17 [==============================] - 0s 18ms/step - loss: 0.1744 - accuracy: 0.9441 - val_loss: 0.2427 - val_accuracy: 0.8806\n",
      "Epoch 13/100\n",
      "17/17 [==============================] - 0s 21ms/step - loss: 0.1722 - accuracy: 0.9441 - val_loss: 0.2404 - val_accuracy: 0.8806\n",
      "Epoch 14/100\n",
      "17/17 [==============================] - 0s 18ms/step - loss: 0.1701 - accuracy: 0.9460 - val_loss: 0.2399 - val_accuracy: 0.8806\n",
      "Epoch 15/100\n",
      "17/17 [==============================] - 0s 19ms/step - loss: 0.1680 - accuracy: 0.9451 - val_loss: 0.2374 - val_accuracy: 0.8806\n",
      "Epoch 16/100\n",
      "17/17 [==============================] - 0s 17ms/step - loss: 0.1658 - accuracy: 0.9470 - val_loss: 0.2347 - val_accuracy: 0.8955\n",
      "Epoch 17/100\n",
      "17/17 [==============================] - 0s 17ms/step - loss: 0.1641 - accuracy: 0.9470 - val_loss: 0.2334 - val_accuracy: 0.8955\n",
      "Epoch 18/100\n",
      "17/17 [==============================] - 0s 18ms/step - loss: 0.1620 - accuracy: 0.9479 - val_loss: 0.2331 - val_accuracy: 0.8806\n",
      "Epoch 19/100\n",
      "17/17 [==============================] - 0s 18ms/step - loss: 0.1600 - accuracy: 0.9479 - val_loss: 0.2314 - val_accuracy: 0.8881\n",
      "Epoch 20/100\n",
      "17/17 [==============================] - 0s 18ms/step - loss: 0.1589 - accuracy: 0.9460 - val_loss: 0.2326 - val_accuracy: 0.8806\n",
      "Epoch 21/100\n",
      "17/17 [==============================] - 0s 19ms/step - loss: 0.1561 - accuracy: 0.9489 - val_loss: 0.2265 - val_accuracy: 0.9179\n",
      "Epoch 22/100\n",
      "17/17 [==============================] - 0s 20ms/step - loss: 0.1541 - accuracy: 0.9470 - val_loss: 0.2305 - val_accuracy: 0.8806\n",
      "Epoch 23/100\n",
      "17/17 [==============================] - 0s 18ms/step - loss: 0.1522 - accuracy: 0.9508 - val_loss: 0.2245 - val_accuracy: 0.9030\n",
      "Epoch 24/100\n",
      "17/17 [==============================] - 0s 18ms/step - loss: 0.1505 - accuracy: 0.9508 - val_loss: 0.2256 - val_accuracy: 0.8955\n",
      "Epoch 25/100\n",
      "17/17 [==============================] - 0s 18ms/step - loss: 0.1486 - accuracy: 0.9517 - val_loss: 0.2227 - val_accuracy: 0.9030\n",
      "Epoch 26/100\n",
      "17/17 [==============================] - 0s 19ms/step - loss: 0.1468 - accuracy: 0.9517 - val_loss: 0.2239 - val_accuracy: 0.8955\n",
      "Epoch 27/100\n",
      "17/17 [==============================] - 0s 19ms/step - loss: 0.1447 - accuracy: 0.9517 - val_loss: 0.2197 - val_accuracy: 0.9179\n",
      "Epoch 28/100\n",
      "17/17 [==============================] - 0s 18ms/step - loss: 0.1438 - accuracy: 0.9508 - val_loss: 0.2231 - val_accuracy: 0.8881\n",
      "Epoch 29/100\n",
      "17/17 [==============================] - 0s 18ms/step - loss: 0.1417 - accuracy: 0.9527 - val_loss: 0.2167 - val_accuracy: 0.9179\n",
      "Epoch 30/100\n",
      "17/17 [==============================] - 0s 19ms/step - loss: 0.1397 - accuracy: 0.9536 - val_loss: 0.2201 - val_accuracy: 0.8955\n",
      "Epoch 31/100\n",
      "17/17 [==============================] - 0s 20ms/step - loss: 0.1381 - accuracy: 0.9555 - val_loss: 0.2172 - val_accuracy: 0.9030\n",
      "Epoch 32/100\n",
      "17/17 [==============================] - 0s 18ms/step - loss: 0.1366 - accuracy: 0.9545 - val_loss: 0.2161 - val_accuracy: 0.9030\n",
      "Epoch 33/100\n",
      "17/17 [==============================] - 0s 18ms/step - loss: 0.1346 - accuracy: 0.9574 - val_loss: 0.2154 - val_accuracy: 0.9030\n",
      "Epoch 34/100\n",
      "17/17 [==============================] - 0s 18ms/step - loss: 0.1335 - accuracy: 0.9555 - val_loss: 0.2142 - val_accuracy: 0.9179\n",
      "Epoch 35/100\n",
      "17/17 [==============================] - 0s 18ms/step - loss: 0.1316 - accuracy: 0.9621 - val_loss: 0.2144 - val_accuracy: 0.8955\n",
      "Epoch 36/100\n",
      "17/17 [==============================] - 0s 17ms/step - loss: 0.1298 - accuracy: 0.9602 - val_loss: 0.2106 - val_accuracy: 0.9179\n",
      "Epoch 37/100\n",
      "17/17 [==============================] - 0s 18ms/step - loss: 0.1284 - accuracy: 0.9593 - val_loss: 0.2112 - val_accuracy: 0.9179\n",
      "Epoch 38/100\n",
      "17/17 [==============================] - 0s 18ms/step - loss: 0.1267 - accuracy: 0.9621 - val_loss: 0.2116 - val_accuracy: 0.8955\n",
      "Epoch 39/100\n",
      "17/17 [==============================] - 0s 18ms/step - loss: 0.1255 - accuracy: 0.9621 - val_loss: 0.2098 - val_accuracy: 0.9104\n",
      "Epoch 40/100\n",
      "17/17 [==============================] - 0s 20ms/step - loss: 0.1240 - accuracy: 0.9612 - val_loss: 0.2046 - val_accuracy: 0.9104\n",
      "Epoch 41/100\n",
      "17/17 [==============================] - 0s 19ms/step - loss: 0.1231 - accuracy: 0.9640 - val_loss: 0.2092 - val_accuracy: 0.9104\n",
      "Epoch 42/100\n",
      "17/17 [==============================] - 0s 18ms/step - loss: 0.1209 - accuracy: 0.9640 - val_loss: 0.2040 - val_accuracy: 0.9179\n",
      "Epoch 43/100\n",
      "17/17 [==============================] - 0s 18ms/step - loss: 0.1205 - accuracy: 0.9631 - val_loss: 0.2073 - val_accuracy: 0.9104\n",
      "Epoch 44/100\n",
      "17/17 [==============================] - 0s 18ms/step - loss: 0.1184 - accuracy: 0.9640 - val_loss: 0.2024 - val_accuracy: 0.9179\n",
      "Epoch 45/100\n",
      "17/17 [==============================] - 0s 18ms/step - loss: 0.1166 - accuracy: 0.9640 - val_loss: 0.2065 - val_accuracy: 0.9104\n",
      "Epoch 46/100\n",
      "17/17 [==============================] - 0s 18ms/step - loss: 0.1155 - accuracy: 0.9650 - val_loss: 0.2022 - val_accuracy: 0.9179\n",
      "Epoch 47/100\n",
      "17/17 [==============================] - 0s 18ms/step - loss: 0.1143 - accuracy: 0.9650 - val_loss: 0.2017 - val_accuracy: 0.9179\n",
      "Epoch 48/100\n",
      "17/17 [==============================] - 0s 18ms/step - loss: 0.1127 - accuracy: 0.9669 - val_loss: 0.2034 - val_accuracy: 0.9104\n",
      "Epoch 49/100\n",
      "17/17 [==============================] - 0s 18ms/step - loss: 0.1115 - accuracy: 0.9678 - val_loss: 0.2005 - val_accuracy: 0.9104\n",
      "Epoch 50/100\n",
      "17/17 [==============================] - 0s 17ms/step - loss: 0.1103 - accuracy: 0.9688 - val_loss: 0.2000 - val_accuracy: 0.9104\n",
      "Epoch 51/100\n",
      "17/17 [==============================] - 0s 18ms/step - loss: 0.1089 - accuracy: 0.9669 - val_loss: 0.1976 - val_accuracy: 0.9179\n",
      "Epoch 52/100\n",
      "17/17 [==============================] - 0s 17ms/step - loss: 0.1079 - accuracy: 0.9688 - val_loss: 0.2004 - val_accuracy: 0.9179\n",
      "Epoch 53/100\n",
      "17/17 [==============================] - 0s 17ms/step - loss: 0.1063 - accuracy: 0.9688 - val_loss: 0.1965 - val_accuracy: 0.9179\n",
      "Epoch 54/100\n",
      "17/17 [==============================] - 0s 17ms/step - loss: 0.1053 - accuracy: 0.9678 - val_loss: 0.1972 - val_accuracy: 0.9104\n",
      "Epoch 55/100\n",
      "17/17 [==============================] - 0s 18ms/step - loss: 0.1046 - accuracy: 0.9688 - val_loss: 0.1975 - val_accuracy: 0.9179\n",
      "Epoch 56/100\n",
      "17/17 [==============================] - 0s 18ms/step - loss: 0.1029 - accuracy: 0.9697 - val_loss: 0.1926 - val_accuracy: 0.9254\n",
      "Epoch 57/100\n",
      "17/17 [==============================] - 0s 20ms/step - loss: 0.1016 - accuracy: 0.9697 - val_loss: 0.1966 - val_accuracy: 0.9179\n",
      "Epoch 58/100\n",
      "17/17 [==============================] - 0s 17ms/step - loss: 0.1006 - accuracy: 0.9697 - val_loss: 0.1961 - val_accuracy: 0.9179\n",
      "Epoch 59/100\n",
      "17/17 [==============================] - 0s 17ms/step - loss: 0.0994 - accuracy: 0.9706 - val_loss: 0.1937 - val_accuracy: 0.9179\n",
      "Epoch 60/100\n",
      "17/17 [==============================] - 0s 17ms/step - loss: 0.0982 - accuracy: 0.9706 - val_loss: 0.1925 - val_accuracy: 0.9179\n",
      "Epoch 61/100\n",
      "17/17 [==============================] - 0s 18ms/step - loss: 0.0973 - accuracy: 0.9697 - val_loss: 0.1932 - val_accuracy: 0.9179\n",
      "Epoch 62/100\n",
      "17/17 [==============================] - 0s 19ms/step - loss: 0.0961 - accuracy: 0.9706 - val_loss: 0.1920 - val_accuracy: 0.9179\n",
      "Epoch 63/100\n",
      "17/17 [==============================] - 0s 18ms/step - loss: 0.0952 - accuracy: 0.9706 - val_loss: 0.1914 - val_accuracy: 0.9179\n",
      "Epoch 64/100\n",
      "17/17 [==============================] - 0s 18ms/step - loss: 0.0942 - accuracy: 0.9706 - val_loss: 0.1941 - val_accuracy: 0.9179\n",
      "Epoch 65/100\n",
      "17/17 [==============================] - 0s 20ms/step - loss: 0.0927 - accuracy: 0.9706 - val_loss: 0.1906 - val_accuracy: 0.9179\n",
      "Epoch 66/100\n",
      "17/17 [==============================] - 0s 18ms/step - loss: 0.0919 - accuracy: 0.9706 - val_loss: 0.1894 - val_accuracy: 0.9179\n",
      "Epoch 67/100\n",
      "17/17 [==============================] - 0s 18ms/step - loss: 0.0907 - accuracy: 0.9706 - val_loss: 0.1916 - val_accuracy: 0.9179\n",
      "Epoch 68/100\n",
      "17/17 [==============================] - 0s 18ms/step - loss: 0.0894 - accuracy: 0.9706 - val_loss: 0.1869 - val_accuracy: 0.9254\n",
      "Epoch 69/100\n",
      "17/17 [==============================] - 0s 18ms/step - loss: 0.0886 - accuracy: 0.9706 - val_loss: 0.1892 - val_accuracy: 0.9179\n",
      "Epoch 70/100\n",
      "17/17 [==============================] - 0s 18ms/step - loss: 0.0875 - accuracy: 0.9706 - val_loss: 0.1875 - val_accuracy: 0.9179\n",
      "Epoch 71/100\n",
      "17/17 [==============================] - 0s 17ms/step - loss: 0.0869 - accuracy: 0.9706 - val_loss: 0.1882 - val_accuracy: 0.9179\n",
      "Epoch 72/100\n",
      "17/17 [==============================] - 0s 18ms/step - loss: 0.0856 - accuracy: 0.9716 - val_loss: 0.1878 - val_accuracy: 0.9179\n",
      "Epoch 73/100\n",
      "17/17 [==============================] - 0s 19ms/step - loss: 0.0846 - accuracy: 0.9706 - val_loss: 0.1844 - val_accuracy: 0.9254\n",
      "Epoch 74/100\n",
      "17/17 [==============================] - 0s 17ms/step - loss: 0.0835 - accuracy: 0.9706 - val_loss: 0.1888 - val_accuracy: 0.9179\n",
      "Epoch 75/100\n",
      "17/17 [==============================] - 0s 19ms/step - loss: 0.0823 - accuracy: 0.9725 - val_loss: 0.1872 - val_accuracy: 0.9179\n",
      "Epoch 76/100\n",
      "17/17 [==============================] - 0s 19ms/step - loss: 0.0816 - accuracy: 0.9706 - val_loss: 0.1832 - val_accuracy: 0.9254\n",
      "Epoch 77/100\n",
      "17/17 [==============================] - 0s 19ms/step - loss: 0.0805 - accuracy: 0.9716 - val_loss: 0.1891 - val_accuracy: 0.9179\n",
      "Epoch 78/100\n",
      "17/17 [==============================] - 0s 18ms/step - loss: 0.0796 - accuracy: 0.9725 - val_loss: 0.1847 - val_accuracy: 0.9254\n",
      "Epoch 79/100\n",
      "17/17 [==============================] - 0s 19ms/step - loss: 0.0785 - accuracy: 0.9725 - val_loss: 0.1865 - val_accuracy: 0.9179\n",
      "Epoch 80/100\n",
      "17/17 [==============================] - 0s 19ms/step - loss: 0.0777 - accuracy: 0.9725 - val_loss: 0.1831 - val_accuracy: 0.9254\n",
      "Epoch 81/100\n",
      "17/17 [==============================] - 0s 21ms/step - loss: 0.0767 - accuracy: 0.9725 - val_loss: 0.1847 - val_accuracy: 0.9179\n",
      "Epoch 82/100\n",
      "17/17 [==============================] - 0s 18ms/step - loss: 0.0759 - accuracy: 0.9754 - val_loss: 0.1863 - val_accuracy: 0.9328\n",
      "Epoch 83/100\n",
      "17/17 [==============================] - 0s 19ms/step - loss: 0.0747 - accuracy: 0.9754 - val_loss: 0.1800 - val_accuracy: 0.9254\n",
      "Epoch 84/100\n",
      "17/17 [==============================] - 0s 19ms/step - loss: 0.0742 - accuracy: 0.9735 - val_loss: 0.1823 - val_accuracy: 0.9254\n",
      "Epoch 85/100\n",
      "17/17 [==============================] - 0s 18ms/step - loss: 0.0733 - accuracy: 0.9754 - val_loss: 0.1828 - val_accuracy: 0.9328\n",
      "Epoch 86/100\n",
      "17/17 [==============================] - 0s 19ms/step - loss: 0.0727 - accuracy: 0.9735 - val_loss: 0.1800 - val_accuracy: 0.9254\n",
      "Epoch 87/100\n",
      "17/17 [==============================] - 0s 19ms/step - loss: 0.0714 - accuracy: 0.9763 - val_loss: 0.1886 - val_accuracy: 0.9254\n",
      "Epoch 88/100\n",
      "17/17 [==============================] - 0s 22ms/step - loss: 0.0708 - accuracy: 0.9754 - val_loss: 0.1781 - val_accuracy: 0.9254\n",
      "Epoch 89/100\n",
      "17/17 [==============================] - 0s 19ms/step - loss: 0.0694 - accuracy: 0.9773 - val_loss: 0.1808 - val_accuracy: 0.9403\n",
      "Epoch 90/100\n",
      "17/17 [==============================] - 0s 19ms/step - loss: 0.0693 - accuracy: 0.9792 - val_loss: 0.1813 - val_accuracy: 0.9403\n",
      "Epoch 91/100\n",
      "17/17 [==============================] - 0s 19ms/step - loss: 0.0679 - accuracy: 0.9773 - val_loss: 0.1800 - val_accuracy: 0.9403\n",
      "Epoch 92/100\n",
      "17/17 [==============================] - 0s 19ms/step - loss: 0.0668 - accuracy: 0.9773 - val_loss: 0.1815 - val_accuracy: 0.9328\n",
      "Epoch 93/100\n",
      "17/17 [==============================] - 0s 19ms/step - loss: 0.0664 - accuracy: 0.9801 - val_loss: 0.1842 - val_accuracy: 0.9254\n",
      "Epoch 94/100\n",
      "17/17 [==============================] - 0s 19ms/step - loss: 0.0654 - accuracy: 0.9782 - val_loss: 0.1794 - val_accuracy: 0.9328\n",
      "Epoch 95/100\n",
      "17/17 [==============================] - 0s 20ms/step - loss: 0.0645 - accuracy: 0.9773 - val_loss: 0.1778 - val_accuracy: 0.9403\n",
      "Epoch 96/100\n",
      "17/17 [==============================] - 0s 20ms/step - loss: 0.0636 - accuracy: 0.9792 - val_loss: 0.1798 - val_accuracy: 0.9328\n",
      "Epoch 97/100\n",
      "17/17 [==============================] - 0s 18ms/step - loss: 0.0632 - accuracy: 0.9820 - val_loss: 0.1782 - val_accuracy: 0.9328\n",
      "Epoch 98/100\n",
      "17/17 [==============================] - 0s 18ms/step - loss: 0.0619 - accuracy: 0.9820 - val_loss: 0.1737 - val_accuracy: 0.9403\n",
      "Epoch 99/100\n",
      "17/17 [==============================] - 0s 17ms/step - loss: 0.0614 - accuracy: 0.9801 - val_loss: 0.1761 - val_accuracy: 0.9328\n",
      "Epoch 100/100\n",
      "17/17 [==============================] - 0s 18ms/step - loss: 0.0606 - accuracy: 0.9820 - val_loss: 0.1799 - val_accuracy: 0.9328\n"
     ]
    }
   ],
   "source": [
    "num_epoch = 100\n",
    "batch_size = 64\n",
    "history = model.fit(training_padded, training_label, \n",
    "                    batch_size = batch_size, epochs = num_epoch, \n",
    "                    validation_data = (validating_padded, validating_label))"
   ]
  },
  {
   "cell_type": "code",
   "execution_count": 43,
   "metadata": {},
   "outputs": [
    {
     "data": {
      "image/png": "[encoded data removed]",
      "text/plain": [
       "<Figure size 2500x500 with 2 Axes>"
      ]
     },
     "metadata": {},
     "output_type": "display_data"
    }
   ],
   "source": [
    "fig, ax = plt.subplots(nrows=1, ncols=2,figsize=(25, 5))\n",
    "ax[0].plot(history.history['accuracy'])\n",
    "ax[0].plot(history.history['val_accuracy'])\n",
    "ax[0].set_title('Accuracy')\n",
    "ax[0].set_xlabel('Accuracy')\n",
    "ax[0].set_ylabel('Epoch')\n",
    "\n",
    "ax[1].plot(history.history['loss'])\n",
    "ax[1].plot(history.history['val_loss'])\n",
    "ax[1].set_title('Loss')\n",
    "ax[1].set_xlabel('Loss')\n",
    "ax[1].set_ylabel('Epoch')\n",
    "\n",
    "plt.legend(['Train', 'Test'])\n",
    "plt.show()"
   ]
  },
  {
   "cell_type": "code",
   "execution_count": 44,
   "metadata": {},
   "outputs": [
    {
     "name": "stdout",
     "output_type": "stream",
     "text": [
      "   Train Predictions  Actuals  Diff\n",
      "0                  0        0  True\n",
      "1                  0        0  True\n",
      "2                  0        0  True\n",
      "3                  0        0  True\n",
      "4                  0        0  True\n"
     ]
    },
    {
     "data": {
      "text/plain": [
       "True     286\n",
       "False     18\n",
       "Name: Diff, dtype: int64"
      ]
     },
     "execution_count": 44,
     "metadata": {},
     "output_type": "execute_result"
    }
   ],
   "source": [
    "train_predictions = np.rint(model.predict(testing_padded, verbose=0)).argmax(axis=1).flatten()\n",
    "\n",
    "train_results = pd.DataFrame(data={'Train Predictions':train_predictions, 'Actuals':testing_label.argmax(axis=1)})\n",
    "train_results['Diff'] = train_results['Actuals'] == train_results['Train Predictions']\n",
    "print(train_results.head(5))\n",
    "train_results['Diff'].value_counts()"
   ]
  },
  {
   "cell_type": "code",
   "execution_count": 45,
   "metadata": {},
   "outputs": [
    {
     "name": "stdout",
     "output_type": "stream",
     "text": [
      "              precision    recall  f1-score   support\n",
      "\n",
      "           0       0.95      0.93      0.94       152\n",
      "           1       0.94      0.95      0.94       152\n",
      "\n",
      "    accuracy                           0.94       304\n",
      "   macro avg       0.94      0.94      0.94       304\n",
      "weighted avg       0.94      0.94      0.94       304\n",
      "\n"
     ]
    }
   ],
   "source": [
    "y_pred = model.predict(testing_padded, verbose=0).argmax(axis=1)\n",
    "print(classification_report(testing_label.argmax(axis=1),y_pred))"
   ]
  },
  {
   "cell_type": "code",
   "execution_count": 46,
   "metadata": {},
   "outputs": [
    {
     "data": {
      "image/png": "[encoded data removed]",
      "text/plain": [
       "<Figure size 640x480 with 2 Axes>"
      ]
     },
     "metadata": {},
     "output_type": "display_data"
    }
   ],
   "source": [
    "labels = y_train.columns\n",
    "\n",
    "y_pred = np.rint(model.predict(testing_padded, verbose=0)).argmax(axis=1).flatten()\n",
    "con_mat = confusion_matrix(testing_label.argmax(axis=1),y_pred)\n",
    "\n",
    "cm_percent = con_mat.astype('float') / con_mat.sum(axis=1)[:, np.newaxis]\n",
    "\n",
    "sns.heatmap(cm_percent, annot=True, fmt='.2%', cmap='Blues', xticklabels=labels, yticklabels=labels)\n",
    "# sns.heatmap(cm_percent, annot=True, fmt='.2%', cmap='Blues')\n",
    "plt.xlabel('Predicted Labels')\n",
    "plt.ylabel('True Labels')\n",
    "plt.title('Confusion Matrix - Fake News Detection')\n",
    "plt.show()"
   ]
  },
  {
   "attachments": {},
   "cell_type": "markdown",
   "metadata": {},
   "source": [
    "# 6. Classification Algoritms"
   ]
  },
  {
   "cell_type": "code",
   "execution_count": 63,
   "metadata": {},
   "outputs": [],
   "source": [
    "adaboost = AdaBoostClassifier(n_estimators=100, random_state=42)\n",
    "bagging = BaggingClassifier(n_jobs=-1)\n",
    "extraTrees = ExtraTreesClassifier(max_depth=100, n_jobs=-1, random_state=42)\n",
    "gradient = GradientBoostingClassifier(max_depth=100, n_estimators=100, learning_rate=.01,  random_state=42)\n",
    "randomForest = RandomForestClassifier(max_depth=100, random_state=42, n_jobs=-1)\n",
    "histGradientBoosting = HistGradientBoostingClassifier()\n",
    "XGB = XGBClassifier(n_jobs=-1)\n",
    "knn = KNeighborsClassifier(n_jobs=-1)\n",
    "decisionTree = DecisionTreeClassifier(random_state=42, max_depth=100)\n",
    "linear = LinearRegression()\n",
    "pac = PassiveAggressiveClassifier(random_state=42)\n",
    "\n",
    "model = StackingClassifier([\n",
    "    ('XGB', XGB),\n",
    "    ('randomforest', randomForest),\n",
    "    ('histGradientBoosting', histGradientBoosting),\n",
    "    ('adaboost', adaboost),\n",
    "    ('bagging', bagging),\n",
    "    ('extraTres', extraTrees),\n",
    "    ('knn', knn),\n",
    "    ('decisionTree', decisionTree),\n",
    "    # ('pac', pac),\n",
    "    # ('linear', linear),\n",
    "    # ('gradient', gradient),\n",
    "\n",
    "], n_jobs=-1)"
   ]
  },
  {
   "cell_type": "code",
   "execution_count": 64,
   "metadata": {},
   "outputs": [
    {
     "data": {
      "text/html": [
       "<style>#sk-container-id-2 {color: black;background-color: white;}#sk-container-id-2 pre{padding: 0;}#sk-container-id-2 div.sk-toggleable {background-color: white;}#sk-container-id-2 label.sk-toggleable__label {cursor: pointer;display: block;width: 100%;margin-bottom: 0;padding: 0.3em;box-sizing: border-box;text-align: center;}#sk-container-id-2 label.sk-toggleable__label-arrow:before {content: \"▸\";float: left;margin-right: 0.25em;color: #696969;}#sk-container-id-2 label.sk-toggleable__label-arrow:hover:before {color: black;}#sk-container-id-2 div.sk-estimator:hover label.sk-toggleable__label-arrow:before {color: black;}#sk-container-id-2 div.sk-toggleable__content {max-height: 0;max-width: 0;overflow: hidden;text-align: left;background-color: #f0f8ff;}#sk-container-id-2 div.sk-toggleable__content pre {margin: 0.2em;color: black;border-radius: 0.25em;background-color: #f0f8ff;}#sk-container-id-2 input.sk-toggleable__control:checked~div.sk-toggleable__content {max-height: 200px;max-width: 100%;overflow: auto;}#sk-container-id-2 input.sk-toggleable__control:checked~label.sk-toggleable__label-arrow:before {content: \"▾\";}#sk-container-id-2 div.sk-estimator input.sk-toggleable__control:checked~label.sk-toggleable__label {background-color: #d4ebff;}#sk-container-id-2 div.sk-label input.sk-toggleable__control:checked~label.sk-toggleable__label {background-color: #d4ebff;}#sk-container-id-2 input.sk-hidden--visually {border: 0;clip: rect(1px 1px 1px 1px);clip: rect(1px, 1px, 1px, 1px);height: 1px;margin: -1px;overflow: hidden;padding: 0;position: absolute;width: 1px;}#sk-container-id-2 div.sk-estimator {font-family: monospace;background-color: #f0f8ff;border: 1px dotted black;border-radius: 0.25em;box-sizing: border-box;margin-bottom: 0.5em;}#sk-container-id-2 div.sk-estimator:hover {background-color: #d4ebff;}#sk-container-id-2 div.sk-parallel-item::after {content: \"\";width: 100%;border-bottom: 1px solid gray;flex-grow: 1;}#sk-container-id-2 div.sk-label:hover label.sk-toggleable__label {background-color: #d4ebff;}#sk-container-id-2 div.sk-serial::before {content: \"\";position: absolute;border-left: 1px solid gray;box-sizing: border-box;top: 0;bottom: 0;left: 50%;z-index: 0;}#sk-container-id-2 div.sk-serial {display: flex;flex-direction: column;align-items: center;background-color: white;padding-right: 0.2em;padding-left: 0.2em;position: relative;}#sk-container-id-2 div.sk-item {position: relative;z-index: 1;}#sk-container-id-2 div.sk-parallel {display: flex;align-items: stretch;justify-content: center;background-color: white;position: relative;}#sk-container-id-2 div.sk-item::before, #sk-container-id-2 div.sk-parallel-item::before {content: \"\";position: absolute;border-left: 1px solid gray;box-sizing: border-box;top: 0;bottom: 0;left: 50%;z-index: -1;}#sk-container-id-2 div.sk-parallel-item {display: flex;flex-direction: column;z-index: 1;position: relative;background-color: white;}#sk-container-id-2 div.sk-parallel-item:first-child::after {align-self: flex-end;width: 50%;}#sk-container-id-2 div.sk-parallel-item:last-child::after {align-self: flex-start;width: 50%;}#sk-container-id-2 div.sk-parallel-item:only-child::after {width: 0;}#sk-container-id-2 div.sk-dashed-wrapped {border: 1px dashed gray;margin: 0 0.4em 0.5em 0.4em;box-sizing: border-box;padding-bottom: 0.4em;background-color: white;}#sk-container-id-2 div.sk-label label {font-family: monospace;font-weight: bold;display: inline-block;line-height: 1.2em;}#sk-container-id-2 div.sk-label-container {text-align: center;}#sk-container-id-2 div.sk-container {/* jupyter's `normalize.less` sets `[hidden] { display: none; }` but bootstrap.min.css set `[hidden] { display: none !important; }` so we also need the `!important` here to be able to override the default hidden behavior on the sphinx rendered scikit-learn.org. See: https://github.com/scikit-learn/scikit-learn/issues/21755 */display: inline-block !important;position: relative;}#sk-container-id-2 div.sk-text-repr-fallback {display: none;}</style><div id=\"sk-container-id-2\" class=\"sk-top-container\"><div class=\"sk-text-repr-fallback\"><pre>StackingClassifier(estimators=[(&#x27;XGB&#x27;,\n",
       "                                XGBClassifier(base_score=None, booster=None,\n",
       "                                              callbacks=None,\n",
       "                                              colsample_bylevel=None,\n",
       "                                              colsample_bynode=None,\n",
       "                                              colsample_bytree=None,\n",
       "                                              early_stopping_rounds=None,\n",
       "                                              enable_categorical=False,\n",
       "                                              eval_metric=None,\n",
       "                                              feature_types=None, gamma=None,\n",
       "                                              gpu_id=None, grow_policy=None,\n",
       "                                              importance_type=None,\n",
       "                                              interaction_constraints=None,\n",
       "                                              learning_...\n",
       "                               (&#x27;histGradientBoosting&#x27;,\n",
       "                                HistGradientBoostingClassifier()),\n",
       "                               (&#x27;adaboost&#x27;,\n",
       "                                AdaBoostClassifier(n_estimators=100,\n",
       "                                                   random_state=42)),\n",
       "                               (&#x27;bagging&#x27;, BaggingClassifier(n_jobs=-1)),\n",
       "                               (&#x27;extraTres&#x27;,\n",
       "                                ExtraTreesClassifier(max_depth=100, n_jobs=-1,\n",
       "                                                     random_state=42)),\n",
       "                               (&#x27;knn&#x27;, KNeighborsClassifier(n_jobs=-1)),\n",
       "                               (&#x27;decisionTree&#x27;,\n",
       "                                DecisionTreeClassifier(max_depth=100,\n",
       "                                                       random_state=42))],\n",
       "                   n_jobs=-1)</pre><b>In a Jupyter environment, please rerun this cell to show the HTML representation or trust the notebook. <br />On GitHub, the HTML representation is unable to render, please try loading this page with nbviewer.org.</b></div><div class=\"sk-container\" hidden><div class=\"sk-item sk-dashed-wrapped\"><div class=\"sk-label-container\"><div class=\"sk-label sk-toggleable\"><input class=\"sk-toggleable__control sk-hidden--visually\" id=\"sk-estimator-id-11\" type=\"checkbox\" ><label for=\"sk-estimator-id-11\" class=\"sk-toggleable__label sk-toggleable__label-arrow\">StackingClassifier</label><div class=\"sk-toggleable__content\"><pre>StackingClassifier(estimators=[(&#x27;XGB&#x27;,\n",
       "                                XGBClassifier(base_score=None, booster=None,\n",
       "                                              callbacks=None,\n",
       "                                              colsample_bylevel=None,\n",
       "                                              colsample_bynode=None,\n",
       "                                              colsample_bytree=None,\n",
       "                                              early_stopping_rounds=None,\n",
       "                                              enable_categorical=False,\n",
       "                                              eval_metric=None,\n",
       "                                              feature_types=None, gamma=None,\n",
       "                                              gpu_id=None, grow_policy=None,\n",
       "                                              importance_type=None,\n",
       "                                              interaction_constraints=None,\n",
       "                                              learning_...\n",
       "                               (&#x27;histGradientBoosting&#x27;,\n",
       "                                HistGradientBoostingClassifier()),\n",
       "                               (&#x27;adaboost&#x27;,\n",
       "                                AdaBoostClassifier(n_estimators=100,\n",
       "                                                   random_state=42)),\n",
       "                               (&#x27;bagging&#x27;, BaggingClassifier(n_jobs=-1)),\n",
       "                               (&#x27;extraTres&#x27;,\n",
       "                                ExtraTreesClassifier(max_depth=100, n_jobs=-1,\n",
       "                                                     random_state=42)),\n",
       "                               (&#x27;knn&#x27;, KNeighborsClassifier(n_jobs=-1)),\n",
       "                               (&#x27;decisionTree&#x27;,\n",
       "                                DecisionTreeClassifier(max_depth=100,\n",
       "                                                       random_state=42))],\n",
       "                   n_jobs=-1)</pre></div></div></div><div class=\"sk-serial\"><div class=\"sk-item\"><div class=\"sk-parallel\"><div class=\"sk-parallel-item\"><div class=\"sk-item\"><div class=\"sk-label-container\"><div class=\"sk-label sk-toggleable\"><label>XGB</label></div></div><div class=\"sk-serial\"><div class=\"sk-item\"><div class=\"sk-estimator sk-toggleable\"><input class=\"sk-toggleable__control sk-hidden--visually\" id=\"sk-estimator-id-12\" type=\"checkbox\" ><label for=\"sk-estimator-id-12\" class=\"sk-toggleable__label sk-toggleable__label-arrow\">XGBClassifier</label><div class=\"sk-toggleable__content\"><pre>XGBClassifier(base_score=None, booster=None, callbacks=None,\n",
       "              colsample_bylevel=None, colsample_bynode=None,\n",
       "              colsample_bytree=None, early_stopping_rounds=None,\n",
       "              enable_categorical=False, eval_metric=None, feature_types=None,\n",
       "              gamma=None, gpu_id=None, grow_policy=None, importance_type=None,\n",
       "              interaction_constraints=None, learning_rate=None, max_bin=None,\n",
       "              max_cat_threshold=None, max_cat_to_onehot=None,\n",
       "              max_delta_step=None, max_depth=None, max_leaves=None,\n",
       "              min_child_weight=None, missing=nan, monotone_constraints=None,\n",
       "              n_estimators=100, n_jobs=-1, num_parallel_tree=None,\n",
       "              predictor=None, random_state=None, ...)</pre></div></div></div></div></div></div><div class=\"sk-parallel-item\"><div class=\"sk-item\"><div class=\"sk-label-container\"><div class=\"sk-label sk-toggleable\"><label>randomforest</label></div></div><div class=\"sk-serial\"><div class=\"sk-item\"><div class=\"sk-estimator sk-toggleable\"><input class=\"sk-toggleable__control sk-hidden--visually\" id=\"sk-estimator-id-13\" type=\"checkbox\" ><label for=\"sk-estimator-id-13\" class=\"sk-toggleable__label sk-toggleable__label-arrow\">RandomForestClassifier</label><div class=\"sk-toggleable__content\"><pre>RandomForestClassifier(max_depth=100, n_jobs=-1, random_state=42)</pre></div></div></div></div></div></div><div class=\"sk-parallel-item\"><div class=\"sk-item\"><div class=\"sk-label-container\"><div class=\"sk-label sk-toggleable\"><label>histGradientBoosting</label></div></div><div class=\"sk-serial\"><div class=\"sk-item\"><div class=\"sk-estimator sk-toggleable\"><input class=\"sk-toggleable__control sk-hidden--visually\" id=\"sk-estimator-id-14\" type=\"checkbox\" ><label for=\"sk-estimator-id-14\" class=\"sk-toggleable__label sk-toggleable__label-arrow\">HistGradientBoostingClassifier</label><div class=\"sk-toggleable__content\"><pre>HistGradientBoostingClassifier()</pre></div></div></div></div></div></div><div class=\"sk-parallel-item\"><div class=\"sk-item\"><div class=\"sk-label-container\"><div class=\"sk-label sk-toggleable\"><label>adaboost</label></div></div><div class=\"sk-serial\"><div class=\"sk-item\"><div class=\"sk-estimator sk-toggleable\"><input class=\"sk-toggleable__control sk-hidden--visually\" id=\"sk-estimator-id-15\" type=\"checkbox\" ><label for=\"sk-estimator-id-15\" class=\"sk-toggleable__label sk-toggleable__label-arrow\">AdaBoostClassifier</label><div class=\"sk-toggleable__content\"><pre>AdaBoostClassifier(n_estimators=100, random_state=42)</pre></div></div></div></div></div></div><div class=\"sk-parallel-item\"><div class=\"sk-item\"><div class=\"sk-label-container\"><div class=\"sk-label sk-toggleable\"><label>bagging</label></div></div><div class=\"sk-serial\"><div class=\"sk-item\"><div class=\"sk-estimator sk-toggleable\"><input class=\"sk-toggleable__control sk-hidden--visually\" id=\"sk-estimator-id-16\" type=\"checkbox\" ><label for=\"sk-estimator-id-16\" class=\"sk-toggleable__label sk-toggleable__label-arrow\">BaggingClassifier</label><div class=\"sk-toggleable__content\"><pre>BaggingClassifier(n_jobs=-1)</pre></div></div></div></div></div></div><div class=\"sk-parallel-item\"><div class=\"sk-item\"><div class=\"sk-label-container\"><div class=\"sk-label sk-toggleable\"><label>extraTres</label></div></div><div class=\"sk-serial\"><div class=\"sk-item\"><div class=\"sk-estimator sk-toggleable\"><input class=\"sk-toggleable__control sk-hidden--visually\" id=\"sk-estimator-id-17\" type=\"checkbox\" ><label for=\"sk-estimator-id-17\" class=\"sk-toggleable__label sk-toggleable__label-arrow\">ExtraTreesClassifier</label><div class=\"sk-toggleable__content\"><pre>ExtraTreesClassifier(max_depth=100, n_jobs=-1, random_state=42)</pre></div></div></div></div></div></div><div class=\"sk-parallel-item\"><div class=\"sk-item\"><div class=\"sk-label-container\"><div class=\"sk-label sk-toggleable\"><label>knn</label></div></div><div class=\"sk-serial\"><div class=\"sk-item\"><div class=\"sk-estimator sk-toggleable\"><input class=\"sk-toggleable__control sk-hidden--visually\" id=\"sk-estimator-id-18\" type=\"checkbox\" ><label for=\"sk-estimator-id-18\" class=\"sk-toggleable__label sk-toggleable__label-arrow\">KNeighborsClassifier</label><div class=\"sk-toggleable__content\"><pre>KNeighborsClassifier(n_jobs=-1)</pre></div></div></div></div></div></div><div class=\"sk-parallel-item\"><div class=\"sk-item\"><div class=\"sk-label-container\"><div class=\"sk-label sk-toggleable\"><label>decisionTree</label></div></div><div class=\"sk-serial\"><div class=\"sk-item\"><div class=\"sk-estimator sk-toggleable\"><input class=\"sk-toggleable__control sk-hidden--visually\" id=\"sk-estimator-id-19\" type=\"checkbox\" ><label for=\"sk-estimator-id-19\" class=\"sk-toggleable__label sk-toggleable__label-arrow\">DecisionTreeClassifier</label><div class=\"sk-toggleable__content\"><pre>DecisionTreeClassifier(max_depth=100, random_state=42)</pre></div></div></div></div></div></div></div></div><div class=\"sk-item\"><div class=\"sk-parallel\"><div class=\"sk-parallel-item\"><div class=\"sk-item\"><div class=\"sk-label-container\"><div class=\"sk-label sk-toggleable\"><label>final_estimator</label></div></div><div class=\"sk-serial\"><div class=\"sk-item\"><div class=\"sk-estimator sk-toggleable\"><input class=\"sk-toggleable__control sk-hidden--visually\" id=\"sk-estimator-id-20\" type=\"checkbox\" ><label for=\"sk-estimator-id-20\" class=\"sk-toggleable__label sk-toggleable__label-arrow\">LogisticRegression</label><div class=\"sk-toggleable__content\"><pre>LogisticRegression()</pre></div></div></div></div></div></div></div></div></div></div></div></div>"
      ],
      "text/plain": [
       "StackingClassifier(estimators=[('XGB',\n",
       "                                XGBClassifier(base_score=None, booster=None,\n",
       "                                              callbacks=None,\n",
       "                                              colsample_bylevel=None,\n",
       "                                              colsample_bynode=None,\n",
       "                                              colsample_bytree=None,\n",
       "                                              early_stopping_rounds=None,\n",
       "                                              enable_categorical=False,\n",
       "                                              eval_metric=None,\n",
       "                                              feature_types=None, gamma=None,\n",
       "                                              gpu_id=None, grow_policy=None,\n",
       "                                              importance_type=None,\n",
       "                                              interaction_constraints=None,\n",
       "                                              learning_...\n",
       "                               ('histGradientBoosting',\n",
       "                                HistGradientBoostingClassifier()),\n",
       "                               ('adaboost',\n",
       "                                AdaBoostClassifier(n_estimators=100,\n",
       "                                                   random_state=42)),\n",
       "                               ('bagging', BaggingClassifier(n_jobs=-1)),\n",
       "                               ('extraTres',\n",
       "                                ExtraTreesClassifier(max_depth=100, n_jobs=-1,\n",
       "                                                     random_state=42)),\n",
       "                               ('knn', KNeighborsClassifier(n_jobs=-1)),\n",
       "                               ('decisionTree',\n",
       "                                DecisionTreeClassifier(max_depth=100,\n",
       "                                                       random_state=42))],\n",
       "                   n_jobs=-1)"
      ]
     },
     "execution_count": 64,
     "metadata": {},
     "output_type": "execute_result"
    }
   ],
   "source": [
    "model.fit(training_padded, training_label)"
   ]
  },
  {
   "cell_type": "code",
   "execution_count": 65,
   "metadata": {},
   "outputs": [
    {
     "name": "stdout",
     "output_type": "stream",
     "text": [
      "Train Score        : 100.0 %\n",
      "Test Score         : 85.2 %\n",
      "R Squared Error    : 0.41\n",
      "Mean Squared Error : 0.15\n",
      "Mean Absolute Error: 0.15\n"
     ]
    }
   ],
   "source": [
    "print(\"Train Score        :\",round((model.score(training_padded, training_label)*100), 2),'%')\n",
    "print(\"Test Score         :\",round((model.score(testing_padded, testing_label)*100), 2),'%')\n",
    "\n",
    "y_pred = model.predict(testing_padded)\n",
    "\n",
    "print(\"R Squared Error    :\",round(r2_score(testing_label, y_pred), 2))\n",
    "print(\"Mean Squared Error :\",round(mean_squared_error(testing_label, y_pred), 2))\n",
    "print(\"Mean Absolute Error:\",round(mean_absolute_error(testing_label, y_pred), 2))"
   ]
  },
  {
   "cell_type": "code",
   "execution_count": 66,
   "metadata": {},
   "outputs": [
    {
     "name": "stdout",
     "output_type": "stream",
     "text": [
      "   Train Predictions  Actuals   Diff\n",
      "0                  1        0  False\n",
      "1                  1        0  False\n",
      "2                  1        0  False\n",
      "3                  0        0   True\n",
      "4                  0        0   True\n"
     ]
    },
    {
     "data": {
      "text/plain": [
       "True     259\n",
       "False     45\n",
       "Name: Diff, dtype: int64"
      ]
     },
     "execution_count": 66,
     "metadata": {},
     "output_type": "execute_result"
    }
   ],
   "source": [
    "train_predictions = model.predict(testing_padded).flatten()\n",
    "\n",
    "train_results = pd.DataFrame(data={'Train Predictions':train_predictions, 'Actuals':testing_label})\n",
    "train_results['Diff'] = train_results['Actuals'] == train_results['Train Predictions']\n",
    "print(train_results.head(5))\n",
    "train_results['Diff'].value_counts()"
   ]
  },
  {
   "cell_type": "code",
   "execution_count": 67,
   "metadata": {},
   "outputs": [
    {
     "name": "stdout",
     "output_type": "stream",
     "text": [
      "              precision    recall  f1-score   support\n",
      "\n",
      "           0       0.82      0.87      0.85       143\n",
      "           1       0.88      0.83      0.86       161\n",
      "\n",
      "    accuracy                           0.85       304\n",
      "   macro avg       0.85      0.85      0.85       304\n",
      "weighted avg       0.85      0.85      0.85       304\n",
      "\n"
     ]
    }
   ],
   "source": [
    "y_pred = model.predict(testing_padded)\n",
    "print(classification_report(y_pred,testing_label))"
   ]
  },
  {
   "cell_type": "code",
   "execution_count": 68,
   "metadata": {},
   "outputs": [
    {
     "data": {
      "image/png": "[encoded data removed]",
      "text/plain": [
       "<Figure size 640x480 with 2 Axes>"
      ]
     },
     "metadata": {},
     "output_type": "display_data"
    }
   ],
   "source": [
    "labels = ['Not Spam','Spam']\n",
    "\n",
    "y_pred = np.rint(model.predict(testing_padded))\n",
    "con_mat = confusion_matrix(testing_label,y_pred)\n",
    "\n",
    "cm_percent = con_mat.astype('float') / con_mat.sum(axis=1)[:, np.newaxis]\n",
    "\n",
    "sns.heatmap(cm_percent, annot=True, fmt='.2%', cmap='Blues', xticklabels=labels, yticklabels=labels)\n",
    "plt.xlabel('Predicted Labels')\n",
    "plt.ylabel('True Labels')\n",
    "plt.title('Confusion Matrix - Fake News Detection')\n",
    "plt.show()"
   ]
  }
 ],
 "metadata": {
  "kernelspec": {
   "display_name": "gan",
   "language": "python",
   "name": "python3"
  },
  "language_info": {
   "codemirror_mode": {
    "name": "ipython",
    "version": 3
   },
   "file_extension": ".py",
   "mimetype": "text/x-python",
   "name": "python",
   "nbconvert_exporter": "python",
   "pygments_lexer": "ipython3",
   "version": "3.9.16"
  },
  "orig_nbformat": 4
 },
 "nbformat": 4,
 "nbformat_minor": 2
}
