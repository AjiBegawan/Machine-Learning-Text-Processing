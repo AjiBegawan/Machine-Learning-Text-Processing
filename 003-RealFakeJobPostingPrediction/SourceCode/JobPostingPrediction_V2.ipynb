{
 "cells": [
  {
   "cell_type": "code",
   "execution_count": 1,
   "metadata": {},
   "outputs": [
    {
     "name": "stdout",
     "output_type": "stream",
     "text": [
      "[PhysicalDevice(name='/physical_device:GPU:0', device_type='GPU')]\n"
     ]
    }
   ],
   "source": [
    "import tensorflow as tf\n",
    "gpu = tf.config.experimental.list_physical_devices('GPU')\n",
    "tf.config.experimental.set_memory_growth(gpu[0], True)\n",
    "print(gpu)"
   ]
  },
  {
   "attachments": {},
   "cell_type": "markdown",
   "metadata": {},
   "source": [
    "# 1. Loading Libraries"
   ]
  },
  {
   "cell_type": "code",
   "execution_count": 2,
   "metadata": {},
   "outputs": [
    {
     "name": "stderr",
     "output_type": "stream",
     "text": [
      "[nltk_data] Downloading package punkt to\n",
      "[nltk_data]     C:\\Users\\indiz\\AppData\\Roaming\\nltk_data...\n",
      "[nltk_data]   Package punkt is already up-to-date!\n",
      "[nltk_data] Downloading package stopwords to\n",
      "[nltk_data]     C:\\Users\\indiz\\AppData\\Roaming\\nltk_data...\n",
      "[nltk_data]   Package stopwords is already up-to-date!\n"
     ]
    }
   ],
   "source": [
    "import re\n",
    "import numpy as np\n",
    "import pandas as pd\n",
    "import seaborn as sns\n",
    "import tensorflow as tf\n",
    "import matplotlib.pyplot as plt\n",
    "\n",
    "from collections import Counter\n",
    "from itertools import cycle                   \n",
    "from bs4 import BeautifulSoup\n",
    "from tqdm.notebook import tqdm\n",
    "tqdm.pandas()\n",
    "\n",
    "from imblearn.under_sampling import RandomUnderSampler\n",
    "\n",
    "from tensorflow import keras\n",
    "from keras.utils import to_categorical\n",
    "from tensorflow.keras.models import Sequential\n",
    "from tensorflow.keras.optimizers import SGD, Adam,  RMSprop, Nadam\n",
    "from tensorflow.keras.preprocessing.text import Tokenizer\n",
    "from tensorflow.python.keras import models, layers, optimizers\n",
    "from tensorflow.keras.preprocessing.sequence import pad_sequences\n",
    "from tensorflow.keras.layers import Dense, Flatten, Conv1D, MaxPooling1D, LSTM, GRU, Embedding,\\\n",
    "    BatchNormalization, LeakyReLU, Dropout, ReLU, Bidirectional \n",
    "\n",
    "from sklearn.model_selection import train_test_split\n",
    "from sklearn.feature_extraction.text import TfidfVectorizer\n",
    "from sklearn.linear_model import PassiveAggressiveClassifier\n",
    "from sklearn.metrics import accuracy_score, confusion_matrix, roc_auc_score, RocCurveDisplay\n",
    "\n",
    "import nltk\n",
    "nltk.download('punkt')\n",
    "nltk.download('stopwords')\n",
    "from nltk.corpus import stopwords\n"
   ]
  },
  {
   "attachments": {},
   "cell_type": "markdown",
   "metadata": {},
   "source": [
    "# 2. Load Data"
   ]
  },
  {
   "cell_type": "code",
   "execution_count": 3,
   "metadata": {},
   "outputs": [
    {
     "data": {
      "text/html": [
       "<div>\n",
       "<style scoped>\n",
       "    .dataframe tbody tr th:only-of-type {\n",
       "        vertical-align: middle;\n",
       "    }\n",
       "\n",
       "    .dataframe tbody tr th {\n",
       "        vertical-align: top;\n",
       "    }\n",
       "\n",
       "    .dataframe thead th {\n",
       "        text-align: right;\n",
       "    }\n",
       "</style>\n",
       "<table border=\"1\" class=\"dataframe\">\n",
       "  <thead>\n",
       "    <tr style=\"text-align: right;\">\n",
       "      <th></th>\n",
       "      <th>title</th>\n",
       "      <th>company_profile</th>\n",
       "      <th>description</th>\n",
       "      <th>requirements</th>\n",
       "      <th>fraudulent</th>\n",
       "    </tr>\n",
       "  </thead>\n",
       "  <tbody>\n",
       "    <tr>\n",
       "      <th>0</th>\n",
       "      <td>Marketing Intern</td>\n",
       "      <td>We're Food52, and we've created a groundbreaki...</td>\n",
       "      <td>Food52, a fast-growing, James Beard Award-winn...</td>\n",
       "      <td>Experience with content management systems a m...</td>\n",
       "      <td>0</td>\n",
       "    </tr>\n",
       "    <tr>\n",
       "      <th>1</th>\n",
       "      <td>Customer Service - Cloud Video Production</td>\n",
       "      <td>90 Seconds, the worlds Cloud Video Production ...</td>\n",
       "      <td>Organised - Focused - Vibrant - Awesome!Do you...</td>\n",
       "      <td>What we expect from you:Your key responsibilit...</td>\n",
       "      <td>0</td>\n",
       "    </tr>\n",
       "    <tr>\n",
       "      <th>2</th>\n",
       "      <td>Commissioning Machinery Assistant (CMA)</td>\n",
       "      <td>Valor Services provides Workforce Solutions th...</td>\n",
       "      <td>Our client, located in Houston, is actively se...</td>\n",
       "      <td>Implement pre-commissioning and commissioning ...</td>\n",
       "      <td>0</td>\n",
       "    </tr>\n",
       "    <tr>\n",
       "      <th>3</th>\n",
       "      <td>Account Executive - Washington DC</td>\n",
       "      <td>Our passion for improving quality of life thro...</td>\n",
       "      <td>THE COMPANY: ESRI – Environmental Systems Rese...</td>\n",
       "      <td>EDUCATION: Bachelor’s or Master’s in GIS, busi...</td>\n",
       "      <td>0</td>\n",
       "    </tr>\n",
       "    <tr>\n",
       "      <th>4</th>\n",
       "      <td>Bill Review Manager</td>\n",
       "      <td>SpotSource Solutions LLC is a Global Human Cap...</td>\n",
       "      <td>JOB TITLE: Itemization Review ManagerLOCATION:...</td>\n",
       "      <td>QUALIFICATIONS:RN license in the State of Texa...</td>\n",
       "      <td>0</td>\n",
       "    </tr>\n",
       "  </tbody>\n",
       "</table>\n",
       "</div>"
      ],
      "text/plain": [
       "                                       title  \\\n",
       "0                           Marketing Intern   \n",
       "1  Customer Service - Cloud Video Production   \n",
       "2    Commissioning Machinery Assistant (CMA)   \n",
       "3          Account Executive - Washington DC   \n",
       "4                        Bill Review Manager   \n",
       "\n",
       "                                     company_profile  \\\n",
       "0  We're Food52, and we've created a groundbreaki...   \n",
       "1  90 Seconds, the worlds Cloud Video Production ...   \n",
       "2  Valor Services provides Workforce Solutions th...   \n",
       "3  Our passion for improving quality of life thro...   \n",
       "4  SpotSource Solutions LLC is a Global Human Cap...   \n",
       "\n",
       "                                         description  \\\n",
       "0  Food52, a fast-growing, James Beard Award-winn...   \n",
       "1  Organised - Focused - Vibrant - Awesome!Do you...   \n",
       "2  Our client, located in Houston, is actively se...   \n",
       "3  THE COMPANY: ESRI – Environmental Systems Rese...   \n",
       "4  JOB TITLE: Itemization Review ManagerLOCATION:...   \n",
       "\n",
       "                                        requirements  fraudulent  \n",
       "0  Experience with content management systems a m...           0  \n",
       "1  What we expect from you:Your key responsibilit...           0  \n",
       "2  Implement pre-commissioning and commissioning ...           0  \n",
       "3  EDUCATION: Bachelor’s or Master’s in GIS, busi...           0  \n",
       "4  QUALIFICATIONS:RN license in the State of Texa...           0  "
      ]
     },
     "execution_count": 3,
     "metadata": {},
     "output_type": "execute_result"
    }
   ],
   "source": [
    "data = pd.read_csv('../Dataset/fake_job_postings.csv', engine='python', encoding='utf-8')\n",
    "\n",
    "data = data.drop(columns = ['job_id', 'department', 'salary_range', 'location', 'benefits', \n",
    "                            'telecommuting', 'has_company_logo', 'has_questions', 'employment_type', \n",
    "                            'required_experience', 'required_education', 'industry', 'function'])\n",
    "\n",
    "data['description'] = data['description'].astype(str) \n",
    "data.head()"
   ]
  },
  {
   "attachments": {},
   "cell_type": "markdown",
   "metadata": {},
   "source": [
    "# 3. Initial Analysis"
   ]
  },
  {
   "cell_type": "code",
   "execution_count": 4,
   "metadata": {},
   "outputs": [
    {
     "name": "stdout",
     "output_type": "stream",
     "text": [
      "<class 'pandas.core.frame.DataFrame'>\n",
      "RangeIndex: 17880 entries, 0 to 17879\n",
      "Data columns (total 5 columns):\n",
      " #   Column           Non-Null Count  Dtype \n",
      "---  ------           --------------  ----- \n",
      " 0   title            17880 non-null  object\n",
      " 1   company_profile  14572 non-null  object\n",
      " 2   description      17880 non-null  object\n",
      " 3   requirements     15185 non-null  object\n",
      " 4   fraudulent       17880 non-null  int64 \n",
      "dtypes: int64(1), object(4)\n",
      "memory usage: 698.6+ KB\n"
     ]
    }
   ],
   "source": [
    "data.info()"
   ]
  },
  {
   "cell_type": "code",
   "execution_count": 5,
   "metadata": {},
   "outputs": [
    {
     "data": {
      "text/plain": [
       "[Text(0, 0, '17014'), Text(0, 0, '866')]"
      ]
     },
     "execution_count": 5,
     "metadata": {},
     "output_type": "execute_result"
    },
    {
     "data": {
      "image/png": "[encoded data removed]",
      "text/plain": [
       "<Figure size 600x400 with 1 Axes>"
      ]
     },
     "metadata": {},
     "output_type": "display_data"
    }
   ],
   "source": [
    "plt.subplots(figsize = (6,4))\n",
    "ax = sns.countplot(data = data, x = 'fraudulent')\n",
    "ax.bar_label(ax.containers[0])"
   ]
  },
  {
   "attachments": {},
   "cell_type": "markdown",
   "metadata": {},
   "source": [
    "# 4. Preprocessing Text"
   ]
  },
  {
   "attachments": {},
   "cell_type": "markdown",
   "metadata": {},
   "source": [
    "### 4.3. Merging Columns"
   ]
  },
  {
   "cell_type": "code",
   "execution_count": 6,
   "metadata": {},
   "outputs": [
    {
     "data": {
      "text/html": [
       "<div>\n",
       "<style scoped>\n",
       "    .dataframe tbody tr th:only-of-type {\n",
       "        vertical-align: middle;\n",
       "    }\n",
       "\n",
       "    .dataframe tbody tr th {\n",
       "        vertical-align: top;\n",
       "    }\n",
       "\n",
       "    .dataframe thead th {\n",
       "        text-align: right;\n",
       "    }\n",
       "</style>\n",
       "<table border=\"1\" class=\"dataframe\">\n",
       "  <thead>\n",
       "    <tr style=\"text-align: right;\">\n",
       "      <th></th>\n",
       "      <th>Title</th>\n",
       "      <th>Body</th>\n",
       "      <th>Tags</th>\n",
       "      <th>Y</th>\n",
       "      <th>label</th>\n",
       "      <th>combined_text</th>\n",
       "    </tr>\n",
       "  </thead>\n",
       "  <tbody>\n",
       "    <tr>\n",
       "      <th>0</th>\n",
       "      <td>Java: Repeat Task Every Random Seconds</td>\n",
       "      <td>&lt;p&gt;I'm already familiar with repeating tasks e...</td>\n",
       "      <td>java  repeat</td>\n",
       "      <td>LQ_CLOSE</td>\n",
       "      <td>2</td>\n",
       "      <td>&lt;p&gt;I'm already familiar with repeating tasks e...</td>\n",
       "    </tr>\n",
       "    <tr>\n",
       "      <th>1</th>\n",
       "      <td>Why are Java Optionals immutable?</td>\n",
       "      <td>&lt;p&gt;I'd like to understand why Java 8 Optionals...</td>\n",
       "      <td>java  optional</td>\n",
       "      <td>HQ</td>\n",
       "      <td>0</td>\n",
       "      <td>&lt;p&gt;I'd like to understand why Java 8 Optionals...</td>\n",
       "    </tr>\n",
       "    <tr>\n",
       "      <th>2</th>\n",
       "      <td>Text Overlay Image with Darkened Opacity React...</td>\n",
       "      <td>&lt;p&gt;I am attempting to overlay a title over an ...</td>\n",
       "      <td>javascript  image  overlay  react-native  opa...</td>\n",
       "      <td>HQ</td>\n",
       "      <td>0</td>\n",
       "      <td>&lt;p&gt;I am attempting to overlay a title over an ...</td>\n",
       "    </tr>\n",
       "    <tr>\n",
       "      <th>3</th>\n",
       "      <td>Why ternary operator in swift is so picky?</td>\n",
       "      <td>&lt;p&gt;The question is very simple, but I just cou...</td>\n",
       "      <td>swift  operators  whitespace  ternary-operato...</td>\n",
       "      <td>HQ</td>\n",
       "      <td>0</td>\n",
       "      <td>&lt;p&gt;The question is very simple, but I just cou...</td>\n",
       "    </tr>\n",
       "    <tr>\n",
       "      <th>4</th>\n",
       "      <td>hide/show fab with scale animation</td>\n",
       "      <td>&lt;p&gt;I'm using custom floatingactionmenu. I need...</td>\n",
       "      <td>android  material-design  floating-action-but...</td>\n",
       "      <td>HQ</td>\n",
       "      <td>0</td>\n",
       "      <td>&lt;p&gt;I'm using custom floatingactionmenu. I need...</td>\n",
       "    </tr>\n",
       "  </tbody>\n",
       "</table>\n",
       "</div>"
      ],
      "text/plain": [
       "                                               Title  \\\n",
       "0             Java: Repeat Task Every Random Seconds   \n",
       "1                  Why are Java Optionals immutable?   \n",
       "2  Text Overlay Image with Darkened Opacity React...   \n",
       "3         Why ternary operator in swift is so picky?   \n",
       "4                 hide/show fab with scale animation   \n",
       "\n",
       "                                                Body  \\\n",
       "0  <p>I'm already familiar with repeating tasks e...   \n",
       "1  <p>I'd like to understand why Java 8 Optionals...   \n",
       "2  <p>I am attempting to overlay a title over an ...   \n",
       "3  <p>The question is very simple, but I just cou...   \n",
       "4  <p>I'm using custom floatingactionmenu. I need...   \n",
       "\n",
       "                                                Tags         Y  label  \\\n",
       "0                                      java  repeat   LQ_CLOSE      2   \n",
       "1                                    java  optional         HQ      0   \n",
       "2   javascript  image  overlay  react-native  opa...        HQ      0   \n",
       "3   swift  operators  whitespace  ternary-operato...        HQ      0   \n",
       "4   android  material-design  floating-action-but...        HQ      0   \n",
       "\n",
       "                                       combined_text  \n",
       "0  <p>I'm already familiar with repeating tasks e...  \n",
       "1  <p>I'd like to understand why Java 8 Optionals...  \n",
       "2  <p>I am attempting to overlay a title over an ...  \n",
       "3  <p>The question is very simple, but I just cou...  \n",
       "4  <p>I'm using custom floatingactionmenu. I need...  "
      ]
     },
     "execution_count": 6,
     "metadata": {},
     "output_type": "execute_result"
    }
   ],
   "source": [
    "# data['combined_text'] = data['Title'] + ' ' + data['Body'] + ' ' + data['Tags']\n",
    "# data['combined_text'] = data['Title'] + ' ' + data['Body']\n",
    "data['combined_text'] = data['Body']\n",
    "data.head()"
   ]
  },
  {
   "attachments": {},
   "cell_type": "markdown",
   "metadata": {},
   "source": [
    "### 4.4. Cleaning combined_text Column"
   ]
  },
  {
   "cell_type": "code",
   "execution_count": 6,
   "metadata": {},
   "outputs": [],
   "source": [
    "CLEANR = re.compile('<.*?>|&([a-z0-9]+|#[0-9]{1,6}|#x[0-9a-f]{1,6});')\n",
    "\n",
    "def clean_text(text):\n",
    "    text = text.lower()\n",
    "    text = re.sub(CLEANR, '', text)\n",
    "    text = re.sub(r'http\\S+', '', text)\n",
    "    text = re.sub(r'www\\S+', '', text)\n",
    "    text = re.sub(\"#+\",\" \", text)\n",
    "    text = re.sub(\"@[\\w]*\",\" \", text)\n",
    "    text = re.sub(\"[^a-z\\s]\",\" \", text)\n",
    "    text = re.sub(\"@[A-Za-z0-9_]+\",\" \", text)\n",
    "    return text\n",
    "\n",
    "def remove_duplicate_words(text):\n",
    "    return re.sub(r'\\b(\\w+)(\\s+\\1)+\\b', r'\\1', text)\n",
    "\n",
    "stopword_en = pd.read_csv('../../en_stopword_1555.txt', header=None).drop_duplicates()\n",
    "en_stopword = stopword_en[0].values.tolist()\n",
    "en_stopword = [word.strip() for word in en_stopword]\n",
    "\n",
    "nltk_stopword = stopwords.words('english')\n",
    "\n",
    "combined_stopwords = pd.DataFrame(en_stopword + nltk_stopword).drop_duplicates()\n",
    "stopword_list = combined_stopwords[0].values.tolist()"
   ]
  },
  {
   "cell_type": "code",
   "execution_count": 7,
   "metadata": {},
   "outputs": [
    {
     "data": {
      "application/vnd.jupyter.widget-view+json": {
       "model_id": "d41493ee11344072a636c02d51fb38b1",
       "version_major": 2,
       "version_minor": 0
      },
      "text/plain": [
       "  0%|          | 0/17880 [00:00<?, ?it/s]"
      ]
     },
     "metadata": {},
     "output_type": "display_data"
    },
    {
     "data": {
      "application/vnd.jupyter.widget-view+json": {
       "model_id": "0c1331c6c8a64cc6895ab30f41fc316c",
       "version_major": 2,
       "version_minor": 0
      },
      "text/plain": [
       "  0%|          | 0/17880 [00:00<?, ?it/s]"
      ]
     },
     "metadata": {},
     "output_type": "display_data"
    },
    {
     "data": {
      "text/html": [
       "<div>\n",
       "<style scoped>\n",
       "    .dataframe tbody tr th:only-of-type {\n",
       "        vertical-align: middle;\n",
       "    }\n",
       "\n",
       "    .dataframe tbody tr th {\n",
       "        vertical-align: top;\n",
       "    }\n",
       "\n",
       "    .dataframe thead th {\n",
       "        text-align: right;\n",
       "    }\n",
       "</style>\n",
       "<table border=\"1\" class=\"dataframe\">\n",
       "  <thead>\n",
       "    <tr style=\"text-align: right;\">\n",
       "      <th></th>\n",
       "      <th>title</th>\n",
       "      <th>company_profile</th>\n",
       "      <th>description</th>\n",
       "      <th>requirements</th>\n",
       "      <th>fraudulent</th>\n",
       "      <th>clean_text</th>\n",
       "    </tr>\n",
       "  </thead>\n",
       "  <tbody>\n",
       "    <tr>\n",
       "      <th>0</th>\n",
       "      <td>Marketing Intern</td>\n",
       "      <td>We're Food52, and we've created a groundbreaki...</td>\n",
       "      <td>Food52, a fast-growing, James Beard Award-winn...</td>\n",
       "      <td>Experience with content management systems a m...</td>\n",
       "      <td>0</td>\n",
       "      <td>food fast growing james beard award winning on...</td>\n",
       "    </tr>\n",
       "    <tr>\n",
       "      <th>1</th>\n",
       "      <td>Customer Service - Cloud Video Production</td>\n",
       "      <td>90 Seconds, the worlds Cloud Video Production ...</td>\n",
       "      <td>Organised - Focused - Vibrant - Awesome!Do you...</td>\n",
       "      <td>What we expect from you:Your key responsibilit...</td>\n",
       "      <td>0</td>\n",
       "      <td>organised focused vibrant awesome passion cust...</td>\n",
       "    </tr>\n",
       "    <tr>\n",
       "      <th>2</th>\n",
       "      <td>Commissioning Machinery Assistant (CMA)</td>\n",
       "      <td>Valor Services provides Workforce Solutions th...</td>\n",
       "      <td>Our client, located in Houston, is actively se...</td>\n",
       "      <td>Implement pre-commissioning and commissioning ...</td>\n",
       "      <td>0</td>\n",
       "      <td>client located houston actively seeking experi...</td>\n",
       "    </tr>\n",
       "    <tr>\n",
       "      <th>3</th>\n",
       "      <td>Account Executive - Washington DC</td>\n",
       "      <td>Our passion for improving quality of life thro...</td>\n",
       "      <td>THE COMPANY: ESRI – Environmental Systems Rese...</td>\n",
       "      <td>EDUCATION: Bachelor’s or Master’s in GIS, busi...</td>\n",
       "      <td>0</td>\n",
       "      <td>company esri environmental systems instituteou...</td>\n",
       "    </tr>\n",
       "    <tr>\n",
       "      <th>4</th>\n",
       "      <td>Bill Review Manager</td>\n",
       "      <td>SpotSource Solutions LLC is a Global Human Cap...</td>\n",
       "      <td>JOB TITLE: Itemization Review ManagerLOCATION:...</td>\n",
       "      <td>QUALIFICATIONS:RN license in the State of Texa...</td>\n",
       "      <td>0</td>\n",
       "      <td>job title itemization review managerlocation f...</td>\n",
       "    </tr>\n",
       "  </tbody>\n",
       "</table>\n",
       "</div>"
      ],
      "text/plain": [
       "                                       title  \\\n",
       "0                           Marketing Intern   \n",
       "1  Customer Service - Cloud Video Production   \n",
       "2    Commissioning Machinery Assistant (CMA)   \n",
       "3          Account Executive - Washington DC   \n",
       "4                        Bill Review Manager   \n",
       "\n",
       "                                     company_profile  \\\n",
       "0  We're Food52, and we've created a groundbreaki...   \n",
       "1  90 Seconds, the worlds Cloud Video Production ...   \n",
       "2  Valor Services provides Workforce Solutions th...   \n",
       "3  Our passion for improving quality of life thro...   \n",
       "4  SpotSource Solutions LLC is a Global Human Cap...   \n",
       "\n",
       "                                         description  \\\n",
       "0  Food52, a fast-growing, James Beard Award-winn...   \n",
       "1  Organised - Focused - Vibrant - Awesome!Do you...   \n",
       "2  Our client, located in Houston, is actively se...   \n",
       "3  THE COMPANY: ESRI – Environmental Systems Rese...   \n",
       "4  JOB TITLE: Itemization Review ManagerLOCATION:...   \n",
       "\n",
       "                                        requirements  fraudulent  \\\n",
       "0  Experience with content management systems a m...           0   \n",
       "1  What we expect from you:Your key responsibilit...           0   \n",
       "2  Implement pre-commissioning and commissioning ...           0   \n",
       "3  EDUCATION: Bachelor’s or Master’s in GIS, busi...           0   \n",
       "4  QUALIFICATIONS:RN license in the State of Texa...           0   \n",
       "\n",
       "                                          clean_text  \n",
       "0  food fast growing james beard award winning on...  \n",
       "1  organised focused vibrant awesome passion cust...  \n",
       "2  client located houston actively seeking experi...  \n",
       "3  company esri environmental systems instituteou...  \n",
       "4  job title itemization review managerlocation f...  "
      ]
     },
     "execution_count": 7,
     "metadata": {},
     "output_type": "execute_result"
    }
   ],
   "source": [
    "data['clean_text'] = data['description'] \\\n",
    "                    .progress_apply(clean_text) \\\n",
    "                    .progress_apply(lambda x: ' '.join([word for word in x.split() if word not in (stopword_list)]))\n",
    "                    # .progress_apply(lambda x: ' '.join([word for word in x.split() if len(word) >= 4]))\n",
    "                    # .progress_apply(remove_duplicate_words) \\\n",
    "\n",
    "data.head()"
   ]
  },
  {
   "cell_type": "code",
   "execution_count": 8,
   "metadata": {},
   "outputs": [
    {
     "data": {
      "text/plain": [
       "array(['food fast growing james beard award winning online food community crowd sourced curated recipe hub interviewing time unpaid interns team editors executives developers york city headquarters reproducing repackaging existing food content partner sites huffington post yahoo buzzfeed content management systemsresearching blogs websites provisions food affiliate programassisting day day affiliate program support screening affiliates assisting affiliate inquiriessupporting events neededhelping office administrative filing mailing preparing meetingsworking developers document bugs improvements sitesupporting marketing executive staff',\n",
       "       'organised focused vibrant awesome passion customer service slick typing skills account management administration cooler polar bear jetski hear cloud video production service opperating glodal level yeah pretty cool delivering class product excellent customer service rapidly expanding business talented project manager manage successful delivery video projects manage client communications drive production process coolest brands planet learn global team representing huge entering growth stage business growing internationally position bursting opportunity person entering business time worlds cloud video production service worlds cloud video production service enabling brands agencies quality online video content shot produced fast affordable managed seamlessly cloud purchase publish removes hassle cost risk speed issues regular video production companies managing aspect video projects beautiful online experience growing network rated video professionals countries dedicated production success teams countries guaranteeing video project success easy commissioning quick google adwords campaign produced videos countries global brands including worlds largest including paypal oreal sony barclays offices auckland london sydney tokyo singapore auckland office based heart wynyard quarter innovation precinct gridakl',\n",
       "       'client located houston actively seeking experienced commissioning machinery assistant possesses strong supervisory skills attention strong dedication safety ideal candidate execute activities complying quality requirements health environmental safety regulations',\n",
       "       ...,\n",
       "       'experienced project cost control staff engineer required responsibility provide proper variance explanation root analysis job responsibilities cost control capital investments size complexityactive participation cost control process ensure proper progress tracking change management systems effectively functioning construction detailed engineering phases projects provide proper variance explanation root analysis changesdevelopment project cost forecast preparation project cost reportsassist development improvement cost controlling tools processes strong analytical skills proper assessments projects identify potential issues support development recommend solutions communication support project management perform studies analysisperform bid analysis complex service contractsperform audits invoicesevaluate field change validate contractor estimate pricingdevelopment support contracting strategy capital projectswill required independently team carrying project cost control forecasting efforts',\n",
       "       'nemsia studios experienced visual graphic designer lagos office idealcandidate versatile print digital design mediums closely strategists creative team engaged projects pitch phase brainstorming concepting design execution final delivery bring creating crafting beautiful visual expressions ideas briefs ongoing internal projects',\n",
       "       'vend award winning based sale software retail chucking crusty cash registers replacing ipads touch screens beautiful software life easier retailers vend fast growing tech start launching customers employees tech stack capistrano redis git github vagrant jenkins puppet resque relic doctrine mysql objective php javascript symfony rake selenium compass sass jquery bundler nginx bunch engineering department houses smartest minds tirelessly product teams brightest features fixes vend platform tech stack bring delight customers add team live breathe technology developing leading product culture leading balance super hard lot fun playing pool dia muertos makeover zoning couches listening music raiding snack cupboard fyi frozen marshmallows craze vend life balance life projects businesses valued vend life allowance develop skills attend conferences choice reason guy heavy metal concert cruise ship'],\n",
       "      dtype=object)"
      ]
     },
     "execution_count": 8,
     "metadata": {},
     "output_type": "execute_result"
    }
   ],
   "source": [
    "data['clean_text'].values"
   ]
  },
  {
   "cell_type": "code",
   "execution_count": 179,
   "metadata": {},
   "outputs": [],
   "source": [
    "# np.savetxt(r'clean_text.csv', data['clean_text'].values, fmt='%s')"
   ]
  },
  {
   "attachments": {},
   "cell_type": "markdown",
   "metadata": {},
   "source": [
    "### 4.5. Reduce the sentence to be processed according to the desired number of words"
   ]
  },
  {
   "cell_type": "code",
   "execution_count": 12,
   "metadata": {},
   "outputs": [
    {
     "data": {
      "text/plain": [
       "<Axes: xlabel='text_len'>"
      ]
     },
     "execution_count": 12,
     "metadata": {},
     "output_type": "execute_result"
    },
    {
     "data": {
      "image/png": "[encoded data removed]",
      "text/plain": [
       "<Figure size 2500x200 with 1 Axes>"
      ]
     },
     "metadata": {},
     "output_type": "display_data"
    }
   ],
   "source": [
    "text_len = []\n",
    "\n",
    "for idx, teks in enumerate(data['description']):\n",
    "    text_len.append(len(teks))\n",
    "data['text_len'] = pd.DataFrame(text_len)\n",
    "\n",
    "fig, axes = plt.subplots(figsize=(25, 2))\n",
    "sns.boxplot(x=data['text_len'], palette=\"Oranges\")"
   ]
  },
  {
   "cell_type": "code",
   "execution_count": 13,
   "metadata": {},
   "outputs": [
    {
     "name": "stdout",
     "output_type": "stream",
     "text": [
      "103.0\n",
      "1586.0\n"
     ]
    }
   ],
   "source": [
    "print(data['text_len'].quantile(0.01))\n",
    "print(data['text_len'].quantile(0.75))"
   ]
  },
  {
   "cell_type": "code",
   "execution_count": 14,
   "metadata": {},
   "outputs": [
    {
     "name": "stdout",
     "output_type": "stream",
     "text": [
      "103.0\n",
      "1586.0\n"
     ]
    },
    {
     "data": {
      "text/plain": [
       "<Axes: xlabel='text_len'>"
      ]
     },
     "execution_count": 14,
     "metadata": {},
     "output_type": "execute_result"
    },
    {
     "data": {
      "image/png": "[encoded data removed]",
      "text/plain": [
       "<Figure size 2500x200 with 1 Axes>"
      ]
     },
     "metadata": {},
     "output_type": "display_data"
    }
   ],
   "source": [
    "Q1 = data['text_len'].quantile(0.01)\n",
    "Q3 = data['text_len'].quantile(0.75)\n",
    "\n",
    "print(Q1)\n",
    "print(Q3)\n",
    "\n",
    "data = data[(data['text_len'] > Q1) & (data['text_len'] < Q3)]\n",
    "\n",
    "fig, axes = plt.subplots(figsize=(25, 2))\n",
    "sns.boxplot(x=data['text_len'], palette=\"Oranges\")"
   ]
  },
  {
   "attachments": {},
   "cell_type": "markdown",
   "metadata": {},
   "source": [
    "### 4.6. Visualize # of label after preprocessing"
   ]
  },
  {
   "cell_type": "code",
   "execution_count": 15,
   "metadata": {},
   "outputs": [
    {
     "data": {
      "text/plain": [
       "[Text(0, 0, '12576'), Text(0, 0, '649')]"
      ]
     },
     "execution_count": 15,
     "metadata": {},
     "output_type": "execute_result"
    },
    {
     "data": {
      "image/png": "[encoded data removed]",
      "text/plain": [
       "<Figure size 600x400 with 1 Axes>"
      ]
     },
     "metadata": {},
     "output_type": "display_data"
    }
   ],
   "source": [
    "plt.subplots(figsize = (6,4))\n",
    "ax = sns.countplot(data = data, x = 'fraudulent')\n",
    "ax.bar_label(ax.containers[0])"
   ]
  },
  {
   "attachments": {},
   "cell_type": "markdown",
   "metadata": {},
   "source": [
    "# 5. Model"
   ]
  },
  {
   "attachments": {},
   "cell_type": "markdown",
   "metadata": {},
   "source": [
    "### 5.1. Splitting data into Training, Testing, and Validating data"
   ]
  },
  {
   "cell_type": "code",
   "execution_count": 16,
   "metadata": {},
   "outputs": [
    {
     "name": "stdout",
     "output_type": "stream",
     "text": [
      "(9283,)\n",
      "(2619,)\n",
      "(1323,)\n"
     ]
    }
   ],
   "source": [
    "X = data['description']\n",
    "Y = data['fraudulent']\n",
    "\n",
    "X_train, X_val, y_train, y_val = train_test_split(X, Y, train_size=0.9, random_state = 42)\n",
    "X_train, X_test, y_train, y_test = train_test_split(X_train, y_train, train_size=0.78, random_state = 42)\n",
    "\n",
    "print(X_train.shape)\n",
    "print(X_test.shape)\n",
    "print(X_val.shape)"
   ]
  },
  {
   "attachments": {},
   "cell_type": "markdown",
   "metadata": {},
   "source": [
    "### 5.2. Declare parameter for Tokenizing and Training Model process"
   ]
  },
  {
   "cell_type": "code",
   "execution_count": 17,
   "metadata": {},
   "outputs": [],
   "source": [
    "vocab_size = 10000\n",
    "embedding_dim = 128\n",
    "max_length = 1600\n",
    "trunc_type = 'post'\n",
    "padding_type = 'post'\n",
    "oov_tok = \"<OOV>\""
   ]
  },
  {
   "attachments": {},
   "cell_type": "markdown",
   "metadata": {},
   "source": [
    "### 5.3. Tokenizing text"
   ]
  },
  {
   "cell_type": "code",
   "execution_count": 97,
   "metadata": {},
   "outputs": [
    {
     "name": "stdout",
     "output_type": "stream",
     "text": [
      "50521\n"
     ]
    }
   ],
   "source": [
    "# Tokenizing \n",
    "tokenizer = Tokenizer(num_words=vocab_size, oov_token=oov_tok)\n",
    "tokenizer.fit_on_texts(X)\n",
    "\n",
    "print(len(tokenizer.word_index))\n",
    "\n",
    "# Text to Sequences\n",
    "training_sequences = tokenizer.texts_to_sequences(X_train)\n",
    "testing_sequences = tokenizer.texts_to_sequences(X_test)\n",
    "validating_sequences = tokenizer.texts_to_sequences(X_val)\n",
    "\n",
    "# Add padding\n",
    "training_padded = pad_sequences(training_sequences, maxlen = max_length, padding = padding_type)\n",
    "testing_padded = pad_sequences(testing_sequences, maxlen = max_length, padding = padding_type)\n",
    "validating_padded = pad_sequences(validating_sequences, maxlen = max_length, padding = padding_type)\n",
    "\n",
    "# Convert to numpy array\n",
    "training_padded = np.array(training_padded)\n",
    "training_label = np.array(y_train)\n",
    "\n",
    "testing_padded = np.array(testing_padded)\n",
    "testing_label = np.array(y_test)\n",
    "\n",
    "validating_padded = np.array(validating_padded)\n",
    "validating_label = np.array(y_val)"
   ]
  },
  {
   "cell_type": "code",
   "execution_count": 18,
   "metadata": {},
   "outputs": [
    {
     "name": "stdout",
     "output_type": "stream",
     "text": [
      "50521\n"
     ]
    }
   ],
   "source": [
    "# Tokenizing \n",
    "tokenizer = Tokenizer(num_words=vocab_size, oov_token=oov_tok)\n",
    "tokenizer.fit_on_texts(X)\n",
    "\n",
    "print(len(tokenizer.word_index))\n",
    "\n",
    "# Text to Sequences\n",
    "training_sequences = tokenizer.texts_to_sequences(X_train)\n",
    "testing_sequences = tokenizer.texts_to_sequences(X_test)\n",
    "validating_sequences = tokenizer.texts_to_sequences(X_val)\n",
    "\n",
    "# Add padding\n",
    "training_padded = pad_sequences(training_sequences, maxlen = max_length, padding = padding_type)\n",
    "testing_padded = pad_sequences(testing_sequences, maxlen = max_length, padding = padding_type)\n",
    "validating_padded = pad_sequences(validating_sequences, maxlen = max_length, padding = padding_type)\n",
    "\n",
    "# Convert to numpy array\n",
    "training_padded = np.array(training_padded)\n",
    "training_label = np.array(y_train)\n",
    "\n",
    "testing_padded = np.array(testing_padded)\n",
    "testing_label = np.array(y_test)\n",
    "\n",
    "validating_padded = np.array(validating_padded)\n",
    "validating_label = np.array(y_val)\n",
    "\n",
    "# Undersampling\n",
    "rus = RandomUnderSampler(random_state=42, replacement=True)# fit predictor and target variable\n",
    "\n",
    "training_padded, training_label = rus.fit_resample(training_padded, training_label)\n",
    "testing_padded, testing_label = rus.fit_resample(testing_padded, testing_label)\n",
    "validating_padded, validating_label = rus.fit_resample(validating_padded, validating_label)\n",
    "\n",
    "training_label = to_categorical(training_label)\n",
    "testing_label = to_categorical(testing_label)\n",
    "validating_label = to_categorical(validating_label)\n"
   ]
  },
  {
   "attachments": {},
   "cell_type": "markdown",
   "metadata": {},
   "source": [
    "### 5.4. Build Deep Learning Models"
   ]
  },
  {
   "cell_type": "code",
   "execution_count": 31,
   "metadata": {},
   "outputs": [
    {
     "name": "stdout",
     "output_type": "stream",
     "text": [
      "Model: \"sequential_4\"\n",
      "_________________________________________________________________\n",
      " Layer (type)                Output Shape              Param #   \n",
      "=================================================================\n",
      " embedding_4 (Embedding)     (None, 1600, 128)         1280000   \n",
      "                                                                 \n",
      " bidirectional_8 (Bidirectio  (None, 1600, 128)        98816     \n",
      " nal)                                                            \n",
      "                                                                 \n",
      " bidirectional_9 (Bidirectio  (None, 128)              98816     \n",
      " nal)                                                            \n",
      "                                                                 \n",
      " dense_6 (Dense)             (None, 32)                4128      \n",
      "                                                                 \n",
      " dropout_1 (Dropout)         (None, 32)                0         \n",
      "                                                                 \n",
      " dense_7 (Dense)             (None, 2)                 66        \n",
      "                                                                 \n",
      "=================================================================\n",
      "Total params: 1,481,826\n",
      "Trainable params: 1,481,826\n",
      "Non-trainable params: 0\n",
      "_________________________________________________________________\n"
     ]
    }
   ],
   "source": [
    "# initializer = tf.keras.initializers.RandomNormal(mean=0., stddev=1.) ### 0.9\n",
    "# initializer = tf.keras.initializers.RandomUniform(minval=0., maxval=1.) ### 0.8004\n",
    "# initializer = tf.keras.initializers.TruncatedNormal(mean=0., stddev=1.) ### 0.8842\n",
    "# initializer = tf.keras.initializers.Zeros() ### 0.3400\n",
    "# initializer = tf.keras.initializers.Ones()\n",
    "# initializer = tf.keras.initializers.GlorotNormal() ### 0.8963\n",
    "# initializer = tf.keras.initializers.GlorotUniform() ### 0.8916\n",
    "initializer = tf.keras.initializers.HeNormal() ### 0.9082\n",
    "# initializer = tf.keras.initializers.HeUniform()\n",
    "# initializer = tf.keras.initializers.Identity()\n",
    "# initializer = tf.keras.initializers.Orthogonal()\n",
    "# initializer = tf.keras.initializers.Constant(3.)\n",
    "# initializer = tf.keras.initializers.VarianceScaling(scale=0.1, mode='fan_in', distribution='uniform')\n",
    "\n",
    "def CNN_Model():\n",
    "    model = Sequential()\n",
    "    model.add(Embedding(vocab_size, embedding_dim, input_length=max_length))\n",
    "\n",
    "    model.add(Conv1D(64, 3, kernel_regularizer=keras.regularizers.l2(l=0.001), padding='same'))\n",
    "    model.add(BatchNormalization())\n",
    "    # model.add(LeakyReLU(0.2))\n",
    "    # model.add(Dropout(0.4))\n",
    "    model.add(ReLU())\n",
    "    model.add(MaxPooling1D())\n",
    "\n",
    "    # model.add(Conv1D(512, 3, kernel_regularizer=keras.regularizers.l2(l=0.001), padding='same'))\n",
    "    # # model.add(LeakyReLU(0.2))\n",
    "    # model.add(ReLU())\n",
    "    # model.add(MaxPooling1D())\n",
    "    # model.add(Dropout(0.4))\n",
    "    # model.add(BatchNormalization())\n",
    "\n",
    "    model.add(Conv1D(64, 3, kernel_regularizer=keras.regularizers.l2(l=0.001), padding='same'))\n",
    "    model.add(BatchNormalization())\n",
    "    # model.add(LeakyReLU(0.2))\n",
    "    model.add(ReLU())\n",
    "    model.add(MaxPooling1D())\n",
    "    # model.add(Dropout(0.4))\n",
    "\n",
    "    model.add(Conv1D(32, 3, kernel_regularizer=keras.regularizers.l2(l=0.001), padding='same'))\n",
    "    model.add(BatchNormalization())\n",
    "    # model.add(LeakyReLU(0.2))\n",
    "    model.add(ReLU())\n",
    "    model.add(MaxPooling1D())\n",
    "    # model.add(Dropout(0.4))\n",
    "\n",
    "    # model.add(GlobalMaxPooling1D())\n",
    "    model.add(Flatten())\n",
    "    # model.add(Dense(4098, activation='relu'))\n",
    "    model.add(Dense(1024, activation='relu'))\n",
    "    # model.add(Dropout(0.2))\n",
    "    model.add(Dense(256, activation='relu'))\n",
    "    # model.add(Dropout(0.2))\n",
    "    model.add(Dense(2, activation='softmax'))\n",
    "    return model\n",
    "\n",
    "def LSTM_Model():\n",
    "    model = Sequential()\n",
    "    model.add(Embedding(input_dim=vocab_size, output_dim=embedding_dim, input_length=max_length))\n",
    "    model.add(Bidirectional(LSTM(64, return_sequences=True)))\n",
    "    model.add(Bidirectional(LSTM(64)))\n",
    "    model.add(Dense(32, activation='swish'))\n",
    "    model.add(Dropout(0.2))\n",
    "    # model.add(Dropout(0.5))\n",
    "    # model.add(Dense(16, activation='relu'))\n",
    "    model.add(Dense(2, activation='softmax'))\n",
    "    return model\n",
    "\n",
    "def GRU_Model():\n",
    "    model = Sequential()\n",
    "    model.add(Embedding(vocab_size, embedding_dim, input_length=max_length))\n",
    "    model.add(Bidirectional(GRU(64, activation ='tanh', recurrent_activation ='sigmoid', recurrent_dropout = 0, unroll=False, use_bias=True, reset_after=True, return_sequences=True)))\n",
    "    model.add(Bidirectional(GRU(128, activation ='tanh', recurrent_activation ='sigmoid', recurrent_dropout = 0, unroll=False, use_bias=True, reset_after=True)))\n",
    "    model.add(Dense(128, activation='swish'))\n",
    "    # model.add(Dropout(0.4))\n",
    "    model.add(Dense(2, activation='softmax'))\n",
    "    return model\n",
    "    \n",
    "\n",
    "# model = CNN_Model()\n",
    "model = LSTM_Model()\n",
    "# model = GRU_Model()\n",
    "\n",
    "\n",
    "\n",
    "model.summary()\n",
    "\n",
    "# opt = RMSprop(learning_rate = 0.001)\n",
    "# opt = SGD(learning_rate = 0.01)\n",
    "opt = Adam(learning_rate = 0.001)\n",
    "\n",
    "model.compile(loss='categorical_crossentropy', optimizer=opt, metrics=['accuracy'])\n",
    "# model.compile(loss='categorical_crossentropy', optimizer=opt, metrics=[tf.keras.metrics.AUC()])\n",
    "# model.compile(loss='categorical_crossentropy', optimizer='rmsprop', metrics=['accuracy'])\n",
    "# model.compile(loss='categorical_crossentropy', optimizer='nadam', metrics=['accuracy'])"
   ]
  },
  {
   "attachments": {},
   "cell_type": "markdown",
   "metadata": {},
   "source": [
    "### 5.5. Training the Model"
   ]
  },
  {
   "cell_type": "code",
   "execution_count": 32,
   "metadata": {},
   "outputs": [
    {
     "name": "stdout",
     "output_type": "stream",
     "text": [
      "Epoch 1/10\n",
      "30/30 [==============================] - 17s 453ms/step - loss: 0.6203 - accuracy: 0.6183 - val_loss: 0.4723 - val_accuracy: 0.7719\n",
      "Epoch 2/10\n",
      "30/30 [==============================] - 11s 376ms/step - loss: 0.2132 - accuracy: 0.9097 - val_loss: 0.3470 - val_accuracy: 0.8553\n",
      "Epoch 3/10\n",
      "30/30 [==============================] - 12s 398ms/step - loss: 0.0604 - accuracy: 0.9828 - val_loss: 0.4165 - val_accuracy: 0.8553\n",
      "Epoch 4/10\n",
      "30/30 [==============================] - 12s 402ms/step - loss: 0.0360 - accuracy: 0.9903 - val_loss: 0.4317 - val_accuracy: 0.8509\n",
      "Epoch 5/10\n",
      "30/30 [==============================] - 12s 417ms/step - loss: 0.0166 - accuracy: 0.9968 - val_loss: 0.6385 - val_accuracy: 0.8640\n",
      "Epoch 6/10\n",
      "30/30 [==============================] - 13s 426ms/step - loss: 0.0115 - accuracy: 0.9968 - val_loss: 0.5439 - val_accuracy: 0.8465\n",
      "Epoch 7/10\n",
      "30/30 [==============================] - 12s 402ms/step - loss: 0.0190 - accuracy: 0.9978 - val_loss: 0.5883 - val_accuracy: 0.8684\n",
      "Epoch 8/10\n",
      "30/30 [==============================] - 12s 410ms/step - loss: 0.0144 - accuracy: 0.9978 - val_loss: 0.6086 - val_accuracy: 0.8772\n",
      "Epoch 9/10\n",
      "30/30 [==============================] - 12s 406ms/step - loss: 0.0081 - accuracy: 0.9978 - val_loss: 0.7614 - val_accuracy: 0.8684\n",
      "Epoch 10/10\n",
      "30/30 [==============================] - 12s 399ms/step - loss: 0.0314 - accuracy: 0.9946 - val_loss: 0.4782 - val_accuracy: 0.8509\n"
     ]
    }
   ],
   "source": [
    "num_epoch = 10\n",
    "batch_size = 32\n",
    "\n",
    "history = model.fit(training_padded, training_label, \n",
    "                    batch_size = batch_size, epochs = num_epoch, \n",
    "                    validation_data = (testing_padded, testing_label))"
   ]
  },
  {
   "attachments": {},
   "cell_type": "markdown",
   "metadata": {},
   "source": [
    "# 6. Evaluating Performance"
   ]
  },
  {
   "attachments": {},
   "cell_type": "markdown",
   "metadata": {},
   "source": [
    "### 6.21. Plotting Accuracy and Loss of the Model"
   ]
  },
  {
   "cell_type": "code",
   "execution_count": 33,
   "metadata": {},
   "outputs": [
    {
     "data": {
      "image/png": "[encoded data removed]",
      "text/plain": [
       "<Figure size 2500x400 with 2 Axes>"
      ]
     },
     "metadata": {},
     "output_type": "display_data"
    }
   ],
   "source": [
    "fig, ax = plt.subplots(nrows=1, ncols=2,figsize=(25, 4))\n",
    "ax[0].plot(history.history['accuracy'])\n",
    "ax[0].plot(history.history['val_accuracy'])\n",
    "ax[0].set_title('Accuracy')\n",
    "ax[0].set_xlabel('Accuracy')\n",
    "ax[0].set_ylabel('Epoch')\n",
    "\n",
    "ax[1].plot(history.history['loss'])\n",
    "ax[1].plot(history.history['val_loss'])\n",
    "ax[1].set_title('Loss')\n",
    "ax[1].set_xlabel('Loss')\n",
    "ax[1].set_ylabel('Epoch')\n",
    "\n",
    "plt.legend(['Train', 'Test'])\n",
    "plt.show()"
   ]
  },
  {
   "attachments": {},
   "cell_type": "markdown",
   "metadata": {},
   "source": [
    "### 6.2. Confusion Matrix"
   ]
  },
  {
   "cell_type": "code",
   "execution_count": 34,
   "metadata": {},
   "outputs": [
    {
     "name": "stdout",
     "output_type": "stream",
     "text": [
      "5/5 [==============================] - 2s 172ms/step\n"
     ]
    },
    {
     "data": {
      "image/png": "[encoded data removed]",
      "text/plain": [
       "<Figure size 640x480 with 2 Axes>"
      ]
     },
     "metadata": {},
     "output_type": "display_data"
    }
   ],
   "source": [
    "labels = ['No Fraud', 'Fraud']\n",
    "\n",
    "y_pred = np.rint(model.predict(validating_padded))\n",
    "# Build confusion matrix\n",
    "con_mat = confusion_matrix(validating_label.argmax(axis=1),y_pred.argmax(axis=1))\n",
    "\n",
    "# Compute the percentages for the confusion matrix\n",
    "cm_percent = con_mat.astype('float') / con_mat.sum(axis=1)[:, np.newaxis]\n",
    "\n",
    "# Create the heatmap using Seaborn\n",
    "sns.heatmap(cm_percent, annot=True, fmt='.2%', cmap='Blues', xticklabels=labels, yticklabels=labels)\n",
    "\n",
    "# Add labels to the plot\n",
    "plt.xlabel('Predicted Labels')\n",
    "plt.ylabel('True Labels')\n",
    "plt.title('Confusion Matrix - Fake News Detection')\n",
    "plt.show()"
   ]
  },
  {
   "cell_type": "code",
   "execution_count": 37,
   "metadata": {},
   "outputs": [
    {
     "name": "stdout",
     "output_type": "stream",
     "text": [
      "5/5 [==============================] - 1s 176ms/step\n",
      "              precision    recall  f1-score   support\n",
      "\n",
      "           0       0.89      0.90      0.89        70\n",
      "           1       0.90      0.89      0.89        70\n",
      "\n",
      "    accuracy                           0.89       140\n",
      "   macro avg       0.89      0.89      0.89       140\n",
      "weighted avg       0.89      0.89      0.89       140\n",
      "\n"
     ]
    }
   ],
   "source": [
    "from sklearn.metrics import classification_report\n",
    "y_pred = np.rint(model.predict(validating_padded))\n",
    "\n",
    "print(classification_report(validating_label.argmax(axis=1),y_pred.argmax(axis=1)))"
   ]
  },
  {
   "attachments": {},
   "cell_type": "markdown",
   "metadata": {},
   "source": [
    "### 6.3. ROC Curve "
   ]
  },
  {
   "cell_type": "code",
   "execution_count": 38,
   "metadata": {},
   "outputs": [
    {
     "name": "stdout",
     "output_type": "stream",
     "text": [
      "5/5 [==============================] - 1s 159ms/step\n"
     ]
    },
    {
     "data": {
      "image/png": "[encoded data removed]",
      "text/plain": [
       "<Figure size 500x500 with 1 Axes>"
      ]
     },
     "metadata": {},
     "output_type": "display_data"
    }
   ],
   "source": [
    "y_pred = np.rint(model.predict(validating_padded))\n",
    "n_classes = 2\n",
    "\n",
    "fig, ax = plt.subplots(figsize=(5, 5))\n",
    "target_names = ['No Fraud', 'Fraud']\n",
    "\n",
    "colors = cycle([\"aqua\", \"darkorange\", \"cornflowerblue\"])\n",
    "for class_id, color in zip(range(n_classes), colors):\n",
    "    RocCurveDisplay.from_predictions(\n",
    "        validating_label[:, class_id],\n",
    "        y_pred[:, class_id],\n",
    "        name=f\"ROC curve for {target_names[class_id]}\",\n",
    "        color=color,\n",
    "        ax=ax,\n",
    "    )"
   ]
  }
 ],
 "metadata": {
  "kernelspec": {
   "display_name": "gan",
   "language": "python",
   "name": "python3"
  },
  "language_info": {
   "codemirror_mode": {
    "name": "ipython",
    "version": 3
   },
   "file_extension": ".py",
   "mimetype": "text/x-python",
   "name": "python",
   "nbconvert_exporter": "python",
   "pygments_lexer": "ipython3",
   "version": "3.9.16"
  },
  "orig_nbformat": 4
 },
 "nbformat": 4,
 "nbformat_minor": 2
}
