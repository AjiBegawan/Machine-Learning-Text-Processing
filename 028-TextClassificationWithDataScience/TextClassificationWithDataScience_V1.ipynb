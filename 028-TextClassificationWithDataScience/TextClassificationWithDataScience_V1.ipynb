{
 "cells": [
  {
   "attachments": {},
   "cell_type": "markdown",
   "metadata": {},
   "source": [
    "# 1. Import Libraries"
   ]
  },
  {
   "cell_type": "code",
   "execution_count": 1,
   "metadata": {},
   "outputs": [],
   "source": [
    "import tensorflow as tf\n",
    "gpu = tf.config.experimental.list_physical_devices('GPU')\n",
    "tf.config.experimental.set_memory_growth(gpu[0], True)"
   ]
  },
  {
   "cell_type": "code",
   "execution_count": 2,
   "metadata": {},
   "outputs": [
    {
     "name": "stderr",
     "output_type": "stream",
     "text": [
      "[nltk_data] Downloading package punkt to\n",
      "[nltk_data]     C:\\Users\\indiz\\AppData\\Roaming\\nltk_data...\n",
      "[nltk_data]   Package punkt is already up-to-date!\n",
      "[nltk_data] Downloading package wordnet to\n",
      "[nltk_data]     C:\\Users\\indiz\\AppData\\Roaming\\nltk_data...\n",
      "[nltk_data]   Package wordnet is already up-to-date!\n",
      "[nltk_data] Downloading package stopwords to\n",
      "[nltk_data]     C:\\Users\\indiz\\AppData\\Roaming\\nltk_data...\n",
      "[nltk_data]   Package stopwords is already up-to-date!\n",
      "[nltk_data] Downloading package vader_lexicon to\n",
      "[nltk_data]     C:\\Users\\indiz\\AppData\\Roaming\\nltk_data...\n",
      "[nltk_data]   Package vader_lexicon is already up-to-date!\n"
     ]
    }
   ],
   "source": [
    "import re\n",
    "import math\n",
    "import string\n",
    "import numpy as np\n",
    "import pandas as pd\n",
    "import seaborn as sns\n",
    "import matplotlib.pyplot as plt\n",
    "\n",
    "from collections import Counter\n",
    "from keras.utils import to_categorical\n",
    "from imblearn.under_sampling import RandomUnderSampler\n",
    "from tqdm.notebook import tqdm\n",
    "tqdm.pandas()\n",
    "\n",
    "from tensorflow import keras\n",
    "from tensorflow.keras.optimizers import Adam\n",
    "from tensorflow.keras.models import Sequential\n",
    "from tensorflow.keras.layers import Dense, Flatten, Conv1D, MaxPooling1D, LSTM, GRU, Embedding,\\\n",
    "    BatchNormalization, LeakyReLU, Dropout, ReLU, Bidirectional \n",
    "\n",
    "from sklearn.datasets import fetch_20newsgroups\n",
    "from sklearn.model_selection import train_test_split\n",
    "from sklearn.feature_extraction.text import CountVectorizer, TfidfVectorizer\n",
    "from sklearn.preprocessing import  MinMaxScaler, PowerTransformer, LabelEncoder\n",
    "from sklearn.metrics import accuracy_score, confusion_matrix, roc_auc_score, \\\n",
    "mean_squared_error, r2_score, mean_absolute_error, classification_report \n",
    "\n",
    "from sklearn.tree import DecisionTreeClassifier\n",
    "from sklearn.neighbors import KNeighborsClassifier\n",
    "from sklearn.linear_model import LinearRegression, PassiveAggressiveClassifier\n",
    "from sklearn.ensemble import (\n",
    "    GradientBoostingClassifier, \n",
    "    AdaBoostClassifier, \n",
    "    RandomForestClassifier,\n",
    "    BaggingClassifier,\n",
    "    ExtraTreesClassifier,\n",
    "    RandomForestClassifier,\n",
    "    StackingClassifier,\n",
    "    HistGradientBoostingClassifier\n",
    ")\n",
    "from xgboost import XGBClassifier\n",
    "\n",
    "from tensorflow.keras.preprocessing.text import Tokenizer\n",
    "from tensorflow.keras.preprocessing.sequence import pad_sequences\n",
    "\n",
    "import nltk\n",
    "from nltk.corpus import stopwords\n",
    "from nltk.stem.snowball import SnowballStemmer\n",
    "from nltk.stem.wordnet import WordNetLemmatizer\n",
    "from nltk.sentiment.vader import SentimentIntensityAnalyzer\n",
    "nltk.download('punkt')\n",
    "nltk.download('wordnet')\n",
    "nltk.download('stopwords')\n",
    "nltk.download(\"vader_lexicon\")\n",
    "\n",
    "from faker import Faker\n"
   ]
  },
  {
   "attachments": {},
   "cell_type": "markdown",
   "metadata": {},
   "source": [
    "# 2. Load Data"
   ]
  },
  {
   "cell_type": "code",
   "execution_count": 118,
   "metadata": {},
   "outputs": [
    {
     "data": {
      "text/html": [
       "<div>\n",
       "<style scoped>\n",
       "    .dataframe tbody tr th:only-of-type {\n",
       "        vertical-align: middle;\n",
       "    }\n",
       "\n",
       "    .dataframe tbody tr th {\n",
       "        vertical-align: top;\n",
       "    }\n",
       "\n",
       "    .dataframe thead th {\n",
       "        text-align: right;\n",
       "    }\n",
       "</style>\n",
       "<table border=\"1\" class=\"dataframe\">\n",
       "  <thead>\n",
       "    <tr style=\"text-align: right;\">\n",
       "      <th></th>\n",
       "      <th>data</th>\n",
       "      <th>class</th>\n",
       "    </tr>\n",
       "  </thead>\n",
       "  <tbody>\n",
       "    <tr>\n",
       "      <th>0</th>\n",
       "      <td>Subject: Re: [rw] Is Robert Weiss the only ort...</td>\n",
       "      <td>3</td>\n",
       "    </tr>\n",
       "    <tr>\n",
       "      <th>1</th>\n",
       "      <td>From: aidler@sol.uvic.ca (E Alan  Idler)\\nSubj...</td>\n",
       "      <td>2</td>\n",
       "    </tr>\n",
       "    <tr>\n",
       "      <th>2</th>\n",
       "      <td>From: susan_soric@upubs.uchicago.edu (Susan So...</td>\n",
       "      <td>3</td>\n",
       "    </tr>\n",
       "    <tr>\n",
       "      <th>3</th>\n",
       "      <td>From: jtk@s1.gov (Jordin Kare)\\nSubject: Re: I...</td>\n",
       "      <td>1</td>\n",
       "    </tr>\n",
       "    <tr>\n",
       "      <th>4</th>\n",
       "      <td>From: hollasch@kpc.com (Steve Hollasch)\\nSubje...</td>\n",
       "      <td>0</td>\n",
       "    </tr>\n",
       "    <tr>\n",
       "      <th>...</th>\n",
       "      <td>...</td>\n",
       "      <td>...</td>\n",
       "    </tr>\n",
       "    <tr>\n",
       "      <th>3580</th>\n",
       "      <td>From: Christopher.S.Weinberger@williams.edu (G...</td>\n",
       "      <td>2</td>\n",
       "    </tr>\n",
       "    <tr>\n",
       "      <th>3581</th>\n",
       "      <td>From: ch981@cleveland.Freenet.Edu (Tony Alicea...</td>\n",
       "      <td>3</td>\n",
       "    </tr>\n",
       "    <tr>\n",
       "      <th>3582</th>\n",
       "      <td>From: mccall@mksol.dseg.ti.com (fred j mccall ...</td>\n",
       "      <td>1</td>\n",
       "    </tr>\n",
       "    <tr>\n",
       "      <th>3583</th>\n",
       "      <td>From: bkidd@esk.compserv.utas.edu.au ( Byron J...</td>\n",
       "      <td>0</td>\n",
       "    </tr>\n",
       "    <tr>\n",
       "      <th>3584</th>\n",
       "      <td>From: wmoore@ADS.COM (William Moore)\\nSubject:...</td>\n",
       "      <td>3</td>\n",
       "    </tr>\n",
       "  </tbody>\n",
       "</table>\n",
       "<p>3585 rows × 2 columns</p>\n",
       "</div>"
      ],
      "text/plain": [
       "                                                   data  class\n",
       "0     Subject: Re: [rw] Is Robert Weiss the only ort...      3\n",
       "1     From: aidler@sol.uvic.ca (E Alan  Idler)\\nSubj...      2\n",
       "2     From: susan_soric@upubs.uchicago.edu (Susan So...      3\n",
       "3     From: jtk@s1.gov (Jordin Kare)\\nSubject: Re: I...      1\n",
       "4     From: hollasch@kpc.com (Steve Hollasch)\\nSubje...      0\n",
       "...                                                 ...    ...\n",
       "3580  From: Christopher.S.Weinberger@williams.edu (G...      2\n",
       "3581  From: ch981@cleveland.Freenet.Edu (Tony Alicea...      3\n",
       "3582  From: mccall@mksol.dseg.ti.com (fred j mccall ...      1\n",
       "3583  From: bkidd@esk.compserv.utas.edu.au ( Byron J...      0\n",
       "3584  From: wmoore@ADS.COM (William Moore)\\nSubject:...      3\n",
       "\n",
       "[3585 rows x 2 columns]"
      ]
     },
     "execution_count": 118,
     "metadata": {},
     "output_type": "execute_result"
    }
   ],
   "source": [
    "categories = ['talk.religion.misc', 'soc.religion.christian', 'sci.space', 'comp.graphics']\n",
    "\n",
    "data_list = fetch_20newsgroups(subset='all',categories=categories)\n",
    "\n",
    "data = pd.DataFrame()\n",
    "data['data'] = pd.DataFrame(data_list.data)\n",
    "data['class'] = pd.DataFrame(data_list.target)\n",
    "data"
   ]
  },
  {
   "attachments": {},
   "cell_type": "markdown",
   "metadata": {},
   "source": [
    "# 3. Initial Analysis"
   ]
  },
  {
   "attachments": {},
   "cell_type": "markdown",
   "metadata": {},
   "source": [
    "### 3.1. Metadata"
   ]
  },
  {
   "cell_type": "code",
   "execution_count": 8,
   "metadata": {},
   "outputs": [
    {
     "name": "stdout",
     "output_type": "stream",
     "text": [
      "<class 'pandas.core.frame.DataFrame'>\n",
      "Int64Index: 29692 entries, 0 to 64230\n",
      "Data columns (total 5 columns):\n",
      " #   Column                  Non-Null Count  Dtype  \n",
      "---  ------                  --------------  -----  \n",
      " 0   App                     29692 non-null  object \n",
      " 1   Translated_Review       29692 non-null  object \n",
      " 2   Sentiment               29692 non-null  object \n",
      " 3   Sentiment_Polarity      29692 non-null  float64\n",
      " 4   Sentiment_Subjectivity  29692 non-null  float64\n",
      "dtypes: float64(2), object(3)\n",
      "memory usage: 1.4+ MB\n"
     ]
    }
   ],
   "source": [
    "data.info()"
   ]
  },
  {
   "cell_type": "code",
   "execution_count": 9,
   "metadata": {},
   "outputs": [
    {
     "data": {
      "text/plain": [
       "App                       0\n",
       "Translated_Review         0\n",
       "Sentiment                 0\n",
       "Sentiment_Polarity        0\n",
       "Sentiment_Subjectivity    0\n",
       "dtype: int64"
      ]
     },
     "execution_count": 9,
     "metadata": {},
     "output_type": "execute_result"
    }
   ],
   "source": [
    "data.isnull().sum()"
   ]
  },
  {
   "cell_type": "code",
   "execution_count": 10,
   "metadata": {},
   "outputs": [
    {
     "data": {
      "image/png": "[encoded data removed]",
      "text/plain": [
       "<Figure size 2500x500 with 1 Axes>"
      ]
     },
     "metadata": {},
     "output_type": "display_data"
    }
   ],
   "source": [
    "plt.subplots(figsize = (25,5))\n",
    "ax = sns.countplot(data, y = data['Sentiment'])\n",
    "ax.bar_label(ax.containers[0])\n",
    "plt.show()"
   ]
  },
  {
   "attachments": {},
   "cell_type": "markdown",
   "metadata": {},
   "source": [
    "### 3.2. Processing Columns"
   ]
  },
  {
   "cell_type": "code",
   "execution_count": 119,
   "metadata": {},
   "outputs": [
    {
     "data": {
      "text/html": [
       "<div>\n",
       "<style scoped>\n",
       "    .dataframe tbody tr th:only-of-type {\n",
       "        vertical-align: middle;\n",
       "    }\n",
       "\n",
       "    .dataframe tbody tr th {\n",
       "        vertical-align: top;\n",
       "    }\n",
       "\n",
       "    .dataframe thead th {\n",
       "        text-align: right;\n",
       "    }\n",
       "</style>\n",
       "<table border=\"1\" class=\"dataframe\">\n",
       "  <thead>\n",
       "    <tr style=\"text-align: right;\">\n",
       "      <th></th>\n",
       "      <th>data</th>\n",
       "      <th>class</th>\n",
       "      <th>text</th>\n",
       "    </tr>\n",
       "  </thead>\n",
       "  <tbody>\n",
       "    <tr>\n",
       "      <th>0</th>\n",
       "      <td>Subject: Re: [rw] Is Robert Weiss the only ort...</td>\n",
       "      <td>3</td>\n",
       "      <td>In article &lt;C5vGyD.H7s@acsu.buffalo.edu&gt;, psyr...</td>\n",
       "    </tr>\n",
       "    <tr>\n",
       "      <th>1</th>\n",
       "      <td>From: aidler@sol.uvic.ca (E Alan  Idler)\\nSubj...</td>\n",
       "      <td>2</td>\n",
       "      <td>muddmj@wkuvx1.bitnet writes: &gt;&gt; But, haven't \"...</td>\n",
       "    </tr>\n",
       "    <tr>\n",
       "      <th>2</th>\n",
       "      <td>From: susan_soric@upubs.uchicago.edu (Susan So...</td>\n",
       "      <td>3</td>\n",
       "      <td>I'm greatly in need of Jurgen Moltmann's book ...</td>\n",
       "    </tr>\n",
       "    <tr>\n",
       "      <th>3</th>\n",
       "      <td>From: jtk@s1.gov (Jordin Kare)\\nSubject: Re: I...</td>\n",
       "      <td>1</td>\n",
       "      <td>Distribution: world NNTP-Posting-Host: s1.gov ...</td>\n",
       "    </tr>\n",
       "    <tr>\n",
       "      <th>4</th>\n",
       "      <td>From: hollasch@kpc.com (Steve Hollasch)\\nSubje...</td>\n",
       "      <td>0</td>\n",
       "      <td>lioness@maple.circa.ufl.edu: &gt; Okay, I got eno...</td>\n",
       "    </tr>\n",
       "    <tr>\n",
       "      <th>...</th>\n",
       "      <td>...</td>\n",
       "      <td>...</td>\n",
       "      <td>...</td>\n",
       "    </tr>\n",
       "    <tr>\n",
       "      <th>3580</th>\n",
       "      <td>From: Christopher.S.Weinberger@williams.edu (G...</td>\n",
       "      <td>2</td>\n",
       "      <td>In article &lt;Apr.19.05.13.28.1993.29224@athos.r...</td>\n",
       "    </tr>\n",
       "    <tr>\n",
       "      <th>3581</th>\n",
       "      <td>From: ch981@cleveland.Freenet.Edu (Tony Alicea...</td>\n",
       "      <td>3</td>\n",
       "      <td>Reply-To: ch981@cleveland.Freenet.Edu (Tony Al...</td>\n",
       "    </tr>\n",
       "    <tr>\n",
       "      <th>3582</th>\n",
       "      <td>From: mccall@mksol.dseg.ti.com (fred j mccall ...</td>\n",
       "      <td>1</td>\n",
       "      <td>In &lt;1993Apr5.195215.16833@pixel.kodak.com&gt; dj@...</td>\n",
       "    </tr>\n",
       "    <tr>\n",
       "      <th>3583</th>\n",
       "      <td>From: bkidd@esk.compserv.utas.edu.au ( Byron J...</td>\n",
       "      <td>0</td>\n",
       "      <td>Sorry if this is a FAQ but : \"Where can I get ...</td>\n",
       "    </tr>\n",
       "    <tr>\n",
       "      <th>3584</th>\n",
       "      <td>From: wmoore@ADS.COM (William Moore)\\nSubject:...</td>\n",
       "      <td>3</td>\n",
       "      <td>Newsgroups: talk.religion.misc Subject: On-lin...</td>\n",
       "    </tr>\n",
       "  </tbody>\n",
       "</table>\n",
       "<p>3585 rows × 3 columns</p>\n",
       "</div>"
      ],
      "text/plain": [
       "                                                   data  class  \\\n",
       "0     Subject: Re: [rw] Is Robert Weiss the only ort...      3   \n",
       "1     From: aidler@sol.uvic.ca (E Alan  Idler)\\nSubj...      2   \n",
       "2     From: susan_soric@upubs.uchicago.edu (Susan So...      3   \n",
       "3     From: jtk@s1.gov (Jordin Kare)\\nSubject: Re: I...      1   \n",
       "4     From: hollasch@kpc.com (Steve Hollasch)\\nSubje...      0   \n",
       "...                                                 ...    ...   \n",
       "3580  From: Christopher.S.Weinberger@williams.edu (G...      2   \n",
       "3581  From: ch981@cleveland.Freenet.Edu (Tony Alicea...      3   \n",
       "3582  From: mccall@mksol.dseg.ti.com (fred j mccall ...      1   \n",
       "3583  From: bkidd@esk.compserv.utas.edu.au ( Byron J...      0   \n",
       "3584  From: wmoore@ADS.COM (William Moore)\\nSubject:...      3   \n",
       "\n",
       "                                                   text  \n",
       "0     In article <C5vGyD.H7s@acsu.buffalo.edu>, psyr...  \n",
       "1     muddmj@wkuvx1.bitnet writes: >> But, haven't \"...  \n",
       "2     I'm greatly in need of Jurgen Moltmann's book ...  \n",
       "3     Distribution: world NNTP-Posting-Host: s1.gov ...  \n",
       "4     lioness@maple.circa.ufl.edu: > Okay, I got eno...  \n",
       "...                                                 ...  \n",
       "3580  In article <Apr.19.05.13.28.1993.29224@athos.r...  \n",
       "3581  Reply-To: ch981@cleveland.Freenet.Edu (Tony Al...  \n",
       "3582  In <1993Apr5.195215.16833@pixel.kodak.com> dj@...  \n",
       "3583  Sorry if this is a FAQ but : \"Where can I get ...  \n",
       "3584  Newsgroups: talk.religion.misc Subject: On-lin...  \n",
       "\n",
       "[3585 rows x 3 columns]"
      ]
     },
     "execution_count": 119,
     "metadata": {},
     "output_type": "execute_result"
    }
   ],
   "source": [
    "def extract_lines(text):\n",
    "    words = text.split()\n",
    "    try:\n",
    "        index = words.index(\"Lines:\")\n",
    "        lines = \" \".join(words[index+2:])\n",
    "        return lines\n",
    "    except ValueError:\n",
    "        return \"\"\n",
    "\n",
    "data['text'] = data['data'].apply(extract_lines)\n",
    "data"
   ]
  },
  {
   "cell_type": "code",
   "execution_count": 120,
   "metadata": {},
   "outputs": [],
   "source": [
    "stopword_en = pd.read_csv('../en_stopword_1106.txt', header=None).drop_duplicates()\n",
    "en_stopword = stopword_en[0].values.tolist()\n",
    "en_stopword = [word.strip() for word in en_stopword]\n",
    "\n",
    "nltk_stopword = stopwords.words('english')\n",
    "\n",
    "combined_stopwords = pd.DataFrame(en_stopword + nltk_stopword).drop_duplicates()\n",
    "stopword_list = combined_stopwords[0].values.tolist()\n",
    "\n",
    "def lower_text(text):\n",
    "    return text.lower()\n",
    "\n",
    "def alphanumeric_text(text):\n",
    "    # return re.sub(\"[^a-z0-9\\s]\",\"\", text)\n",
    "    text = text.lower()\n",
    "    return re.sub(r'[^\\w\\s.,]', '', text)\n",
    "\n",
    "def remove_duplicate_words(text):\n",
    "    return re.sub(r'\\b(\\w+)(\\s+\\1)+\\b', r'\\1', text)\n",
    "\n",
    "def clean_text(text):\n",
    "    text = str(text).lower()\n",
    "    text = re.sub(r'@[a-z0-9_]+', '', text) # Removes Twitter usernames\n",
    "    text = re.sub('rt|cc', ' ', text)  # remove RT and cc\n",
    "    text = re.sub('#', '', text)  # remove hashtags\n",
    "    text = re.sub('@\\S+', '  ', text)  # remove mentions\n",
    "    text = re.sub('\\[.*?\\]', '', text) # Removes all text enclosed in square brackets \n",
    "    text = re.sub('<.*?>+', '', text) # remove html tags\n",
    "    text = re.sub('https?://\\S+|www\\.\\S+', '', text) # remove URLs\n",
    "    text = re.sub('\\s+', ' ', text)  # remove extra whitespace\n",
    "    text = re.sub('[%s]' % re.escape(string.punctuation), '', text) # remove punctuations\n",
    "    text = re.sub(r'[^\\w\\s.,]', '', text) # Removes all non-word characters\n",
    "    # text = [word for word in text.split(' ') if word not in nltk_stopword]\n",
    "    return text\n",
    "\n",
    "\n",
    "def stop_word(text):\n",
    "    return \" \".join([word for word in text.split(' ') if word not in nltk_stopword])\n",
    "\n",
    "lemmatizer = WordNetLemmatizer()\n",
    "\n",
    "def lemmatize_word(word):\n",
    "    return lemmatizer.lemmatize(word, pos='v')\n",
    "\n",
    "def lemmatize_sentence(sentence):\n",
    "    words = nltk.word_tokenize(sentence) \n",
    "    words = [word for word in words if word.isalnum()] \n",
    "    words = [lemmatize_word(word) for word in words]  \n",
    "    return ' '.join(words)  "
   ]
  },
  {
   "cell_type": "code",
   "execution_count": 121,
   "metadata": {},
   "outputs": [
    {
     "data": {
      "application/vnd.jupyter.widget-view+json": {
       "model_id": "a518ef04aede45f59f66855f8015e315",
       "version_major": 2,
       "version_minor": 0
      },
      "text/plain": [
       "  0%|          | 0/3585 [00:00<?, ?it/s]"
      ]
     },
     "metadata": {},
     "output_type": "display_data"
    },
    {
     "data": {
      "application/vnd.jupyter.widget-view+json": {
       "model_id": "0414627beda34a7a994e51bb6d0e8867",
       "version_major": 2,
       "version_minor": 0
      },
      "text/plain": [
       "  0%|          | 0/3585 [00:00<?, ?it/s]"
      ]
     },
     "metadata": {},
     "output_type": "display_data"
    },
    {
     "data": {
      "application/vnd.jupyter.widget-view+json": {
       "model_id": "f9095c9fa6514568b39efbfbef38cb43",
       "version_major": 2,
       "version_minor": 0
      },
      "text/plain": [
       "  0%|          | 0/3585 [00:00<?, ?it/s]"
      ]
     },
     "metadata": {},
     "output_type": "display_data"
    },
    {
     "data": {
      "text/html": [
       "<div>\n",
       "<style scoped>\n",
       "    .dataframe tbody tr th:only-of-type {\n",
       "        vertical-align: middle;\n",
       "    }\n",
       "\n",
       "    .dataframe tbody tr th {\n",
       "        vertical-align: top;\n",
       "    }\n",
       "\n",
       "    .dataframe thead th {\n",
       "        text-align: right;\n",
       "    }\n",
       "</style>\n",
       "<table border=\"1\" class=\"dataframe\">\n",
       "  <thead>\n",
       "    <tr style=\"text-align: right;\">\n",
       "      <th></th>\n",
       "      <th>data</th>\n",
       "      <th>class</th>\n",
       "      <th>text</th>\n",
       "      <th>clean_text</th>\n",
       "    </tr>\n",
       "  </thead>\n",
       "  <tbody>\n",
       "    <tr>\n",
       "      <th>0</th>\n",
       "      <td>Subject: Re: [rw] Is Robert Weiss the only ort...</td>\n",
       "      <td>3</td>\n",
       "      <td>In article &lt;C5vGyD.H7s@acsu.buffalo.edu&gt;, psyr...</td>\n",
       "      <td>icle psyrobtw buffaloedu robe weiss say hodox ...</td>\n",
       "    </tr>\n",
       "    <tr>\n",
       "      <th>1</th>\n",
       "      <td>From: aidler@sol.uvic.ca (E Alan  Idler)\\nSubj...</td>\n",
       "      <td>2</td>\n",
       "      <td>muddmj@wkuvx1.bitnet writes: &gt;&gt; But, haven't \"...</td>\n",
       "      <td>muddmjbitnet write havent sin come sho glory g...</td>\n",
       "    </tr>\n",
       "    <tr>\n",
       "      <th>2</th>\n",
       "      <td>From: susan_soric@upubs.uchicago.edu (Susan So...</td>\n",
       "      <td>3</td>\n",
       "      <td>I'm greatly in need of Jurgen Moltmann's book ...</td>\n",
       "      <td>im greatly need jurgen moltmanns book god crea...</td>\n",
       "    </tr>\n",
       "    <tr>\n",
       "      <th>3</th>\n",
       "      <td>From: jtk@s1.gov (Jordin Kare)\\nSubject: Re: I...</td>\n",
       "      <td>1</td>\n",
       "      <td>Distribution: world NNTP-Posting-Host: s1.gov ...</td>\n",
       "      <td>distribution world nntppostinghost s1gov yamau...</td>\n",
       "    </tr>\n",
       "    <tr>\n",
       "      <th>4</th>\n",
       "      <td>From: hollasch@kpc.com (Steve Hollasch)\\nSubje...</td>\n",
       "      <td>0</td>\n",
       "      <td>lioness@maple.circa.ufl.edu: &gt; Okay, I got eno...</td>\n",
       "      <td>lionesscircaufledu okay get enough reply kubot...</td>\n",
       "    </tr>\n",
       "    <tr>\n",
       "      <th>...</th>\n",
       "      <td>...</td>\n",
       "      <td>...</td>\n",
       "      <td>...</td>\n",
       "      <td>...</td>\n",
       "    </tr>\n",
       "    <tr>\n",
       "      <th>3580</th>\n",
       "      <td>From: Christopher.S.Weinberger@williams.edu (G...</td>\n",
       "      <td>2</td>\n",
       "      <td>In article &lt;Apr.19.05.13.28.1993.29224@athos.r...</td>\n",
       "      <td>icle rolfedsuedu tim rolfe write romans 828 rs...</td>\n",
       "    </tr>\n",
       "    <tr>\n",
       "      <th>3581</th>\n",
       "      <td>From: ch981@cleveland.Freenet.Edu (Tony Alicea...</td>\n",
       "      <td>3</td>\n",
       "      <td>Reply-To: ch981@cleveland.Freenet.Edu (Tony Al...</td>\n",
       "      <td>replyto ch981freenetedu tony alicea nntppostin...</td>\n",
       "    </tr>\n",
       "    <tr>\n",
       "      <th>3582</th>\n",
       "      <td>From: mccall@mksol.dseg.ti.com (fred j mccall ...</td>\n",
       "      <td>1</td>\n",
       "      <td>In &lt;1993Apr5.195215.16833@pixel.kodak.com&gt; dj@...</td>\n",
       "      <td>djssdkodakcom dave jones write keith mancus ma...</td>\n",
       "    </tr>\n",
       "    <tr>\n",
       "      <th>3583</th>\n",
       "      <td>From: bkidd@esk.compserv.utas.edu.au ( Byron J...</td>\n",
       "      <td>0</td>\n",
       "      <td>Sorry if this is a FAQ but : \"Where can I get ...</td>\n",
       "      <td>sorry faq get 286 16 bite version povray help ...</td>\n",
       "    </tr>\n",
       "    <tr>\n",
       "      <th>3584</th>\n",
       "      <td>From: wmoore@ADS.COM (William Moore)\\nSubject:...</td>\n",
       "      <td>3</td>\n",
       "      <td>Newsgroups: talk.religion.misc Subject: On-lin...</td>\n",
       "      <td>newsgroups talkreligionmisc subject online cop...</td>\n",
       "    </tr>\n",
       "  </tbody>\n",
       "</table>\n",
       "<p>3585 rows × 4 columns</p>\n",
       "</div>"
      ],
      "text/plain": [
       "                                                   data  class  \\\n",
       "0     Subject: Re: [rw] Is Robert Weiss the only ort...      3   \n",
       "1     From: aidler@sol.uvic.ca (E Alan  Idler)\\nSubj...      2   \n",
       "2     From: susan_soric@upubs.uchicago.edu (Susan So...      3   \n",
       "3     From: jtk@s1.gov (Jordin Kare)\\nSubject: Re: I...      1   \n",
       "4     From: hollasch@kpc.com (Steve Hollasch)\\nSubje...      0   \n",
       "...                                                 ...    ...   \n",
       "3580  From: Christopher.S.Weinberger@williams.edu (G...      2   \n",
       "3581  From: ch981@cleveland.Freenet.Edu (Tony Alicea...      3   \n",
       "3582  From: mccall@mksol.dseg.ti.com (fred j mccall ...      1   \n",
       "3583  From: bkidd@esk.compserv.utas.edu.au ( Byron J...      0   \n",
       "3584  From: wmoore@ADS.COM (William Moore)\\nSubject:...      3   \n",
       "\n",
       "                                                   text  \\\n",
       "0     In article <C5vGyD.H7s@acsu.buffalo.edu>, psyr...   \n",
       "1     muddmj@wkuvx1.bitnet writes: >> But, haven't \"...   \n",
       "2     I'm greatly in need of Jurgen Moltmann's book ...   \n",
       "3     Distribution: world NNTP-Posting-Host: s1.gov ...   \n",
       "4     lioness@maple.circa.ufl.edu: > Okay, I got eno...   \n",
       "...                                                 ...   \n",
       "3580  In article <Apr.19.05.13.28.1993.29224@athos.r...   \n",
       "3581  Reply-To: ch981@cleveland.Freenet.Edu (Tony Al...   \n",
       "3582  In <1993Apr5.195215.16833@pixel.kodak.com> dj@...   \n",
       "3583  Sorry if this is a FAQ but : \"Where can I get ...   \n",
       "3584  Newsgroups: talk.religion.misc Subject: On-lin...   \n",
       "\n",
       "                                             clean_text  \n",
       "0     icle psyrobtw buffaloedu robe weiss say hodox ...  \n",
       "1     muddmjbitnet write havent sin come sho glory g...  \n",
       "2     im greatly need jurgen moltmanns book god crea...  \n",
       "3     distribution world nntppostinghost s1gov yamau...  \n",
       "4     lionesscircaufledu okay get enough reply kubot...  \n",
       "...                                                 ...  \n",
       "3580  icle rolfedsuedu tim rolfe write romans 828 rs...  \n",
       "3581  replyto ch981freenetedu tony alicea nntppostin...  \n",
       "3582  djssdkodakcom dave jones write keith mancus ma...  \n",
       "3583  sorry faq get 286 16 bite version povray help ...  \n",
       "3584  newsgroups talkreligionmisc subject online cop...  \n",
       "\n",
       "[3585 rows x 4 columns]"
      ]
     },
     "execution_count": 121,
     "metadata": {},
     "output_type": "execute_result"
    }
   ],
   "source": [
    "data['clean_text'] = data['text'] \\\n",
    "                    .progress_apply(clean_text) \\\n",
    "                    .progress_apply(stop_word) \\\n",
    "                    .progress_apply(lemmatize_sentence)\n",
    "data"
   ]
  },
  {
   "attachments": {},
   "cell_type": "markdown",
   "metadata": {},
   "source": [
    "### 3.3. Add label for Sentiment Analysis using Vader NLTK"
   ]
  },
  {
   "cell_type": "code",
   "execution_count": 16,
   "metadata": {},
   "outputs": [
    {
     "data": {
      "text/html": [
       "<div>\n",
       "<style scoped>\n",
       "    .dataframe tbody tr th:only-of-type {\n",
       "        vertical-align: middle;\n",
       "    }\n",
       "\n",
       "    .dataframe tbody tr th {\n",
       "        vertical-align: top;\n",
       "    }\n",
       "\n",
       "    .dataframe thead th {\n",
       "        text-align: right;\n",
       "    }\n",
       "</style>\n",
       "<table border=\"1\" class=\"dataframe\">\n",
       "  <thead>\n",
       "    <tr style=\"text-align: right;\">\n",
       "      <th></th>\n",
       "      <th>Translated_Review</th>\n",
       "      <th>Sentiment</th>\n",
       "      <th>Sentiment_Polarity</th>\n",
       "      <th>Sentiment_Subjectivity</th>\n",
       "      <th>clean_text</th>\n",
       "      <th>Positive</th>\n",
       "      <th>Negative</th>\n",
       "      <th>Neutral</th>\n",
       "      <th>Compound</th>\n",
       "    </tr>\n",
       "  </thead>\n",
       "  <tbody>\n",
       "    <tr>\n",
       "      <th>0</th>\n",
       "      <td>I like eat delicious food. That's I'm cooking ...</td>\n",
       "      <td>Positive</td>\n",
       "      <td>1.000000</td>\n",
       "      <td>0.533333</td>\n",
       "      <td>like eat delicious food thats im cook food cas...</td>\n",
       "      <td>0.571</td>\n",
       "      <td>0.000</td>\n",
       "      <td>0.429</td>\n",
       "      <td>0.9538</td>\n",
       "    </tr>\n",
       "    <tr>\n",
       "      <th>1</th>\n",
       "      <td>This help eating healthy exercise regular basis</td>\n",
       "      <td>Positive</td>\n",
       "      <td>0.250000</td>\n",
       "      <td>0.288462</td>\n",
       "      <td>help eat healthy exercise regular basis</td>\n",
       "      <td>0.574</td>\n",
       "      <td>0.000</td>\n",
       "      <td>0.426</td>\n",
       "      <td>0.6597</td>\n",
       "    </tr>\n",
       "    <tr>\n",
       "      <th>2</th>\n",
       "      <td>Works great especially going grocery store</td>\n",
       "      <td>Positive</td>\n",
       "      <td>0.400000</td>\n",
       "      <td>0.875000</td>\n",
       "      <td>work great especially go grocery store</td>\n",
       "      <td>0.451</td>\n",
       "      <td>0.000</td>\n",
       "      <td>0.549</td>\n",
       "      <td>0.6249</td>\n",
       "    </tr>\n",
       "    <tr>\n",
       "      <th>3</th>\n",
       "      <td>Best idea us</td>\n",
       "      <td>Positive</td>\n",
       "      <td>1.000000</td>\n",
       "      <td>0.300000</td>\n",
       "      <td>best idea us</td>\n",
       "      <td>0.677</td>\n",
       "      <td>0.000</td>\n",
       "      <td>0.323</td>\n",
       "      <td>0.6369</td>\n",
       "    </tr>\n",
       "    <tr>\n",
       "      <th>4</th>\n",
       "      <td>Best way</td>\n",
       "      <td>Positive</td>\n",
       "      <td>1.000000</td>\n",
       "      <td>0.300000</td>\n",
       "      <td>best way</td>\n",
       "      <td>0.808</td>\n",
       "      <td>0.000</td>\n",
       "      <td>0.192</td>\n",
       "      <td>0.6369</td>\n",
       "    </tr>\n",
       "    <tr>\n",
       "      <th>...</th>\n",
       "      <td>...</td>\n",
       "      <td>...</td>\n",
       "      <td>...</td>\n",
       "      <td>...</td>\n",
       "      <td>...</td>\n",
       "      <td>...</td>\n",
       "      <td>...</td>\n",
       "      <td>...</td>\n",
       "      <td>...</td>\n",
       "    </tr>\n",
       "    <tr>\n",
       "      <th>29687</th>\n",
       "      <td>Most ads older many agents ..not much owner po...</td>\n",
       "      <td>Positive</td>\n",
       "      <td>0.173333</td>\n",
       "      <td>0.486667</td>\n",
       "      <td>ads older many agents much owner post detail r...</td>\n",
       "      <td>0.000</td>\n",
       "      <td>0.171</td>\n",
       "      <td>0.829</td>\n",
       "      <td>-0.4767</td>\n",
       "    </tr>\n",
       "    <tr>\n",
       "      <th>29688</th>\n",
       "      <td>If photos posted portal load, fit purpose. I'm...</td>\n",
       "      <td>Positive</td>\n",
       "      <td>0.225000</td>\n",
       "      <td>0.447222</td>\n",
       "      <td>photos post po al load fit purpose im sure sto...</td>\n",
       "      <td>0.216</td>\n",
       "      <td>0.140</td>\n",
       "      <td>0.644</td>\n",
       "      <td>0.4019</td>\n",
       "    </tr>\n",
       "    <tr>\n",
       "      <th>29689</th>\n",
       "      <td>Dumb app, I wanted post property rent give opt...</td>\n",
       "      <td>Negative</td>\n",
       "      <td>-0.287500</td>\n",
       "      <td>0.250000</td>\n",
       "      <td>dumb app want post prope rent give option webs...</td>\n",
       "      <td>0.071</td>\n",
       "      <td>0.332</td>\n",
       "      <td>0.598</td>\n",
       "      <td>-0.7003</td>\n",
       "    </tr>\n",
       "    <tr>\n",
       "      <th>29690</th>\n",
       "      <td>I property business got link SMS happy perform...</td>\n",
       "      <td>Positive</td>\n",
       "      <td>0.800000</td>\n",
       "      <td>1.000000</td>\n",
       "      <td>prope business get link sms happy performance ...</td>\n",
       "      <td>0.368</td>\n",
       "      <td>0.000</td>\n",
       "      <td>0.632</td>\n",
       "      <td>0.7906</td>\n",
       "    </tr>\n",
       "    <tr>\n",
       "      <th>29691</th>\n",
       "      <td>Useless app, I searched flats kondapur, Hydera...</td>\n",
       "      <td>Negative</td>\n",
       "      <td>-0.316667</td>\n",
       "      <td>0.400000</td>\n",
       "      <td>useless app search flats kondapur hyderabad no...</td>\n",
       "      <td>0.137</td>\n",
       "      <td>0.204</td>\n",
       "      <td>0.659</td>\n",
       "      <td>-0.0829</td>\n",
       "    </tr>\n",
       "  </tbody>\n",
       "</table>\n",
       "<p>29692 rows × 9 columns</p>\n",
       "</div>"
      ],
      "text/plain": [
       "                                       Translated_Review Sentiment  \\\n",
       "0      I like eat delicious food. That's I'm cooking ...  Positive   \n",
       "1        This help eating healthy exercise regular basis  Positive   \n",
       "2             Works great especially going grocery store  Positive   \n",
       "3                                           Best idea us  Positive   \n",
       "4                                               Best way  Positive   \n",
       "...                                                  ...       ...   \n",
       "29687  Most ads older many agents ..not much owner po...  Positive   \n",
       "29688  If photos posted portal load, fit purpose. I'm...  Positive   \n",
       "29689  Dumb app, I wanted post property rent give opt...  Negative   \n",
       "29690  I property business got link SMS happy perform...  Positive   \n",
       "29691  Useless app, I searched flats kondapur, Hydera...  Negative   \n",
       "\n",
       "       Sentiment_Polarity  Sentiment_Subjectivity  \\\n",
       "0                1.000000                0.533333   \n",
       "1                0.250000                0.288462   \n",
       "2                0.400000                0.875000   \n",
       "3                1.000000                0.300000   \n",
       "4                1.000000                0.300000   \n",
       "...                   ...                     ...   \n",
       "29687            0.173333                0.486667   \n",
       "29688            0.225000                0.447222   \n",
       "29689           -0.287500                0.250000   \n",
       "29690            0.800000                1.000000   \n",
       "29691           -0.316667                0.400000   \n",
       "\n",
       "                                              clean_text  Positive  Negative  \\\n",
       "0      like eat delicious food thats im cook food cas...     0.571     0.000   \n",
       "1                help eat healthy exercise regular basis     0.574     0.000   \n",
       "2                 work great especially go grocery store     0.451     0.000   \n",
       "3                                           best idea us     0.677     0.000   \n",
       "4                                               best way     0.808     0.000   \n",
       "...                                                  ...       ...       ...   \n",
       "29687  ads older many agents much owner post detail r...     0.000     0.171   \n",
       "29688  photos post po al load fit purpose im sure sto...     0.216     0.140   \n",
       "29689  dumb app want post prope rent give option webs...     0.071     0.332   \n",
       "29690  prope business get link sms happy performance ...     0.368     0.000   \n",
       "29691  useless app search flats kondapur hyderabad no...     0.137     0.204   \n",
       "\n",
       "       Neutral  Compound  \n",
       "0        0.429    0.9538  \n",
       "1        0.426    0.6597  \n",
       "2        0.549    0.6249  \n",
       "3        0.323    0.6369  \n",
       "4        0.192    0.6369  \n",
       "...        ...       ...  \n",
       "29687    0.829   -0.4767  \n",
       "29688    0.644    0.4019  \n",
       "29689    0.598   -0.7003  \n",
       "29690    0.632    0.7906  \n",
       "29691    0.659   -0.0829  \n",
       "\n",
       "[29692 rows x 9 columns]"
      ]
     },
     "execution_count": 16,
     "metadata": {},
     "output_type": "execute_result"
    }
   ],
   "source": [
    "sentiments = SentimentIntensityAnalyzer()\n",
    "data[\"Positive\"] = [sentiments.polarity_scores(i)[\"pos\"] for i in data[\"clean_text\"]]\n",
    "data[\"Negative\"] = [sentiments.polarity_scores(i)[\"neg\"] for i in data[\"clean_text\"]]\n",
    "data[\"Neutral\"]  = [sentiments.polarity_scores(i)[\"neu\"] for i in data[\"clean_text\"]]\n",
    "data['Compound'] = [sentiments.polarity_scores(i)[\"compound\"] for i in data[\"clean_text\"]]\n",
    "data"
   ]
  },
  {
   "cell_type": "code",
   "execution_count": 17,
   "metadata": {},
   "outputs": [
    {
     "data": {
      "text/html": [
       "<div>\n",
       "<style scoped>\n",
       "    .dataframe tbody tr th:only-of-type {\n",
       "        vertical-align: middle;\n",
       "    }\n",
       "\n",
       "    .dataframe tbody tr th {\n",
       "        vertical-align: top;\n",
       "    }\n",
       "\n",
       "    .dataframe thead th {\n",
       "        text-align: right;\n",
       "    }\n",
       "</style>\n",
       "<table border=\"1\" class=\"dataframe\">\n",
       "  <thead>\n",
       "    <tr style=\"text-align: right;\">\n",
       "      <th></th>\n",
       "      <th>Translated_Review</th>\n",
       "      <th>Sentiment</th>\n",
       "      <th>Sentiment_Polarity</th>\n",
       "      <th>Sentiment_Subjectivity</th>\n",
       "      <th>clean_text</th>\n",
       "      <th>Positive</th>\n",
       "      <th>Negative</th>\n",
       "      <th>Neutral</th>\n",
       "      <th>Compound</th>\n",
       "      <th>Sentiment_Vader</th>\n",
       "    </tr>\n",
       "  </thead>\n",
       "  <tbody>\n",
       "    <tr>\n",
       "      <th>0</th>\n",
       "      <td>I like eat delicious food. That's I'm cooking ...</td>\n",
       "      <td>Positive</td>\n",
       "      <td>1.000000</td>\n",
       "      <td>0.533333</td>\n",
       "      <td>like eat delicious food thats im cook food cas...</td>\n",
       "      <td>0.571</td>\n",
       "      <td>0.000</td>\n",
       "      <td>0.429</td>\n",
       "      <td>0.9538</td>\n",
       "      <td>Positive</td>\n",
       "    </tr>\n",
       "    <tr>\n",
       "      <th>1</th>\n",
       "      <td>This help eating healthy exercise regular basis</td>\n",
       "      <td>Positive</td>\n",
       "      <td>0.250000</td>\n",
       "      <td>0.288462</td>\n",
       "      <td>help eat healthy exercise regular basis</td>\n",
       "      <td>0.574</td>\n",
       "      <td>0.000</td>\n",
       "      <td>0.426</td>\n",
       "      <td>0.6597</td>\n",
       "      <td>Positive</td>\n",
       "    </tr>\n",
       "    <tr>\n",
       "      <th>2</th>\n",
       "      <td>Works great especially going grocery store</td>\n",
       "      <td>Positive</td>\n",
       "      <td>0.400000</td>\n",
       "      <td>0.875000</td>\n",
       "      <td>work great especially go grocery store</td>\n",
       "      <td>0.451</td>\n",
       "      <td>0.000</td>\n",
       "      <td>0.549</td>\n",
       "      <td>0.6249</td>\n",
       "      <td>Positive</td>\n",
       "    </tr>\n",
       "    <tr>\n",
       "      <th>3</th>\n",
       "      <td>Best idea us</td>\n",
       "      <td>Positive</td>\n",
       "      <td>1.000000</td>\n",
       "      <td>0.300000</td>\n",
       "      <td>best idea us</td>\n",
       "      <td>0.677</td>\n",
       "      <td>0.000</td>\n",
       "      <td>0.323</td>\n",
       "      <td>0.6369</td>\n",
       "      <td>Positive</td>\n",
       "    </tr>\n",
       "    <tr>\n",
       "      <th>4</th>\n",
       "      <td>Best way</td>\n",
       "      <td>Positive</td>\n",
       "      <td>1.000000</td>\n",
       "      <td>0.300000</td>\n",
       "      <td>best way</td>\n",
       "      <td>0.808</td>\n",
       "      <td>0.000</td>\n",
       "      <td>0.192</td>\n",
       "      <td>0.6369</td>\n",
       "      <td>Positive</td>\n",
       "    </tr>\n",
       "    <tr>\n",
       "      <th>...</th>\n",
       "      <td>...</td>\n",
       "      <td>...</td>\n",
       "      <td>...</td>\n",
       "      <td>...</td>\n",
       "      <td>...</td>\n",
       "      <td>...</td>\n",
       "      <td>...</td>\n",
       "      <td>...</td>\n",
       "      <td>...</td>\n",
       "      <td>...</td>\n",
       "    </tr>\n",
       "    <tr>\n",
       "      <th>29687</th>\n",
       "      <td>Most ads older many agents ..not much owner po...</td>\n",
       "      <td>Positive</td>\n",
       "      <td>0.173333</td>\n",
       "      <td>0.486667</td>\n",
       "      <td>ads older many agents much owner post detail r...</td>\n",
       "      <td>0.000</td>\n",
       "      <td>0.171</td>\n",
       "      <td>0.829</td>\n",
       "      <td>-0.4767</td>\n",
       "      <td>Negative</td>\n",
       "    </tr>\n",
       "    <tr>\n",
       "      <th>29688</th>\n",
       "      <td>If photos posted portal load, fit purpose. I'm...</td>\n",
       "      <td>Positive</td>\n",
       "      <td>0.225000</td>\n",
       "      <td>0.447222</td>\n",
       "      <td>photos post po al load fit purpose im sure sto...</td>\n",
       "      <td>0.216</td>\n",
       "      <td>0.140</td>\n",
       "      <td>0.644</td>\n",
       "      <td>0.4019</td>\n",
       "      <td>Positive</td>\n",
       "    </tr>\n",
       "    <tr>\n",
       "      <th>29689</th>\n",
       "      <td>Dumb app, I wanted post property rent give opt...</td>\n",
       "      <td>Negative</td>\n",
       "      <td>-0.287500</td>\n",
       "      <td>0.250000</td>\n",
       "      <td>dumb app want post prope rent give option webs...</td>\n",
       "      <td>0.071</td>\n",
       "      <td>0.332</td>\n",
       "      <td>0.598</td>\n",
       "      <td>-0.7003</td>\n",
       "      <td>Negative</td>\n",
       "    </tr>\n",
       "    <tr>\n",
       "      <th>29690</th>\n",
       "      <td>I property business got link SMS happy perform...</td>\n",
       "      <td>Positive</td>\n",
       "      <td>0.800000</td>\n",
       "      <td>1.000000</td>\n",
       "      <td>prope business get link sms happy performance ...</td>\n",
       "      <td>0.368</td>\n",
       "      <td>0.000</td>\n",
       "      <td>0.632</td>\n",
       "      <td>0.7906</td>\n",
       "      <td>Positive</td>\n",
       "    </tr>\n",
       "    <tr>\n",
       "      <th>29691</th>\n",
       "      <td>Useless app, I searched flats kondapur, Hydera...</td>\n",
       "      <td>Negative</td>\n",
       "      <td>-0.316667</td>\n",
       "      <td>0.400000</td>\n",
       "      <td>useless app search flats kondapur hyderabad no...</td>\n",
       "      <td>0.137</td>\n",
       "      <td>0.204</td>\n",
       "      <td>0.659</td>\n",
       "      <td>-0.0829</td>\n",
       "      <td>Neutral</td>\n",
       "    </tr>\n",
       "  </tbody>\n",
       "</table>\n",
       "<p>29692 rows × 10 columns</p>\n",
       "</div>"
      ],
      "text/plain": [
       "                                       Translated_Review Sentiment  \\\n",
       "0      I like eat delicious food. That's I'm cooking ...  Positive   \n",
       "1        This help eating healthy exercise regular basis  Positive   \n",
       "2             Works great especially going grocery store  Positive   \n",
       "3                                           Best idea us  Positive   \n",
       "4                                               Best way  Positive   \n",
       "...                                                  ...       ...   \n",
       "29687  Most ads older many agents ..not much owner po...  Positive   \n",
       "29688  If photos posted portal load, fit purpose. I'm...  Positive   \n",
       "29689  Dumb app, I wanted post property rent give opt...  Negative   \n",
       "29690  I property business got link SMS happy perform...  Positive   \n",
       "29691  Useless app, I searched flats kondapur, Hydera...  Negative   \n",
       "\n",
       "       Sentiment_Polarity  Sentiment_Subjectivity  \\\n",
       "0                1.000000                0.533333   \n",
       "1                0.250000                0.288462   \n",
       "2                0.400000                0.875000   \n",
       "3                1.000000                0.300000   \n",
       "4                1.000000                0.300000   \n",
       "...                   ...                     ...   \n",
       "29687            0.173333                0.486667   \n",
       "29688            0.225000                0.447222   \n",
       "29689           -0.287500                0.250000   \n",
       "29690            0.800000                1.000000   \n",
       "29691           -0.316667                0.400000   \n",
       "\n",
       "                                              clean_text  Positive  Negative  \\\n",
       "0      like eat delicious food thats im cook food cas...     0.571     0.000   \n",
       "1                help eat healthy exercise regular basis     0.574     0.000   \n",
       "2                 work great especially go grocery store     0.451     0.000   \n",
       "3                                           best idea us     0.677     0.000   \n",
       "4                                               best way     0.808     0.000   \n",
       "...                                                  ...       ...       ...   \n",
       "29687  ads older many agents much owner post detail r...     0.000     0.171   \n",
       "29688  photos post po al load fit purpose im sure sto...     0.216     0.140   \n",
       "29689  dumb app want post prope rent give option webs...     0.071     0.332   \n",
       "29690  prope business get link sms happy performance ...     0.368     0.000   \n",
       "29691  useless app search flats kondapur hyderabad no...     0.137     0.204   \n",
       "\n",
       "       Neutral  Compound Sentiment_Vader  \n",
       "0        0.429    0.9538        Positive  \n",
       "1        0.426    0.6597        Positive  \n",
       "2        0.549    0.6249        Positive  \n",
       "3        0.323    0.6369        Positive  \n",
       "4        0.192    0.6369        Positive  \n",
       "...        ...       ...             ...  \n",
       "29687    0.829   -0.4767        Negative  \n",
       "29688    0.644    0.4019        Positive  \n",
       "29689    0.598   -0.7003        Negative  \n",
       "29690    0.632    0.7906        Positive  \n",
       "29691    0.659   -0.0829         Neutral  \n",
       "\n",
       "[29692 rows x 10 columns]"
      ]
     },
     "execution_count": 17,
     "metadata": {},
     "output_type": "execute_result"
    }
   ],
   "source": [
    "score = data[\"Compound\"].values\n",
    "sentiment = []\n",
    "for i in score:\n",
    "    if i >= 0.1 :\n",
    "        sentiment.append('Positive')\n",
    "    elif i < -0.1 :\n",
    "        sentiment.append('Negative')\n",
    "    else:\n",
    "        sentiment.append('Neutral')\n",
    "data[\"Sentiment_Vader\"] = pd.DataFrame(sentiment)\n",
    "data"
   ]
  },
  {
   "cell_type": "code",
   "execution_count": 26,
   "metadata": {},
   "outputs": [
    {
     "data": {
      "text/plain": [
       "Positive    19015\n",
       "Negative     6321\n",
       "Neutral      4356\n",
       "Name: Sentiment, dtype: int64"
      ]
     },
     "execution_count": 26,
     "metadata": {},
     "output_type": "execute_result"
    }
   ],
   "source": [
    "data[\"Sentiment\"].value_counts()"
   ]
  },
  {
   "cell_type": "code",
   "execution_count": 27,
   "metadata": {},
   "outputs": [
    {
     "data": {
      "text/plain": [
       "Positive    19808\n",
       "Negative     5472\n",
       "Neutral      4412\n",
       "Name: Sentiment_Vader, dtype: int64"
      ]
     },
     "execution_count": 27,
     "metadata": {},
     "output_type": "execute_result"
    }
   ],
   "source": [
    "data[\"Sentiment_Vader\"].value_counts()"
   ]
  },
  {
   "cell_type": "code",
   "execution_count": 32,
   "metadata": {},
   "outputs": [
    {
     "data": {
      "text/plain": [
       "True     22290\n",
       "False     7402\n",
       "Name: Compare, dtype: int64"
      ]
     },
     "execution_count": 32,
     "metadata": {},
     "output_type": "execute_result"
    }
   ],
   "source": [
    "data['Compare'] = data[\"Sentiment\"] == data[\"Sentiment_Vader\"]\n",
    "data['Compare'].value_counts()"
   ]
  },
  {
   "attachments": {},
   "cell_type": "markdown",
   "metadata": {},
   "source": [
    "### 3.4. Count Sentence in a Record"
   ]
  },
  {
   "cell_type": "code",
   "execution_count": 122,
   "metadata": {},
   "outputs": [
    {
     "name": "stdout",
     "output_type": "stream",
     "text": [
      "1\n",
      "5584\n"
     ]
    },
    {
     "data": {
      "image/png": "[encoded data removed]",
      "text/plain": [
       "<Figure size 2500x200 with 1 Axes>"
      ]
     },
     "metadata": {},
     "output_type": "display_data"
    }
   ],
   "source": [
    "text_len = [len(word) for word in data['clean_text'].str.split(' ')]\n",
    "data['text_len'] = pd.DataFrame(text_len)\n",
    "print(data['text_len'].min())\n",
    "print(data['text_len'].max())\n",
    "\n",
    "\n",
    "fig, ax = plt.subplots(figsize=(25, 2))\n",
    "sns.boxplot(x=data['text_len'], palette=\"crest\")\n",
    "plt.show()"
   ]
  },
  {
   "cell_type": "code",
   "execution_count": 123,
   "metadata": {},
   "outputs": [
    {
     "name": "stdout",
     "output_type": "stream",
     "text": [
      "7.0\n",
      "156.0\n"
     ]
    }
   ],
   "source": [
    "print(data['text_len'].quantile(.01))\n",
    "print(data['text_len'].quantile(.75))"
   ]
  },
  {
   "cell_type": "code",
   "execution_count": 95,
   "metadata": {},
   "outputs": [
    {
     "data": {
      "text/plain": [
       "8654"
      ]
     },
     "execution_count": 95,
     "metadata": {},
     "output_type": "execute_result"
    }
   ],
   "source": [
    "len(data[data['text_len'] < 150])"
   ]
  },
  {
   "attachments": {},
   "cell_type": "markdown",
   "metadata": {},
   "source": [
    "### 3.5. Remove outliers based-on length of the sentences"
   ]
  },
  {
   "cell_type": "code",
   "execution_count": 124,
   "metadata": {},
   "outputs": [
    {
     "data": {
      "text/plain": [
       "<Axes: xlabel='text_len'>"
      ]
     },
     "execution_count": 124,
     "metadata": {},
     "output_type": "execute_result"
    },
    {
     "data": {
      "image/png": "[encoded data removed]",
      "text/plain": [
       "<Figure size 2500x200 with 1 Axes>"
      ]
     },
     "metadata": {},
     "output_type": "display_data"
    }
   ],
   "source": [
    "Q1 = data['text_len'].quantile(.01)\n",
    "Q3 = data['text_len'].quantile(.75)\n",
    "\n",
    "data = data[(data['text_len'] > Q1) & (data['text_len'] < Q3)]\n",
    "\n",
    "fig, axes = plt.subplots(figsize=(25, 2))\n",
    "sns.boxplot(x = data['text_len'], palette=\"Oranges\")"
   ]
  },
  {
   "cell_type": "code",
   "execution_count": 125,
   "metadata": {},
   "outputs": [
    {
     "data": {
      "image/png": "[encoded data removed]",
      "text/plain": [
       "<Figure size 2500x1000 with 1 Axes>"
      ]
     },
     "metadata": {},
     "output_type": "display_data"
    }
   ],
   "source": [
    "plt.subplots(figsize = (25,10))\n",
    "ax = sns.countplot(data, y = data['class'])\n",
    "ax.bar_label(ax.containers[0])\n",
    "plt.show()"
   ]
  },
  {
   "attachments": {},
   "cell_type": "markdown",
   "metadata": {},
   "source": [
    "# 4. Preparing Dataset"
   ]
  },
  {
   "cell_type": "code",
   "execution_count": 142,
   "metadata": {},
   "outputs": [
    {
     "name": "stdout",
     "output_type": "stream",
     "text": [
      "(1855,) (1855, 4)\n",
      "(524,) (524, 4)\n",
      "(265,) (265, 4)\n"
     ]
    }
   ],
   "source": [
    "LE = LabelEncoder()\n",
    "\n",
    "X = data['clean_text']\n",
    "# Y = LE.fit_transform(data['label']) ### For Classification Algoritms\n",
    "Y = pd.get_dummies(data['class']) ### For Deep Learning Algoritms\n",
    "# Y = data['class'] ### For Deep Learning Algoritms\n",
    "\n",
    "X_train, X_val, y_train, y_val = train_test_split(X, Y, train_size=0.9, random_state = 42)\n",
    "X_train, X_test, y_train, y_test = train_test_split(X_train, y_train, train_size=0.78, random_state = 42)\n",
    "\n",
    "print(X_train.shape, y_train.shape)\n",
    "print(X_test.shape, y_test.shape)\n",
    "print(X_val.shape, y_val.shape)"
   ]
  },
  {
   "cell_type": "code",
   "execution_count": 143,
   "metadata": {},
   "outputs": [],
   "source": [
    "vocab_size = 20_000\n",
    "embedding_dim = 128\n",
    "max_length = 157\n",
    "trunc_type = 'post'\n",
    "padding_type = 'post'\n",
    "oov_tok = \"<OOV>\"\n",
    "num_label = y_train.shape[1]"
   ]
  },
  {
   "cell_type": "code",
   "execution_count": null,
   "metadata": {},
   "outputs": [],
   "source": [
    "# Tokenizing \n",
    "tokenizer = Tokenizer(num_words=vocab_size, oov_token=oov_tok)\n",
    "tokenizer.fit_on_texts(X)\n",
    "\n",
    "print(len(tokenizer.word_index))\n",
    "\n",
    "# Text to Sequences\n",
    "training_sequences = tokenizer.texts_to_sequences(X_train)\n",
    "testing_sequences = tokenizer.texts_to_sequences(X_test)\n",
    "validating_sequences = tokenizer.texts_to_sequences(X_val)\n",
    "\n",
    "# Add padding\n",
    "training_padded = pad_sequences(training_sequences, maxlen = max_length, padding = padding_type)\n",
    "testing_padded = pad_sequences(testing_sequences, maxlen = max_length, padding = padding_type)\n",
    "validating_padded = pad_sequences(validating_sequences, maxlen = max_length, padding = padding_type)\n",
    "\n",
    "# Convert to numpy array\n",
    "training_padded = np.array(training_padded)\n",
    "training_label = np.array(y_train)\n",
    "\n",
    "testing_padded = np.array(testing_padded)\n",
    "testing_label = np.array(y_test)\n",
    "\n",
    "validating_padded = np.array(validating_padded)\n",
    "validating_label = np.array(y_val)"
   ]
  },
  {
   "cell_type": "code",
   "execution_count": 144,
   "metadata": {},
   "outputs": [
    {
     "name": "stdout",
     "output_type": "stream",
     "text": [
      "22071\n",
      "(1204, 157) (1204, 4)\n",
      "(372, 157) (372, 4)\n",
      "(180, 157) (180, 4)\n"
     ]
    }
   ],
   "source": [
    "# Tokenizing \n",
    "tokenizer = Tokenizer(num_words=vocab_size, oov_token=oov_tok)\n",
    "tokenizer.fit_on_texts(X)\n",
    "\n",
    "print(len(tokenizer.word_index))\n",
    "\n",
    "# Text to Sequences\n",
    "training_sequences = tokenizer.texts_to_sequences(X_train)\n",
    "testing_sequences = tokenizer.texts_to_sequences(X_test)\n",
    "validating_sequences = tokenizer.texts_to_sequences(X_val)\n",
    "\n",
    "# Add padding\n",
    "training_padded = pad_sequences(training_sequences, maxlen = max_length, padding = padding_type)\n",
    "testing_padded = pad_sequences(testing_sequences, maxlen = max_length, padding = padding_type)\n",
    "validating_padded = pad_sequences(validating_sequences, maxlen = max_length, padding = padding_type)\n",
    "\n",
    "# Convert to numpy array\n",
    "training_padded = np.array(training_padded)\n",
    "training_label = np.array(y_train)\n",
    "\n",
    "testing_padded = np.array(testing_padded)\n",
    "testing_label = np.array(y_test)\n",
    "\n",
    "validating_padded = np.array(validating_padded)\n",
    "validating_label = np.array(y_val)\n",
    "\n",
    "# Undersampling\n",
    "rus = RandomUnderSampler(random_state=42, replacement=True)# fit predictor and target variable\n",
    "\n",
    "training_padded, training_label = rus.fit_resample(training_padded, training_label)\n",
    "testing_padded, testing_label = rus.fit_resample(testing_padded, testing_label)\n",
    "validating_padded, validating_label = rus.fit_resample(validating_padded, validating_label)\n",
    "\n",
    "# Categorical Label\n",
    "# training_label = pd.get_dummies(training_label.reshape(-1)).values\n",
    "# testing_label = pd.get_dummies(testing_label.reshape(-1)).values\n",
    "# validating_label = pd.get_dummies(validating_label.reshape(-1)).values\n",
    "# num_label = training_label.shape[1]\n",
    "\n",
    "print(training_padded.shape, training_label.shape)\n",
    "print(testing_padded.shape, testing_label.shape)\n",
    "print(validating_padded.shape, validating_label.shape)\n"
   ]
  },
  {
   "attachments": {},
   "cell_type": "markdown",
   "metadata": {},
   "source": [
    "# 5. Deep Learning Model"
   ]
  },
  {
   "cell_type": "code",
   "execution_count": 150,
   "metadata": {},
   "outputs": [
    {
     "name": "stdout",
     "output_type": "stream",
     "text": [
      "Model: \"sequential_12\"\n",
      "_________________________________________________________________\n",
      " Layer (type)                Output Shape              Param #   \n",
      "=================================================================\n",
      " embedding_12 (Embedding)    (None, 157, 128)          2560000   \n",
      "                                                                 \n",
      " bidirectional_15 (Bidirecti  (None, 512)              592896    \n",
      " onal)                                                           \n",
      "                                                                 \n",
      " dense_12 (Dense)            (None, 4)                 2052      \n",
      "                                                                 \n",
      "=================================================================\n",
      "Total params: 3,154,948\n",
      "Trainable params: 3,154,948\n",
      "Non-trainable params: 0\n",
      "_________________________________________________________________\n"
     ]
    }
   ],
   "source": [
    "def DNN_Model():\n",
    "    model = Sequential()\n",
    "    model.add(Embedding(vocab_size, embedding_dim, input_length=max_length))\n",
    "    model.add(Flatten())\n",
    "\n",
    "    model.add(Dense(1024, activation='relu'))\n",
    "    model.add(Dense(1024, activation='relu'))\n",
    "    # model.add(Dense(256, activation='relu'))\n",
    "    model.add(Dense(num_label, activation='softmax'))\n",
    "    return model\n",
    "\n",
    "\n",
    "def CNN_Model():\n",
    "    model = Sequential()\n",
    "    model.add(Embedding(vocab_size, embedding_dim, input_length=max_length))\n",
    "\n",
    "    model.add(Conv1D(64, 3, kernel_regularizer=keras.regularizers.l2(l=0.001)))\n",
    "    model.add(BatchNormalization())\n",
    "    model.add(ReLU())\n",
    "    model.add(MaxPooling1D())\n",
    "\n",
    "    model.add(Conv1D(64, 3, kernel_regularizer=keras.regularizers.l2(l=0.001)))\n",
    "    model.add(BatchNormalization())\n",
    "    model.add(ReLU())\n",
    "    model.add(MaxPooling1D())\n",
    "\n",
    "    model.add(Flatten())\n",
    "    # model.add(Dense(4098, activation='relu'))\n",
    "    model.add(Dense(1024, activation='relu'))\n",
    "    # model.add(Dense(256, activation='relu'))\n",
    "    model.add(Dense(num_label, activation='softmax'))\n",
    "    return model\n",
    "\n",
    "def LSTM_Model():\n",
    "    model = Sequential()\n",
    "    model.add(Embedding(input_dim=vocab_size, output_dim=embedding_dim, input_length=max_length))\n",
    "    model.add(Bidirectional(LSTM(256, return_sequences=True)))\n",
    "    model.add(Bidirectional(LSTM(256)))\n",
    "    model.add(Dense(num_label, activation='softmax'))\n",
    "    return model\n",
    "\n",
    "def GRU_Model():\n",
    "    model = Sequential()\n",
    "    model.add(Embedding(vocab_size, embedding_dim, input_length=max_length))\n",
    "    # model.add(Bidirectional(GRU(256, activation ='tanh', recurrent_activation ='sigmoid', recurrent_dropout = 0, unroll=False, use_bias=True, reset_after=True, return_sequences=True)))\n",
    "    model.add(Bidirectional(GRU(256, activation ='tanh', recurrent_activation ='sigmoid', recurrent_dropout = 0, unroll=False, use_bias=True, reset_after=True)))\n",
    "    model.add(Dense(num_label, activation='softmax'))\n",
    "    return model\n",
    "\n",
    "# model = DNN_Model()\n",
    "# model = CNN_Model()\n",
    "# model = LSTM_Model()\n",
    "model = GRU_Model()\n",
    "\n",
    "model.summary()\n",
    "\n",
    "opt = Adam(learning_rate = 0.000_001)\n",
    "\n",
    "model.compile(loss='categorical_crossentropy', optimizer=opt, metrics=['accuracy'])\n",
    "# model.compile(loss='binary_crossentropy', optimizer=opt, metrics=['accuracy'])"
   ]
  },
  {
   "cell_type": "code",
   "execution_count": 151,
   "metadata": {},
   "outputs": [
    {
     "name": "stdout",
     "output_type": "stream",
     "text": [
      "Epoch 1/100\n",
      "19/19 [==============================] - 3s 67ms/step - loss: 1.3873 - accuracy: 0.2326 - val_loss: 1.3870 - val_accuracy: 0.2222\n",
      "Epoch 2/100\n",
      "19/19 [==============================] - 1s 54ms/step - loss: 1.3872 - accuracy: 0.2342 - val_loss: 1.3870 - val_accuracy: 0.2222\n",
      "Epoch 3/100\n",
      "19/19 [==============================] - 1s 44ms/step - loss: 1.3872 - accuracy: 0.2342 - val_loss: 1.3869 - val_accuracy: 0.2222\n",
      "Epoch 4/100\n",
      "19/19 [==============================] - 1s 44ms/step - loss: 1.3871 - accuracy: 0.2342 - val_loss: 1.3869 - val_accuracy: 0.2222\n",
      "Epoch 5/100\n",
      "19/19 [==============================] - 1s 44ms/step - loss: 1.3871 - accuracy: 0.2375 - val_loss: 1.3869 - val_accuracy: 0.2222\n",
      "Epoch 6/100\n",
      "19/19 [==============================] - 1s 44ms/step - loss: 1.3870 - accuracy: 0.2375 - val_loss: 1.3868 - val_accuracy: 0.2222\n",
      "Epoch 7/100\n",
      "19/19 [==============================] - 1s 44ms/step - loss: 1.3870 - accuracy: 0.2375 - val_loss: 1.3868 - val_accuracy: 0.2222\n",
      "Epoch 8/100\n",
      "19/19 [==============================] - 1s 44ms/step - loss: 1.3869 - accuracy: 0.2375 - val_loss: 1.3867 - val_accuracy: 0.2222\n",
      "Epoch 9/100\n",
      "19/19 [==============================] - 1s 44ms/step - loss: 1.3869 - accuracy: 0.2417 - val_loss: 1.3867 - val_accuracy: 0.2222\n",
      "Epoch 10/100\n",
      "19/19 [==============================] - 1s 44ms/step - loss: 1.3868 - accuracy: 0.2458 - val_loss: 1.3866 - val_accuracy: 0.2278\n",
      "Epoch 11/100\n",
      "19/19 [==============================] - 1s 45ms/step - loss: 1.3868 - accuracy: 0.2475 - val_loss: 1.3866 - val_accuracy: 0.2278\n",
      "Epoch 12/100\n",
      "19/19 [==============================] - 1s 43ms/step - loss: 1.3867 - accuracy: 0.2458 - val_loss: 1.3865 - val_accuracy: 0.2278\n",
      "Epoch 13/100\n",
      "19/19 [==============================] - 1s 44ms/step - loss: 1.3866 - accuracy: 0.2483 - val_loss: 1.3865 - val_accuracy: 0.2278\n",
      "Epoch 14/100\n",
      "19/19 [==============================] - 1s 46ms/step - loss: 1.3866 - accuracy: 0.2492 - val_loss: 1.3865 - val_accuracy: 0.2278\n",
      "Epoch 15/100\n",
      "19/19 [==============================] - 1s 45ms/step - loss: 1.3865 - accuracy: 0.2500 - val_loss: 1.3864 - val_accuracy: 0.2278\n",
      "Epoch 16/100\n",
      "19/19 [==============================] - 1s 45ms/step - loss: 1.3865 - accuracy: 0.2542 - val_loss: 1.3864 - val_accuracy: 0.2278\n",
      "Epoch 17/100\n",
      "19/19 [==============================] - 1s 47ms/step - loss: 1.3864 - accuracy: 0.2517 - val_loss: 1.3863 - val_accuracy: 0.2389\n",
      "Epoch 18/100\n",
      "19/19 [==============================] - 1s 44ms/step - loss: 1.3864 - accuracy: 0.2508 - val_loss: 1.3863 - val_accuracy: 0.2389\n",
      "Epoch 19/100\n",
      "19/19 [==============================] - 1s 45ms/step - loss: 1.3863 - accuracy: 0.2550 - val_loss: 1.3863 - val_accuracy: 0.2556\n",
      "Epoch 20/100\n",
      "19/19 [==============================] - 1s 45ms/step - loss: 1.3863 - accuracy: 0.2550 - val_loss: 1.3862 - val_accuracy: 0.2556\n",
      "Epoch 21/100\n",
      "19/19 [==============================] - 1s 46ms/step - loss: 1.3862 - accuracy: 0.2583 - val_loss: 1.3862 - val_accuracy: 0.2556\n",
      "Epoch 22/100\n",
      "19/19 [==============================] - 1s 44ms/step - loss: 1.3862 - accuracy: 0.2591 - val_loss: 1.3861 - val_accuracy: 0.2556\n",
      "Epoch 23/100\n",
      "19/19 [==============================] - 1s 47ms/step - loss: 1.3861 - accuracy: 0.2600 - val_loss: 1.3861 - val_accuracy: 0.2611\n",
      "Epoch 24/100\n",
      "19/19 [==============================] - 1s 47ms/step - loss: 1.3861 - accuracy: 0.2616 - val_loss: 1.3860 - val_accuracy: 0.2611\n",
      "Epoch 25/100\n",
      "19/19 [==============================] - 1s 45ms/step - loss: 1.3860 - accuracy: 0.2608 - val_loss: 1.3860 - val_accuracy: 0.2611\n",
      "Epoch 26/100\n",
      "19/19 [==============================] - 1s 45ms/step - loss: 1.3860 - accuracy: 0.2633 - val_loss: 1.3860 - val_accuracy: 0.2611\n",
      "Epoch 27/100\n",
      "19/19 [==============================] - 1s 45ms/step - loss: 1.3859 - accuracy: 0.2666 - val_loss: 1.3859 - val_accuracy: 0.2611\n",
      "Epoch 28/100\n",
      "19/19 [==============================] - 1s 46ms/step - loss: 1.3859 - accuracy: 0.2683 - val_loss: 1.3859 - val_accuracy: 0.2667\n",
      "Epoch 29/100\n",
      "19/19 [==============================] - 1s 44ms/step - loss: 1.3858 - accuracy: 0.2699 - val_loss: 1.3858 - val_accuracy: 0.2667\n",
      "Epoch 30/100\n",
      "19/19 [==============================] - 1s 45ms/step - loss: 1.3858 - accuracy: 0.2699 - val_loss: 1.3858 - val_accuracy: 0.2667\n",
      "Epoch 31/100\n",
      "19/19 [==============================] - 1s 45ms/step - loss: 1.3857 - accuracy: 0.2716 - val_loss: 1.3857 - val_accuracy: 0.2667\n",
      "Epoch 32/100\n",
      "19/19 [==============================] - 1s 45ms/step - loss: 1.3857 - accuracy: 0.2749 - val_loss: 1.3857 - val_accuracy: 0.2667\n",
      "Epoch 33/100\n",
      "19/19 [==============================] - 1s 46ms/step - loss: 1.3856 - accuracy: 0.2791 - val_loss: 1.3856 - val_accuracy: 0.2667\n",
      "Epoch 34/100\n",
      "19/19 [==============================] - 1s 46ms/step - loss: 1.3856 - accuracy: 0.2816 - val_loss: 1.3856 - val_accuracy: 0.2667\n",
      "Epoch 35/100\n",
      "19/19 [==============================] - 1s 45ms/step - loss: 1.3855 - accuracy: 0.2832 - val_loss: 1.3856 - val_accuracy: 0.2667\n",
      "Epoch 36/100\n",
      "19/19 [==============================] - 1s 45ms/step - loss: 1.3855 - accuracy: 0.2849 - val_loss: 1.3855 - val_accuracy: 0.2667\n",
      "Epoch 37/100\n",
      "19/19 [==============================] - 1s 45ms/step - loss: 1.3854 - accuracy: 0.2890 - val_loss: 1.3855 - val_accuracy: 0.2667\n",
      "Epoch 38/100\n",
      "19/19 [==============================] - 1s 46ms/step - loss: 1.3854 - accuracy: 0.2890 - val_loss: 1.3854 - val_accuracy: 0.2667\n",
      "Epoch 39/100\n",
      "19/19 [==============================] - 1s 47ms/step - loss: 1.3853 - accuracy: 0.2907 - val_loss: 1.3854 - val_accuracy: 0.2667\n",
      "Epoch 40/100\n",
      "19/19 [==============================] - 1s 44ms/step - loss: 1.3853 - accuracy: 0.2940 - val_loss: 1.3854 - val_accuracy: 0.2722\n",
      "Epoch 41/100\n",
      "19/19 [==============================] - 1s 45ms/step - loss: 1.3852 - accuracy: 0.2932 - val_loss: 1.3853 - val_accuracy: 0.2667\n",
      "Epoch 42/100\n",
      "19/19 [==============================] - 1s 47ms/step - loss: 1.3851 - accuracy: 0.2957 - val_loss: 1.3853 - val_accuracy: 0.2722\n",
      "Epoch 43/100\n",
      "19/19 [==============================] - 1s 47ms/step - loss: 1.3851 - accuracy: 0.3032 - val_loss: 1.3852 - val_accuracy: 0.2722\n",
      "Epoch 44/100\n",
      "19/19 [==============================] - 1s 47ms/step - loss: 1.3850 - accuracy: 0.3032 - val_loss: 1.3852 - val_accuracy: 0.2722\n",
      "Epoch 45/100\n",
      "19/19 [==============================] - 1s 46ms/step - loss: 1.3850 - accuracy: 0.3048 - val_loss: 1.3851 - val_accuracy: 0.2778\n",
      "Epoch 46/100\n",
      "19/19 [==============================] - 1s 44ms/step - loss: 1.3849 - accuracy: 0.3040 - val_loss: 1.3851 - val_accuracy: 0.2778\n",
      "Epoch 47/100\n",
      "19/19 [==============================] - 1s 45ms/step - loss: 1.3849 - accuracy: 0.3056 - val_loss: 1.3851 - val_accuracy: 0.2778\n",
      "Epoch 48/100\n",
      "19/19 [==============================] - 1s 46ms/step - loss: 1.3848 - accuracy: 0.3081 - val_loss: 1.3850 - val_accuracy: 0.2778\n",
      "Epoch 49/100\n",
      "19/19 [==============================] - 1s 45ms/step - loss: 1.3848 - accuracy: 0.3140 - val_loss: 1.3850 - val_accuracy: 0.2778\n",
      "Epoch 50/100\n",
      "19/19 [==============================] - 1s 47ms/step - loss: 1.3847 - accuracy: 0.3148 - val_loss: 1.3849 - val_accuracy: 0.2778\n",
      "Epoch 51/100\n",
      "19/19 [==============================] - 1s 44ms/step - loss: 1.3847 - accuracy: 0.3156 - val_loss: 1.3849 - val_accuracy: 0.2778\n",
      "Epoch 52/100\n",
      "19/19 [==============================] - 1s 45ms/step - loss: 1.3846 - accuracy: 0.3156 - val_loss: 1.3848 - val_accuracy: 0.2778\n",
      "Epoch 53/100\n",
      "19/19 [==============================] - 1s 46ms/step - loss: 1.3846 - accuracy: 0.3173 - val_loss: 1.3848 - val_accuracy: 0.2778\n",
      "Epoch 54/100\n",
      "19/19 [==============================] - 1s 46ms/step - loss: 1.3845 - accuracy: 0.3198 - val_loss: 1.3847 - val_accuracy: 0.2778\n",
      "Epoch 55/100\n",
      "19/19 [==============================] - 1s 48ms/step - loss: 1.3845 - accuracy: 0.3223 - val_loss: 1.3847 - val_accuracy: 0.2778\n",
      "Epoch 56/100\n",
      "19/19 [==============================] - 1s 44ms/step - loss: 1.3844 - accuracy: 0.3223 - val_loss: 1.3847 - val_accuracy: 0.2778\n",
      "Epoch 57/100\n",
      "19/19 [==============================] - 1s 45ms/step - loss: 1.3844 - accuracy: 0.3214 - val_loss: 1.3846 - val_accuracy: 0.2833\n",
      "Epoch 58/100\n",
      "19/19 [==============================] - 1s 44ms/step - loss: 1.3843 - accuracy: 0.3231 - val_loss: 1.3846 - val_accuracy: 0.2778\n",
      "Epoch 59/100\n",
      "19/19 [==============================] - 1s 44ms/step - loss: 1.3843 - accuracy: 0.3231 - val_loss: 1.3845 - val_accuracy: 0.2778\n",
      "Epoch 60/100\n",
      "19/19 [==============================] - 1s 45ms/step - loss: 1.3842 - accuracy: 0.3231 - val_loss: 1.3845 - val_accuracy: 0.2778\n",
      "Epoch 61/100\n",
      "19/19 [==============================] - 1s 44ms/step - loss: 1.3841 - accuracy: 0.3248 - val_loss: 1.3844 - val_accuracy: 0.2889\n",
      "Epoch 62/100\n",
      "19/19 [==============================] - 1s 44ms/step - loss: 1.3841 - accuracy: 0.3272 - val_loss: 1.3844 - val_accuracy: 0.2889\n",
      "Epoch 63/100\n",
      "19/19 [==============================] - 1s 44ms/step - loss: 1.3840 - accuracy: 0.3272 - val_loss: 1.3844 - val_accuracy: 0.2889\n",
      "Epoch 64/100\n",
      "19/19 [==============================] - 1s 45ms/step - loss: 1.3840 - accuracy: 0.3297 - val_loss: 1.3843 - val_accuracy: 0.2944\n",
      "Epoch 65/100\n",
      "19/19 [==============================] - 1s 45ms/step - loss: 1.3839 - accuracy: 0.3289 - val_loss: 1.3843 - val_accuracy: 0.2944\n",
      "Epoch 66/100\n",
      "19/19 [==============================] - 1s 46ms/step - loss: 1.3839 - accuracy: 0.3306 - val_loss: 1.3842 - val_accuracy: 0.2944\n",
      "Epoch 67/100\n",
      "19/19 [==============================] - 1s 47ms/step - loss: 1.3838 - accuracy: 0.3322 - val_loss: 1.3842 - val_accuracy: 0.3000\n",
      "Epoch 68/100\n",
      "19/19 [==============================] - 1s 45ms/step - loss: 1.3838 - accuracy: 0.3322 - val_loss: 1.3841 - val_accuracy: 0.3056\n",
      "Epoch 69/100\n",
      "19/19 [==============================] - 1s 45ms/step - loss: 1.3837 - accuracy: 0.3380 - val_loss: 1.3841 - val_accuracy: 0.3056\n",
      "Epoch 70/100\n",
      "19/19 [==============================] - 1s 45ms/step - loss: 1.3837 - accuracy: 0.3414 - val_loss: 1.3841 - val_accuracy: 0.3111\n",
      "Epoch 71/100\n",
      "19/19 [==============================] - 1s 46ms/step - loss: 1.3836 - accuracy: 0.3397 - val_loss: 1.3840 - val_accuracy: 0.3111\n",
      "Epoch 72/100\n",
      "19/19 [==============================] - 1s 44ms/step - loss: 1.3836 - accuracy: 0.3422 - val_loss: 1.3840 - val_accuracy: 0.3222\n",
      "Epoch 73/100\n",
      "19/19 [==============================] - 1s 45ms/step - loss: 1.3835 - accuracy: 0.3455 - val_loss: 1.3839 - val_accuracy: 0.3222\n",
      "Epoch 74/100\n",
      "19/19 [==============================] - 1s 47ms/step - loss: 1.3835 - accuracy: 0.3488 - val_loss: 1.3839 - val_accuracy: 0.3222\n",
      "Epoch 75/100\n",
      "19/19 [==============================] - 1s 44ms/step - loss: 1.3834 - accuracy: 0.3522 - val_loss: 1.3838 - val_accuracy: 0.3278\n",
      "Epoch 76/100\n",
      "19/19 [==============================] - 1s 43ms/step - loss: 1.3833 - accuracy: 0.3580 - val_loss: 1.3838 - val_accuracy: 0.3333\n",
      "Epoch 77/100\n",
      "19/19 [==============================] - 1s 44ms/step - loss: 1.3833 - accuracy: 0.3596 - val_loss: 1.3837 - val_accuracy: 0.3278\n",
      "Epoch 78/100\n",
      "19/19 [==============================] - 1s 44ms/step - loss: 1.3832 - accuracy: 0.3638 - val_loss: 1.3837 - val_accuracy: 0.3333\n",
      "Epoch 79/100\n",
      "19/19 [==============================] - 1s 45ms/step - loss: 1.3832 - accuracy: 0.3646 - val_loss: 1.3837 - val_accuracy: 0.3333\n",
      "Epoch 80/100\n",
      "19/19 [==============================] - 1s 44ms/step - loss: 1.3831 - accuracy: 0.3646 - val_loss: 1.3836 - val_accuracy: 0.3333\n",
      "Epoch 81/100\n",
      "19/19 [==============================] - 1s 45ms/step - loss: 1.3831 - accuracy: 0.3654 - val_loss: 1.3836 - val_accuracy: 0.3167\n",
      "Epoch 82/100\n",
      "19/19 [==============================] - 1s 44ms/step - loss: 1.3830 - accuracy: 0.3671 - val_loss: 1.3835 - val_accuracy: 0.3167\n",
      "Epoch 83/100\n",
      "19/19 [==============================] - 1s 45ms/step - loss: 1.3830 - accuracy: 0.3671 - val_loss: 1.3835 - val_accuracy: 0.3167\n",
      "Epoch 84/100\n",
      "19/19 [==============================] - 1s 45ms/step - loss: 1.3829 - accuracy: 0.3671 - val_loss: 1.3834 - val_accuracy: 0.3222\n",
      "Epoch 85/100\n",
      "19/19 [==============================] - 1s 45ms/step - loss: 1.3829 - accuracy: 0.3671 - val_loss: 1.3834 - val_accuracy: 0.3222\n",
      "Epoch 86/100\n",
      "19/19 [==============================] - 1s 46ms/step - loss: 1.3828 - accuracy: 0.3671 - val_loss: 1.3833 - val_accuracy: 0.3222\n",
      "Epoch 87/100\n",
      "19/19 [==============================] - 1s 44ms/step - loss: 1.3827 - accuracy: 0.3671 - val_loss: 1.3833 - val_accuracy: 0.3278\n",
      "Epoch 88/100\n",
      "19/19 [==============================] - 1s 45ms/step - loss: 1.3827 - accuracy: 0.3696 - val_loss: 1.3833 - val_accuracy: 0.3278\n",
      "Epoch 89/100\n",
      "19/19 [==============================] - 1s 47ms/step - loss: 1.3826 - accuracy: 0.3688 - val_loss: 1.3832 - val_accuracy: 0.3278\n",
      "Epoch 90/100\n",
      "19/19 [==============================] - 1s 47ms/step - loss: 1.3826 - accuracy: 0.3679 - val_loss: 1.3832 - val_accuracy: 0.3278\n",
      "Epoch 91/100\n",
      "19/19 [==============================] - 1s 47ms/step - loss: 1.3825 - accuracy: 0.3721 - val_loss: 1.3831 - val_accuracy: 0.3278\n",
      "Epoch 92/100\n",
      "19/19 [==============================] - 1s 44ms/step - loss: 1.3825 - accuracy: 0.3754 - val_loss: 1.3831 - val_accuracy: 0.3278\n",
      "Epoch 93/100\n",
      "19/19 [==============================] - 1s 43ms/step - loss: 1.3824 - accuracy: 0.3771 - val_loss: 1.3830 - val_accuracy: 0.3278\n",
      "Epoch 94/100\n",
      "19/19 [==============================] - 1s 44ms/step - loss: 1.3824 - accuracy: 0.3762 - val_loss: 1.3830 - val_accuracy: 0.3278\n",
      "Epoch 95/100\n",
      "19/19 [==============================] - 1s 44ms/step - loss: 1.3823 - accuracy: 0.3771 - val_loss: 1.3829 - val_accuracy: 0.3278\n",
      "Epoch 96/100\n",
      "19/19 [==============================] - 1s 46ms/step - loss: 1.3822 - accuracy: 0.3771 - val_loss: 1.3829 - val_accuracy: 0.3278\n",
      "Epoch 97/100\n",
      "19/19 [==============================] - 1s 44ms/step - loss: 1.3822 - accuracy: 0.3779 - val_loss: 1.3829 - val_accuracy: 0.3278\n",
      "Epoch 98/100\n",
      "19/19 [==============================] - 1s 46ms/step - loss: 1.3821 - accuracy: 0.3779 - val_loss: 1.3828 - val_accuracy: 0.3278\n",
      "Epoch 99/100\n",
      "19/19 [==============================] - 1s 46ms/step - loss: 1.3821 - accuracy: 0.3771 - val_loss: 1.3828 - val_accuracy: 0.3278\n",
      "Epoch 100/100\n",
      "19/19 [==============================] - 1s 46ms/step - loss: 1.3820 - accuracy: 0.3771 - val_loss: 1.3827 - val_accuracy: 0.3278\n"
     ]
    }
   ],
   "source": [
    "num_epoch = 100\n",
    "batch_size = 64\n",
    "history = model.fit(training_padded, training_label, \n",
    "                    batch_size = batch_size, epochs = num_epoch, \n",
    "                    validation_data = (validating_padded, validating_label))"
   ]
  },
  {
   "cell_type": "code",
   "execution_count": 149,
   "metadata": {},
   "outputs": [
    {
     "data": {
      "image/png": "[encoded data removed]",
      "text/plain": [
       "<Figure size 2500x500 with 2 Axes>"
      ]
     },
     "metadata": {},
     "output_type": "display_data"
    }
   ],
   "source": [
    "fig, ax = plt.subplots(nrows=1, ncols=2,figsize=(25, 5))\n",
    "ax[0].plot(history.history['accuracy'])\n",
    "ax[0].plot(history.history['val_accuracy'])\n",
    "ax[0].set_title('Accuracy')\n",
    "ax[0].set_xlabel('Accuracy')\n",
    "ax[0].set_ylabel('Epoch')\n",
    "\n",
    "ax[1].plot(history.history['loss'])\n",
    "ax[1].plot(history.history['val_loss'])\n",
    "ax[1].set_title('Loss')\n",
    "ax[1].set_xlabel('Loss')\n",
    "ax[1].set_ylabel('Epoch')\n",
    "\n",
    "plt.legend(['Train', 'Test'])\n",
    "plt.show()"
   ]
  },
  {
   "cell_type": "code",
   "execution_count": 42,
   "metadata": {},
   "outputs": [
    {
     "name": "stdout",
     "output_type": "stream",
     "text": [
      "   Train Predictions  Actuals  Diff\n",
      "0                  0        0  True\n",
      "1                  0        0  True\n",
      "2                  0        0  True\n",
      "3                  0        0  True\n",
      "4                  0        0  True\n"
     ]
    },
    {
     "data": {
      "text/plain": [
       "True     690\n",
       "False     94\n",
       "Name: Diff, dtype: int64"
      ]
     },
     "execution_count": 42,
     "metadata": {},
     "output_type": "execute_result"
    }
   ],
   "source": [
    "train_predictions = np.rint(model.predict(testing_padded, verbose=0)).argmax(axis=1).flatten()\n",
    "\n",
    "train_results = pd.DataFrame(data={'Train Predictions':train_predictions, 'Actuals':testing_label.argmax(axis=1)})\n",
    "train_results['Diff'] = train_results['Actuals'] == train_results['Train Predictions']\n",
    "print(train_results.head(5))\n",
    "train_results['Diff'].value_counts()"
   ]
  },
  {
   "cell_type": "code",
   "execution_count": 43,
   "metadata": {},
   "outputs": [
    {
     "name": "stdout",
     "output_type": "stream",
     "text": [
      "              precision    recall  f1-score   support\n",
      "\n",
      "           0       0.85      0.92      0.88       392\n",
      "           1       0.91      0.84      0.88       392\n",
      "\n",
      "    accuracy                           0.88       784\n",
      "   macro avg       0.88      0.88      0.88       784\n",
      "weighted avg       0.88      0.88      0.88       784\n",
      "\n"
     ]
    }
   ],
   "source": [
    "y_pred = model.predict(testing_padded, verbose=0).argmax(axis=1)\n",
    "print(classification_report(testing_label.argmax(axis=1),y_pred))"
   ]
  },
  {
   "cell_type": "code",
   "execution_count": 44,
   "metadata": {},
   "outputs": [
    {
     "data": {
      "image/png": "[encoded data removed]",
      "text/plain": [
       "<Figure size 640x480 with 2 Axes>"
      ]
     },
     "metadata": {},
     "output_type": "display_data"
    }
   ],
   "source": [
    "labels = y_train.columns\n",
    "\n",
    "y_pred = np.rint(model.predict(testing_padded, verbose=0)).argmax(axis=1).flatten()\n",
    "con_mat = confusion_matrix(testing_label.argmax(axis=1),y_pred)\n",
    "\n",
    "cm_percent = con_mat.astype('float') / con_mat.sum(axis=1)[:, np.newaxis]\n",
    "\n",
    "sns.heatmap(cm_percent, annot=True, fmt='.2%', cmap='Blues', xticklabels=labels, yticklabels=labels)\n",
    "# sns.heatmap(cm_percent, annot=True, fmt='.2%', cmap='Blues')\n",
    "plt.xlabel('Predicted Labels')\n",
    "plt.ylabel('True Labels')\n",
    "plt.title('Confusion Matrix - Fake News Detection')\n",
    "plt.show()"
   ]
  },
  {
   "attachments": {},
   "cell_type": "markdown",
   "metadata": {},
   "source": [
    "# 6. Classification Algoritms"
   ]
  },
  {
   "cell_type": "code",
   "execution_count": 138,
   "metadata": {},
   "outputs": [],
   "source": [
    "adaboost = AdaBoostClassifier(n_estimators=100, random_state=42)\n",
    "bagging = BaggingClassifier(n_jobs=-1)\n",
    "extraTrees = ExtraTreesClassifier(max_depth=100, n_jobs=-1, random_state=42)\n",
    "gradient = GradientBoostingClassifier(max_depth=100, n_estimators=100, learning_rate=.01,  random_state=42)\n",
    "randomForest = RandomForestClassifier(max_depth=100, random_state=42, n_jobs=-1)\n",
    "histGradientBoosting = HistGradientBoostingClassifier()\n",
    "XGB = XGBClassifier(n_jobs=-1)\n",
    "knn = KNeighborsClassifier(n_jobs=-1)\n",
    "decisionTree = DecisionTreeClassifier(random_state=42, max_depth=100)\n",
    "linear = LinearRegression()\n",
    "pac = PassiveAggressiveClassifier(random_state=42)\n",
    "\n",
    "model = StackingClassifier([\n",
    "    ('XGB', XGB),\n",
    "    ('randomforest', randomForest),\n",
    "    ('histGradientBoosting', histGradientBoosting),\n",
    "    ('adaboost', adaboost),\n",
    "    ('bagging', bagging),\n",
    "    ('extraTres', extraTrees),\n",
    "    ('knn', knn),\n",
    "    ('decisionTree', decisionTree),\n",
    "    # ('pac', pac),\n",
    "    # ('linear', linear),\n",
    "    # ('gradient', gradient),\n",
    "\n",
    "], n_jobs=-1)"
   ]
  },
  {
   "cell_type": "code",
   "execution_count": 139,
   "metadata": {},
   "outputs": [
    {
     "name": "stderr",
     "output_type": "stream",
     "text": [
      "c:\\Users\\indiz\\miniconda3\\envs\\gan\\lib\\site-packages\\sklearn\\linear_model\\_logistic.py:814: ConvergenceWarning: lbfgs failed to converge (status=1):\n",
      "STOP: TOTAL NO. of ITERATIONS REACHED LIMIT.\n",
      "\n",
      "Increase the number of iterations (max_iter) or scale the data as shown in:\n",
      "    https://scikit-learn.org/stable/modules/preprocessing.html\n",
      "Please also refer to the documentation for alternative solver options:\n",
      "    https://scikit-learn.org/stable/modules/linear_model.html#logistic-regression\n",
      "  n_iter_i = _check_optimize_result(\n"
     ]
    },
    {
     "data": {
      "text/plain": [
       "StackingClassifier(estimators=[('XGB',\n",
       "                                XGBClassifier(base_score=None, booster=None,\n",
       "                                              callbacks=None,\n",
       "                                              colsample_bylevel=None,\n",
       "                                              colsample_bynode=None,\n",
       "                                              colsample_bytree=None,\n",
       "                                              early_stopping_rounds=None,\n",
       "                                              enable_categorical=False,\n",
       "                                              eval_metric=None,\n",
       "                                              feature_types=None, gamma=None,\n",
       "                                              gpu_id=None, grow_policy=None,\n",
       "                                              importance_type=None,\n",
       "                                              interaction_constraints=None,\n",
       "                                              learning_...\n",
       "                               ('histGradientBoosting',\n",
       "                                HistGradientBoostingClassifier()),\n",
       "                               ('adaboost',\n",
       "                                AdaBoostClassifier(n_estimators=100,\n",
       "                                                   random_state=42)),\n",
       "                               ('bagging', BaggingClassifier(n_jobs=-1)),\n",
       "                               ('extraTres',\n",
       "                                ExtraTreesClassifier(max_depth=100, n_jobs=-1,\n",
       "                                                     random_state=42)),\n",
       "                               ('knn', KNeighborsClassifier(n_jobs=-1)),\n",
       "                               ('decisionTree',\n",
       "                                DecisionTreeClassifier(max_depth=100,\n",
       "                                                       random_state=42))],\n",
       "                   n_jobs=-1)"
      ]
     },
     "execution_count": 139,
     "metadata": {},
     "output_type": "execute_result"
    }
   ],
   "source": [
    "model.fit(training_padded, training_label)"
   ]
  },
  {
   "cell_type": "code",
   "execution_count": 140,
   "metadata": {},
   "outputs": [
    {
     "name": "stdout",
     "output_type": "stream",
     "text": [
      "Train Score        : 100.0 %\n",
      "Test Score         : 41.94 %\n",
      "R Squared Error    : -0.62\n",
      "Mean Squared Error : 2.02\n",
      "Mean Absolute Error: 1.0\n"
     ]
    }
   ],
   "source": [
    "print(\"Train Score        :\",round((model.score(training_padded, training_label)*100), 2),'%')\n",
    "print(\"Test Score         :\",round((model.score(testing_padded, testing_label)*100), 2),'%')\n",
    "\n",
    "y_pred = model.predict(testing_padded)\n",
    "\n",
    "print(\"R Squared Error    :\",round(r2_score(testing_label, y_pred), 2))\n",
    "print(\"Mean Squared Error :\",round(mean_squared_error(testing_label, y_pred), 2))\n",
    "print(\"Mean Absolute Error:\",round(mean_absolute_error(testing_label, y_pred), 2))"
   ]
  },
  {
   "cell_type": "code",
   "execution_count": 141,
   "metadata": {},
   "outputs": [
    {
     "name": "stdout",
     "output_type": "stream",
     "text": [
      "   Train Predictions  Actuals   Diff\n",
      "0                  0        0   True\n",
      "1                  0        0   True\n",
      "2                  0        0   True\n",
      "3                  2        0  False\n",
      "4                  3        0  False\n"
     ]
    },
    {
     "data": {
      "text/plain": [
       "False    216\n",
       "True     156\n",
       "Name: Diff, dtype: int64"
      ]
     },
     "execution_count": 141,
     "metadata": {},
     "output_type": "execute_result"
    }
   ],
   "source": [
    "train_predictions = model.predict(testing_padded).flatten()\n",
    "\n",
    "train_results = pd.DataFrame(data={'Train Predictions':train_predictions, 'Actuals':testing_label})\n",
    "train_results['Diff'] = train_results['Actuals'] == train_results['Train Predictions']\n",
    "print(train_results.head(5))\n",
    "train_results['Diff'].value_counts()"
   ]
  },
  {
   "cell_type": "code",
   "execution_count": 117,
   "metadata": {},
   "outputs": [
    {
     "name": "stdout",
     "output_type": "stream",
     "text": [
      "              precision    recall  f1-score   support\n",
      "\n",
      "           0       0.26      0.31      0.28        36\n",
      "           1       0.05      0.05      0.05        41\n",
      "           2       0.02      0.05      0.03        22\n",
      "           3       0.14      0.09      0.11        67\n",
      "           4       0.09      0.12      0.11        32\n",
      "           5       0.23      0.20      0.22        49\n",
      "           6       0.09      0.07      0.08        56\n",
      "           7       0.12      0.08      0.10        62\n",
      "           8       0.05      0.05      0.05        40\n",
      "           9       0.12      0.14      0.13        35\n",
      "          10       0.00      0.00      0.00        31\n",
      "          11       0.00      0.00      0.00        12\n",
      "          12       0.07      0.07      0.07        45\n",
      "          13       0.07      0.06      0.06        54\n",
      "          14       0.07      0.08      0.07        37\n",
      "          15       0.02      0.05      0.03        21\n",
      "          16       0.09      0.15      0.11        27\n",
      "          17       0.05      0.13      0.07        15\n",
      "          18       0.16      0.17      0.17        41\n",
      "          19       0.47      0.15      0.22       137\n",
      "\n",
      "    accuracy                           0.11       860\n",
      "   macro avg       0.11      0.10      0.10       860\n",
      "weighted avg       0.16      0.11      0.12       860\n",
      "\n"
     ]
    }
   ],
   "source": [
    "y_pred = model.predict(testing_padded)\n",
    "print(classification_report(y_pred,testing_label))"
   ]
  },
  {
   "cell_type": "code",
   "execution_count": 68,
   "metadata": {},
   "outputs": [
    {
     "data": {
      "image/png": "[encoded data removed]",
      "text/plain": [
       "<Figure size 640x480 with 2 Axes>"
      ]
     },
     "metadata": {},
     "output_type": "display_data"
    }
   ],
   "source": [
    "labels = ['Not Spam','Spam']\n",
    "\n",
    "y_pred = np.rint(model.predict(testing_padded))\n",
    "con_mat = confusion_matrix(testing_label,y_pred)\n",
    "\n",
    "cm_percent = con_mat.astype('float') / con_mat.sum(axis=1)[:, np.newaxis]\n",
    "\n",
    "sns.heatmap(cm_percent, annot=True, fmt='.2%', cmap='Blues', xticklabels=labels, yticklabels=labels)\n",
    "plt.xlabel('Predicted Labels')\n",
    "plt.ylabel('True Labels')\n",
    "plt.title('Confusion Matrix - Fake News Detection')\n",
    "plt.show()"
   ]
  }
 ],
 "metadata": {
  "kernelspec": {
   "display_name": "gan",
   "language": "python",
   "name": "python3"
  },
  "language_info": {
   "codemirror_mode": {
    "name": "ipython",
    "version": 3
   },
   "file_extension": ".py",
   "mimetype": "text/x-python",
   "name": "python",
   "nbconvert_exporter": "python",
   "pygments_lexer": "ipython3",
   "version": "3.9.16"
  },
  "orig_nbformat": 4
 },
 "nbformat": 4,
 "nbformat_minor": 2
}
