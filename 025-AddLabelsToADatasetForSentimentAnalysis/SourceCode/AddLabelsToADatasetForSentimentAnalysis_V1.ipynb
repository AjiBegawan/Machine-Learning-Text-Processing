{
 "cells": [
  {
   "attachments": {},
   "cell_type": "markdown",
   "metadata": {},
   "source": [
    "# 1. Import Libraries"
   ]
  },
  {
   "cell_type": "code",
   "execution_count": 1,
   "metadata": {},
   "outputs": [],
   "source": [
    "import tensorflow as tf\n",
    "gpu = tf.config.experimental.list_physical_devices('GPU')\n",
    "tf.config.experimental.set_memory_growth(gpu[0], True)"
   ]
  },
  {
   "cell_type": "code",
   "execution_count": 2,
   "metadata": {},
   "outputs": [
    {
     "name": "stderr",
     "output_type": "stream",
     "text": [
      "[nltk_data] Downloading package punkt to\n",
      "[nltk_data]     C:\\Users\\indiz\\AppData\\Roaming\\nltk_data...\n",
      "[nltk_data]   Package punkt is already up-to-date!\n",
      "[nltk_data] Downloading package wordnet to\n",
      "[nltk_data]     C:\\Users\\indiz\\AppData\\Roaming\\nltk_data...\n",
      "[nltk_data]   Package wordnet is already up-to-date!\n",
      "[nltk_data] Downloading package stopwords to\n",
      "[nltk_data]     C:\\Users\\indiz\\AppData\\Roaming\\nltk_data...\n",
      "[nltk_data]   Package stopwords is already up-to-date!\n",
      "[nltk_data] Downloading package vader_lexicon to\n",
      "[nltk_data]     C:\\Users\\indiz\\AppData\\Roaming\\nltk_data...\n",
      "[nltk_data]   Package vader_lexicon is already up-to-date!\n"
     ]
    }
   ],
   "source": [
    "import re\n",
    "import math\n",
    "import string\n",
    "import numpy as np\n",
    "import pandas as pd\n",
    "import seaborn as sns\n",
    "import matplotlib.pyplot as plt\n",
    "\n",
    "from collections import Counter\n",
    "from keras.utils import to_categorical\n",
    "from imblearn.under_sampling import RandomUnderSampler\n",
    "from tqdm.notebook import tqdm\n",
    "tqdm.pandas()\n",
    "\n",
    "from tensorflow import keras\n",
    "from tensorflow.keras.optimizers import Adam\n",
    "from tensorflow.keras.models import Sequential\n",
    "from tensorflow.keras.layers import Dense, Flatten, Conv1D, MaxPooling1D, LSTM, GRU, Embedding,\\\n",
    "    BatchNormalization, LeakyReLU, Dropout, ReLU, Bidirectional \n",
    "\n",
    "from sklearn.model_selection import train_test_split\n",
    "from sklearn.feature_extraction.text import CountVectorizer, TfidfVectorizer\n",
    "from sklearn.preprocessing import  MinMaxScaler, PowerTransformer, LabelEncoder\n",
    "from sklearn.metrics import accuracy_score, confusion_matrix, roc_auc_score, \\\n",
    "mean_squared_error, r2_score, mean_absolute_error, classification_report \n",
    "\n",
    "from sklearn.tree import DecisionTreeClassifier\n",
    "from sklearn.neighbors import KNeighborsClassifier\n",
    "from sklearn.linear_model import LinearRegression, PassiveAggressiveClassifier\n",
    "from sklearn.ensemble import (\n",
    "    GradientBoostingClassifier, \n",
    "    AdaBoostClassifier, \n",
    "    RandomForestClassifier,\n",
    "    BaggingClassifier,\n",
    "    ExtraTreesClassifier,\n",
    "    RandomForestClassifier,\n",
    "    StackingClassifier,\n",
    "    HistGradientBoostingClassifier\n",
    ")\n",
    "from xgboost import XGBClassifier\n",
    "\n",
    "from tensorflow.keras.preprocessing.text import Tokenizer\n",
    "from tensorflow.keras.preprocessing.sequence import pad_sequences\n",
    "\n",
    "import nltk\n",
    "from nltk.corpus import stopwords\n",
    "from nltk.stem.snowball import SnowballStemmer\n",
    "from nltk.stem.wordnet import WordNetLemmatizer\n",
    "from nltk.sentiment.vader import SentimentIntensityAnalyzer\n",
    "nltk.download('punkt')\n",
    "nltk.download('wordnet')\n",
    "nltk.download('stopwords')\n",
    "nltk.download(\"vader_lexicon\")\n",
    "\n",
    "from faker import Faker\n"
   ]
  },
  {
   "attachments": {},
   "cell_type": "markdown",
   "metadata": {},
   "source": [
    "# 2. Load Data"
   ]
  },
  {
   "cell_type": "code",
   "execution_count": 3,
   "metadata": {},
   "outputs": [
    {
     "data": {
      "text/html": [
       "<div>\n",
       "<style scoped>\n",
       "    .dataframe tbody tr th:only-of-type {\n",
       "        vertical-align: middle;\n",
       "    }\n",
       "\n",
       "    .dataframe tbody tr th {\n",
       "        vertical-align: top;\n",
       "    }\n",
       "\n",
       "    .dataframe thead th {\n",
       "        text-align: right;\n",
       "    }\n",
       "</style>\n",
       "<table border=\"1\" class=\"dataframe\">\n",
       "  <thead>\n",
       "    <tr style=\"text-align: right;\">\n",
       "      <th></th>\n",
       "      <th>Review</th>\n",
       "    </tr>\n",
       "  </thead>\n",
       "  <tbody>\n",
       "    <tr>\n",
       "      <th>0</th>\n",
       "      <td>nice hotel expensive parking got good deal sta...</td>\n",
       "    </tr>\n",
       "    <tr>\n",
       "      <th>1</th>\n",
       "      <td>ok nothing special charge diamond member hilto...</td>\n",
       "    </tr>\n",
       "    <tr>\n",
       "      <th>2</th>\n",
       "      <td>nice rooms not 4* experience hotel monaco seat...</td>\n",
       "    </tr>\n",
       "    <tr>\n",
       "      <th>3</th>\n",
       "      <td>unique, great stay, wonderful time hotel monac...</td>\n",
       "    </tr>\n",
       "    <tr>\n",
       "      <th>4</th>\n",
       "      <td>great stay great stay, went seahawk game aweso...</td>\n",
       "    </tr>\n",
       "    <tr>\n",
       "      <th>...</th>\n",
       "      <td>...</td>\n",
       "    </tr>\n",
       "    <tr>\n",
       "      <th>20486</th>\n",
       "      <td>best kept secret 3rd time staying charm, not 5...</td>\n",
       "    </tr>\n",
       "    <tr>\n",
       "      <th>20487</th>\n",
       "      <td>great location price view hotel great quick pl...</td>\n",
       "    </tr>\n",
       "    <tr>\n",
       "      <th>20488</th>\n",
       "      <td>ok just looks nice modern outside, desk staff ...</td>\n",
       "    </tr>\n",
       "    <tr>\n",
       "      <th>20489</th>\n",
       "      <td>hotel theft ruined vacation hotel opened sept ...</td>\n",
       "    </tr>\n",
       "    <tr>\n",
       "      <th>20490</th>\n",
       "      <td>people talking, ca n't believe excellent ratin...</td>\n",
       "    </tr>\n",
       "  </tbody>\n",
       "</table>\n",
       "<p>20491 rows × 1 columns</p>\n",
       "</div>"
      ],
      "text/plain": [
       "                                                  Review\n",
       "0      nice hotel expensive parking got good deal sta...\n",
       "1      ok nothing special charge diamond member hilto...\n",
       "2      nice rooms not 4* experience hotel monaco seat...\n",
       "3      unique, great stay, wonderful time hotel monac...\n",
       "4      great stay great stay, went seahawk game aweso...\n",
       "...                                                  ...\n",
       "20486  best kept secret 3rd time staying charm, not 5...\n",
       "20487  great location price view hotel great quick pl...\n",
       "20488  ok just looks nice modern outside, desk staff ...\n",
       "20489  hotel theft ruined vacation hotel opened sept ...\n",
       "20490  people talking, ca n't believe excellent ratin...\n",
       "\n",
       "[20491 rows x 1 columns]"
      ]
     },
     "execution_count": 3,
     "metadata": {},
     "output_type": "execute_result"
    }
   ],
   "source": [
    "data = pd.read_csv('../Dataset/reviewsdata.csv')\n",
    "data"
   ]
  },
  {
   "attachments": {},
   "cell_type": "markdown",
   "metadata": {},
   "source": [
    "# 3. Initial Analysis"
   ]
  },
  {
   "attachments": {},
   "cell_type": "markdown",
   "metadata": {},
   "source": [
    "### 3.1. Metadata"
   ]
  },
  {
   "cell_type": "code",
   "execution_count": 4,
   "metadata": {},
   "outputs": [
    {
     "name": "stdout",
     "output_type": "stream",
     "text": [
      "<class 'pandas.core.frame.DataFrame'>\n",
      "RangeIndex: 20491 entries, 0 to 20490\n",
      "Data columns (total 1 columns):\n",
      " #   Column  Non-Null Count  Dtype \n",
      "---  ------  --------------  ----- \n",
      " 0   Review  20491 non-null  object\n",
      "dtypes: object(1)\n",
      "memory usage: 160.2+ KB\n"
     ]
    }
   ],
   "source": [
    "data.info()"
   ]
  },
  {
   "cell_type": "code",
   "execution_count": 5,
   "metadata": {},
   "outputs": [
    {
     "data": {
      "text/plain": [
       "Review    0\n",
       "dtype: int64"
      ]
     },
     "execution_count": 5,
     "metadata": {},
     "output_type": "execute_result"
    }
   ],
   "source": [
    "data.isnull().sum()"
   ]
  },
  {
   "cell_type": "code",
   "execution_count": null,
   "metadata": {},
   "outputs": [],
   "source": [
    "plt.subplots(figsize = (25,5))\n",
    "ax = sns.countplot(data, y = data['label'])\n",
    "ax.bar_label(ax.containers[0])\n",
    "plt.show()"
   ]
  },
  {
   "attachments": {},
   "cell_type": "markdown",
   "metadata": {},
   "source": [
    "### 3.2. Processing Columns"
   ]
  },
  {
   "cell_type": "code",
   "execution_count": 4,
   "metadata": {},
   "outputs": [],
   "source": [
    "stopword_en = pd.read_csv('../../en_stopword_1106.txt', header=None).drop_duplicates()\n",
    "en_stopword = stopword_en[0].values.tolist()\n",
    "en_stopword = [word.strip() for word in en_stopword]\n",
    "\n",
    "nltk_stopword = stopwords.words('english')\n",
    "\n",
    "combined_stopwords = pd.DataFrame(en_stopword + nltk_stopword).drop_duplicates()\n",
    "stopword_list = combined_stopwords[0].values.tolist()\n",
    "\n",
    "def lower_text(text):\n",
    "    return text.lower()\n",
    "\n",
    "def alphanumeric_text(text):\n",
    "    # return re.sub(\"[^a-z0-9\\s]\",\"\", text)\n",
    "    text = text.lower()\n",
    "    return re.sub(r'[^\\w\\s.,]', '', text)\n",
    "\n",
    "def remove_duplicate_words(text):\n",
    "    return re.sub(r'\\b(\\w+)(\\s+\\1)+\\b', r'\\1', text)\n",
    "\n",
    "def clean_text(text):\n",
    "    text = str(text).lower()\n",
    "    text = re.sub(r'@[a-z0-9_]+', '', text) # Removes Twitter usernames\n",
    "    text = re.sub('rt|cc', ' ', text)  # remove RT and cc\n",
    "    text = re.sub('#\\S+', '', text)  # remove hashtags\n",
    "    text = re.sub('@\\S+', '  ', text)  # remove mentions\n",
    "    text = re.sub('\\[.*?\\]', '', text) # Removes all text enclosed in square brackets \n",
    "    text = re.sub('<.*?>+', '', text) # remove html tags\n",
    "    text = re.sub('https?://\\S+|www\\.\\S+', '', text) # remove URLs\n",
    "    text = re.sub('\\s+', ' ', text)  # remove extra whitespace\n",
    "    text = re.sub('[%s]' % re.escape(string.punctuation), '', text) # remove punctuations\n",
    "    text = re.sub(r'[^\\w\\s.,]', '', text) # Removes all non-word characters\n",
    "    # text = [word for word in text.split(' ') if word not in nltk_stopword]\n",
    "    return text\n",
    "\n",
    "\n",
    "def stop_word(text):\n",
    "    return \" \".join([word for word in text.split(' ') if word not in stopword_list])\n",
    "\n",
    "lemmatizer = WordNetLemmatizer()\n",
    "\n",
    "def lemmatize_word(word):\n",
    "    return lemmatizer.lemmatize(word, pos='v')\n",
    "\n",
    "def lemmatize_sentence(sentence):\n",
    "    words = nltk.word_tokenize(sentence) \n",
    "    words = [word for word in words if word.isalnum()] \n",
    "    words = [lemmatize_word(word) for word in words]  \n",
    "    return ' '.join(words)  "
   ]
  },
  {
   "cell_type": "code",
   "execution_count": 5,
   "metadata": {},
   "outputs": [
    {
     "data": {
      "application/vnd.jupyter.widget-view+json": {
       "model_id": "d66d0bbcbe4645c99989a47771b5988d",
       "version_major": 2,
       "version_minor": 0
      },
      "text/plain": [
       "  0%|          | 0/20491 [00:00<?, ?it/s]"
      ]
     },
     "metadata": {},
     "output_type": "display_data"
    },
    {
     "data": {
      "application/vnd.jupyter.widget-view+json": {
       "model_id": "71a16c2ace304a669b048a494db21b56",
       "version_major": 2,
       "version_minor": 0
      },
      "text/plain": [
       "  0%|          | 0/20491 [00:00<?, ?it/s]"
      ]
     },
     "metadata": {},
     "output_type": "display_data"
    },
    {
     "data": {
      "application/vnd.jupyter.widget-view+json": {
       "model_id": "1ea0b81a5a2e4f11937be33d2b90e65b",
       "version_major": 2,
       "version_minor": 0
      },
      "text/plain": [
       "  0%|          | 0/20491 [00:00<?, ?it/s]"
      ]
     },
     "metadata": {},
     "output_type": "display_data"
    },
    {
     "data": {
      "text/html": [
       "<div>\n",
       "<style scoped>\n",
       "    .dataframe tbody tr th:only-of-type {\n",
       "        vertical-align: middle;\n",
       "    }\n",
       "\n",
       "    .dataframe tbody tr th {\n",
       "        vertical-align: top;\n",
       "    }\n",
       "\n",
       "    .dataframe thead th {\n",
       "        text-align: right;\n",
       "    }\n",
       "</style>\n",
       "<table border=\"1\" class=\"dataframe\">\n",
       "  <thead>\n",
       "    <tr style=\"text-align: right;\">\n",
       "      <th></th>\n",
       "      <th>Review</th>\n",
       "      <th>clean_text</th>\n",
       "    </tr>\n",
       "  </thead>\n",
       "  <tbody>\n",
       "    <tr>\n",
       "      <th>0</th>\n",
       "      <td>nice hotel expensive parking got good deal sta...</td>\n",
       "      <td>nice hotel expensive park deal stay hotel anni...</td>\n",
       "    </tr>\n",
       "    <tr>\n",
       "      <th>1</th>\n",
       "      <td>ok nothing special charge diamond member hilto...</td>\n",
       "      <td>special charge diamond hilton decide chain sho...</td>\n",
       "    </tr>\n",
       "    <tr>\n",
       "      <th>2</th>\n",
       "      <td>nice rooms not 4* experience hotel monaco seat...</td>\n",
       "      <td>nice 4 experience hotel monaco seattle hotel n...</td>\n",
       "    </tr>\n",
       "    <tr>\n",
       "      <th>3</th>\n",
       "      <td>unique, great stay, wonderful time hotel monac...</td>\n",
       "      <td>unique stay wonderful time hotel monaco locati...</td>\n",
       "    </tr>\n",
       "    <tr>\n",
       "      <th>4</th>\n",
       "      <td>great stay great stay, went seahawk game aweso...</td>\n",
       "      <td>stay stay seahawk game awesome downfall view b...</td>\n",
       "    </tr>\n",
       "    <tr>\n",
       "      <th>...</th>\n",
       "      <td>...</td>\n",
       "      <td>...</td>\n",
       "    </tr>\n",
       "    <tr>\n",
       "      <th>20486</th>\n",
       "      <td>best kept secret 3rd time staying charm, not 5...</td>\n",
       "      <td>secret 3rd time stay charm 5star nt beat time ...</td>\n",
       "    </tr>\n",
       "    <tr>\n",
       "      <th>20487</th>\n",
       "      <td>great location price view hotel great quick pl...</td>\n",
       "      <td>location price view hotel quick sightsdirectly...</td>\n",
       "    </tr>\n",
       "    <tr>\n",
       "      <th>20488</th>\n",
       "      <td>ok just looks nice modern outside, desk staff ...</td>\n",
       "      <td>nice modern desk staff nt icularly friendly co...</td>\n",
       "    </tr>\n",
       "    <tr>\n",
       "      <th>20489</th>\n",
       "      <td>hotel theft ruined vacation hotel opened sept ...</td>\n",
       "      <td>hotel theft ruin vacation hotel sept 17 2007 g...</td>\n",
       "    </tr>\n",
       "    <tr>\n",
       "      <th>20490</th>\n",
       "      <td>people talking, ca n't believe excellent ratin...</td>\n",
       "      <td>people talk nt excellent rat hotel nt patricia...</td>\n",
       "    </tr>\n",
       "  </tbody>\n",
       "</table>\n",
       "<p>20491 rows × 2 columns</p>\n",
       "</div>"
      ],
      "text/plain": [
       "                                                  Review  \\\n",
       "0      nice hotel expensive parking got good deal sta...   \n",
       "1      ok nothing special charge diamond member hilto...   \n",
       "2      nice rooms not 4* experience hotel monaco seat...   \n",
       "3      unique, great stay, wonderful time hotel monac...   \n",
       "4      great stay great stay, went seahawk game aweso...   \n",
       "...                                                  ...   \n",
       "20486  best kept secret 3rd time staying charm, not 5...   \n",
       "20487  great location price view hotel great quick pl...   \n",
       "20488  ok just looks nice modern outside, desk staff ...   \n",
       "20489  hotel theft ruined vacation hotel opened sept ...   \n",
       "20490  people talking, ca n't believe excellent ratin...   \n",
       "\n",
       "                                              clean_text  \n",
       "0      nice hotel expensive park deal stay hotel anni...  \n",
       "1      special charge diamond hilton decide chain sho...  \n",
       "2      nice 4 experience hotel monaco seattle hotel n...  \n",
       "3      unique stay wonderful time hotel monaco locati...  \n",
       "4      stay stay seahawk game awesome downfall view b...  \n",
       "...                                                  ...  \n",
       "20486  secret 3rd time stay charm 5star nt beat time ...  \n",
       "20487  location price view hotel quick sightsdirectly...  \n",
       "20488  nice modern desk staff nt icularly friendly co...  \n",
       "20489  hotel theft ruin vacation hotel sept 17 2007 g...  \n",
       "20490  people talk nt excellent rat hotel nt patricia...  \n",
       "\n",
       "[20491 rows x 2 columns]"
      ]
     },
     "execution_count": 5,
     "metadata": {},
     "output_type": "execute_result"
    }
   ],
   "source": [
    "data['clean_text'] = data['Review'] \\\n",
    "                    .progress_apply(clean_text) \\\n",
    "                    .progress_apply(stop_word) \\\n",
    "                    .progress_apply(lemmatize_sentence) \\\n",
    "                    # .progress_apply(lower_text) \\\n",
    "                    # .progress_apply(remove_duplicate_words) \\\n",
    "                    # .progress_apply(alphanumeric_text) \\\n",
    "                    # .progress_apply(lambda x: ' '.join([word for word in x.split(' ') if word not in (nltk_stopword)])) \\\n",
    "                    # .progress_apply(lambda x: ' '.join([word for word in x.split(' ') if len(word) >= 4])) \\\n",
    "                    # .progress_apply(lemmatizer) \\\n",
    "data"
   ]
  },
  {
   "attachments": {},
   "cell_type": "markdown",
   "metadata": {},
   "source": [
    "### 3.3. Add label for Sentiment Analysis using Vader NLTK"
   ]
  },
  {
   "cell_type": "code",
   "execution_count": 28,
   "metadata": {},
   "outputs": [
    {
     "name": "stderr",
     "output_type": "stream",
     "text": [
      "C:\\Users\\indiz\\AppData\\Local\\Temp\\ipykernel_11280\\471865155.py:2: SettingWithCopyWarning: \n",
      "A value is trying to be set on a copy of a slice from a DataFrame.\n",
      "Try using .loc[row_indexer,col_indexer] = value instead\n",
      "\n",
      "See the caveats in the documentation: https://pandas.pydata.org/pandas-docs/stable/user_guide/indexing.html#returning-a-view-versus-a-copy\n",
      "  data[\"Positive\"] = [sentiments.polarity_scores(i)[\"pos\"] for i in data[\"clean_text\"]]\n",
      "C:\\Users\\indiz\\AppData\\Local\\Temp\\ipykernel_11280\\471865155.py:3: SettingWithCopyWarning: \n",
      "A value is trying to be set on a copy of a slice from a DataFrame.\n",
      "Try using .loc[row_indexer,col_indexer] = value instead\n",
      "\n",
      "See the caveats in the documentation: https://pandas.pydata.org/pandas-docs/stable/user_guide/indexing.html#returning-a-view-versus-a-copy\n",
      "  data[\"Negative\"] = [sentiments.polarity_scores(i)[\"neg\"] for i in data[\"clean_text\"]]\n",
      "C:\\Users\\indiz\\AppData\\Local\\Temp\\ipykernel_11280\\471865155.py:4: SettingWithCopyWarning: \n",
      "A value is trying to be set on a copy of a slice from a DataFrame.\n",
      "Try using .loc[row_indexer,col_indexer] = value instead\n",
      "\n",
      "See the caveats in the documentation: https://pandas.pydata.org/pandas-docs/stable/user_guide/indexing.html#returning-a-view-versus-a-copy\n",
      "  data[\"Neutral\"] = [sentiments.polarity_scores(i)[\"neu\"] for i in data[\"clean_text\"]]\n",
      "C:\\Users\\indiz\\AppData\\Local\\Temp\\ipykernel_11280\\471865155.py:5: SettingWithCopyWarning: \n",
      "A value is trying to be set on a copy of a slice from a DataFrame.\n",
      "Try using .loc[row_indexer,col_indexer] = value instead\n",
      "\n",
      "See the caveats in the documentation: https://pandas.pydata.org/pandas-docs/stable/user_guide/indexing.html#returning-a-view-versus-a-copy\n",
      "  data['Compound'] = [sentiments.polarity_scores(i)[\"compound\"] for i in data[\"clean_text\"]]\n"
     ]
    },
    {
     "data": {
      "text/html": [
       "<div>\n",
       "<style scoped>\n",
       "    .dataframe tbody tr th:only-of-type {\n",
       "        vertical-align: middle;\n",
       "    }\n",
       "\n",
       "    .dataframe tbody tr th {\n",
       "        vertical-align: top;\n",
       "    }\n",
       "\n",
       "    .dataframe thead th {\n",
       "        text-align: right;\n",
       "    }\n",
       "</style>\n",
       "<table border=\"1\" class=\"dataframe\">\n",
       "  <thead>\n",
       "    <tr style=\"text-align: right;\">\n",
       "      <th></th>\n",
       "      <th>Review</th>\n",
       "      <th>clean_text</th>\n",
       "      <th>text_len</th>\n",
       "      <th>Positive</th>\n",
       "      <th>Negative</th>\n",
       "      <th>Neutral</th>\n",
       "      <th>Compound</th>\n",
       "    </tr>\n",
       "  </thead>\n",
       "  <tbody>\n",
       "    <tr>\n",
       "      <th>0</th>\n",
       "      <td>nice hotel expensive parking got good deal sta...</td>\n",
       "      <td>nice hotel expensive park deal stay hotel anni...</td>\n",
       "      <td>66</td>\n",
       "      <td>0.262</td>\n",
       "      <td>0.070</td>\n",
       "      <td>0.667</td>\n",
       "      <td>0.9413</td>\n",
       "    </tr>\n",
       "    <tr>\n",
       "      <th>1</th>\n",
       "      <td>ok nothing special charge diamond member hilto...</td>\n",
       "      <td>special charge diamond hilton decide chain sho...</td>\n",
       "      <td>186</td>\n",
       "      <td>0.156</td>\n",
       "      <td>0.069</td>\n",
       "      <td>0.775</td>\n",
       "      <td>0.9578</td>\n",
       "    </tr>\n",
       "    <tr>\n",
       "      <th>2</th>\n",
       "      <td>nice rooms not 4* experience hotel monaco seat...</td>\n",
       "      <td>nice 4 experience hotel monaco seattle hotel n...</td>\n",
       "      <td>174</td>\n",
       "      <td>0.198</td>\n",
       "      <td>0.053</td>\n",
       "      <td>0.749</td>\n",
       "      <td>0.9801</td>\n",
       "    </tr>\n",
       "    <tr>\n",
       "      <th>3</th>\n",
       "      <td>unique, great stay, wonderful time hotel monac...</td>\n",
       "      <td>unique stay wonderful time hotel monaco locati...</td>\n",
       "      <td>71</td>\n",
       "      <td>0.342</td>\n",
       "      <td>0.000</td>\n",
       "      <td>0.658</td>\n",
       "      <td>0.9837</td>\n",
       "    </tr>\n",
       "    <tr>\n",
       "      <th>4</th>\n",
       "      <td>great stay great stay, went seahawk game aweso...</td>\n",
       "      <td>stay stay seahawk game awesome downfall view b...</td>\n",
       "      <td>143</td>\n",
       "      <td>0.206</td>\n",
       "      <td>0.097</td>\n",
       "      <td>0.697</td>\n",
       "      <td>0.9576</td>\n",
       "    </tr>\n",
       "    <tr>\n",
       "      <th>...</th>\n",
       "      <td>...</td>\n",
       "      <td>...</td>\n",
       "      <td>...</td>\n",
       "      <td>...</td>\n",
       "      <td>...</td>\n",
       "      <td>...</td>\n",
       "      <td>...</td>\n",
       "    </tr>\n",
       "    <tr>\n",
       "      <th>20485</th>\n",
       "      <td>not impressed unfriendly staff checked asked h...</td>\n",
       "      <td>impress unfriendly staff check floor 3rd floor...</td>\n",
       "      <td>62</td>\n",
       "      <td>0.175</td>\n",
       "      <td>0.223</td>\n",
       "      <td>0.601</td>\n",
       "      <td>-0.5994</td>\n",
       "    </tr>\n",
       "    <tr>\n",
       "      <th>20486</th>\n",
       "      <td>best kept secret 3rd time staying charm, not 5...</td>\n",
       "      <td>secret 3rd time stay charm 5star nt beat time ...</td>\n",
       "      <td>86</td>\n",
       "      <td>0.238</td>\n",
       "      <td>0.040</td>\n",
       "      <td>0.722</td>\n",
       "      <td>0.9601</td>\n",
       "    </tr>\n",
       "    <tr>\n",
       "      <th>20487</th>\n",
       "      <td>great location price view hotel great quick pl...</td>\n",
       "      <td>location price view hotel quick sightsdirectly...</td>\n",
       "      <td>32</td>\n",
       "      <td>0.148</td>\n",
       "      <td>0.000</td>\n",
       "      <td>0.852</td>\n",
       "      <td>0.6369</td>\n",
       "    </tr>\n",
       "    <tr>\n",
       "      <th>20488</th>\n",
       "      <td>ok just looks nice modern outside, desk staff ...</td>\n",
       "      <td>nice modern desk staff nt icularly friendly co...</td>\n",
       "      <td>47</td>\n",
       "      <td>0.201</td>\n",
       "      <td>0.065</td>\n",
       "      <td>0.735</td>\n",
       "      <td>0.8225</td>\n",
       "    </tr>\n",
       "    <tr>\n",
       "      <th>20490</th>\n",
       "      <td>people talking, ca n't believe excellent ratin...</td>\n",
       "      <td>people talk nt excellent rat hotel nt patricia...</td>\n",
       "      <td>65</td>\n",
       "      <td>0.265</td>\n",
       "      <td>0.124</td>\n",
       "      <td>0.610</td>\n",
       "      <td>0.9184</td>\n",
       "    </tr>\n",
       "  </tbody>\n",
       "</table>\n",
       "<p>20048 rows × 7 columns</p>\n",
       "</div>"
      ],
      "text/plain": [
       "                                                  Review  \\\n",
       "0      nice hotel expensive parking got good deal sta...   \n",
       "1      ok nothing special charge diamond member hilto...   \n",
       "2      nice rooms not 4* experience hotel monaco seat...   \n",
       "3      unique, great stay, wonderful time hotel monac...   \n",
       "4      great stay great stay, went seahawk game aweso...   \n",
       "...                                                  ...   \n",
       "20485  not impressed unfriendly staff checked asked h...   \n",
       "20486  best kept secret 3rd time staying charm, not 5...   \n",
       "20487  great location price view hotel great quick pl...   \n",
       "20488  ok just looks nice modern outside, desk staff ...   \n",
       "20490  people talking, ca n't believe excellent ratin...   \n",
       "\n",
       "                                              clean_text  text_len  Positive  \\\n",
       "0      nice hotel expensive park deal stay hotel anni...        66     0.262   \n",
       "1      special charge diamond hilton decide chain sho...       186     0.156   \n",
       "2      nice 4 experience hotel monaco seattle hotel n...       174     0.198   \n",
       "3      unique stay wonderful time hotel monaco locati...        71     0.342   \n",
       "4      stay stay seahawk game awesome downfall view b...       143     0.206   \n",
       "...                                                  ...       ...       ...   \n",
       "20485  impress unfriendly staff check floor 3rd floor...        62     0.175   \n",
       "20486  secret 3rd time stay charm 5star nt beat time ...        86     0.238   \n",
       "20487  location price view hotel quick sightsdirectly...        32     0.148   \n",
       "20488  nice modern desk staff nt icularly friendly co...        47     0.201   \n",
       "20490  people talk nt excellent rat hotel nt patricia...        65     0.265   \n",
       "\n",
       "       Negative  Neutral  Compound  \n",
       "0         0.070    0.667    0.9413  \n",
       "1         0.069    0.775    0.9578  \n",
       "2         0.053    0.749    0.9801  \n",
       "3         0.000    0.658    0.9837  \n",
       "4         0.097    0.697    0.9576  \n",
       "...         ...      ...       ...  \n",
       "20485     0.223    0.601   -0.5994  \n",
       "20486     0.040    0.722    0.9601  \n",
       "20487     0.000    0.852    0.6369  \n",
       "20488     0.065    0.735    0.8225  \n",
       "20490     0.124    0.610    0.9184  \n",
       "\n",
       "[20048 rows x 7 columns]"
      ]
     },
     "execution_count": 28,
     "metadata": {},
     "output_type": "execute_result"
    }
   ],
   "source": [
    "sentiments = SentimentIntensityAnalyzer()\n",
    "data[\"Positive\"] = [sentiments.polarity_scores(i)[\"pos\"] for i in data[\"clean_text\"]]\n",
    "data[\"Negative\"] = [sentiments.polarity_scores(i)[\"neg\"] for i in data[\"clean_text\"]]\n",
    "data[\"Neutral\"] = [sentiments.polarity_scores(i)[\"neu\"] for i in data[\"clean_text\"]]\n",
    "data['Compound'] = [sentiments.polarity_scores(i)[\"compound\"] for i in data[\"clean_text\"]]\n",
    "data"
   ]
  },
  {
   "cell_type": "code",
   "execution_count": 31,
   "metadata": {},
   "outputs": [
    {
     "name": "stderr",
     "output_type": "stream",
     "text": [
      "C:\\Users\\indiz\\AppData\\Local\\Temp\\ipykernel_11280\\2078397319.py:10: SettingWithCopyWarning: \n",
      "A value is trying to be set on a copy of a slice from a DataFrame.\n",
      "Try using .loc[row_indexer,col_indexer] = value instead\n",
      "\n",
      "See the caveats in the documentation: https://pandas.pydata.org/pandas-docs/stable/user_guide/indexing.html#returning-a-view-versus-a-copy\n",
      "  data[\"Sentiment\"] = sentiment\n"
     ]
    },
    {
     "data": {
      "text/html": [
       "<div>\n",
       "<style scoped>\n",
       "    .dataframe tbody tr th:only-of-type {\n",
       "        vertical-align: middle;\n",
       "    }\n",
       "\n",
       "    .dataframe tbody tr th {\n",
       "        vertical-align: top;\n",
       "    }\n",
       "\n",
       "    .dataframe thead th {\n",
       "        text-align: right;\n",
       "    }\n",
       "</style>\n",
       "<table border=\"1\" class=\"dataframe\">\n",
       "  <thead>\n",
       "    <tr style=\"text-align: right;\">\n",
       "      <th></th>\n",
       "      <th>Review</th>\n",
       "      <th>clean_text</th>\n",
       "      <th>text_len</th>\n",
       "      <th>Positive</th>\n",
       "      <th>Negative</th>\n",
       "      <th>Neutral</th>\n",
       "      <th>Compound</th>\n",
       "      <th>Sentiment</th>\n",
       "    </tr>\n",
       "  </thead>\n",
       "  <tbody>\n",
       "    <tr>\n",
       "      <th>0</th>\n",
       "      <td>nice hotel expensive parking got good deal sta...</td>\n",
       "      <td>nice hotel expensive park deal stay hotel anni...</td>\n",
       "      <td>66</td>\n",
       "      <td>0.262</td>\n",
       "      <td>0.070</td>\n",
       "      <td>0.667</td>\n",
       "      <td>0.9413</td>\n",
       "      <td>Positive</td>\n",
       "    </tr>\n",
       "    <tr>\n",
       "      <th>1</th>\n",
       "      <td>ok nothing special charge diamond member hilto...</td>\n",
       "      <td>special charge diamond hilton decide chain sho...</td>\n",
       "      <td>186</td>\n",
       "      <td>0.156</td>\n",
       "      <td>0.069</td>\n",
       "      <td>0.775</td>\n",
       "      <td>0.9578</td>\n",
       "      <td>Positive</td>\n",
       "    </tr>\n",
       "    <tr>\n",
       "      <th>2</th>\n",
       "      <td>nice rooms not 4* experience hotel monaco seat...</td>\n",
       "      <td>nice 4 experience hotel monaco seattle hotel n...</td>\n",
       "      <td>174</td>\n",
       "      <td>0.198</td>\n",
       "      <td>0.053</td>\n",
       "      <td>0.749</td>\n",
       "      <td>0.9801</td>\n",
       "      <td>Positive</td>\n",
       "    </tr>\n",
       "    <tr>\n",
       "      <th>3</th>\n",
       "      <td>unique, great stay, wonderful time hotel monac...</td>\n",
       "      <td>unique stay wonderful time hotel monaco locati...</td>\n",
       "      <td>71</td>\n",
       "      <td>0.342</td>\n",
       "      <td>0.000</td>\n",
       "      <td>0.658</td>\n",
       "      <td>0.9837</td>\n",
       "      <td>Positive</td>\n",
       "    </tr>\n",
       "    <tr>\n",
       "      <th>4</th>\n",
       "      <td>great stay great stay, went seahawk game aweso...</td>\n",
       "      <td>stay stay seahawk game awesome downfall view b...</td>\n",
       "      <td>143</td>\n",
       "      <td>0.206</td>\n",
       "      <td>0.097</td>\n",
       "      <td>0.697</td>\n",
       "      <td>0.9576</td>\n",
       "      <td>Positive</td>\n",
       "    </tr>\n",
       "  </tbody>\n",
       "</table>\n",
       "</div>"
      ],
      "text/plain": [
       "                                              Review  \\\n",
       "0  nice hotel expensive parking got good deal sta...   \n",
       "1  ok nothing special charge diamond member hilto...   \n",
       "2  nice rooms not 4* experience hotel monaco seat...   \n",
       "3  unique, great stay, wonderful time hotel monac...   \n",
       "4  great stay great stay, went seahawk game aweso...   \n",
       "\n",
       "                                          clean_text  text_len  Positive  \\\n",
       "0  nice hotel expensive park deal stay hotel anni...        66     0.262   \n",
       "1  special charge diamond hilton decide chain sho...       186     0.156   \n",
       "2  nice 4 experience hotel monaco seattle hotel n...       174     0.198   \n",
       "3  unique stay wonderful time hotel monaco locati...        71     0.342   \n",
       "4  stay stay seahawk game awesome downfall view b...       143     0.206   \n",
       "\n",
       "   Negative  Neutral  Compound Sentiment  \n",
       "0     0.070    0.667    0.9413  Positive  \n",
       "1     0.069    0.775    0.9578  Positive  \n",
       "2     0.053    0.749    0.9801  Positive  \n",
       "3     0.000    0.658    0.9837  Positive  \n",
       "4     0.097    0.697    0.9576  Positive  "
      ]
     },
     "execution_count": 31,
     "metadata": {},
     "output_type": "execute_result"
    }
   ],
   "source": [
    "score = data[\"Compound\"].values\n",
    "sentiment = []\n",
    "for i in score:\n",
    "    if i >= 0 :\n",
    "        sentiment.append('Positive')\n",
    "    elif i < 0 :\n",
    "        sentiment.append('Negative')\n",
    "    # else:\n",
    "    #     sentiment.append('Neutral')\n",
    "data[\"Sentiment\"] = sentiment\n",
    "data.head()"
   ]
  },
  {
   "cell_type": "code",
   "execution_count": 32,
   "metadata": {},
   "outputs": [
    {
     "name": "stdout",
     "output_type": "stream",
     "text": [
      "Positive    18125\n",
      "Negative     1923\n",
      "Name: Sentiment, dtype: int64\n"
     ]
    }
   ],
   "source": [
    "print(data[\"Sentiment\"].value_counts())"
   ]
  },
  {
   "attachments": {},
   "cell_type": "markdown",
   "metadata": {},
   "source": [
    "### 3.4. Count Sentence in a Record"
   ]
  },
  {
   "cell_type": "code",
   "execution_count": 6,
   "metadata": {},
   "outputs": [
    {
     "name": "stdout",
     "output_type": "stream",
     "text": [
      "4\n",
      "1529\n"
     ]
    },
    {
     "data": {
      "image/png": "[encoded data removed]",
      "text/plain": [
       "<Figure size 2500x200 with 1 Axes>"
      ]
     },
     "metadata": {},
     "output_type": "display_data"
    }
   ],
   "source": [
    "text_len = [len(word) for word in data['clean_text'].str.split(' ')]\n",
    "data['text_len'] = pd.DataFrame(text_len)\n",
    "print(data['text_len'].min())\n",
    "print(data['text_len'].max())\n",
    "\n",
    "\n",
    "fig, ax = plt.subplots(figsize=(25, 2))\n",
    "sns.boxplot(x=data['text_len'], palette=\"crest\")\n",
    "plt.show()"
   ]
  },
  {
   "cell_type": "code",
   "execution_count": 27,
   "metadata": {},
   "outputs": [
    {
     "name": "stdout",
     "output_type": "stream",
     "text": [
      "15.0\n",
      "305.52999999999884\n"
     ]
    }
   ],
   "source": [
    "print(data['text_len'].quantile(.01))\n",
    "print(data['text_len'].quantile(.99))"
   ]
  },
  {
   "cell_type": "code",
   "execution_count": 23,
   "metadata": {},
   "outputs": [
    {
     "data": {
      "text/plain": [
       "5119"
      ]
     },
     "execution_count": 23,
     "metadata": {},
     "output_type": "execute_result"
    }
   ],
   "source": [
    "len(data[data['text_len'] > 96])"
   ]
  },
  {
   "attachments": {},
   "cell_type": "markdown",
   "metadata": {},
   "source": [
    "### 3.5. Remove outliers based-on length of the sentences"
   ]
  },
  {
   "cell_type": "code",
   "execution_count": 26,
   "metadata": {},
   "outputs": [
    {
     "data": {
      "text/plain": [
       "<Axes: xlabel='text_len'>"
      ]
     },
     "execution_count": 26,
     "metadata": {},
     "output_type": "execute_result"
    },
    {
     "data": {
      "image/png": "[encoded data removed]",
      "text/plain": [
       "<Figure size 2500x200 with 1 Axes>"
      ]
     },
     "metadata": {},
     "output_type": "display_data"
    }
   ],
   "source": [
    "Q1 = data['text_len'].quantile(.01)\n",
    "Q3 = data['text_len'].quantile(.99)\n",
    "\n",
    "data = data[(data['text_len'] > Q1) & (data['text_len'] < Q3)]\n",
    "\n",
    "fig, axes = plt.subplots(figsize=(25, 2))\n",
    "sns.boxplot(x = data['text_len'], palette=\"Oranges\")"
   ]
  },
  {
   "cell_type": "code",
   "execution_count": 16,
   "metadata": {},
   "outputs": [
    {
     "data": {
      "image/png": "[encoded data removed]",
      "text/plain": [
       "<Figure size 2500x300 with 1 Axes>"
      ]
     },
     "metadata": {},
     "output_type": "display_data"
    }
   ],
   "source": [
    "plt.subplots(figsize = (25,3))\n",
    "ax = sns.countplot(data, y = data['label'])\n",
    "ax.bar_label(ax.containers[0])\n",
    "plt.show()"
   ]
  },
  {
   "attachments": {},
   "cell_type": "markdown",
   "metadata": {},
   "source": [
    "# 4. Preparing Dataset"
   ]
  },
  {
   "cell_type": "code",
   "execution_count": 33,
   "metadata": {},
   "outputs": [
    {
     "name": "stdout",
     "output_type": "stream",
     "text": [
      "(14073,) (14073, 2)\n",
      "(3970,) (3970, 2)\n",
      "(2005,) (2005, 2)\n"
     ]
    }
   ],
   "source": [
    "LE = LabelEncoder()\n",
    "\n",
    "X = data['clean_text']\n",
    "# Y = LE.fit_transform(data['label']) ### For Classification Algoritms\n",
    "Y = pd.get_dummies(data['Sentiment']) ### For Deep Learning Algoritms\n",
    "# Y = data['label'] ### For Deep Learning Algoritms\n",
    "\n",
    "X_train, X_val, y_train, y_val = train_test_split(X, Y, train_size=0.9, random_state = 42)\n",
    "X_train, X_test, y_train, y_test = train_test_split(X_train, y_train, train_size=0.78, random_state = 42)\n",
    "\n",
    "print(X_train.shape, y_train.shape)\n",
    "print(X_test.shape, y_test.shape)\n",
    "print(X_val.shape, y_val.shape)"
   ]
  },
  {
   "cell_type": "code",
   "execution_count": 35,
   "metadata": {},
   "outputs": [],
   "source": [
    "vocab_size = 7979\n",
    "embedding_dim = 128\n",
    "max_length = 400\n",
    "trunc_type = 'post'\n",
    "padding_type = 'post'\n",
    "oov_tok = \"<OOV>\"\n",
    "num_label = y_train.shape[1]"
   ]
  },
  {
   "cell_type": "code",
   "execution_count": null,
   "metadata": {},
   "outputs": [],
   "source": [
    "# Tokenizing \n",
    "tokenizer = Tokenizer(num_words=vocab_size, oov_token=oov_tok)\n",
    "tokenizer.fit_on_texts(X)\n",
    "\n",
    "print(len(tokenizer.word_index))\n",
    "\n",
    "# Text to Sequences\n",
    "training_sequences = tokenizer.texts_to_sequences(X_train)\n",
    "testing_sequences = tokenizer.texts_to_sequences(X_test)\n",
    "validating_sequences = tokenizer.texts_to_sequences(X_val)\n",
    "\n",
    "# Add padding\n",
    "training_padded = pad_sequences(training_sequences, maxlen = max_length, padding = padding_type)\n",
    "testing_padded = pad_sequences(testing_sequences, maxlen = max_length, padding = padding_type)\n",
    "validating_padded = pad_sequences(validating_sequences, maxlen = max_length, padding = padding_type)\n",
    "\n",
    "# Convert to numpy array\n",
    "training_padded = np.array(training_padded)\n",
    "training_label = np.array(y_train)\n",
    "\n",
    "testing_padded = np.array(testing_padded)\n",
    "testing_label = np.array(y_test)\n",
    "\n",
    "validating_padded = np.array(validating_padded)\n",
    "validating_label = np.array(y_val)"
   ]
  },
  {
   "cell_type": "code",
   "execution_count": 38,
   "metadata": {},
   "outputs": [
    {
     "name": "stdout",
     "output_type": "stream",
     "text": [
      "69922\n",
      "(2674, 400) (2674, 2)\n",
      "(784, 400) (784, 2)\n",
      "(388, 400) (388, 2)\n"
     ]
    }
   ],
   "source": [
    "# Tokenizing \n",
    "tokenizer = Tokenizer(num_words=vocab_size, oov_token=oov_tok)\n",
    "tokenizer.fit_on_texts(X)\n",
    "\n",
    "print(len(tokenizer.word_index))\n",
    "\n",
    "# Text to Sequences\n",
    "training_sequences = tokenizer.texts_to_sequences(X_train)\n",
    "testing_sequences = tokenizer.texts_to_sequences(X_test)\n",
    "validating_sequences = tokenizer.texts_to_sequences(X_val)\n",
    "\n",
    "# Add padding\n",
    "training_padded = pad_sequences(training_sequences, maxlen = max_length, padding = padding_type)\n",
    "testing_padded = pad_sequences(testing_sequences, maxlen = max_length, padding = padding_type)\n",
    "validating_padded = pad_sequences(validating_sequences, maxlen = max_length, padding = padding_type)\n",
    "\n",
    "# Convert to numpy array\n",
    "training_padded = np.array(training_padded)\n",
    "training_label = np.array(y_train)\n",
    "\n",
    "testing_padded = np.array(testing_padded)\n",
    "testing_label = np.array(y_test)\n",
    "\n",
    "validating_padded = np.array(validating_padded)\n",
    "validating_label = np.array(y_val)\n",
    "\n",
    "# Undersampling\n",
    "rus = RandomUnderSampler(random_state=42, replacement=True)# fit predictor and target variable\n",
    "\n",
    "training_padded, training_label = rus.fit_resample(training_padded, training_label)\n",
    "testing_padded, testing_label = rus.fit_resample(testing_padded, testing_label)\n",
    "validating_padded, validating_label = rus.fit_resample(validating_padded, validating_label)\n",
    "\n",
    "# Categorical Label\n",
    "training_label = pd.get_dummies(training_label.reshape(-1)).values\n",
    "testing_label = pd.get_dummies(testing_label.reshape(-1)).values\n",
    "validating_label = pd.get_dummies(validating_label.reshape(-1)).values\n",
    "\n",
    "print(training_padded.shape, training_label.shape)\n",
    "print(testing_padded.shape, testing_label.shape)\n",
    "print(validating_padded.shape, validating_label.shape)\n"
   ]
  },
  {
   "attachments": {},
   "cell_type": "markdown",
   "metadata": {},
   "source": [
    "# 5. Deep Learning Model"
   ]
  },
  {
   "cell_type": "code",
   "execution_count": 39,
   "metadata": {},
   "outputs": [
    {
     "name": "stdout",
     "output_type": "stream",
     "text": [
      "Model: \"sequential\"\n",
      "_________________________________________________________________\n",
      " Layer (type)                Output Shape              Param #   \n",
      "=================================================================\n",
      " embedding (Embedding)       (None, 400, 128)          1021312   \n",
      "                                                                 \n",
      " bidirectional (Bidirectiona  (None, 256)              198144    \n",
      " l)                                                              \n",
      "                                                                 \n",
      " dense (Dense)               (None, 2)                 514       \n",
      "                                                                 \n",
      "=================================================================\n",
      "Total params: 1,219,970\n",
      "Trainable params: 1,219,970\n",
      "Non-trainable params: 0\n",
      "_________________________________________________________________\n"
     ]
    }
   ],
   "source": [
    "def DNN_Model():\n",
    "    model = Sequential()\n",
    "    model.add(Embedding(vocab_size, embedding_dim, input_length=max_length))\n",
    "    model.add(Flatten())\n",
    "\n",
    "    model.add(Dense(1024, activation='relu'))\n",
    "    model.add(Dense(1024, activation='relu'))\n",
    "    # model.add(Dense(256, activation='relu'))\n",
    "    model.add(Dense(num_label, activation='softmax'))\n",
    "    return model\n",
    "\n",
    "\n",
    "def CNN_Model():\n",
    "    model = Sequential()\n",
    "    model.add(Embedding(vocab_size, embedding_dim, input_length=max_length))\n",
    "\n",
    "    model.add(Conv1D(64, 3, kernel_regularizer=keras.regularizers.l2(l=0.001)))\n",
    "    model.add(BatchNormalization())\n",
    "    model.add(ReLU())\n",
    "    model.add(MaxPooling1D())\n",
    "\n",
    "    model.add(Conv1D(64, 3, kernel_regularizer=keras.regularizers.l2(l=0.001)))\n",
    "    model.add(BatchNormalization())\n",
    "    model.add(ReLU())\n",
    "    model.add(MaxPooling1D())\n",
    "\n",
    "    model.add(Flatten())\n",
    "    # model.add(Dense(4098, activation='relu'))\n",
    "    model.add(Dense(1024, activation='relu'))\n",
    "    # model.add(Dense(256, activation='relu'))\n",
    "    model.add(Dense(num_label, activation='softmax'))\n",
    "    return model\n",
    "\n",
    "def LSTM_Model():\n",
    "    model = Sequential()\n",
    "    model.add(Embedding(input_dim=vocab_size, output_dim=embedding_dim, input_length=max_length))\n",
    "    model.add(Bidirectional(LSTM(256, return_sequences=True)))\n",
    "    model.add(Bidirectional(LSTM(256)))\n",
    "    model.add(Dense(num_label, activation='softmax'))\n",
    "    return model\n",
    "\n",
    "def GRU_Model():\n",
    "    model = Sequential()\n",
    "    model.add(Embedding(vocab_size, embedding_dim, input_length=max_length))\n",
    "    # model.add(Bidirectional(GRU(128, activation ='tanh', recurrent_activation ='sigmoid', recurrent_dropout = 0, unroll=False, use_bias=True, reset_after=True, return_sequences=True)))\n",
    "    model.add(Bidirectional(GRU(128, activation ='tanh', recurrent_activation ='sigmoid', recurrent_dropout = 0, unroll=False, use_bias=True, reset_after=True)))\n",
    "    model.add(Dense(num_label, activation='softmax'))\n",
    "    return model\n",
    "\n",
    "# model = DNN_Model()\n",
    "# model = CNN_Model()\n",
    "# model = LSTM_Model()\n",
    "model = GRU_Model()\n",
    "\n",
    "model.summary()\n",
    "\n",
    "opt = Adam(learning_rate = 0.000_1)\n",
    "\n",
    "model.compile(loss='categorical_crossentropy', optimizer=opt, metrics=['accuracy'])\n",
    "# model.compile(loss='binary_crossentropy', optimizer=opt, metrics=['accuracy'])"
   ]
  },
  {
   "cell_type": "code",
   "execution_count": 40,
   "metadata": {},
   "outputs": [
    {
     "name": "stdout",
     "output_type": "stream",
     "text": [
      "Epoch 1/10\n",
      "42/42 [==============================] - 8s 94ms/step - loss: 0.6911 - accuracy: 0.5490 - val_loss: 0.6864 - val_accuracy: 0.6907\n",
      "Epoch 2/10\n",
      "42/42 [==============================] - 4s 87ms/step - loss: 0.6841 - accuracy: 0.6799 - val_loss: 0.6779 - val_accuracy: 0.6830\n",
      "Epoch 3/10\n",
      "42/42 [==============================] - 4s 85ms/step - loss: 0.6713 - accuracy: 0.7397 - val_loss: 0.6589 - val_accuracy: 0.7448\n",
      "Epoch 4/10\n",
      "42/42 [==============================] - 3s 81ms/step - loss: 0.6293 - accuracy: 0.7741 - val_loss: 0.5394 - val_accuracy: 0.8067\n",
      "Epoch 5/10\n",
      "42/42 [==============================] - 3s 80ms/step - loss: 0.4820 - accuracy: 0.8227 - val_loss: 0.4319 - val_accuracy: 0.8582\n",
      "Epoch 6/10\n",
      "42/42 [==============================] - 3s 78ms/step - loss: 0.3643 - accuracy: 0.8785 - val_loss: 0.3435 - val_accuracy: 0.8737\n",
      "Epoch 7/10\n",
      "42/42 [==============================] - 3s 82ms/step - loss: 0.2569 - accuracy: 0.9061 - val_loss: 0.2805 - val_accuracy: 0.8814\n",
      "Epoch 8/10\n",
      "42/42 [==============================] - 3s 82ms/step - loss: 0.1873 - accuracy: 0.9383 - val_loss: 0.2667 - val_accuracy: 0.8789\n",
      "Epoch 9/10\n",
      "42/42 [==============================] - 3s 80ms/step - loss: 0.1520 - accuracy: 0.9596 - val_loss: 0.2621 - val_accuracy: 0.8892\n",
      "Epoch 10/10\n",
      "42/42 [==============================] - 3s 79ms/step - loss: 0.1110 - accuracy: 0.9723 - val_loss: 0.2575 - val_accuracy: 0.8866\n"
     ]
    }
   ],
   "source": [
    "num_epoch = 10\n",
    "batch_size = 64\n",
    "history = model.fit(training_padded, training_label, \n",
    "                    batch_size = batch_size, epochs = num_epoch, \n",
    "                    validation_data = (validating_padded, validating_label))"
   ]
  },
  {
   "cell_type": "code",
   "execution_count": 41,
   "metadata": {},
   "outputs": [
    {
     "data": {
      "image/png": "[encoded data removed]",
      "text/plain": [
       "<Figure size 2500x500 with 2 Axes>"
      ]
     },
     "metadata": {},
     "output_type": "display_data"
    }
   ],
   "source": [
    "fig, ax = plt.subplots(nrows=1, ncols=2,figsize=(25, 5))\n",
    "ax[0].plot(history.history['accuracy'])\n",
    "ax[0].plot(history.history['val_accuracy'])\n",
    "ax[0].set_title('Accuracy')\n",
    "ax[0].set_xlabel('Accuracy')\n",
    "ax[0].set_ylabel('Epoch')\n",
    "\n",
    "ax[1].plot(history.history['loss'])\n",
    "ax[1].plot(history.history['val_loss'])\n",
    "ax[1].set_title('Loss')\n",
    "ax[1].set_xlabel('Loss')\n",
    "ax[1].set_ylabel('Epoch')\n",
    "\n",
    "plt.legend(['Train', 'Test'])\n",
    "plt.show()"
   ]
  },
  {
   "cell_type": "code",
   "execution_count": 42,
   "metadata": {},
   "outputs": [
    {
     "name": "stdout",
     "output_type": "stream",
     "text": [
      "   Train Predictions  Actuals  Diff\n",
      "0                  0        0  True\n",
      "1                  0        0  True\n",
      "2                  0        0  True\n",
      "3                  0        0  True\n",
      "4                  0        0  True\n"
     ]
    },
    {
     "data": {
      "text/plain": [
       "True     690\n",
       "False     94\n",
       "Name: Diff, dtype: int64"
      ]
     },
     "execution_count": 42,
     "metadata": {},
     "output_type": "execute_result"
    }
   ],
   "source": [
    "train_predictions = np.rint(model.predict(testing_padded, verbose=0)).argmax(axis=1).flatten()\n",
    "\n",
    "train_results = pd.DataFrame(data={'Train Predictions':train_predictions, 'Actuals':testing_label.argmax(axis=1)})\n",
    "train_results['Diff'] = train_results['Actuals'] == train_results['Train Predictions']\n",
    "print(train_results.head(5))\n",
    "train_results['Diff'].value_counts()"
   ]
  },
  {
   "cell_type": "code",
   "execution_count": 43,
   "metadata": {},
   "outputs": [
    {
     "name": "stdout",
     "output_type": "stream",
     "text": [
      "              precision    recall  f1-score   support\n",
      "\n",
      "           0       0.85      0.92      0.88       392\n",
      "           1       0.91      0.84      0.88       392\n",
      "\n",
      "    accuracy                           0.88       784\n",
      "   macro avg       0.88      0.88      0.88       784\n",
      "weighted avg       0.88      0.88      0.88       784\n",
      "\n"
     ]
    }
   ],
   "source": [
    "y_pred = model.predict(testing_padded, verbose=0).argmax(axis=1)\n",
    "print(classification_report(testing_label.argmax(axis=1),y_pred))"
   ]
  },
  {
   "cell_type": "code",
   "execution_count": 44,
   "metadata": {},
   "outputs": [
    {
     "data": {
      "image/png": "[encoded data removed]",
      "text/plain": [
       "<Figure size 640x480 with 2 Axes>"
      ]
     },
     "metadata": {},
     "output_type": "display_data"
    }
   ],
   "source": [
    "labels = y_train.columns\n",
    "\n",
    "y_pred = np.rint(model.predict(testing_padded, verbose=0)).argmax(axis=1).flatten()\n",
    "con_mat = confusion_matrix(testing_label.argmax(axis=1),y_pred)\n",
    "\n",
    "cm_percent = con_mat.astype('float') / con_mat.sum(axis=1)[:, np.newaxis]\n",
    "\n",
    "sns.heatmap(cm_percent, annot=True, fmt='.2%', cmap='Blues', xticklabels=labels, yticklabels=labels)\n",
    "# sns.heatmap(cm_percent, annot=True, fmt='.2%', cmap='Blues')\n",
    "plt.xlabel('Predicted Labels')\n",
    "plt.ylabel('True Labels')\n",
    "plt.title('Confusion Matrix - Fake News Detection')\n",
    "plt.show()"
   ]
  },
  {
   "attachments": {},
   "cell_type": "markdown",
   "metadata": {},
   "source": [
    "# 6. Classification Algoritms"
   ]
  },
  {
   "cell_type": "code",
   "execution_count": 63,
   "metadata": {},
   "outputs": [],
   "source": [
    "adaboost = AdaBoostClassifier(n_estimators=100, random_state=42)\n",
    "bagging = BaggingClassifier(n_jobs=-1)\n",
    "extraTrees = ExtraTreesClassifier(max_depth=100, n_jobs=-1, random_state=42)\n",
    "gradient = GradientBoostingClassifier(max_depth=100, n_estimators=100, learning_rate=.01,  random_state=42)\n",
    "randomForest = RandomForestClassifier(max_depth=100, random_state=42, n_jobs=-1)\n",
    "histGradientBoosting = HistGradientBoostingClassifier()\n",
    "XGB = XGBClassifier(n_jobs=-1)\n",
    "knn = KNeighborsClassifier(n_jobs=-1)\n",
    "decisionTree = DecisionTreeClassifier(random_state=42, max_depth=100)\n",
    "linear = LinearRegression()\n",
    "pac = PassiveAggressiveClassifier(random_state=42)\n",
    "\n",
    "model = StackingClassifier([\n",
    "    ('XGB', XGB),\n",
    "    ('randomforest', randomForest),\n",
    "    ('histGradientBoosting', histGradientBoosting),\n",
    "    ('adaboost', adaboost),\n",
    "    ('bagging', bagging),\n",
    "    ('extraTres', extraTrees),\n",
    "    ('knn', knn),\n",
    "    ('decisionTree', decisionTree),\n",
    "    # ('pac', pac),\n",
    "    # ('linear', linear),\n",
    "    # ('gradient', gradient),\n",
    "\n",
    "], n_jobs=-1)"
   ]
  },
  {
   "cell_type": "code",
   "execution_count": 64,
   "metadata": {},
   "outputs": [
    {
     "data": {
      "text/html": [
       "<style>#sk-container-id-2 {color: black;background-color: white;}#sk-container-id-2 pre{padding: 0;}#sk-container-id-2 div.sk-toggleable {background-color: white;}#sk-container-id-2 label.sk-toggleable__label {cursor: pointer;display: block;width: 100%;margin-bottom: 0;padding: 0.3em;box-sizing: border-box;text-align: center;}#sk-container-id-2 label.sk-toggleable__label-arrow:before {content: \"▸\";float: left;margin-right: 0.25em;color: #696969;}#sk-container-id-2 label.sk-toggleable__label-arrow:hover:before {color: black;}#sk-container-id-2 div.sk-estimator:hover label.sk-toggleable__label-arrow:before {color: black;}#sk-container-id-2 div.sk-toggleable__content {max-height: 0;max-width: 0;overflow: hidden;text-align: left;background-color: #f0f8ff;}#sk-container-id-2 div.sk-toggleable__content pre {margin: 0.2em;color: black;border-radius: 0.25em;background-color: #f0f8ff;}#sk-container-id-2 input.sk-toggleable__control:checked~div.sk-toggleable__content {max-height: 200px;max-width: 100%;overflow: auto;}#sk-container-id-2 input.sk-toggleable__control:checked~label.sk-toggleable__label-arrow:before {content: \"▾\";}#sk-container-id-2 div.sk-estimator input.sk-toggleable__control:checked~label.sk-toggleable__label {background-color: #d4ebff;}#sk-container-id-2 div.sk-label input.sk-toggleable__control:checked~label.sk-toggleable__label {background-color: #d4ebff;}#sk-container-id-2 input.sk-hidden--visually {border: 0;clip: rect(1px 1px 1px 1px);clip: rect(1px, 1px, 1px, 1px);height: 1px;margin: -1px;overflow: hidden;padding: 0;position: absolute;width: 1px;}#sk-container-id-2 div.sk-estimator {font-family: monospace;background-color: #f0f8ff;border: 1px dotted black;border-radius: 0.25em;box-sizing: border-box;margin-bottom: 0.5em;}#sk-container-id-2 div.sk-estimator:hover {background-color: #d4ebff;}#sk-container-id-2 div.sk-parallel-item::after {content: \"\";width: 100%;border-bottom: 1px solid gray;flex-grow: 1;}#sk-container-id-2 div.sk-label:hover label.sk-toggleable__label {background-color: #d4ebff;}#sk-container-id-2 div.sk-serial::before {content: \"\";position: absolute;border-left: 1px solid gray;box-sizing: border-box;top: 0;bottom: 0;left: 50%;z-index: 0;}#sk-container-id-2 div.sk-serial {display: flex;flex-direction: column;align-items: center;background-color: white;padding-right: 0.2em;padding-left: 0.2em;position: relative;}#sk-container-id-2 div.sk-item {position: relative;z-index: 1;}#sk-container-id-2 div.sk-parallel {display: flex;align-items: stretch;justify-content: center;background-color: white;position: relative;}#sk-container-id-2 div.sk-item::before, #sk-container-id-2 div.sk-parallel-item::before {content: \"\";position: absolute;border-left: 1px solid gray;box-sizing: border-box;top: 0;bottom: 0;left: 50%;z-index: -1;}#sk-container-id-2 div.sk-parallel-item {display: flex;flex-direction: column;z-index: 1;position: relative;background-color: white;}#sk-container-id-2 div.sk-parallel-item:first-child::after {align-self: flex-end;width: 50%;}#sk-container-id-2 div.sk-parallel-item:last-child::after {align-self: flex-start;width: 50%;}#sk-container-id-2 div.sk-parallel-item:only-child::after {width: 0;}#sk-container-id-2 div.sk-dashed-wrapped {border: 1px dashed gray;margin: 0 0.4em 0.5em 0.4em;box-sizing: border-box;padding-bottom: 0.4em;background-color: white;}#sk-container-id-2 div.sk-label label {font-family: monospace;font-weight: bold;display: inline-block;line-height: 1.2em;}#sk-container-id-2 div.sk-label-container {text-align: center;}#sk-container-id-2 div.sk-container {/* jupyter's `normalize.less` sets `[hidden] { display: none; }` but bootstrap.min.css set `[hidden] { display: none !important; }` so we also need the `!important` here to be able to override the default hidden behavior on the sphinx rendered scikit-learn.org. See: https://github.com/scikit-learn/scikit-learn/issues/21755 */display: inline-block !important;position: relative;}#sk-container-id-2 div.sk-text-repr-fallback {display: none;}</style><div id=\"sk-container-id-2\" class=\"sk-top-container\"><div class=\"sk-text-repr-fallback\"><pre>StackingClassifier(estimators=[(&#x27;XGB&#x27;,\n",
       "                                XGBClassifier(base_score=None, booster=None,\n",
       "                                              callbacks=None,\n",
       "                                              colsample_bylevel=None,\n",
       "                                              colsample_bynode=None,\n",
       "                                              colsample_bytree=None,\n",
       "                                              early_stopping_rounds=None,\n",
       "                                              enable_categorical=False,\n",
       "                                              eval_metric=None,\n",
       "                                              feature_types=None, gamma=None,\n",
       "                                              gpu_id=None, grow_policy=None,\n",
       "                                              importance_type=None,\n",
       "                                              interaction_constraints=None,\n",
       "                                              learning_...\n",
       "                               (&#x27;histGradientBoosting&#x27;,\n",
       "                                HistGradientBoostingClassifier()),\n",
       "                               (&#x27;adaboost&#x27;,\n",
       "                                AdaBoostClassifier(n_estimators=100,\n",
       "                                                   random_state=42)),\n",
       "                               (&#x27;bagging&#x27;, BaggingClassifier(n_jobs=-1)),\n",
       "                               (&#x27;extraTres&#x27;,\n",
       "                                ExtraTreesClassifier(max_depth=100, n_jobs=-1,\n",
       "                                                     random_state=42)),\n",
       "                               (&#x27;knn&#x27;, KNeighborsClassifier(n_jobs=-1)),\n",
       "                               (&#x27;decisionTree&#x27;,\n",
       "                                DecisionTreeClassifier(max_depth=100,\n",
       "                                                       random_state=42))],\n",
       "                   n_jobs=-1)</pre><b>In a Jupyter environment, please rerun this cell to show the HTML representation or trust the notebook. <br />On GitHub, the HTML representation is unable to render, please try loading this page with nbviewer.org.</b></div><div class=\"sk-container\" hidden><div class=\"sk-item sk-dashed-wrapped\"><div class=\"sk-label-container\"><div class=\"sk-label sk-toggleable\"><input class=\"sk-toggleable__control sk-hidden--visually\" id=\"sk-estimator-id-11\" type=\"checkbox\" ><label for=\"sk-estimator-id-11\" class=\"sk-toggleable__label sk-toggleable__label-arrow\">StackingClassifier</label><div class=\"sk-toggleable__content\"><pre>StackingClassifier(estimators=[(&#x27;XGB&#x27;,\n",
       "                                XGBClassifier(base_score=None, booster=None,\n",
       "                                              callbacks=None,\n",
       "                                              colsample_bylevel=None,\n",
       "                                              colsample_bynode=None,\n",
       "                                              colsample_bytree=None,\n",
       "                                              early_stopping_rounds=None,\n",
       "                                              enable_categorical=False,\n",
       "                                              eval_metric=None,\n",
       "                                              feature_types=None, gamma=None,\n",
       "                                              gpu_id=None, grow_policy=None,\n",
       "                                              importance_type=None,\n",
       "                                              interaction_constraints=None,\n",
       "                                              learning_...\n",
       "                               (&#x27;histGradientBoosting&#x27;,\n",
       "                                HistGradientBoostingClassifier()),\n",
       "                               (&#x27;adaboost&#x27;,\n",
       "                                AdaBoostClassifier(n_estimators=100,\n",
       "                                                   random_state=42)),\n",
       "                               (&#x27;bagging&#x27;, BaggingClassifier(n_jobs=-1)),\n",
       "                               (&#x27;extraTres&#x27;,\n",
       "                                ExtraTreesClassifier(max_depth=100, n_jobs=-1,\n",
       "                                                     random_state=42)),\n",
       "                               (&#x27;knn&#x27;, KNeighborsClassifier(n_jobs=-1)),\n",
       "                               (&#x27;decisionTree&#x27;,\n",
       "                                DecisionTreeClassifier(max_depth=100,\n",
       "                                                       random_state=42))],\n",
       "                   n_jobs=-1)</pre></div></div></div><div class=\"sk-serial\"><div class=\"sk-item\"><div class=\"sk-parallel\"><div class=\"sk-parallel-item\"><div class=\"sk-item\"><div class=\"sk-label-container\"><div class=\"sk-label sk-toggleable\"><label>XGB</label></div></div><div class=\"sk-serial\"><div class=\"sk-item\"><div class=\"sk-estimator sk-toggleable\"><input class=\"sk-toggleable__control sk-hidden--visually\" id=\"sk-estimator-id-12\" type=\"checkbox\" ><label for=\"sk-estimator-id-12\" class=\"sk-toggleable__label sk-toggleable__label-arrow\">XGBClassifier</label><div class=\"sk-toggleable__content\"><pre>XGBClassifier(base_score=None, booster=None, callbacks=None,\n",
       "              colsample_bylevel=None, colsample_bynode=None,\n",
       "              colsample_bytree=None, early_stopping_rounds=None,\n",
       "              enable_categorical=False, eval_metric=None, feature_types=None,\n",
       "              gamma=None, gpu_id=None, grow_policy=None, importance_type=None,\n",
       "              interaction_constraints=None, learning_rate=None, max_bin=None,\n",
       "              max_cat_threshold=None, max_cat_to_onehot=None,\n",
       "              max_delta_step=None, max_depth=None, max_leaves=None,\n",
       "              min_child_weight=None, missing=nan, monotone_constraints=None,\n",
       "              n_estimators=100, n_jobs=-1, num_parallel_tree=None,\n",
       "              predictor=None, random_state=None, ...)</pre></div></div></div></div></div></div><div class=\"sk-parallel-item\"><div class=\"sk-item\"><div class=\"sk-label-container\"><div class=\"sk-label sk-toggleable\"><label>randomforest</label></div></div><div class=\"sk-serial\"><div class=\"sk-item\"><div class=\"sk-estimator sk-toggleable\"><input class=\"sk-toggleable__control sk-hidden--visually\" id=\"sk-estimator-id-13\" type=\"checkbox\" ><label for=\"sk-estimator-id-13\" class=\"sk-toggleable__label sk-toggleable__label-arrow\">RandomForestClassifier</label><div class=\"sk-toggleable__content\"><pre>RandomForestClassifier(max_depth=100, n_jobs=-1, random_state=42)</pre></div></div></div></div></div></div><div class=\"sk-parallel-item\"><div class=\"sk-item\"><div class=\"sk-label-container\"><div class=\"sk-label sk-toggleable\"><label>histGradientBoosting</label></div></div><div class=\"sk-serial\"><div class=\"sk-item\"><div class=\"sk-estimator sk-toggleable\"><input class=\"sk-toggleable__control sk-hidden--visually\" id=\"sk-estimator-id-14\" type=\"checkbox\" ><label for=\"sk-estimator-id-14\" class=\"sk-toggleable__label sk-toggleable__label-arrow\">HistGradientBoostingClassifier</label><div class=\"sk-toggleable__content\"><pre>HistGradientBoostingClassifier()</pre></div></div></div></div></div></div><div class=\"sk-parallel-item\"><div class=\"sk-item\"><div class=\"sk-label-container\"><div class=\"sk-label sk-toggleable\"><label>adaboost</label></div></div><div class=\"sk-serial\"><div class=\"sk-item\"><div class=\"sk-estimator sk-toggleable\"><input class=\"sk-toggleable__control sk-hidden--visually\" id=\"sk-estimator-id-15\" type=\"checkbox\" ><label for=\"sk-estimator-id-15\" class=\"sk-toggleable__label sk-toggleable__label-arrow\">AdaBoostClassifier</label><div class=\"sk-toggleable__content\"><pre>AdaBoostClassifier(n_estimators=100, random_state=42)</pre></div></div></div></div></div></div><div class=\"sk-parallel-item\"><div class=\"sk-item\"><div class=\"sk-label-container\"><div class=\"sk-label sk-toggleable\"><label>bagging</label></div></div><div class=\"sk-serial\"><div class=\"sk-item\"><div class=\"sk-estimator sk-toggleable\"><input class=\"sk-toggleable__control sk-hidden--visually\" id=\"sk-estimator-id-16\" type=\"checkbox\" ><label for=\"sk-estimator-id-16\" class=\"sk-toggleable__label sk-toggleable__label-arrow\">BaggingClassifier</label><div class=\"sk-toggleable__content\"><pre>BaggingClassifier(n_jobs=-1)</pre></div></div></div></div></div></div><div class=\"sk-parallel-item\"><div class=\"sk-item\"><div class=\"sk-label-container\"><div class=\"sk-label sk-toggleable\"><label>extraTres</label></div></div><div class=\"sk-serial\"><div class=\"sk-item\"><div class=\"sk-estimator sk-toggleable\"><input class=\"sk-toggleable__control sk-hidden--visually\" id=\"sk-estimator-id-17\" type=\"checkbox\" ><label for=\"sk-estimator-id-17\" class=\"sk-toggleable__label sk-toggleable__label-arrow\">ExtraTreesClassifier</label><div class=\"sk-toggleable__content\"><pre>ExtraTreesClassifier(max_depth=100, n_jobs=-1, random_state=42)</pre></div></div></div></div></div></div><div class=\"sk-parallel-item\"><div class=\"sk-item\"><div class=\"sk-label-container\"><div class=\"sk-label sk-toggleable\"><label>knn</label></div></div><div class=\"sk-serial\"><div class=\"sk-item\"><div class=\"sk-estimator sk-toggleable\"><input class=\"sk-toggleable__control sk-hidden--visually\" id=\"sk-estimator-id-18\" type=\"checkbox\" ><label for=\"sk-estimator-id-18\" class=\"sk-toggleable__label sk-toggleable__label-arrow\">KNeighborsClassifier</label><div class=\"sk-toggleable__content\"><pre>KNeighborsClassifier(n_jobs=-1)</pre></div></div></div></div></div></div><div class=\"sk-parallel-item\"><div class=\"sk-item\"><div class=\"sk-label-container\"><div class=\"sk-label sk-toggleable\"><label>decisionTree</label></div></div><div class=\"sk-serial\"><div class=\"sk-item\"><div class=\"sk-estimator sk-toggleable\"><input class=\"sk-toggleable__control sk-hidden--visually\" id=\"sk-estimator-id-19\" type=\"checkbox\" ><label for=\"sk-estimator-id-19\" class=\"sk-toggleable__label sk-toggleable__label-arrow\">DecisionTreeClassifier</label><div class=\"sk-toggleable__content\"><pre>DecisionTreeClassifier(max_depth=100, random_state=42)</pre></div></div></div></div></div></div></div></div><div class=\"sk-item\"><div class=\"sk-parallel\"><div class=\"sk-parallel-item\"><div class=\"sk-item\"><div class=\"sk-label-container\"><div class=\"sk-label sk-toggleable\"><label>final_estimator</label></div></div><div class=\"sk-serial\"><div class=\"sk-item\"><div class=\"sk-estimator sk-toggleable\"><input class=\"sk-toggleable__control sk-hidden--visually\" id=\"sk-estimator-id-20\" type=\"checkbox\" ><label for=\"sk-estimator-id-20\" class=\"sk-toggleable__label sk-toggleable__label-arrow\">LogisticRegression</label><div class=\"sk-toggleable__content\"><pre>LogisticRegression()</pre></div></div></div></div></div></div></div></div></div></div></div></div>"
      ],
      "text/plain": [
       "StackingClassifier(estimators=[('XGB',\n",
       "                                XGBClassifier(base_score=None, booster=None,\n",
       "                                              callbacks=None,\n",
       "                                              colsample_bylevel=None,\n",
       "                                              colsample_bynode=None,\n",
       "                                              colsample_bytree=None,\n",
       "                                              early_stopping_rounds=None,\n",
       "                                              enable_categorical=False,\n",
       "                                              eval_metric=None,\n",
       "                                              feature_types=None, gamma=None,\n",
       "                                              gpu_id=None, grow_policy=None,\n",
       "                                              importance_type=None,\n",
       "                                              interaction_constraints=None,\n",
       "                                              learning_...\n",
       "                               ('histGradientBoosting',\n",
       "                                HistGradientBoostingClassifier()),\n",
       "                               ('adaboost',\n",
       "                                AdaBoostClassifier(n_estimators=100,\n",
       "                                                   random_state=42)),\n",
       "                               ('bagging', BaggingClassifier(n_jobs=-1)),\n",
       "                               ('extraTres',\n",
       "                                ExtraTreesClassifier(max_depth=100, n_jobs=-1,\n",
       "                                                     random_state=42)),\n",
       "                               ('knn', KNeighborsClassifier(n_jobs=-1)),\n",
       "                               ('decisionTree',\n",
       "                                DecisionTreeClassifier(max_depth=100,\n",
       "                                                       random_state=42))],\n",
       "                   n_jobs=-1)"
      ]
     },
     "execution_count": 64,
     "metadata": {},
     "output_type": "execute_result"
    }
   ],
   "source": [
    "model.fit(training_padded, training_label)"
   ]
  },
  {
   "cell_type": "code",
   "execution_count": 65,
   "metadata": {},
   "outputs": [
    {
     "name": "stdout",
     "output_type": "stream",
     "text": [
      "Train Score        : 100.0 %\n",
      "Test Score         : 85.2 %\n",
      "R Squared Error    : 0.41\n",
      "Mean Squared Error : 0.15\n",
      "Mean Absolute Error: 0.15\n"
     ]
    }
   ],
   "source": [
    "print(\"Train Score        :\",round((model.score(training_padded, training_label)*100), 2),'%')\n",
    "print(\"Test Score         :\",round((model.score(testing_padded, testing_label)*100), 2),'%')\n",
    "\n",
    "y_pred = model.predict(testing_padded)\n",
    "\n",
    "print(\"R Squared Error    :\",round(r2_score(testing_label, y_pred), 2))\n",
    "print(\"Mean Squared Error :\",round(mean_squared_error(testing_label, y_pred), 2))\n",
    "print(\"Mean Absolute Error:\",round(mean_absolute_error(testing_label, y_pred), 2))"
   ]
  },
  {
   "cell_type": "code",
   "execution_count": 66,
   "metadata": {},
   "outputs": [
    {
     "name": "stdout",
     "output_type": "stream",
     "text": [
      "   Train Predictions  Actuals   Diff\n",
      "0                  1        0  False\n",
      "1                  1        0  False\n",
      "2                  1        0  False\n",
      "3                  0        0   True\n",
      "4                  0        0   True\n"
     ]
    },
    {
     "data": {
      "text/plain": [
       "True     259\n",
       "False     45\n",
       "Name: Diff, dtype: int64"
      ]
     },
     "execution_count": 66,
     "metadata": {},
     "output_type": "execute_result"
    }
   ],
   "source": [
    "train_predictions = model.predict(testing_padded).flatten()\n",
    "\n",
    "train_results = pd.DataFrame(data={'Train Predictions':train_predictions, 'Actuals':testing_label})\n",
    "train_results['Diff'] = train_results['Actuals'] == train_results['Train Predictions']\n",
    "print(train_results.head(5))\n",
    "train_results['Diff'].value_counts()"
   ]
  },
  {
   "cell_type": "code",
   "execution_count": 67,
   "metadata": {},
   "outputs": [
    {
     "name": "stdout",
     "output_type": "stream",
     "text": [
      "              precision    recall  f1-score   support\n",
      "\n",
      "           0       0.82      0.87      0.85       143\n",
      "           1       0.88      0.83      0.86       161\n",
      "\n",
      "    accuracy                           0.85       304\n",
      "   macro avg       0.85      0.85      0.85       304\n",
      "weighted avg       0.85      0.85      0.85       304\n",
      "\n"
     ]
    }
   ],
   "source": [
    "y_pred = model.predict(testing_padded)\n",
    "print(classification_report(y_pred,testing_label))"
   ]
  },
  {
   "cell_type": "code",
   "execution_count": 68,
   "metadata": {},
   "outputs": [
    {
     "data": {
      "image/png": "[encoded data removed]",
      "text/plain": [
       "<Figure size 640x480 with 2 Axes>"
      ]
     },
     "metadata": {},
     "output_type": "display_data"
    }
   ],
   "source": [
    "labels = ['Not Spam','Spam']\n",
    "\n",
    "y_pred = np.rint(model.predict(testing_padded))\n",
    "con_mat = confusion_matrix(testing_label,y_pred)\n",
    "\n",
    "cm_percent = con_mat.astype('float') / con_mat.sum(axis=1)[:, np.newaxis]\n",
    "\n",
    "sns.heatmap(cm_percent, annot=True, fmt='.2%', cmap='Blues', xticklabels=labels, yticklabels=labels)\n",
    "plt.xlabel('Predicted Labels')\n",
    "plt.ylabel('True Labels')\n",
    "plt.title('Confusion Matrix - Fake News Detection')\n",
    "plt.show()"
   ]
  }
 ],
 "metadata": {
  "kernelspec": {
   "display_name": "gan",
   "language": "python",
   "name": "python3"
  },
  "language_info": {
   "codemirror_mode": {
    "name": "ipython",
    "version": 3
   },
   "file_extension": ".py",
   "mimetype": "text/x-python",
   "name": "python",
   "nbconvert_exporter": "python",
   "pygments_lexer": "ipython3",
   "version": "3.9.16"
  },
  "orig_nbformat": 4
 },
 "nbformat": 4,
 "nbformat_minor": 2
}
