{
 "cells": [
  {
   "cell_type": "code",
   "execution_count": 1,
   "metadata": {},
   "outputs": [
    {
     "name": "stdout",
     "output_type": "stream",
     "text": [
      "PhysicalDevice(name='/physical_device:GPU:0', device_type='GPU')\n"
     ]
    }
   ],
   "source": [
    "import tensorflow as tf\n",
    "gpu = tf.config.experimental.list_physical_devices('GPU')\n",
    "tf.config.experimental.set_memory_growth(gpu[0], True)\n",
    "print(gpu[0])"
   ]
  },
  {
   "attachments": {},
   "cell_type": "markdown",
   "metadata": {},
   "source": [
    "# 1. Import Libraries"
   ]
  },
  {
   "cell_type": "code",
   "execution_count": 2,
   "metadata": {},
   "outputs": [],
   "source": [
    "import math\n",
    "import numpy as np\n",
    "import pandas as pd\n",
    "import seaborn as sns\n",
    "import matplotlib.pyplot as plt\n",
    "\n",
    "from collections import Counter\n",
    "from keras.utils import to_categorical\n",
    "from imblearn.under_sampling import RandomUnderSampler\n",
    "\n",
    "from tensorflow import keras\n",
    "from tensorflow.keras.optimizers import Adam\n",
    "from tensorflow.keras.models import Sequential\n",
    "\n",
    "from tensorflow.keras.layers import Dense, Flatten, Conv1D, MaxPooling1D, LSTM, GRU, Embedding,\\\n",
    "    BatchNormalization, LeakyReLU, Dropout, ReLU, Bidirectional \n",
    "\n",
    "from sklearn.metrics import classification_report \n",
    "from sklearn.model_selection import train_test_split\n",
    "from sklearn.metrics import mean_squared_error, r2_score\n",
    "from sklearn.preprocessing import  MinMaxScaler, PowerTransformer\n",
    "from sklearn.metrics import accuracy_score, confusion_matrix, roc_auc_score\n",
    "from sklearn.feature_extraction.text import CountVectorizer, TfidfVectorizer\n",
    "\n",
    "from sklearn.tree import DecisionTreeClassifier\n",
    "from sklearn.neighbors import KNeighborsClassifier\n",
    "from sklearn.ensemble import (\n",
    "    GradientBoostingClassifier, \n",
    "    AdaBoostClassifier, \n",
    "    RandomForestClassifier,\n",
    "    BaggingClassifier,\n",
    "    ExtraTreesClassifier,\n",
    "    RandomForestClassifier,\n",
    "    StackingClassifier,\n",
    "    HistGradientBoostingClassifier\n",
    ")\n",
    "from xgboost import XGBClassifier\n",
    "\n",
    "from nltk import word_tokenize\n",
    "from tensorflow.keras.preprocessing.text import Tokenizer\n",
    "from tensorflow.keras.preprocessing.sequence import pad_sequences"
   ]
  },
  {
   "attachments": {},
   "cell_type": "markdown",
   "metadata": {},
   "source": [
    "# 2. Load Data"
   ]
  },
  {
   "cell_type": "code",
   "execution_count": 3,
   "metadata": {},
   "outputs": [
    {
     "data": {
      "text/html": [
       "<div>\n",
       "<style scoped>\n",
       "    .dataframe tbody tr th:only-of-type {\n",
       "        vertical-align: middle;\n",
       "    }\n",
       "\n",
       "    .dataframe tbody tr th {\n",
       "        vertical-align: top;\n",
       "    }\n",
       "\n",
       "    .dataframe thead th {\n",
       "        text-align: right;\n",
       "    }\n",
       "</style>\n",
       "<table border=\"1\" class=\"dataframe\">\n",
       "  <thead>\n",
       "    <tr style=\"text-align: right;\">\n",
       "      <th></th>\n",
       "      <th>password</th>\n",
       "      <th>strength</th>\n",
       "    </tr>\n",
       "  </thead>\n",
       "  <tbody>\n",
       "    <tr>\n",
       "      <th>0</th>\n",
       "      <td>kzde5577</td>\n",
       "      <td>1</td>\n",
       "    </tr>\n",
       "    <tr>\n",
       "      <th>1</th>\n",
       "      <td>kino3434</td>\n",
       "      <td>1</td>\n",
       "    </tr>\n",
       "    <tr>\n",
       "      <th>2</th>\n",
       "      <td>visi7k1yr</td>\n",
       "      <td>1</td>\n",
       "    </tr>\n",
       "    <tr>\n",
       "      <th>3</th>\n",
       "      <td>megzy123</td>\n",
       "      <td>1</td>\n",
       "    </tr>\n",
       "    <tr>\n",
       "      <th>4</th>\n",
       "      <td>lamborghin1</td>\n",
       "      <td>1</td>\n",
       "    </tr>\n",
       "    <tr>\n",
       "      <th>...</th>\n",
       "      <td>...</td>\n",
       "      <td>...</td>\n",
       "    </tr>\n",
       "    <tr>\n",
       "      <th>669635</th>\n",
       "      <td>10redtux10</td>\n",
       "      <td>1</td>\n",
       "    </tr>\n",
       "    <tr>\n",
       "      <th>669636</th>\n",
       "      <td>infrared1</td>\n",
       "      <td>1</td>\n",
       "    </tr>\n",
       "    <tr>\n",
       "      <th>669637</th>\n",
       "      <td>184520socram</td>\n",
       "      <td>1</td>\n",
       "    </tr>\n",
       "    <tr>\n",
       "      <th>669638</th>\n",
       "      <td>marken22a</td>\n",
       "      <td>1</td>\n",
       "    </tr>\n",
       "    <tr>\n",
       "      <th>669639</th>\n",
       "      <td>fxx4pw4g</td>\n",
       "      <td>1</td>\n",
       "    </tr>\n",
       "  </tbody>\n",
       "</table>\n",
       "<p>669639 rows × 2 columns</p>\n",
       "</div>"
      ],
      "text/plain": [
       "            password  strength\n",
       "0           kzde5577         1\n",
       "1           kino3434         1\n",
       "2          visi7k1yr         1\n",
       "3           megzy123         1\n",
       "4        lamborghin1         1\n",
       "...              ...       ...\n",
       "669635    10redtux10         1\n",
       "669636     infrared1         1\n",
       "669637  184520socram         1\n",
       "669638     marken22a         1\n",
       "669639      fxx4pw4g         1\n",
       "\n",
       "[669639 rows x 2 columns]"
      ]
     },
     "execution_count": 3,
     "metadata": {},
     "output_type": "execute_result"
    }
   ],
   "source": [
    "data = pd.read_csv('../Dataset/data.csv', on_bad_lines='skip').dropna()\n",
    "data"
   ]
  },
  {
   "attachments": {},
   "cell_type": "markdown",
   "metadata": {},
   "source": [
    "# 3. Initial Analysis"
   ]
  },
  {
   "attachments": {},
   "cell_type": "markdown",
   "metadata": {},
   "source": [
    "### 3.1. Metadata"
   ]
  },
  {
   "cell_type": "code",
   "execution_count": 4,
   "metadata": {},
   "outputs": [
    {
     "name": "stdout",
     "output_type": "stream",
     "text": [
      "<class 'pandas.core.frame.DataFrame'>\n",
      "Int64Index: 669639 entries, 0 to 669639\n",
      "Data columns (total 2 columns):\n",
      " #   Column    Non-Null Count   Dtype \n",
      "---  ------    --------------   ----- \n",
      " 0   password  669639 non-null  object\n",
      " 1   strength  669639 non-null  int64 \n",
      "dtypes: int64(1), object(1)\n",
      "memory usage: 15.3+ MB\n"
     ]
    }
   ],
   "source": [
    "data.info()"
   ]
  },
  {
   "cell_type": "code",
   "execution_count": 20,
   "metadata": {},
   "outputs": [
    {
     "data": {
      "text/html": [
       "<div>\n",
       "<style scoped>\n",
       "    .dataframe tbody tr th:only-of-type {\n",
       "        vertical-align: middle;\n",
       "    }\n",
       "\n",
       "    .dataframe tbody tr th {\n",
       "        vertical-align: top;\n",
       "    }\n",
       "\n",
       "    .dataframe thead th {\n",
       "        text-align: right;\n",
       "    }\n",
       "</style>\n",
       "<table border=\"1\" class=\"dataframe\">\n",
       "  <thead>\n",
       "    <tr style=\"text-align: right;\">\n",
       "      <th></th>\n",
       "      <th>count</th>\n",
       "      <th>mean</th>\n",
       "      <th>std</th>\n",
       "      <th>min</th>\n",
       "      <th>25%</th>\n",
       "      <th>50%</th>\n",
       "      <th>75%</th>\n",
       "      <th>max</th>\n",
       "    </tr>\n",
       "  </thead>\n",
       "  <tbody>\n",
       "    <tr>\n",
       "      <th>strength</th>\n",
       "      <td>669639.0</td>\n",
       "      <td>0.990198</td>\n",
       "      <td>0.507947</td>\n",
       "      <td>0.0</td>\n",
       "      <td>1.0</td>\n",
       "      <td>1.0</td>\n",
       "      <td>1.0</td>\n",
       "      <td>2.0</td>\n",
       "    </tr>\n",
       "    <tr>\n",
       "      <th>password_len</th>\n",
       "      <td>669638.0</td>\n",
       "      <td>11.991646</td>\n",
       "      <td>2.819956</td>\n",
       "      <td>3.0</td>\n",
       "      <td>10.0</td>\n",
       "      <td>11.0</td>\n",
       "      <td>13.0</td>\n",
       "      <td>222.0</td>\n",
       "    </tr>\n",
       "  </tbody>\n",
       "</table>\n",
       "</div>"
      ],
      "text/plain": [
       "                 count       mean       std  min   25%   50%   75%    max\n",
       "strength      669639.0   0.990198  0.507947  0.0   1.0   1.0   1.0    2.0\n",
       "password_len  669638.0  11.991646  2.819956  3.0  10.0  11.0  13.0  222.0"
      ]
     },
     "execution_count": 20,
     "metadata": {},
     "output_type": "execute_result"
    }
   ],
   "source": [
    "data.describe().transpose()"
   ]
  },
  {
   "cell_type": "code",
   "execution_count": 21,
   "metadata": {},
   "outputs": [
    {
     "data": {
      "text/plain": [
       "password        0\n",
       "strength        0\n",
       "password_len    1\n",
       "dtype: int64"
      ]
     },
     "execution_count": 21,
     "metadata": {},
     "output_type": "execute_result"
    }
   ],
   "source": [
    "data.isnull().sum()"
   ]
  },
  {
   "cell_type": "code",
   "execution_count": 22,
   "metadata": {},
   "outputs": [
    {
     "data": {
      "text/plain": [
       "0"
      ]
     },
     "execution_count": 22,
     "metadata": {},
     "output_type": "execute_result"
    }
   ],
   "source": [
    "data.duplicated().sum()"
   ]
  },
  {
   "cell_type": "code",
   "execution_count": 23,
   "metadata": {},
   "outputs": [
    {
     "data": {
      "text/plain": [
       "[Text(0, 0, '89701'), Text(0, 0, '496801'), Text(0, 0, '83137')]"
      ]
     },
     "execution_count": 23,
     "metadata": {},
     "output_type": "execute_result"
    },
    {
     "data": {
      "image/png": "[encoded data removed]",
      "text/plain": [
       "<Figure size 640x480 with 1 Axes>"
      ]
     },
     "metadata": {},
     "output_type": "display_data"
    }
   ],
   "source": [
    "ax = sns.countplot(data=data, x=data['strength'], palette='YlOrBr')\n",
    "ax.bar_label(ax.containers[0])"
   ]
  },
  {
   "attachments": {},
   "cell_type": "markdown",
   "metadata": {},
   "source": [
    "### 3.2. Processing Columns"
   ]
  },
  {
   "cell_type": "code",
   "execution_count": 5,
   "metadata": {},
   "outputs": [],
   "source": [
    "data['strength'] = data['strength'].astype('int8')"
   ]
  },
  {
   "cell_type": "code",
   "execution_count": 11,
   "metadata": {},
   "outputs": [
    {
     "name": "stderr",
     "output_type": "stream",
     "text": [
      "C:\\Users\\indiz\\AppData\\Local\\Temp\\ipykernel_15072\\3219363206.py:1: SettingWithCopyWarning: \n",
      "A value is trying to be set on a copy of a slice from a DataFrame.\n",
      "Try using .loc[row_indexer,col_indexer] = value instead\n",
      "\n",
      "See the caveats in the documentation: https://pandas.pydata.org/pandas-docs/stable/user_guide/indexing.html#returning-a-view-versus-a-copy\n",
      "  data['text_to_letter'] = data['password'].apply(lambda x: ' '.join(list(x)))\n"
     ]
    },
    {
     "data": {
      "text/html": [
       "<div>\n",
       "<style scoped>\n",
       "    .dataframe tbody tr th:only-of-type {\n",
       "        vertical-align: middle;\n",
       "    }\n",
       "\n",
       "    .dataframe tbody tr th {\n",
       "        vertical-align: top;\n",
       "    }\n",
       "\n",
       "    .dataframe thead th {\n",
       "        text-align: right;\n",
       "    }\n",
       "</style>\n",
       "<table border=\"1\" class=\"dataframe\">\n",
       "  <thead>\n",
       "    <tr style=\"text-align: right;\">\n",
       "      <th></th>\n",
       "      <th>password</th>\n",
       "      <th>strength</th>\n",
       "      <th>password_len</th>\n",
       "      <th>text_to_letter</th>\n",
       "    </tr>\n",
       "  </thead>\n",
       "  <tbody>\n",
       "    <tr>\n",
       "      <th>0</th>\n",
       "      <td>kzde5577</td>\n",
       "      <td>1</td>\n",
       "      <td>10.0</td>\n",
       "      <td>k z d e 5 5 7 7</td>\n",
       "    </tr>\n",
       "    <tr>\n",
       "      <th>1</th>\n",
       "      <td>kino3434</td>\n",
       "      <td>1</td>\n",
       "      <td>10.0</td>\n",
       "      <td>k i n o 3 4 3 4</td>\n",
       "    </tr>\n",
       "    <tr>\n",
       "      <th>2</th>\n",
       "      <td>visi7k1yr</td>\n",
       "      <td>1</td>\n",
       "      <td>11.0</td>\n",
       "      <td>v i s i 7 k 1 y r</td>\n",
       "    </tr>\n",
       "    <tr>\n",
       "      <th>3</th>\n",
       "      <td>megzy123</td>\n",
       "      <td>1</td>\n",
       "      <td>10.0</td>\n",
       "      <td>m e g z y 1 2 3</td>\n",
       "    </tr>\n",
       "    <tr>\n",
       "      <th>4</th>\n",
       "      <td>lamborghin1</td>\n",
       "      <td>1</td>\n",
       "      <td>13.0</td>\n",
       "      <td>l a m b o r g h i n 1</td>\n",
       "    </tr>\n",
       "    <tr>\n",
       "      <th>...</th>\n",
       "      <td>...</td>\n",
       "      <td>...</td>\n",
       "      <td>...</td>\n",
       "      <td>...</td>\n",
       "    </tr>\n",
       "    <tr>\n",
       "      <th>669634</th>\n",
       "      <td>sh4tup</td>\n",
       "      <td>0</td>\n",
       "      <td>12.0</td>\n",
       "      <td>s h 4 t u p</td>\n",
       "    </tr>\n",
       "    <tr>\n",
       "      <th>669635</th>\n",
       "      <td>10redtux10</td>\n",
       "      <td>1</td>\n",
       "      <td>11.0</td>\n",
       "      <td>1 0 r e d t u x 1 0</td>\n",
       "    </tr>\n",
       "    <tr>\n",
       "      <th>669636</th>\n",
       "      <td>infrared1</td>\n",
       "      <td>1</td>\n",
       "      <td>14.0</td>\n",
       "      <td>i n f r a r e d 1</td>\n",
       "    </tr>\n",
       "    <tr>\n",
       "      <th>669637</th>\n",
       "      <td>184520socram</td>\n",
       "      <td>1</td>\n",
       "      <td>11.0</td>\n",
       "      <td>1 8 4 5 2 0 s o c r a m</td>\n",
       "    </tr>\n",
       "    <tr>\n",
       "      <th>669638</th>\n",
       "      <td>marken22a</td>\n",
       "      <td>1</td>\n",
       "      <td>10.0</td>\n",
       "      <td>m a r k e n 2 2 a</td>\n",
       "    </tr>\n",
       "  </tbody>\n",
       "</table>\n",
       "<p>622790 rows × 4 columns</p>\n",
       "</div>"
      ],
      "text/plain": [
       "            password  strength  password_len           text_to_letter\n",
       "0           kzde5577         1          10.0          k z d e 5 5 7 7\n",
       "1           kino3434         1          10.0          k i n o 3 4 3 4\n",
       "2          visi7k1yr         1          11.0        v i s i 7 k 1 y r\n",
       "3           megzy123         1          10.0          m e g z y 1 2 3\n",
       "4        lamborghin1         1          13.0    l a m b o r g h i n 1\n",
       "...              ...       ...           ...                      ...\n",
       "669634        sh4tup         0          12.0              s h 4 t u p\n",
       "669635    10redtux10         1          11.0      1 0 r e d t u x 1 0\n",
       "669636     infrared1         1          14.0        i n f r a r e d 1\n",
       "669637  184520socram         1          11.0  1 8 4 5 2 0 s o c r a m\n",
       "669638     marken22a         1          10.0        m a r k e n 2 2 a\n",
       "\n",
       "[622790 rows x 4 columns]"
      ]
     },
     "execution_count": 11,
     "metadata": {},
     "output_type": "execute_result"
    }
   ],
   "source": [
    "data['text_to_letter'] = data['password'].apply(lambda x: ' '.join(list(x)))\n",
    "data"
   ]
  },
  {
   "attachments": {},
   "cell_type": "markdown",
   "metadata": {},
   "source": [
    "### 3.3. EDA"
   ]
  },
  {
   "cell_type": "code",
   "execution_count": 13,
   "metadata": {},
   "outputs": [
    {
     "name": "stderr",
     "output_type": "stream",
     "text": [
      "C:\\Users\\indiz\\AppData\\Local\\Temp\\ipykernel_15072\\735982834.py:2: SettingWithCopyWarning: \n",
      "A value is trying to be set on a copy of a slice from a DataFrame.\n",
      "Try using .loc[row_indexer,col_indexer] = value instead\n",
      "\n",
      "See the caveats in the documentation: https://pandas.pydata.org/pandas-docs/stable/user_guide/indexing.html#returning-a-view-versus-a-copy\n",
      "  data['password_len'] = pd.DataFrame(password_len)\n"
     ]
    },
    {
     "data": {
      "text/html": [
       "<div>\n",
       "<style scoped>\n",
       "    .dataframe tbody tr th:only-of-type {\n",
       "        vertical-align: middle;\n",
       "    }\n",
       "\n",
       "    .dataframe tbody tr th {\n",
       "        vertical-align: top;\n",
       "    }\n",
       "\n",
       "    .dataframe thead th {\n",
       "        text-align: right;\n",
       "    }\n",
       "</style>\n",
       "<table border=\"1\" class=\"dataframe\">\n",
       "  <thead>\n",
       "    <tr style=\"text-align: right;\">\n",
       "      <th></th>\n",
       "      <th>password</th>\n",
       "      <th>strength</th>\n",
       "      <th>password_len</th>\n",
       "      <th>text_to_letter</th>\n",
       "    </tr>\n",
       "  </thead>\n",
       "  <tbody>\n",
       "    <tr>\n",
       "      <th>0</th>\n",
       "      <td>kzde5577</td>\n",
       "      <td>1</td>\n",
       "      <td>10.0</td>\n",
       "      <td>k z d e 5 5 7 7</td>\n",
       "    </tr>\n",
       "    <tr>\n",
       "      <th>1</th>\n",
       "      <td>kino3434</td>\n",
       "      <td>1</td>\n",
       "      <td>10.0</td>\n",
       "      <td>k i n o 3 4 3 4</td>\n",
       "    </tr>\n",
       "    <tr>\n",
       "      <th>2</th>\n",
       "      <td>visi7k1yr</td>\n",
       "      <td>1</td>\n",
       "      <td>11.0</td>\n",
       "      <td>v i s i 7 k 1 y r</td>\n",
       "    </tr>\n",
       "    <tr>\n",
       "      <th>3</th>\n",
       "      <td>megzy123</td>\n",
       "      <td>1</td>\n",
       "      <td>10.0</td>\n",
       "      <td>m e g z y 1 2 3</td>\n",
       "    </tr>\n",
       "    <tr>\n",
       "      <th>4</th>\n",
       "      <td>lamborghin1</td>\n",
       "      <td>1</td>\n",
       "      <td>13.0</td>\n",
       "      <td>l a m b o r g h i n 1</td>\n",
       "    </tr>\n",
       "    <tr>\n",
       "      <th>...</th>\n",
       "      <td>...</td>\n",
       "      <td>...</td>\n",
       "      <td>...</td>\n",
       "      <td>...</td>\n",
       "    </tr>\n",
       "    <tr>\n",
       "      <th>579273</th>\n",
       "      <td>hm1qazxsw2</td>\n",
       "      <td>1</td>\n",
       "      <td>11.0</td>\n",
       "      <td>h m 1 q a z x s w 2</td>\n",
       "    </tr>\n",
       "    <tr>\n",
       "      <th>579274</th>\n",
       "      <td>p09876543p</td>\n",
       "      <td>1</td>\n",
       "      <td>14.0</td>\n",
       "      <td>p 0 9 8 7 6 5 4 3 p</td>\n",
       "    </tr>\n",
       "    <tr>\n",
       "      <th>579275</th>\n",
       "      <td>z1a9i9d4</td>\n",
       "      <td>1</td>\n",
       "      <td>11.0</td>\n",
       "      <td>z 1 a 9 i 9 d 4</td>\n",
       "    </tr>\n",
       "    <tr>\n",
       "      <th>579276</th>\n",
       "      <td>owexuv946</td>\n",
       "      <td>1</td>\n",
       "      <td>12.0</td>\n",
       "      <td>o w e x u v 9 4 6</td>\n",
       "    </tr>\n",
       "    <tr>\n",
       "      <th>579277</th>\n",
       "      <td>se001072</td>\n",
       "      <td>1</td>\n",
       "      <td>14.0</td>\n",
       "      <td>s e 0 0 1 0 7 2</td>\n",
       "    </tr>\n",
       "  </tbody>\n",
       "</table>\n",
       "<p>538717 rows × 4 columns</p>\n",
       "</div>"
      ],
      "text/plain": [
       "           password  strength  password_len         text_to_letter\n",
       "0          kzde5577         1          10.0        k z d e 5 5 7 7\n",
       "1          kino3434         1          10.0        k i n o 3 4 3 4\n",
       "2         visi7k1yr         1          11.0      v i s i 7 k 1 y r\n",
       "3          megzy123         1          10.0        m e g z y 1 2 3\n",
       "4       lamborghin1         1          13.0  l a m b o r g h i n 1\n",
       "...             ...       ...           ...                    ...\n",
       "579273   hm1qazxsw2         1          11.0    h m 1 q a z x s w 2\n",
       "579274   p09876543p         1          14.0    p 0 9 8 7 6 5 4 3 p\n",
       "579275     z1a9i9d4         1          11.0        z 1 a 9 i 9 d 4\n",
       "579276    owexuv946         1          12.0      o w e x u v 9 4 6\n",
       "579277     se001072         1          14.0        s e 0 0 1 0 7 2\n",
       "\n",
       "[538717 rows x 4 columns]"
      ]
     },
     "execution_count": 13,
     "metadata": {},
     "output_type": "execute_result"
    },
    {
     "data": {
      "image/png": "[encoded data removed]",
      "text/plain": [
       "<Figure size 2500x200 with 1 Axes>"
      ]
     },
     "metadata": {},
     "output_type": "display_data"
    }
   ],
   "source": [
    "password_len = [len(word) for word in data['password'].str.split('')]\n",
    "data['password_len'] = pd.DataFrame(password_len)\n",
    "\n",
    "fig, ax = plt.subplots(figsize=(25, 2))\n",
    "sns.boxplot(x=data['password_len'], palette=\"crest\")\n",
    "\n",
    "data = data.dropna()\n",
    "data"
   ]
  },
  {
   "cell_type": "code",
   "execution_count": 14,
   "metadata": {},
   "outputs": [
    {
     "name": "stdout",
     "output_type": "stream",
     "text": [
      "8.0\n",
      "18.0\n"
     ]
    }
   ],
   "source": [
    "Q1 = data['password_len'].quantile(0.01)\n",
    "Q3 = data['password_len'].quantile(0.99)\n",
    "\n",
    "print(Q1)\n",
    "print(Q3)"
   ]
  },
  {
   "cell_type": "code",
   "execution_count": 15,
   "metadata": {},
   "outputs": [
    {
     "name": "stdout",
     "output_type": "stream",
     "text": [
      "8.0\n",
      "18.0\n"
     ]
    },
    {
     "data": {
      "text/plain": [
       "<Axes: xlabel='password_len'>"
      ]
     },
     "execution_count": 15,
     "metadata": {},
     "output_type": "execute_result"
    },
    {
     "data": {
      "image/png": "[encoded data removed]",
      "text/plain": [
       "<Figure size 2500x200 with 1 Axes>"
      ]
     },
     "metadata": {},
     "output_type": "display_data"
    }
   ],
   "source": [
    "Q1 = data['password_len'].quantile(0.01)\n",
    "Q3 = data['password_len'].quantile(0.99)\n",
    "\n",
    "print(Q1)\n",
    "print(Q3)\n",
    "\n",
    "data = data[(data['password_len'] > Q1) & (data['password_len'] < Q3)]\n",
    "\n",
    "fig, axes = plt.subplots(figsize=(25, 2))\n",
    "sns.boxplot(x = data['password_len'], palette=\"Oranges\")"
   ]
  },
  {
   "attachments": {},
   "cell_type": "markdown",
   "metadata": {},
   "source": [
    "# 4. Classification Algorithms"
   ]
  },
  {
   "cell_type": "code",
   "execution_count": 100,
   "metadata": {},
   "outputs": [
    {
     "name": "stdout",
     "output_type": "stream",
     "text": [
      "(437198,)\n",
      "(123313,)\n",
      "(62279,)\n"
     ]
    }
   ],
   "source": [
    "X = data[\"text_to_letter\"]\n",
    "Y = data[\"strength\"]\n",
    "\n",
    "X_train, X_test, y_train, y_test = train_test_split(X, Y, train_size=0.9, random_state = 42)\n",
    "# X_train, X_test, y_train, y_test = train_test_split(X_train, y_train, train_size=0.78, random_state = 42)\n",
    "\n",
    "print(X_train.shape)\n",
    "print(X_test.shape)\n",
    "# print(X_val.shape)"
   ]
  },
  {
   "cell_type": "code",
   "execution_count": 101,
   "metadata": {},
   "outputs": [],
   "source": [
    "vocab_size = 125\n",
    "embedding_dim = 100\n",
    "max_length = 20\n",
    "trunc_type = 'post'\n",
    "padding_type = 'post'\n",
    "oov_tok = \"<OOV>\""
   ]
  },
  {
   "cell_type": "code",
   "execution_count": 102,
   "metadata": {},
   "outputs": [
    {
     "name": "stdout",
     "output_type": "stream",
     "text": [
      "117\n"
     ]
    }
   ],
   "source": [
    "# Tokenizing \n",
    "tokenizer = Tokenizer(num_words=vocab_size, oov_token=oov_tok)\n",
    "tokenizer.fit_on_texts(X)\n",
    "\n",
    "print(len(tokenizer.word_index))\n",
    "\n",
    "# Text to Sequences\n",
    "training_sequences = tokenizer.texts_to_sequences(X_train)\n",
    "testing_sequences = tokenizer.texts_to_sequences(X_test)\n",
    "# validating_sequences = tokenizer.texts_to_sequences(X_val)\n",
    "\n",
    "# Add padding\n",
    "training_padded = pad_sequences(training_sequences, maxlen = max_length, padding = padding_type)\n",
    "testing_padded = pad_sequences(testing_sequences, maxlen = max_length, padding = padding_type)\n",
    "# validating_padded = pad_sequences(validating_sequences, maxlen = max_length, padding = padding_type)\n",
    "\n",
    "# Convert to numpy array\n",
    "training_padded = np.array(training_padded)\n",
    "training_label = np.array(y_train)\n",
    "\n",
    "testing_padded = np.array(testing_padded)\n",
    "testing_label = np.array(y_test)\n",
    "\n",
    "# validating_padded = np.array(validating_padded)\n",
    "# validating_label = np.array(y_val)\n",
    "\n",
    "# Undersampling\n",
    "rus = RandomUnderSampler(random_state=42, replacement=True)\n",
    "\n",
    "training_padded, training_label = rus.fit_resample(training_padded, training_label)\n",
    "testing_padded, testing_label = rus.fit_resample(testing_padded, testing_label)\n",
    "# validating_padded, validating_label = rus.fit_resample(validating_padded, validating_label)\n",
    "\n",
    "# training_label = to_categorical(training_label)\n",
    "# testing_label = to_categorical(testing_label)\n",
    "# validating_label = to_categorical(validating_label)\n"
   ]
  },
  {
   "cell_type": "code",
   "execution_count": 104,
   "metadata": {},
   "outputs": [],
   "source": [
    "adaboost = AdaBoostClassifier(n_estimators=100, random_state=42)\n",
    "bagging = BaggingClassifier(n_jobs=-1)\n",
    "extraTrees = ExtraTreesClassifier(max_depth=100, n_jobs=-1, random_state=42)\n",
    "gradient = GradientBoostingClassifier(max_depth=100, n_estimators=100, learning_rate=.01,  random_state=42)\n",
    "randomForest = RandomForestClassifier(max_depth=100, random_state=42, n_jobs=-1)\n",
    "histGradientBoosting = HistGradientBoostingClassifier()\n",
    "XGB = XGBClassifier(n_jobs=-1)\n",
    "knn = KNeighborsClassifier(n_jobs=-1)\n",
    "decisionTree = DecisionTreeClassifier(random_state=42, max_depth=100)\n",
    "\n",
    "model = StackingClassifier([\n",
    "    # ('adaboost', adaboost),\n",
    "    # ('bagging', bagging),\n",
    "    # ('extraTress', extraTrees),\n",
    "    # ('gradient', gradient),\n",
    "    # ('randomforest', randomForest),\n",
    "    # ('histGradientBoosting', histGradientBoosting),\n",
    "    ('XGB', XGB),\n",
    "    # ('knn', knn),\n",
    "    # ('decisionTree', decisionTree),\n",
    "\n",
    "], n_jobs=-1)"
   ]
  },
  {
   "cell_type": "code",
   "execution_count": 105,
   "metadata": {},
   "outputs": [
    {
     "data": {
      "text/html": [
       "<style>#sk-container-id-1 {color: black;background-color: white;}#sk-container-id-1 pre{padding: 0;}#sk-container-id-1 div.sk-toggleable {background-color: white;}#sk-container-id-1 label.sk-toggleable__label {cursor: pointer;display: block;width: 100%;margin-bottom: 0;padding: 0.3em;box-sizing: border-box;text-align: center;}#sk-container-id-1 label.sk-toggleable__label-arrow:before {content: \"▸\";float: left;margin-right: 0.25em;color: #696969;}#sk-container-id-1 label.sk-toggleable__label-arrow:hover:before {color: black;}#sk-container-id-1 div.sk-estimator:hover label.sk-toggleable__label-arrow:before {color: black;}#sk-container-id-1 div.sk-toggleable__content {max-height: 0;max-width: 0;overflow: hidden;text-align: left;background-color: #f0f8ff;}#sk-container-id-1 div.sk-toggleable__content pre {margin: 0.2em;color: black;border-radius: 0.25em;background-color: #f0f8ff;}#sk-container-id-1 input.sk-toggleable__control:checked~div.sk-toggleable__content {max-height: 200px;max-width: 100%;overflow: auto;}#sk-container-id-1 input.sk-toggleable__control:checked~label.sk-toggleable__label-arrow:before {content: \"▾\";}#sk-container-id-1 div.sk-estimator input.sk-toggleable__control:checked~label.sk-toggleable__label {background-color: #d4ebff;}#sk-container-id-1 div.sk-label input.sk-toggleable__control:checked~label.sk-toggleable__label {background-color: #d4ebff;}#sk-container-id-1 input.sk-hidden--visually {border: 0;clip: rect(1px 1px 1px 1px);clip: rect(1px, 1px, 1px, 1px);height: 1px;margin: -1px;overflow: hidden;padding: 0;position: absolute;width: 1px;}#sk-container-id-1 div.sk-estimator {font-family: monospace;background-color: #f0f8ff;border: 1px dotted black;border-radius: 0.25em;box-sizing: border-box;margin-bottom: 0.5em;}#sk-container-id-1 div.sk-estimator:hover {background-color: #d4ebff;}#sk-container-id-1 div.sk-parallel-item::after {content: \"\";width: 100%;border-bottom: 1px solid gray;flex-grow: 1;}#sk-container-id-1 div.sk-label:hover label.sk-toggleable__label {background-color: #d4ebff;}#sk-container-id-1 div.sk-serial::before {content: \"\";position: absolute;border-left: 1px solid gray;box-sizing: border-box;top: 0;bottom: 0;left: 50%;z-index: 0;}#sk-container-id-1 div.sk-serial {display: flex;flex-direction: column;align-items: center;background-color: white;padding-right: 0.2em;padding-left: 0.2em;position: relative;}#sk-container-id-1 div.sk-item {position: relative;z-index: 1;}#sk-container-id-1 div.sk-parallel {display: flex;align-items: stretch;justify-content: center;background-color: white;position: relative;}#sk-container-id-1 div.sk-item::before, #sk-container-id-1 div.sk-parallel-item::before {content: \"\";position: absolute;border-left: 1px solid gray;box-sizing: border-box;top: 0;bottom: 0;left: 50%;z-index: -1;}#sk-container-id-1 div.sk-parallel-item {display: flex;flex-direction: column;z-index: 1;position: relative;background-color: white;}#sk-container-id-1 div.sk-parallel-item:first-child::after {align-self: flex-end;width: 50%;}#sk-container-id-1 div.sk-parallel-item:last-child::after {align-self: flex-start;width: 50%;}#sk-container-id-1 div.sk-parallel-item:only-child::after {width: 0;}#sk-container-id-1 div.sk-dashed-wrapped {border: 1px dashed gray;margin: 0 0.4em 0.5em 0.4em;box-sizing: border-box;padding-bottom: 0.4em;background-color: white;}#sk-container-id-1 div.sk-label label {font-family: monospace;font-weight: bold;display: inline-block;line-height: 1.2em;}#sk-container-id-1 div.sk-label-container {text-align: center;}#sk-container-id-1 div.sk-container {/* jupyter's `normalize.less` sets `[hidden] { display: none; }` but bootstrap.min.css set `[hidden] { display: none !important; }` so we also need the `!important` here to be able to override the default hidden behavior on the sphinx rendered scikit-learn.org. See: https://github.com/scikit-learn/scikit-learn/issues/21755 */display: inline-block !important;position: relative;}#sk-container-id-1 div.sk-text-repr-fallback {display: none;}</style><div id=\"sk-container-id-1\" class=\"sk-top-container\"><div class=\"sk-text-repr-fallback\"><pre>StackingClassifier(estimators=[(&#x27;XGB&#x27;,\n",
       "                                XGBClassifier(base_score=None, booster=None,\n",
       "                                              callbacks=None,\n",
       "                                              colsample_bylevel=None,\n",
       "                                              colsample_bynode=None,\n",
       "                                              colsample_bytree=None,\n",
       "                                              early_stopping_rounds=None,\n",
       "                                              enable_categorical=False,\n",
       "                                              eval_metric=None,\n",
       "                                              feature_types=None, gamma=None,\n",
       "                                              gpu_id=None, grow_policy=None,\n",
       "                                              importance_type=None,\n",
       "                                              interaction_constraints=None,\n",
       "                                              learning_rate=None, max_bin=None,\n",
       "                                              max_cat_threshold=None,\n",
       "                                              max_cat_to_onehot=None,\n",
       "                                              max_delta_step=None,\n",
       "                                              max_depth=None, max_leaves=None,\n",
       "                                              min_child_weight=None,\n",
       "                                              missing=nan,\n",
       "                                              monotone_constraints=None,\n",
       "                                              n_estimators=100, n_jobs=-1,\n",
       "                                              num_parallel_tree=None,\n",
       "                                              predictor=None, random_state=None, ...))],\n",
       "                   n_jobs=-1)</pre><b>In a Jupyter environment, please rerun this cell to show the HTML representation or trust the notebook. <br />On GitHub, the HTML representation is unable to render, please try loading this page with nbviewer.org.</b></div><div class=\"sk-container\" hidden><div class=\"sk-item sk-dashed-wrapped\"><div class=\"sk-label-container\"><div class=\"sk-label sk-toggleable\"><input class=\"sk-toggleable__control sk-hidden--visually\" id=\"sk-estimator-id-1\" type=\"checkbox\" ><label for=\"sk-estimator-id-1\" class=\"sk-toggleable__label sk-toggleable__label-arrow\">StackingClassifier</label><div class=\"sk-toggleable__content\"><pre>StackingClassifier(estimators=[(&#x27;XGB&#x27;,\n",
       "                                XGBClassifier(base_score=None, booster=None,\n",
       "                                              callbacks=None,\n",
       "                                              colsample_bylevel=None,\n",
       "                                              colsample_bynode=None,\n",
       "                                              colsample_bytree=None,\n",
       "                                              early_stopping_rounds=None,\n",
       "                                              enable_categorical=False,\n",
       "                                              eval_metric=None,\n",
       "                                              feature_types=None, gamma=None,\n",
       "                                              gpu_id=None, grow_policy=None,\n",
       "                                              importance_type=None,\n",
       "                                              interaction_constraints=None,\n",
       "                                              learning_rate=None, max_bin=None,\n",
       "                                              max_cat_threshold=None,\n",
       "                                              max_cat_to_onehot=None,\n",
       "                                              max_delta_step=None,\n",
       "                                              max_depth=None, max_leaves=None,\n",
       "                                              min_child_weight=None,\n",
       "                                              missing=nan,\n",
       "                                              monotone_constraints=None,\n",
       "                                              n_estimators=100, n_jobs=-1,\n",
       "                                              num_parallel_tree=None,\n",
       "                                              predictor=None, random_state=None, ...))],\n",
       "                   n_jobs=-1)</pre></div></div></div><div class=\"sk-serial\"><div class=\"sk-item\"><div class=\"sk-parallel\"><div class=\"sk-parallel-item\"><div class=\"sk-item\"><div class=\"sk-label-container\"><div class=\"sk-label sk-toggleable\"><label>XGB</label></div></div><div class=\"sk-serial\"><div class=\"sk-item\"><div class=\"sk-estimator sk-toggleable\"><input class=\"sk-toggleable__control sk-hidden--visually\" id=\"sk-estimator-id-2\" type=\"checkbox\" ><label for=\"sk-estimator-id-2\" class=\"sk-toggleable__label sk-toggleable__label-arrow\">XGBClassifier</label><div class=\"sk-toggleable__content\"><pre>XGBClassifier(base_score=None, booster=None, callbacks=None,\n",
       "              colsample_bylevel=None, colsample_bynode=None,\n",
       "              colsample_bytree=None, early_stopping_rounds=None,\n",
       "              enable_categorical=False, eval_metric=None, feature_types=None,\n",
       "              gamma=None, gpu_id=None, grow_policy=None, importance_type=None,\n",
       "              interaction_constraints=None, learning_rate=None, max_bin=None,\n",
       "              max_cat_threshold=None, max_cat_to_onehot=None,\n",
       "              max_delta_step=None, max_depth=None, max_leaves=None,\n",
       "              min_child_weight=None, missing=nan, monotone_constraints=None,\n",
       "              n_estimators=100, n_jobs=-1, num_parallel_tree=None,\n",
       "              predictor=None, random_state=None, ...)</pre></div></div></div></div></div></div></div></div><div class=\"sk-item\"><div class=\"sk-parallel\"><div class=\"sk-parallel-item\"><div class=\"sk-item\"><div class=\"sk-label-container\"><div class=\"sk-label sk-toggleable\"><label>final_estimator</label></div></div><div class=\"sk-serial\"><div class=\"sk-item\"><div class=\"sk-estimator sk-toggleable\"><input class=\"sk-toggleable__control sk-hidden--visually\" id=\"sk-estimator-id-3\" type=\"checkbox\" ><label for=\"sk-estimator-id-3\" class=\"sk-toggleable__label sk-toggleable__label-arrow\">LogisticRegression</label><div class=\"sk-toggleable__content\"><pre>LogisticRegression()</pre></div></div></div></div></div></div></div></div></div></div></div></div>"
      ],
      "text/plain": [
       "StackingClassifier(estimators=[('XGB',\n",
       "                                XGBClassifier(base_score=None, booster=None,\n",
       "                                              callbacks=None,\n",
       "                                              colsample_bylevel=None,\n",
       "                                              colsample_bynode=None,\n",
       "                                              colsample_bytree=None,\n",
       "                                              early_stopping_rounds=None,\n",
       "                                              enable_categorical=False,\n",
       "                                              eval_metric=None,\n",
       "                                              feature_types=None, gamma=None,\n",
       "                                              gpu_id=None, grow_policy=None,\n",
       "                                              importance_type=None,\n",
       "                                              interaction_constraints=None,\n",
       "                                              learning_rate=None, max_bin=None,\n",
       "                                              max_cat_threshold=None,\n",
       "                                              max_cat_to_onehot=None,\n",
       "                                              max_delta_step=None,\n",
       "                                              max_depth=None, max_leaves=None,\n",
       "                                              min_child_weight=None,\n",
       "                                              missing=nan,\n",
       "                                              monotone_constraints=None,\n",
       "                                              n_estimators=100, n_jobs=-1,\n",
       "                                              num_parallel_tree=None,\n",
       "                                              predictor=None, random_state=None, ...))],\n",
       "                   n_jobs=-1)"
      ]
     },
     "execution_count": 105,
     "metadata": {},
     "output_type": "execute_result"
    }
   ],
   "source": [
    "model.fit(training_padded, training_label)"
   ]
  },
  {
   "cell_type": "code",
   "execution_count": 106,
   "metadata": {},
   "outputs": [
    {
     "name": "stdout",
     "output_type": "stream",
     "text": [
      "Train Score        : 99.71 %\n",
      "Test Score         : 98.27 %\n",
      "R Squared Error    : 0.97\n",
      "Mean Squared Error : 0.02\n"
     ]
    }
   ],
   "source": [
    "print(\"Train Score        :\",round((model.score(training_padded, training_label)*100), 2),'%')\n",
    "print(\"Test Score         :\",round((model.score(testing_padded, testing_label)*100), 2),'%')\n",
    "\n",
    "y_pred = model.predict(testing_padded)\n",
    "\n",
    "print(\"R Squared Error    :\",round(r2_score(testing_label, y_pred), 2))\n",
    "print(\"Mean Squared Error :\",round(mean_squared_error(testing_label, y_pred), 2))"
   ]
  },
  {
   "cell_type": "code",
   "execution_count": 109,
   "metadata": {},
   "outputs": [
    {
     "name": "stdout",
     "output_type": "stream",
     "text": [
      "   Train Predictions  Actuals  Diff\n",
      "0                  0        0     0\n",
      "1                  0        0     0\n",
      "2                  0        0     0\n",
      "3                  0        0     0\n",
      "4                  0        0     0\n",
      "664 / 38292\n"
     ]
    }
   ],
   "source": [
    "train_predictions = model.predict(testing_padded).flatten()\n",
    "\n",
    "train_results = pd.DataFrame(data={'Train Predictions':train_predictions, 'Actuals':testing_label})\n",
    "train_results['Diff'] = abs(train_results['Actuals'] - train_results['Train Predictions'])\n",
    "print(train_results.head(5))\n",
    "print(train_results['Diff'].sum(), '/', len(train_results['Diff']))"
   ]
  },
  {
   "cell_type": "code",
   "execution_count": 110,
   "metadata": {},
   "outputs": [
    {
     "name": "stdout",
     "output_type": "stream",
     "text": [
      "              precision    recall  f1-score   support\n",
      "\n",
      "           0       1.00      1.00      1.00     12807\n",
      "           1       0.98      0.96      0.97     13020\n",
      "           2       0.96      0.99      0.98     12465\n",
      "\n",
      "    accuracy                           0.98     38292\n",
      "   macro avg       0.98      0.98      0.98     38292\n",
      "weighted avg       0.98      0.98      0.98     38292\n",
      "\n"
     ]
    }
   ],
   "source": [
    "y_pred = model.predict(testing_padded)\n",
    "print(classification_report(y_pred,testing_label))"
   ]
  },
  {
   "cell_type": "code",
   "execution_count": 28,
   "metadata": {},
   "outputs": [
    {
     "data": {
      "image/png": "[encoded data removed]",
      "text/plain": [
       "<Figure size 640x480 with 2 Axes>"
      ]
     },
     "metadata": {},
     "output_type": "display_data"
    }
   ],
   "source": [
    "labels = ['Weak', 'Medium', 'Strong']\n",
    "\n",
    "y_pred = np.rint(model.predict(testing_padded))\n",
    "con_mat = confusion_matrix(testing_label.argmax(axis=1),y_pred.argmax(axis=1))\n",
    "\n",
    "cm_percent = con_mat.astype('float') / con_mat.sum(axis=1)[:, np.newaxis]\n",
    "\n",
    "sns.heatmap(cm_percent, annot=True, fmt='.2%', cmap='Blues', xticklabels=labels, yticklabels=labels)\n",
    "plt.xlabel('Predicted Labels')\n",
    "plt.ylabel('True Labels')\n",
    "plt.title('Confusion Matrix - Fake News Detection')\n",
    "plt.show()"
   ]
  },
  {
   "attachments": {},
   "cell_type": "markdown",
   "metadata": {},
   "source": [
    "# 5. Neural Network"
   ]
  },
  {
   "cell_type": "code",
   "execution_count": 16,
   "metadata": {},
   "outputs": [
    {
     "name": "stdout",
     "output_type": "stream",
     "text": [
      "(334472,)\n",
      "(94339,)\n",
      "(47646,)\n"
     ]
    }
   ],
   "source": [
    "X = data[\"text_to_letter\"]\n",
    "Y = data[\"strength\"]\n",
    "\n",
    "X_train, X_val, y_train, y_val = train_test_split(X, Y, train_size=0.9, random_state = 42)\n",
    "X_train, X_test, y_train, y_test = train_test_split(X_train, y_train, train_size=0.78, random_state = 42)\n",
    "\n",
    "print(X_train.shape)\n",
    "print(X_test.shape)\n",
    "print(X_val.shape)"
   ]
  },
  {
   "cell_type": "code",
   "execution_count": 17,
   "metadata": {},
   "outputs": [],
   "source": [
    "vocab_size = 125\n",
    "embedding_dim = 100\n",
    "max_length = 20\n",
    "trunc_type = 'post'\n",
    "padding_type = 'post'\n",
    "oov_tok = \"<OOV>\""
   ]
  },
  {
   "cell_type": "code",
   "execution_count": 18,
   "metadata": {},
   "outputs": [
    {
     "name": "stdout",
     "output_type": "stream",
     "text": [
      "104\n"
     ]
    }
   ],
   "source": [
    "# Tokenizing \n",
    "tokenizer = Tokenizer(num_words=vocab_size, oov_token=oov_tok)\n",
    "tokenizer.fit_on_texts(X)\n",
    "\n",
    "print(len(tokenizer.word_index))\n",
    "\n",
    "# Text to Sequences\n",
    "training_sequences = tokenizer.texts_to_sequences(X_train)\n",
    "testing_sequences = tokenizer.texts_to_sequences(X_test)\n",
    "validating_sequences = tokenizer.texts_to_sequences(X_val)\n",
    "\n",
    "# Add padding\n",
    "training_padded = pad_sequences(training_sequences, maxlen = max_length, padding = padding_type)\n",
    "testing_padded = pad_sequences(testing_sequences, maxlen = max_length, padding = padding_type)\n",
    "validating_padded = pad_sequences(validating_sequences, maxlen = max_length, padding = padding_type)\n",
    "\n",
    "# Convert to numpy array\n",
    "training_padded = np.array(training_padded)\n",
    "training_label = np.array(y_train)\n",
    "\n",
    "testing_padded = np.array(testing_padded)\n",
    "testing_label = np.array(y_test)\n",
    "\n",
    "validating_padded = np.array(validating_padded)\n",
    "validating_label = np.array(y_val)\n",
    "\n",
    "# Undersampling\n",
    "rus = RandomUnderSampler(random_state=42, replacement=True)# fit predictor and target variable\n",
    "\n",
    "training_padded, training_label = rus.fit_resample(training_padded, training_label)\n",
    "testing_padded, testing_label = rus.fit_resample(testing_padded, testing_label)\n",
    "validating_padded, validating_label = rus.fit_resample(validating_padded, validating_label)\n",
    "\n",
    "training_label = to_categorical(training_label)\n",
    "testing_label = to_categorical(testing_label)\n",
    "validating_label = to_categorical(validating_label)\n"
   ]
  },
  {
   "cell_type": "code",
   "execution_count": 19,
   "metadata": {},
   "outputs": [
    {
     "name": "stdout",
     "output_type": "stream",
     "text": [
      "Model: \"sequential\"\n",
      "_________________________________________________________________\n",
      " Layer (type)                Output Shape              Param #   \n",
      "=================================================================\n",
      " embedding (Embedding)       (None, 20, 100)           12500     \n",
      "                                                                 \n",
      " flatten (Flatten)           (None, 2000)              0         \n",
      "                                                                 \n",
      " dense (Dense)               (None, 1024)              2049024   \n",
      "                                                                 \n",
      " dense_1 (Dense)             (None, 256)               262400    \n",
      "                                                                 \n",
      " dense_2 (Dense)             (None, 3)                 771       \n",
      "                                                                 \n",
      "=================================================================\n",
      "Total params: 2,324,695\n",
      "Trainable params: 2,324,695\n",
      "Non-trainable params: 0\n",
      "_________________________________________________________________\n"
     ]
    }
   ],
   "source": [
    "def DNN_Model():\n",
    "    model = Sequential()\n",
    "    model.add(Embedding(vocab_size, embedding_dim, input_length=max_length))\n",
    "    model.add(Flatten())\n",
    "\n",
    "    # model.add(Dense(4098, activation='relu'))\n",
    "    model.add(Dense(1024, activation='relu'))\n",
    "    # model.add(Dropout(0.2))\n",
    "    model.add(Dense(256, activation='relu'))\n",
    "    # model.add(Dropout(0.2))\n",
    "    model.add(Dense(3, activation='softmax'))\n",
    "    return model\n",
    "\n",
    "\n",
    "def CNN_Model():\n",
    "    model = Sequential()\n",
    "    model.add(Embedding(vocab_size, embedding_dim, input_length=max_length))\n",
    "\n",
    "    model.add(Conv1D(64, 3, kernel_regularizer=keras.regularizers.l2(l=0.001), padding='same'))\n",
    "    model.add(BatchNormalization())\n",
    "    # model.add(LeakyReLU(0.2))\n",
    "    # model.add(Dropout(0.4))\n",
    "    model.add(ReLU())\n",
    "    model.add(MaxPooling1D())\n",
    "\n",
    "    # model.add(Conv1D(512, 3, kernel_regularizer=keras.regularizers.l2(l=0.001), padding='same'))\n",
    "    # # model.add(LeakyReLU(0.2))\n",
    "    # model.add(ReLU())\n",
    "    # model.add(MaxPooling1D())\n",
    "    # model.add(Dropout(0.4))\n",
    "    # model.add(BatchNormalization())\n",
    "\n",
    "    model.add(Conv1D(64, 3, kernel_regularizer=keras.regularizers.l2(l=0.001), padding='same'))\n",
    "    model.add(BatchNormalization())\n",
    "    # model.add(LeakyReLU(0.2))\n",
    "    model.add(ReLU())\n",
    "    model.add(MaxPooling1D())\n",
    "    # model.add(Dropout(0.4))\n",
    "\n",
    "    model.add(Conv1D(32, 3, kernel_regularizer=keras.regularizers.l2(l=0.001), padding='same'))\n",
    "    model.add(BatchNormalization())\n",
    "    # model.add(LeakyReLU(0.2))\n",
    "    model.add(ReLU())\n",
    "    model.add(MaxPooling1D())\n",
    "    # model.add(Dropout(0.4))\n",
    "\n",
    "    # model.add(GlobalMaxPooling1D())\n",
    "    model.add(Flatten())\n",
    "    # model.add(Dense(4098, activation='relu'))\n",
    "    model.add(Dense(1024, activation='relu'))\n",
    "    # model.add(Dropout(0.2))\n",
    "    model.add(Dense(256, activation='relu'))\n",
    "    # model.add(Dropout(0.2))\n",
    "    model.add(Dense(2, activation='softmax'))\n",
    "    return model\n",
    "\n",
    "def LSTM_Model():\n",
    "    model = Sequential()\n",
    "    model.add(Embedding(input_dim=vocab_size, output_dim=embedding_dim, input_length=max_length))\n",
    "    model.add(Bidirectional(LSTM(64, return_sequences=True)))\n",
    "    model.add(Bidirectional(LSTM(64)))\n",
    "    model.add(Dense(32, activation='swish'))\n",
    "    model.add(Dropout(0.2))\n",
    "    # model.add(Dropout(0.5))\n",
    "    # model.add(Dense(16, activation='relu'))\n",
    "    model.add(Dense(2, activation='softmax'))\n",
    "    return model\n",
    "\n",
    "def GRU_Model():\n",
    "    model = Sequential()\n",
    "    model.add(Embedding(vocab_size, embedding_dim, input_length=max_length))\n",
    "    model.add(Bidirectional(GRU(64, activation ='tanh', recurrent_activation ='sigmoid', recurrent_dropout = 0, unroll=False, use_bias=True, reset_after=True, return_sequences=True)))\n",
    "    model.add(Bidirectional(GRU(64, activation ='tanh', recurrent_activation ='sigmoid', recurrent_dropout = 0, unroll=False, use_bias=True, reset_after=True)))\n",
    "    model.add(Dense(32, activation='swish'))\n",
    "    # model.add(Dropout(0.4))\n",
    "    model.add(Dense(3, activation='softmax'))\n",
    "    return model\n",
    "    \n",
    "\n",
    "model = DNN_Model()\n",
    "# model = CNN_Model()\n",
    "# model = LSTM_Model()\n",
    "# model = GRU_Model()\n",
    "\n",
    "\n",
    "\n",
    "model.summary()\n",
    "\n",
    "# opt = RMSprop(learning_rate = 0.001)\n",
    "# opt = SGD(learning_rate = 0.01)\n",
    "opt = Adam(learning_rate = 0.00001)\n",
    "\n",
    "model.compile(loss='categorical_crossentropy', optimizer=opt, metrics=['accuracy'])\n",
    "# model.compile(loss='categorical_crossentropy', optimizer=opt, metrics=[tf.keras.metrics.AUC()])\n",
    "# model.compile(loss='categorical_crossentropy', optimizer='rmsprop', metrics=['accuracy'])\n",
    "# model.compile(loss='categorical_crossentropy', optimizer='nadam', metrics=['accuracy'])"
   ]
  },
  {
   "cell_type": "code",
   "execution_count": 20,
   "metadata": {},
   "outputs": [
    {
     "name": "stdout",
     "output_type": "stream",
     "text": [
      "Epoch 1/10\n",
      "1550/1550 [==============================] - 7s 4ms/step - loss: 0.2690 - accuracy: 0.9574 - val_loss: 0.0570 - val_accuracy: 0.9806\n",
      "Epoch 2/10\n",
      "1550/1550 [==============================] - 6s 4ms/step - loss: 0.0520 - accuracy: 0.9821 - val_loss: 0.0484 - val_accuracy: 0.9814\n",
      "Epoch 3/10\n",
      "1550/1550 [==============================] - 6s 4ms/step - loss: 0.0478 - accuracy: 0.9830 - val_loss: 0.0468 - val_accuracy: 0.9813\n",
      "Epoch 4/10\n",
      "1550/1550 [==============================] - 6s 4ms/step - loss: 0.0460 - accuracy: 0.9836 - val_loss: 0.0459 - val_accuracy: 0.9828\n",
      "Epoch 5/10\n",
      "1550/1550 [==============================] - 6s 4ms/step - loss: 0.0448 - accuracy: 0.9843 - val_loss: 0.0464 - val_accuracy: 0.9816\n",
      "Epoch 6/10\n",
      "1550/1550 [==============================] - 6s 4ms/step - loss: 0.0440 - accuracy: 0.9846 - val_loss: 0.0455 - val_accuracy: 0.9816\n",
      "Epoch 7/10\n",
      "1550/1550 [==============================] - 6s 4ms/step - loss: 0.0434 - accuracy: 0.9847 - val_loss: 0.0458 - val_accuracy: 0.9823\n",
      "Epoch 8/10\n",
      "1550/1550 [==============================] - 6s 4ms/step - loss: 0.0427 - accuracy: 0.9851 - val_loss: 0.0456 - val_accuracy: 0.9823\n",
      "Epoch 9/10\n",
      "1550/1550 [==============================] - 6s 4ms/step - loss: 0.0423 - accuracy: 0.9849 - val_loss: 0.0458 - val_accuracy: 0.9823\n",
      "Epoch 10/10\n",
      "1550/1550 [==============================] - 6s 4ms/step - loss: 0.0420 - accuracy: 0.9850 - val_loss: 0.0459 - val_accuracy: 0.9821\n"
     ]
    }
   ],
   "source": [
    "num_epoch = 10\n",
    "batch_size = 64\n",
    "\n",
    "history = model.fit(training_padded, training_label, \n",
    "                    batch_size = batch_size, epochs = num_epoch, \n",
    "                    validation_data = (validating_padded, validating_label))"
   ]
  },
  {
   "cell_type": "code",
   "execution_count": 21,
   "metadata": {},
   "outputs": [
    {
     "data": {
      "image/png": "[encoded data removed]",
      "text/plain": [
       "<Figure size 2500x400 with 2 Axes>"
      ]
     },
     "metadata": {},
     "output_type": "display_data"
    }
   ],
   "source": [
    "fig, ax = plt.subplots(nrows=1, ncols=2,figsize=(25, 4))\n",
    "ax[0].plot(history.history['accuracy'])\n",
    "ax[0].plot(history.history['val_accuracy'])\n",
    "ax[0].set_title('Accuracy')\n",
    "ax[0].set_xlabel('Accuracy')\n",
    "ax[0].set_ylabel('Epoch')\n",
    "\n",
    "ax[1].plot(history.history['loss'])\n",
    "ax[1].plot(history.history['val_loss'])\n",
    "ax[1].set_title('Loss')\n",
    "ax[1].set_xlabel('Loss')\n",
    "ax[1].set_ylabel('Epoch')\n",
    "\n",
    "plt.legend(['Train', 'Test'])\n",
    "plt.show()"
   ]
  },
  {
   "cell_type": "code",
   "execution_count": 37,
   "metadata": {},
   "outputs": [
    {
     "name": "stdout",
     "output_type": "stream",
     "text": [
      "864/864 [==============================] - 1s 1ms/step\n",
      "   Train Predictions  Actuals  Diff\n",
      "0                  0        0     0\n",
      "1                  0        0     0\n",
      "2                  0        0     0\n",
      "3                  0        0     0\n",
      "4                  0        0     0\n",
      "461 / 27648\n"
     ]
    }
   ],
   "source": [
    "train_predictions = model.predict(testing_padded).argmax(axis=1)\n",
    "\n",
    "train_results = pd.DataFrame(data={'Train Predictions':train_predictions, 'Actuals':testing_label.argmax(axis=1)})\n",
    "train_results['Diff'] = abs(train_results['Actuals'] - train_results['Train Predictions'])\n",
    "print(train_results.head(5))\n",
    "print(train_results['Diff'].sum(), '/', len(train_results['Diff']))"
   ]
  },
  {
   "cell_type": "code",
   "execution_count": 38,
   "metadata": {},
   "outputs": [
    {
     "name": "stdout",
     "output_type": "stream",
     "text": [
      "              precision    recall  f1-score   support\n",
      "\n",
      "           0       1.00      1.00      1.00      9216\n",
      "           1       0.97      0.99      0.98      9216\n",
      "           2       0.99      0.96      0.98      9216\n",
      "\n",
      "   micro avg       0.98      0.98      0.98     27648\n",
      "   macro avg       0.98      0.98      0.98     27648\n",
      "weighted avg       0.98      0.98      0.98     27648\n",
      " samples avg       0.98      0.98      0.98     27648\n",
      "\n"
     ]
    }
   ],
   "source": [
    "y_pred = np.rint(model.predict(testing_padded, verbose=0))\n",
    "\n",
    "print(classification_report(testing_label,y_pred))"
   ]
  },
  {
   "cell_type": "code",
   "execution_count": 39,
   "metadata": {},
   "outputs": [
    {
     "name": "stdout",
     "output_type": "stream",
     "text": [
      "864/864 [==============================] - 1s 1ms/step\n"
     ]
    },
    {
     "data": {
      "image/png": "[encoded data removed]",
      "text/plain": [
       "<Figure size 640x480 with 2 Axes>"
      ]
     },
     "metadata": {},
     "output_type": "display_data"
    }
   ],
   "source": [
    "labels = ['Weak', 'Medium', 'Strong']\n",
    "\n",
    "y_pred = np.rint(model.predict(testing_padded))\n",
    "con_mat = confusion_matrix(testing_label.argmax(axis=1),y_pred.argmax(axis=1))\n",
    "\n",
    "cm_percent = con_mat.astype('float') / con_mat.sum(axis=1)[:, np.newaxis]\n",
    "\n",
    "sns.heatmap(cm_percent, annot=True, fmt='.2%', cmap='Blues', xticklabels=labels, yticklabels=labels)\n",
    "plt.xlabel('Predicted Labels')\n",
    "plt.ylabel('True Labels')\n",
    "plt.title('Confusion Matrix - Fake News Detection')\n",
    "plt.show()"
   ]
  }
 ],
 "metadata": {
  "kernelspec": {
   "display_name": "gan",
   "language": "python",
   "name": "python3"
  },
  "language_info": {
   "codemirror_mode": {
    "name": "ipython",
    "version": 3
   },
   "file_extension": ".py",
   "mimetype": "text/x-python",
   "name": "python",
   "nbconvert_exporter": "python",
   "pygments_lexer": "ipython3",
   "version": "3.9.16"
  },
  "orig_nbformat": 4
 },
 "nbformat": 4,
 "nbformat_minor": 2
}
