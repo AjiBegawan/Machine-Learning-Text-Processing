{
 "cells": [
  {
   "cell_type": "code",
   "execution_count": 1,
   "metadata": {},
   "outputs": [
    {
     "name": "stdout",
     "output_type": "stream",
     "text": [
      "[PhysicalDevice(name='/physical_device:GPU:0', device_type='GPU')]\n"
     ]
    }
   ],
   "source": [
    "import tensorflow as tf\n",
    "gpu = tf.config.experimental.list_physical_devices('GPU')\n",
    "tf.config.experimental.set_memory_growth(gpu[0], True)\n",
    "print(gpu)"
   ]
  },
  {
   "attachments": {},
   "cell_type": "markdown",
   "metadata": {},
   "source": [
    "# 1. Loading Libraries"
   ]
  },
  {
   "cell_type": "code",
   "execution_count": 2,
   "metadata": {},
   "outputs": [
    {
     "name": "stderr",
     "output_type": "stream",
     "text": [
      "[nltk_data] Downloading package punkt to\n",
      "[nltk_data]     C:\\Users\\indiz\\AppData\\Roaming\\nltk_data...\n",
      "[nltk_data]   Package punkt is already up-to-date!\n",
      "[nltk_data] Downloading package stopwords to\n",
      "[nltk_data]     C:\\Users\\indiz\\AppData\\Roaming\\nltk_data...\n",
      "[nltk_data]   Package stopwords is already up-to-date!\n"
     ]
    }
   ],
   "source": [
    "import re\n",
    "import numpy as np\n",
    "import pandas as pd\n",
    "import seaborn as sns\n",
    "import tensorflow as tf\n",
    "import matplotlib.pyplot as plt\n",
    "\n",
    "from itertools import cycle                   \n",
    "from bs4 import BeautifulSoup\n",
    "from tqdm.notebook import tqdm\n",
    "tqdm.pandas()\n",
    "\n",
    "from tensorflow import keras\n",
    "from keras.utils import to_categorical\n",
    "from tensorflow.keras.models import Sequential\n",
    "from tensorflow.keras.optimizers import SGD, Adam,  RMSprop, Nadam\n",
    "from tensorflow.keras.preprocessing.text import Tokenizer\n",
    "from tensorflow.python.keras import models, layers, optimizers\n",
    "from tensorflow.keras.preprocessing.sequence import pad_sequences\n",
    "from tensorflow.keras.layers import Dense, Flatten, Conv1D, MaxPooling1D, LSTM, GRU, Embedding,\\\n",
    "    BatchNormalization, LeakyReLU, Dropout, ReLU, Bidirectional \n",
    "\n",
    "from sklearn.model_selection import train_test_split\n",
    "from sklearn.feature_extraction.text import TfidfVectorizer\n",
    "from sklearn.linear_model import PassiveAggressiveClassifier\n",
    "from sklearn.metrics import accuracy_score, confusion_matrix, roc_auc_score, RocCurveDisplay\n",
    "\n",
    "import nltk\n",
    "nltk.download('punkt')\n",
    "nltk.download('stopwords')\n",
    "from nltk.corpus import stopwords\n",
    "from nltk.stem.wordnet import WordNetLemmatizer\n",
    "\n"
   ]
  },
  {
   "attachments": {},
   "cell_type": "markdown",
   "metadata": {},
   "source": [
    "# 2. Load Data"
   ]
  },
  {
   "cell_type": "code",
   "execution_count": 3,
   "metadata": {},
   "outputs": [
    {
     "data": {
      "text/html": [
       "<div>\n",
       "<style scoped>\n",
       "    .dataframe tbody tr th:only-of-type {\n",
       "        vertical-align: middle;\n",
       "    }\n",
       "\n",
       "    .dataframe tbody tr th {\n",
       "        vertical-align: top;\n",
       "    }\n",
       "\n",
       "    .dataframe thead th {\n",
       "        text-align: right;\n",
       "    }\n",
       "</style>\n",
       "<table border=\"1\" class=\"dataframe\">\n",
       "  <thead>\n",
       "    <tr style=\"text-align: right;\">\n",
       "      <th></th>\n",
       "      <th>Title</th>\n",
       "      <th>Body</th>\n",
       "      <th>Tags</th>\n",
       "      <th>Y</th>\n",
       "    </tr>\n",
       "  </thead>\n",
       "  <tbody>\n",
       "    <tr>\n",
       "      <th>0</th>\n",
       "      <td>Java: Repeat Task Every Random Seconds</td>\n",
       "      <td>&lt;p&gt;I'm already familiar with repeating tasks e...</td>\n",
       "      <td>&lt;java&gt;&lt;repeat&gt;</td>\n",
       "      <td>LQ_CLOSE</td>\n",
       "    </tr>\n",
       "    <tr>\n",
       "      <th>1</th>\n",
       "      <td>Why are Java Optionals immutable?</td>\n",
       "      <td>&lt;p&gt;I'd like to understand why Java 8 Optionals...</td>\n",
       "      <td>&lt;java&gt;&lt;optional&gt;</td>\n",
       "      <td>HQ</td>\n",
       "    </tr>\n",
       "    <tr>\n",
       "      <th>2</th>\n",
       "      <td>Text Overlay Image with Darkened Opacity React...</td>\n",
       "      <td>&lt;p&gt;I am attempting to overlay a title over an ...</td>\n",
       "      <td>&lt;javascript&gt;&lt;image&gt;&lt;overlay&gt;&lt;react-native&gt;&lt;opa...</td>\n",
       "      <td>HQ</td>\n",
       "    </tr>\n",
       "    <tr>\n",
       "      <th>3</th>\n",
       "      <td>Why ternary operator in swift is so picky?</td>\n",
       "      <td>&lt;p&gt;The question is very simple, but I just cou...</td>\n",
       "      <td>&lt;swift&gt;&lt;operators&gt;&lt;whitespace&gt;&lt;ternary-operato...</td>\n",
       "      <td>HQ</td>\n",
       "    </tr>\n",
       "    <tr>\n",
       "      <th>4</th>\n",
       "      <td>hide/show fab with scale animation</td>\n",
       "      <td>&lt;p&gt;I'm using custom floatingactionmenu. I need...</td>\n",
       "      <td>&lt;android&gt;&lt;material-design&gt;&lt;floating-action-but...</td>\n",
       "      <td>HQ</td>\n",
       "    </tr>\n",
       "  </tbody>\n",
       "</table>\n",
       "</div>"
      ],
      "text/plain": [
       "                                               Title  \\\n",
       "0             Java: Repeat Task Every Random Seconds   \n",
       "1                  Why are Java Optionals immutable?   \n",
       "2  Text Overlay Image with Darkened Opacity React...   \n",
       "3         Why ternary operator in swift is so picky?   \n",
       "4                 hide/show fab with scale animation   \n",
       "\n",
       "                                                Body  \\\n",
       "0  <p>I'm already familiar with repeating tasks e...   \n",
       "1  <p>I'd like to understand why Java 8 Optionals...   \n",
       "2  <p>I am attempting to overlay a title over an ...   \n",
       "3  <p>The question is very simple, but I just cou...   \n",
       "4  <p>I'm using custom floatingactionmenu. I need...   \n",
       "\n",
       "                                                Tags         Y  \n",
       "0                                     <java><repeat>  LQ_CLOSE  \n",
       "1                                   <java><optional>        HQ  \n",
       "2  <javascript><image><overlay><react-native><opa...        HQ  \n",
       "3  <swift><operators><whitespace><ternary-operato...        HQ  \n",
       "4  <android><material-design><floating-action-but...        HQ  "
      ]
     },
     "execution_count": 3,
     "metadata": {},
     "output_type": "execute_result"
    }
   ],
   "source": [
    "train_data = pd.read_csv('../Dataset/train.csv', engine='python', encoding='utf-8')\n",
    "valid_data = pd.read_csv('../Dataset/valid.csv', engine='python', encoding='utf-8')\n",
    "\n",
    "data = pd.concat([train_data, valid_data])\n",
    "data = data.drop(columns = ['Id', 'CreationDate'])\n",
    "data.head()"
   ]
  },
  {
   "attachments": {},
   "cell_type": "markdown",
   "metadata": {},
   "source": [
    "# 3. Initial Analysis"
   ]
  },
  {
   "cell_type": "code",
   "execution_count": 4,
   "metadata": {},
   "outputs": [
    {
     "name": "stdout",
     "output_type": "stream",
     "text": [
      "<class 'pandas.core.frame.DataFrame'>\n",
      "Int64Index: 60000 entries, 0 to 14999\n",
      "Data columns (total 4 columns):\n",
      " #   Column  Non-Null Count  Dtype \n",
      "---  ------  --------------  ----- \n",
      " 0   Title   60000 non-null  object\n",
      " 1   Body    60000 non-null  object\n",
      " 2   Tags    60000 non-null  object\n",
      " 3   Y       60000 non-null  object\n",
      "dtypes: object(4)\n",
      "memory usage: 2.3+ MB\n"
     ]
    }
   ],
   "source": [
    "data.info()"
   ]
  },
  {
   "cell_type": "code",
   "execution_count": 5,
   "metadata": {},
   "outputs": [
    {
     "data": {
      "text/plain": [
       "[Text(0, 0, '20000'), Text(0, 0, '20000'), Text(0, 0, '20000')]"
      ]
     },
     "execution_count": 5,
     "metadata": {},
     "output_type": "execute_result"
    },
    {
     "data": {
      "image/png": "[encoded data removed]",
      "text/plain": [
       "<Figure size 600x400 with 1 Axes>"
      ]
     },
     "metadata": {},
     "output_type": "display_data"
    }
   ],
   "source": [
    "plt.subplots(figsize = (6,4))\n",
    "ax = sns.countplot(data = data, x = 'Y')\n",
    "ax.bar_label(ax.containers[0])"
   ]
  },
  {
   "attachments": {},
   "cell_type": "markdown",
   "metadata": {},
   "source": [
    "# 4. Preprocessing Text"
   ]
  },
  {
   "attachments": {},
   "cell_type": "markdown",
   "metadata": {},
   "source": [
    "### 4.1. Labeling "
   ]
  },
  {
   "cell_type": "code",
   "execution_count": 6,
   "metadata": {},
   "outputs": [
    {
     "data": {
      "text/html": [
       "<div>\n",
       "<style scoped>\n",
       "    .dataframe tbody tr th:only-of-type {\n",
       "        vertical-align: middle;\n",
       "    }\n",
       "\n",
       "    .dataframe tbody tr th {\n",
       "        vertical-align: top;\n",
       "    }\n",
       "\n",
       "    .dataframe thead th {\n",
       "        text-align: right;\n",
       "    }\n",
       "</style>\n",
       "<table border=\"1\" class=\"dataframe\">\n",
       "  <thead>\n",
       "    <tr style=\"text-align: right;\">\n",
       "      <th></th>\n",
       "      <th>Title</th>\n",
       "      <th>Body</th>\n",
       "      <th>Tags</th>\n",
       "      <th>Y</th>\n",
       "      <th>label</th>\n",
       "    </tr>\n",
       "  </thead>\n",
       "  <tbody>\n",
       "    <tr>\n",
       "      <th>0</th>\n",
       "      <td>Java: Repeat Task Every Random Seconds</td>\n",
       "      <td>&lt;p&gt;I'm already familiar with repeating tasks e...</td>\n",
       "      <td>&lt;java&gt;&lt;repeat&gt;</td>\n",
       "      <td>LQ_CLOSE</td>\n",
       "      <td>2</td>\n",
       "    </tr>\n",
       "    <tr>\n",
       "      <th>1</th>\n",
       "      <td>Why are Java Optionals immutable?</td>\n",
       "      <td>&lt;p&gt;I'd like to understand why Java 8 Optionals...</td>\n",
       "      <td>&lt;java&gt;&lt;optional&gt;</td>\n",
       "      <td>HQ</td>\n",
       "      <td>0</td>\n",
       "    </tr>\n",
       "    <tr>\n",
       "      <th>2</th>\n",
       "      <td>Text Overlay Image with Darkened Opacity React...</td>\n",
       "      <td>&lt;p&gt;I am attempting to overlay a title over an ...</td>\n",
       "      <td>&lt;javascript&gt;&lt;image&gt;&lt;overlay&gt;&lt;react-native&gt;&lt;opa...</td>\n",
       "      <td>HQ</td>\n",
       "      <td>0</td>\n",
       "    </tr>\n",
       "    <tr>\n",
       "      <th>3</th>\n",
       "      <td>Why ternary operator in swift is so picky?</td>\n",
       "      <td>&lt;p&gt;The question is very simple, but I just cou...</td>\n",
       "      <td>&lt;swift&gt;&lt;operators&gt;&lt;whitespace&gt;&lt;ternary-operato...</td>\n",
       "      <td>HQ</td>\n",
       "      <td>0</td>\n",
       "    </tr>\n",
       "    <tr>\n",
       "      <th>4</th>\n",
       "      <td>hide/show fab with scale animation</td>\n",
       "      <td>&lt;p&gt;I'm using custom floatingactionmenu. I need...</td>\n",
       "      <td>&lt;android&gt;&lt;material-design&gt;&lt;floating-action-but...</td>\n",
       "      <td>HQ</td>\n",
       "      <td>0</td>\n",
       "    </tr>\n",
       "  </tbody>\n",
       "</table>\n",
       "</div>"
      ],
      "text/plain": [
       "                                               Title  \\\n",
       "0             Java: Repeat Task Every Random Seconds   \n",
       "1                  Why are Java Optionals immutable?   \n",
       "2  Text Overlay Image with Darkened Opacity React...   \n",
       "3         Why ternary operator in swift is so picky?   \n",
       "4                 hide/show fab with scale animation   \n",
       "\n",
       "                                                Body  \\\n",
       "0  <p>I'm already familiar with repeating tasks e...   \n",
       "1  <p>I'd like to understand why Java 8 Optionals...   \n",
       "2  <p>I am attempting to overlay a title over an ...   \n",
       "3  <p>The question is very simple, but I just cou...   \n",
       "4  <p>I'm using custom floatingactionmenu. I need...   \n",
       "\n",
       "                                                Tags         Y  label  \n",
       "0                                     <java><repeat>  LQ_CLOSE      2  \n",
       "1                                   <java><optional>        HQ      0  \n",
       "2  <javascript><image><overlay><react-native><opa...        HQ      0  \n",
       "3  <swift><operators><whitespace><ternary-operato...        HQ      0  \n",
       "4  <android><material-design><floating-action-but...        HQ      0  "
      ]
     },
     "execution_count": 6,
     "metadata": {},
     "output_type": "execute_result"
    }
   ],
   "source": [
    "data['label'] = data['Y'].map({'HQ' : 0, 'LQ_EDIT' : 1, 'LQ_CLOSE' : 2})\n",
    "data.head()"
   ]
  },
  {
   "attachments": {},
   "cell_type": "markdown",
   "metadata": {},
   "source": [
    "### 4.2. Cleaning Tags Column"
   ]
  },
  {
   "cell_type": "code",
   "execution_count": 7,
   "metadata": {},
   "outputs": [
    {
     "data": {
      "application/vnd.jupyter.widget-view+json": {
       "model_id": "016552507e5d4aa9870907efac9902cd",
       "version_major": 2,
       "version_minor": 0
      },
      "text/plain": [
       "  0%|          | 0/60000 [00:00<?, ?it/s]"
      ]
     },
     "metadata": {},
     "output_type": "display_data"
    },
    {
     "data": {
      "text/html": [
       "<div>\n",
       "<style scoped>\n",
       "    .dataframe tbody tr th:only-of-type {\n",
       "        vertical-align: middle;\n",
       "    }\n",
       "\n",
       "    .dataframe tbody tr th {\n",
       "        vertical-align: top;\n",
       "    }\n",
       "\n",
       "    .dataframe thead th {\n",
       "        text-align: right;\n",
       "    }\n",
       "</style>\n",
       "<table border=\"1\" class=\"dataframe\">\n",
       "  <thead>\n",
       "    <tr style=\"text-align: right;\">\n",
       "      <th></th>\n",
       "      <th>Title</th>\n",
       "      <th>Body</th>\n",
       "      <th>Tags</th>\n",
       "      <th>Y</th>\n",
       "      <th>label</th>\n",
       "    </tr>\n",
       "  </thead>\n",
       "  <tbody>\n",
       "    <tr>\n",
       "      <th>0</th>\n",
       "      <td>Java: Repeat Task Every Random Seconds</td>\n",
       "      <td>&lt;p&gt;I'm already familiar with repeating tasks e...</td>\n",
       "      <td>java  repeat</td>\n",
       "      <td>LQ_CLOSE</td>\n",
       "      <td>2</td>\n",
       "    </tr>\n",
       "    <tr>\n",
       "      <th>1</th>\n",
       "      <td>Why are Java Optionals immutable?</td>\n",
       "      <td>&lt;p&gt;I'd like to understand why Java 8 Optionals...</td>\n",
       "      <td>java  optional</td>\n",
       "      <td>HQ</td>\n",
       "      <td>0</td>\n",
       "    </tr>\n",
       "    <tr>\n",
       "      <th>2</th>\n",
       "      <td>Text Overlay Image with Darkened Opacity React...</td>\n",
       "      <td>&lt;p&gt;I am attempting to overlay a title over an ...</td>\n",
       "      <td>javascript  image  overlay  react-native  opa...</td>\n",
       "      <td>HQ</td>\n",
       "      <td>0</td>\n",
       "    </tr>\n",
       "    <tr>\n",
       "      <th>3</th>\n",
       "      <td>Why ternary operator in swift is so picky?</td>\n",
       "      <td>&lt;p&gt;The question is very simple, but I just cou...</td>\n",
       "      <td>swift  operators  whitespace  ternary-operato...</td>\n",
       "      <td>HQ</td>\n",
       "      <td>0</td>\n",
       "    </tr>\n",
       "    <tr>\n",
       "      <th>4</th>\n",
       "      <td>hide/show fab with scale animation</td>\n",
       "      <td>&lt;p&gt;I'm using custom floatingactionmenu. I need...</td>\n",
       "      <td>android  material-design  floating-action-but...</td>\n",
       "      <td>HQ</td>\n",
       "      <td>0</td>\n",
       "    </tr>\n",
       "  </tbody>\n",
       "</table>\n",
       "</div>"
      ],
      "text/plain": [
       "                                               Title  \\\n",
       "0             Java: Repeat Task Every Random Seconds   \n",
       "1                  Why are Java Optionals immutable?   \n",
       "2  Text Overlay Image with Darkened Opacity React...   \n",
       "3         Why ternary operator in swift is so picky?   \n",
       "4                 hide/show fab with scale animation   \n",
       "\n",
       "                                                Body  \\\n",
       "0  <p>I'm already familiar with repeating tasks e...   \n",
       "1  <p>I'd like to understand why Java 8 Optionals...   \n",
       "2  <p>I am attempting to overlay a title over an ...   \n",
       "3  <p>The question is very simple, but I just cou...   \n",
       "4  <p>I'm using custom floatingactionmenu. I need...   \n",
       "\n",
       "                                                Tags         Y  label  \n",
       "0                                      java  repeat   LQ_CLOSE      2  \n",
       "1                                    java  optional         HQ      0  \n",
       "2   javascript  image  overlay  react-native  opa...        HQ      0  \n",
       "3   swift  operators  whitespace  ternary-operato...        HQ      0  \n",
       "4   android  material-design  floating-action-but...        HQ      0  "
      ]
     },
     "execution_count": 7,
     "metadata": {},
     "output_type": "execute_result"
    }
   ],
   "source": [
    "def clean_text_tags(text):\n",
    "    text = re.sub(\"<|>\", \" \", text)\n",
    "    return text\n",
    "\n",
    "data['Tags'] = data['Tags'].progress_apply(clean_text_tags)\n",
    "data.head()"
   ]
  },
  {
   "attachments": {},
   "cell_type": "markdown",
   "metadata": {},
   "source": [
    "### 4.3. Merging Columns"
   ]
  },
  {
   "cell_type": "code",
   "execution_count": 8,
   "metadata": {},
   "outputs": [
    {
     "data": {
      "text/html": [
       "<div>\n",
       "<style scoped>\n",
       "    .dataframe tbody tr th:only-of-type {\n",
       "        vertical-align: middle;\n",
       "    }\n",
       "\n",
       "    .dataframe tbody tr th {\n",
       "        vertical-align: top;\n",
       "    }\n",
       "\n",
       "    .dataframe thead th {\n",
       "        text-align: right;\n",
       "    }\n",
       "</style>\n",
       "<table border=\"1\" class=\"dataframe\">\n",
       "  <thead>\n",
       "    <tr style=\"text-align: right;\">\n",
       "      <th></th>\n",
       "      <th>Title</th>\n",
       "      <th>Body</th>\n",
       "      <th>Tags</th>\n",
       "      <th>Y</th>\n",
       "      <th>label</th>\n",
       "      <th>combined_text</th>\n",
       "    </tr>\n",
       "  </thead>\n",
       "  <tbody>\n",
       "    <tr>\n",
       "      <th>0</th>\n",
       "      <td>Java: Repeat Task Every Random Seconds</td>\n",
       "      <td>&lt;p&gt;I'm already familiar with repeating tasks e...</td>\n",
       "      <td>java  repeat</td>\n",
       "      <td>LQ_CLOSE</td>\n",
       "      <td>2</td>\n",
       "      <td>&lt;p&gt;I'm already familiar with repeating tasks e...</td>\n",
       "    </tr>\n",
       "    <tr>\n",
       "      <th>1</th>\n",
       "      <td>Why are Java Optionals immutable?</td>\n",
       "      <td>&lt;p&gt;I'd like to understand why Java 8 Optionals...</td>\n",
       "      <td>java  optional</td>\n",
       "      <td>HQ</td>\n",
       "      <td>0</td>\n",
       "      <td>&lt;p&gt;I'd like to understand why Java 8 Optionals...</td>\n",
       "    </tr>\n",
       "    <tr>\n",
       "      <th>2</th>\n",
       "      <td>Text Overlay Image with Darkened Opacity React...</td>\n",
       "      <td>&lt;p&gt;I am attempting to overlay a title over an ...</td>\n",
       "      <td>javascript  image  overlay  react-native  opa...</td>\n",
       "      <td>HQ</td>\n",
       "      <td>0</td>\n",
       "      <td>&lt;p&gt;I am attempting to overlay a title over an ...</td>\n",
       "    </tr>\n",
       "    <tr>\n",
       "      <th>3</th>\n",
       "      <td>Why ternary operator in swift is so picky?</td>\n",
       "      <td>&lt;p&gt;The question is very simple, but I just cou...</td>\n",
       "      <td>swift  operators  whitespace  ternary-operato...</td>\n",
       "      <td>HQ</td>\n",
       "      <td>0</td>\n",
       "      <td>&lt;p&gt;The question is very simple, but I just cou...</td>\n",
       "    </tr>\n",
       "    <tr>\n",
       "      <th>4</th>\n",
       "      <td>hide/show fab with scale animation</td>\n",
       "      <td>&lt;p&gt;I'm using custom floatingactionmenu. I need...</td>\n",
       "      <td>android  material-design  floating-action-but...</td>\n",
       "      <td>HQ</td>\n",
       "      <td>0</td>\n",
       "      <td>&lt;p&gt;I'm using custom floatingactionmenu. I need...</td>\n",
       "    </tr>\n",
       "  </tbody>\n",
       "</table>\n",
       "</div>"
      ],
      "text/plain": [
       "                                               Title  \\\n",
       "0             Java: Repeat Task Every Random Seconds   \n",
       "1                  Why are Java Optionals immutable?   \n",
       "2  Text Overlay Image with Darkened Opacity React...   \n",
       "3         Why ternary operator in swift is so picky?   \n",
       "4                 hide/show fab with scale animation   \n",
       "\n",
       "                                                Body  \\\n",
       "0  <p>I'm already familiar with repeating tasks e...   \n",
       "1  <p>I'd like to understand why Java 8 Optionals...   \n",
       "2  <p>I am attempting to overlay a title over an ...   \n",
       "3  <p>The question is very simple, but I just cou...   \n",
       "4  <p>I'm using custom floatingactionmenu. I need...   \n",
       "\n",
       "                                                Tags         Y  label  \\\n",
       "0                                      java  repeat   LQ_CLOSE      2   \n",
       "1                                    java  optional         HQ      0   \n",
       "2   javascript  image  overlay  react-native  opa...        HQ      0   \n",
       "3   swift  operators  whitespace  ternary-operato...        HQ      0   \n",
       "4   android  material-design  floating-action-but...        HQ      0   \n",
       "\n",
       "                                       combined_text  \n",
       "0  <p>I'm already familiar with repeating tasks e...  \n",
       "1  <p>I'd like to understand why Java 8 Optionals...  \n",
       "2  <p>I am attempting to overlay a title over an ...  \n",
       "3  <p>The question is very simple, but I just cou...  \n",
       "4  <p>I'm using custom floatingactionmenu. I need...  "
      ]
     },
     "execution_count": 8,
     "metadata": {},
     "output_type": "execute_result"
    }
   ],
   "source": [
    "# data['combined_text'] = data['Title'] + ' ' + data['Body'] + ' ' + data['Tags']\n",
    "# data['combined_text'] = data['Title'] + ' ' + data['Body']\n",
    "data['combined_text'] = data['Body']\n",
    "data.head()"
   ]
  },
  {
   "attachments": {},
   "cell_type": "markdown",
   "metadata": {},
   "source": [
    "### 4.4. Cleaning combined_text Column"
   ]
  },
  {
   "cell_type": "code",
   "execution_count": 10,
   "metadata": {},
   "outputs": [],
   "source": [
    "CLEANR = re.compile('<.*?>|&([a-z0-9]+|#[0-9]{1,6}|#x[0-9a-f]{1,6});')\n",
    "\n",
    "def lower_text(text):\n",
    "    return text.lower()\n",
    "\n",
    "def clean_text(text):\n",
    "    text = re.sub(CLEANR, ' ', text)\n",
    "    text = re.sub(r'http\\S+', ' ', text)\n",
    "    text = re.sub(r'www\\S+', ' ', text)\n",
    "    # text = re.sub(\"#+\",\" \", text)\n",
    "    # text = re.sub(\"@[\\w]*\",\" \", text)\n",
    "    text = re.sub(\"[^a-z0-9\\s]\",\" \", text)\n",
    "    # text = re.sub(\"@[A-Za-z0-9_]+\",\" \", text)\n",
    "    text = re.sub(r'\\n', '', text)\n",
    "    text = re.sub(r'\\b', '', text)\n",
    "    text = re.sub(r'\\r', '', text)\n",
    "    text = re.sub('\\s+', ' ', text)\n",
    "    # text = re.sub(r'\\\\[a-zA-Z0-9]{1}', '', text)\n",
    "    return text\n",
    "\n",
    "def remove_duplicate_words(text):\n",
    "    return re.sub(r'\\b(\\w+)(\\s+\\1)+\\b', r'\\1', text)\n",
    "\n",
    "def lemmatizer(text):\n",
    "    sentence = []\n",
    "    for word in text:\n",
    "        lemmatizer = WordNetLemmatizer()\n",
    "        sentence.append(lemmatizer.lemmatize(word, 'v'))\n",
    "    return ''.join(sentence)\n",
    "\n",
    "stopword_en = pd.read_csv('../../en_stopword_1555.txt', header=None).drop_duplicates()\n",
    "en_stopword = stopword_en[0].values.tolist()\n",
    "en_stopword = [word.strip() for word in en_stopword]\n",
    "\n",
    "nltk_stopword = stopwords.words('english')\n",
    "\n",
    "combined_stopwords = pd.DataFrame(en_stopword + nltk_stopword).drop_duplicates()\n",
    "stopword_list = combined_stopwords[0].values.tolist()"
   ]
  },
  {
   "cell_type": "code",
   "execution_count": 11,
   "metadata": {},
   "outputs": [
    {
     "data": {
      "application/vnd.jupyter.widget-view+json": {
       "model_id": "090e330d415d4fb8a10f41d75cefa3bd",
       "version_major": 2,
       "version_minor": 0
      },
      "text/plain": [
       "  0%|          | 0/60000 [00:00<?, ?it/s]"
      ]
     },
     "metadata": {},
     "output_type": "display_data"
    },
    {
     "data": {
      "application/vnd.jupyter.widget-view+json": {
       "model_id": "8e4476e611bc460ca38447b7e5db77f8",
       "version_major": 2,
       "version_minor": 0
      },
      "text/plain": [
       "  0%|          | 0/60000 [00:00<?, ?it/s]"
      ]
     },
     "metadata": {},
     "output_type": "display_data"
    },
    {
     "name": "stderr",
     "output_type": "stream",
     "text": [
      "C:\\Users\\indiz\\AppData\\Local\\Temp\\ipykernel_13308\\2707696130.py:3: MarkupResemblesLocatorWarning: The input looks more like a filename than markup. You may want to open this file and pass the filehandle into Beautiful Soup.\n",
      "  .progress_apply(lambda x: BeautifulSoup(x, 'html.parser', ).text)\n",
      "c:\\Users\\indiz\\miniconda3\\envs\\gan\\lib\\site-packages\\bs4\\builder\\__init__.py:545: XMLParsedAsHTMLWarning: It looks like you're parsing an XML document using an HTML parser. If this really is an HTML document (maybe it's XHTML?), you can ignore or filter this warning. If it's XML, you should know that using an XML parser will be more reliable. To parse this document as XML, make sure you have the lxml package installed, and pass the keyword argument `features=\"xml\"` into the BeautifulSoup constructor.\n",
      "  warnings.warn(\n"
     ]
    },
    {
     "data": {
      "text/html": [
       "<div>\n",
       "<style scoped>\n",
       "    .dataframe tbody tr th:only-of-type {\n",
       "        vertical-align: middle;\n",
       "    }\n",
       "\n",
       "    .dataframe tbody tr th {\n",
       "        vertical-align: top;\n",
       "    }\n",
       "\n",
       "    .dataframe thead th {\n",
       "        text-align: right;\n",
       "    }\n",
       "</style>\n",
       "<table border=\"1\" class=\"dataframe\">\n",
       "  <thead>\n",
       "    <tr style=\"text-align: right;\">\n",
       "      <th></th>\n",
       "      <th>Title</th>\n",
       "      <th>Body</th>\n",
       "      <th>Tags</th>\n",
       "      <th>Y</th>\n",
       "      <th>label</th>\n",
       "      <th>combined_text</th>\n",
       "      <th>clean_text</th>\n",
       "    </tr>\n",
       "  </thead>\n",
       "  <tbody>\n",
       "    <tr>\n",
       "      <th>0</th>\n",
       "      <td>Java: Repeat Task Every Random Seconds</td>\n",
       "      <td>&lt;p&gt;I'm already familiar with repeating tasks e...</td>\n",
       "      <td>java  repeat</td>\n",
       "      <td>LQ_CLOSE</td>\n",
       "      <td>2</td>\n",
       "      <td>&lt;p&gt;I'm already familiar with repeating tasks e...</td>\n",
       "      <td>i'm already familiar with repeating tasks ever...</td>\n",
       "    </tr>\n",
       "    <tr>\n",
       "      <th>1</th>\n",
       "      <td>Why are Java Optionals immutable?</td>\n",
       "      <td>&lt;p&gt;I'd like to understand why Java 8 Optionals...</td>\n",
       "      <td>java  optional</td>\n",
       "      <td>HQ</td>\n",
       "      <td>0</td>\n",
       "      <td>&lt;p&gt;I'd like to understand why Java 8 Optionals...</td>\n",
       "      <td>i'd like to understand why java 8 optionals we...</td>\n",
       "    </tr>\n",
       "    <tr>\n",
       "      <th>2</th>\n",
       "      <td>Text Overlay Image with Darkened Opacity React...</td>\n",
       "      <td>&lt;p&gt;I am attempting to overlay a title over an ...</td>\n",
       "      <td>javascript  image  overlay  react-native  opa...</td>\n",
       "      <td>HQ</td>\n",
       "      <td>0</td>\n",
       "      <td>&lt;p&gt;I am attempting to overlay a title over an ...</td>\n",
       "      <td>i am attempting to overlay a title over an ima...</td>\n",
       "    </tr>\n",
       "    <tr>\n",
       "      <th>3</th>\n",
       "      <td>Why ternary operator in swift is so picky?</td>\n",
       "      <td>&lt;p&gt;The question is very simple, but I just cou...</td>\n",
       "      <td>swift  operators  whitespace  ternary-operato...</td>\n",
       "      <td>HQ</td>\n",
       "      <td>0</td>\n",
       "      <td>&lt;p&gt;The question is very simple, but I just cou...</td>\n",
       "      <td>the question is very simple, but i just could ...</td>\n",
       "    </tr>\n",
       "    <tr>\n",
       "      <th>4</th>\n",
       "      <td>hide/show fab with scale animation</td>\n",
       "      <td>&lt;p&gt;I'm using custom floatingactionmenu. I need...</td>\n",
       "      <td>android  material-design  floating-action-but...</td>\n",
       "      <td>HQ</td>\n",
       "      <td>0</td>\n",
       "      <td>&lt;p&gt;I'm using custom floatingactionmenu. I need...</td>\n",
       "      <td>i'm using custom floatingactionmenu. i need to...</td>\n",
       "    </tr>\n",
       "    <tr>\n",
       "      <th>...</th>\n",
       "      <td>...</td>\n",
       "      <td>...</td>\n",
       "      <td>...</td>\n",
       "      <td>...</td>\n",
       "      <td>...</td>\n",
       "      <td>...</td>\n",
       "      <td>...</td>\n",
       "    </tr>\n",
       "    <tr>\n",
       "      <th>14995</th>\n",
       "      <td>How can I align two flex boxes to follow each ...</td>\n",
       "      <td>&lt;p&gt;I have a menu, and I'd like the div.right-c...</td>\n",
       "      <td>html  css  flexbox</td>\n",
       "      <td>LQ_CLOSE</td>\n",
       "      <td>2</td>\n",
       "      <td>&lt;p&gt;I have a menu, and I'd like the div.right-c...</td>\n",
       "      <td>i have a menu, and i'd like the div.right-cont...</td>\n",
       "    </tr>\n",
       "    <tr>\n",
       "      <th>14996</th>\n",
       "      <td>C++ The correct way to multiply an integer and...</td>\n",
       "      <td>&lt;p&gt;I try to multiply an integer by a double bu...</td>\n",
       "      <td>c++</td>\n",
       "      <td>LQ_CLOSE</td>\n",
       "      <td>2</td>\n",
       "      <td>&lt;p&gt;I try to multiply an integer by a double bu...</td>\n",
       "      <td>i try to multiply an integer by a double but i...</td>\n",
       "    </tr>\n",
       "    <tr>\n",
       "      <th>14997</th>\n",
       "      <td>WHY DJANGO IS SHOWING ME THIS ERROR WHEN I TRY...</td>\n",
       "      <td>*URLS.PY*\\r\\n    //URLS.PY FILE\\r\\n    fro...</td>\n",
       "      <td>django  django-views  django-templates</td>\n",
       "      <td>LQ_EDIT</td>\n",
       "      <td>1</td>\n",
       "      <td>*URLS.PY*\\r\\n    //URLS.PY FILE\\r\\n    fro...</td>\n",
       "      <td>*urls.py*\\r\\n    //urls.py file\\r\\n    fro...</td>\n",
       "    </tr>\n",
       "    <tr>\n",
       "      <th>14998</th>\n",
       "      <td>PHP - getting the content of php page</td>\n",
       "      <td>&lt;p&gt;I have a controller inside which a server i...</td>\n",
       "      <td>javascript  php  html</td>\n",
       "      <td>LQ_CLOSE</td>\n",
       "      <td>2</td>\n",
       "      <td>&lt;p&gt;I have a controller inside which a server i...</td>\n",
       "      <td>i have a controller inside which a server is c...</td>\n",
       "    </tr>\n",
       "    <tr>\n",
       "      <th>14999</th>\n",
       "      <td>Why can't overloaded functions vary only by re...</td>\n",
       "      <td>&lt;p&gt;So i was recently helping someone out with ...</td>\n",
       "      <td>c++  overloading  return-type</td>\n",
       "      <td>LQ_CLOSE</td>\n",
       "      <td>2</td>\n",
       "      <td>&lt;p&gt;So i was recently helping someone out with ...</td>\n",
       "      <td>so i was recently helping someone out with som...</td>\n",
       "    </tr>\n",
       "  </tbody>\n",
       "</table>\n",
       "<p>60000 rows × 7 columns</p>\n",
       "</div>"
      ],
      "text/plain": [
       "                                                   Title  \\\n",
       "0                 Java: Repeat Task Every Random Seconds   \n",
       "1                      Why are Java Optionals immutable?   \n",
       "2      Text Overlay Image with Darkened Opacity React...   \n",
       "3             Why ternary operator in swift is so picky?   \n",
       "4                     hide/show fab with scale animation   \n",
       "...                                                  ...   \n",
       "14995  How can I align two flex boxes to follow each ...   \n",
       "14996  C++ The correct way to multiply an integer and...   \n",
       "14997  WHY DJANGO IS SHOWING ME THIS ERROR WHEN I TRY...   \n",
       "14998              PHP - getting the content of php page   \n",
       "14999  Why can't overloaded functions vary only by re...   \n",
       "\n",
       "                                                    Body  \\\n",
       "0      <p>I'm already familiar with repeating tasks e...   \n",
       "1      <p>I'd like to understand why Java 8 Optionals...   \n",
       "2      <p>I am attempting to overlay a title over an ...   \n",
       "3      <p>The question is very simple, but I just cou...   \n",
       "4      <p>I'm using custom floatingactionmenu. I need...   \n",
       "...                                                  ...   \n",
       "14995  <p>I have a menu, and I'd like the div.right-c...   \n",
       "14996  <p>I try to multiply an integer by a double bu...   \n",
       "14997      *URLS.PY*\\r\\n    //URLS.PY FILE\\r\\n    fro...   \n",
       "14998  <p>I have a controller inside which a server i...   \n",
       "14999  <p>So i was recently helping someone out with ...   \n",
       "\n",
       "                                                    Tags         Y  label  \\\n",
       "0                                          java  repeat   LQ_CLOSE      2   \n",
       "1                                        java  optional         HQ      0   \n",
       "2       javascript  image  overlay  react-native  opa...        HQ      0   \n",
       "3       swift  operators  whitespace  ternary-operato...        HQ      0   \n",
       "4       android  material-design  floating-action-but...        HQ      0   \n",
       "...                                                  ...       ...    ...   \n",
       "14995                                html  css  flexbox   LQ_CLOSE      2   \n",
       "14996                                               c++   LQ_CLOSE      2   \n",
       "14997            django  django-views  django-templates    LQ_EDIT      1   \n",
       "14998                             javascript  php  html   LQ_CLOSE      2   \n",
       "14999                     c++  overloading  return-type   LQ_CLOSE      2   \n",
       "\n",
       "                                           combined_text  \\\n",
       "0      <p>I'm already familiar with repeating tasks e...   \n",
       "1      <p>I'd like to understand why Java 8 Optionals...   \n",
       "2      <p>I am attempting to overlay a title over an ...   \n",
       "3      <p>The question is very simple, but I just cou...   \n",
       "4      <p>I'm using custom floatingactionmenu. I need...   \n",
       "...                                                  ...   \n",
       "14995  <p>I have a menu, and I'd like the div.right-c...   \n",
       "14996  <p>I try to multiply an integer by a double bu...   \n",
       "14997      *URLS.PY*\\r\\n    //URLS.PY FILE\\r\\n    fro...   \n",
       "14998  <p>I have a controller inside which a server i...   \n",
       "14999  <p>So i was recently helping someone out with ...   \n",
       "\n",
       "                                              clean_text  \n",
       "0      i'm already familiar with repeating tasks ever...  \n",
       "1      i'd like to understand why java 8 optionals we...  \n",
       "2      i am attempting to overlay a title over an ima...  \n",
       "3      the question is very simple, but i just could ...  \n",
       "4      i'm using custom floatingactionmenu. i need to...  \n",
       "...                                                  ...  \n",
       "14995  i have a menu, and i'd like the div.right-cont...  \n",
       "14996  i try to multiply an integer by a double but i...  \n",
       "14997      *urls.py*\\r\\n    //urls.py file\\r\\n    fro...  \n",
       "14998  i have a controller inside which a server is c...  \n",
       "14999  so i was recently helping someone out with som...  \n",
       "\n",
       "[60000 rows x 7 columns]"
      ]
     },
     "execution_count": 11,
     "metadata": {},
     "output_type": "execute_result"
    }
   ],
   "source": [
    "data['clean_text'] = data['combined_text'] \\\n",
    "                    .progress_apply(lower_text) \\\n",
    "                    .progress_apply(lambda x: BeautifulSoup(x, 'html.parser', ).text)\n",
    "                    # .progress_apply(lemmatizer) \\\n",
    "                    # .progress_apply(lambda x: ' '.join([word for word in x.split() if word not in (stopword_list)])) \\\n",
    "                    # .progress_apply(clean_text)\n",
    "                    # .progress_apply(lambda x: BeautifulSoup(x, features=\"lxml\" ).text) \\\n",
    "                    # .progress_apply(lambda x: ' '.join([word for word in x.split() if len(word) >= 4]))\n",
    "                    # .progress_apply(remove_duplicate_words) \\\n",
    "\n",
    "data"
   ]
  },
  {
   "cell_type": "code",
   "execution_count": 12,
   "metadata": {},
   "outputs": [
    {
     "data": {
      "text/plain": [
       "array(['i\\'m already familiar with repeating tasks every n seconds by using java.util.timer and java.util.timertask. but lets say i want to print \"hello world\" to the console every random seconds from 1-5. unfortunately i\\'m in a bit of a rush and don\\'t have any code to show so far. any help would be apriciated.  \\n',\n",
       "       \"i'd like to understand why java 8 optionals were designed to be immutable.  is it just for thread-safety?\\n\",\n",
       "       \"i am attempting to overlay a title over an image - with the image darkened with a lower opacity. however, the opacity effect is changing the overlaying text as well - making it dim. any fix to this? here is what is looks like:\\n\\nand here is my code for the custom component (article preview - which the above image is a row of article preview components): \\n//component for article preview touchable image\\n/* will require the following\\n- rss feed and api\\n- user's keyword interests from parse in home.js\\n- parse db needs to be augmented to include what they heart\\n- parse db needs to be augmented to include what they press on (like google news)\\n*/\\nvar react = require('react-native');\\nvar {\\n  view, \\n  stylesheet, \\n  text, \\n  image, \\n  touchablehighlight, \\n} = react;\\n\\n//dimensions\\nvar dimensions = require('dimensions');\\nvar window = dimensions.get('window');\\nvar imagebutton = require('../../common/imagebutton');\\nvar keywordbox = require('../../authentication/onboarding/keyword-box');\\n\\n//additional libraries\\n\\nmodule.exports = react.createclass({\\n  //onpress function that triggers when button pressed\\n  //this.props.text is property that can be dynamically filled within button \\n  /* following props:\\n    - source={this.props.source}\\n    - onpress={this.props.onpress}\\n    - {this.props.text}\\n    - {this.props.hearttext}\\n    - key={this.props.key} \\n    - text={this.props.category} \\n    - this.props.selected\\n  */\\n  render: function() {\\n    return (\\n      <touchablehighlight \\n        underlaycolor={'transparent'}\\n        onpress={this.props.onpress} >\\n          <image \\n            source={this.props.source} \\n            style={[styles.articlepreview, this.border('red')]}>\\n                  <view style={[styles.container, this.border('organge')]}>\\n                      <view style={[styles.header, this.border('blue')]}>\\n                          <text style={[styles.previewtext]}>{this.props.text}</text>\\n                      </view>\\n                      <view style={[styles.footer, this.border('white')]}>\\n                        <view style={[styles.heartrow, this.border('black')]}>\\n                          <imagebutton\\n                              style={[styles.heartbtn, , this.border('red')]}\\n                              resizemode={'contain'}\\n                              onpress={this.onheartpress}\\n                              source={require('../../img/heart_btn.png')} />\\n                          <text style={[styles.hearttext]}>{this.props.hearttext + ' favorites'}</text>\\n                        </view>\\n                          <keywordbox \\n                              style={[styles.category, this.border('blue')]}\\n                              key={this.props.key} \\n                              text={this.props.category} \\n                              onpress={this.props.categorypress}\\n                              selected={this.props.selected} />\\n                      </view>\\n                  </view>\\n          </image>\\n      </touchablehighlight>\\n    );\\n  }, \\n  onheartpress: function() {\\n    //will move this function to a general module\\n  }, \\n  border: function(color) {\\n      return {\\n        //bordercolor: color, \\n        //borderwidth: 4,\\n      } \\n   },\\n});\\n\\nvar styles = stylesheet.create({\\n  hearttext: {\\n    color: 'white', \\n    fontsize: 12, \\n    fontweight: 'bold',\\n    alignself: 'center', \\n    marginleft: 5, \\n    fontfamily: 'sfcompacttext-medium'\\n  }, \\n  heartrow: {\\n    flexdirection: 'row', \\n    justifycontent: 'space-around', \\n    alignself: 'center', \\n    justifycontent: 'center', \\n  }, \\n  heartbtn: {\\n    height: (92/97)*(window.width/13), \\n    width: window.width/13, \\n    alignself:'center', \\n  }, \\n  category: {\\n    fontfamily: 'bebas neue', \\n    fontsize: 10,\\n    fontweight: 'bold'\\n  }, \\n  header: {\\n    flex: 3, \\n    alignitems: 'center', \\n    justifycontent: 'space-around', \\n    margintop: window.height/30,\\n  }, \\n  footer: {\\n    flex: 1, \\n    flexdirection: 'row', \\n    justifycontent: 'space-between', \\n    alignitems: 'center', \\n    margin: window.height/50,\\n  }, \\n  container: {\\n    flex: 1, \\n    backgroundcolor: 'black', \\n    opacity: 0.6, \\n  }, \\n  articlepreview: {\\n    flex: 1, \\n    height: window.height/3.2, \\n    width: window.width, \\n    flexdirection: 'column'\\n  }, \\n  previewtext: {\\n    fontfamily: 'bebas neue', \\n    fontsize: 23,\\n    color: 'white', \\n    alignself: 'center', \\n    textalign: 'center', \\n    margin: 5, \\n    position: 'absolute',\\n    top: 0,\\n    right: 0,\\n    bottom: 0,\\n    left: 0\\n  }, \\n\\n});\\n\\n\",\n",
       "       ...,\n",
       "       \"    *urls.py*\\r\\n    //urls.py file\\r\\n    from django.contrib import admin\\r\\n    from django.urls import path\\r\\n    from . import views\\r\\n    \\r\\n    urlpatterns = [\\r\\n        path('admin/', admin.site.urls),\\r\\n        path('', views.homepage, name='homepage'),\\r\\n        path('login', views.login, name='login'),\\r\\n    ]\\r\\n\\r\\n\\r\\n\\r\\n    **views.py**\\r\\n    from django.http import httpresponse\\r\\n    from django.shortcuts import render\\r\\n    \\r\\n    \\r\\n    def homepage(request):\\r\\n        return render(request, 'bms_homepage_template/bms_homepage.html')\\r\\n    \\r\\n    def login(request):\\r\\n        return render(request, 'bms_homepage_template/login_page.html')\\r\\n\\r\\n\\r\\n\\r\\n    **login_page.html**\\r\\n    \\n\\n\\n\\nlogin page\\n\\n\\nlogin into your account\\n\\r\\n            account number:\\r\\n             \\r\\n            password:\\r\\n             \\n\\n\\n\\n\\r\\n\\r\\n\\r\\n    **bms_homepage.html**\\r\\n    login\\r\\n\\r\\nwhat i want to do is from homepage.html, when i click on login button it should open login_page.html\\r\\nbut it is showing me this error.\\r\\n[enter image description here][1]\\r\\nand guys i'm new to django so please explain in simple words.\\r\\n\\r\\n\\r\\n  [1]: https://i.stack.imgur.com/epqst.png\",\n",
       "       'i have a controller inside which a server is connected to the network when searching with this url http://192.168.1.3/query.php a window appears with information on input and output states as follows (& location = & di = 0,1,1,1,1,1,1, 1,1,1 & do = 1,1,1,1,1,1,1,1,1,1 & date = 2000,01,01 & time = 02,41,17).\\ni want to take this content in some way with either javascript or php.\\nnotice : this is the html code of the page :\\n<html><head></head><body>\\n  & location = & di = 0,1,1,1,1,1,1, 1,1,1 & do = 1,1,1,1,1,1,1,1,1,1 & date = 2000,01,01 & time = 02,41,17</body></html>\\n\\n',\n",
       "       \"so i was recently helping someone out with some code, and i overloaded a function they already had with a boolean version in the .h file\\nvoid setup();\\nbool setup();\\n\\nwith the intention of allowing them to do a sanity check and see if the setup function returned correctly, whilst not breaking backwards compatibility. \\napparently, simply changing the return type of a function doesn't qualify it as a new function. why does changing only the parameters make a function unique, but changing only the return type doesn't? \\nalso, what is the most graceful way to handle this situation? \\nmy initial thoughts were to pass a dummy parameter into the overloaded function to make it 'unique' but this seems contrived. what is happening in the compiler to cause this issue? \\n\"],\n",
       "      dtype=object)"
      ]
     },
     "execution_count": 12,
     "metadata": {},
     "output_type": "execute_result"
    }
   ],
   "source": [
    "data['clean_text'].values"
   ]
  },
  {
   "cell_type": "code",
   "execution_count": 179,
   "metadata": {},
   "outputs": [],
   "source": [
    "# np.savetxt(r'clean_text.csv', data['clean_text'].values, fmt='%s')"
   ]
  },
  {
   "attachments": {},
   "cell_type": "markdown",
   "metadata": {},
   "source": [
    "### 4.5. Reduce the sentence to be processed according to the desired number of words"
   ]
  },
  {
   "cell_type": "code",
   "execution_count": 13,
   "metadata": {},
   "outputs": [
    {
     "data": {
      "text/plain": [
       "<Axes: xlabel='text_len'>"
      ]
     },
     "execution_count": 13,
     "metadata": {},
     "output_type": "execute_result"
    },
    {
     "data": {
      "image/png": "[encoded data removed]",
      "text/plain": [
       "<Figure size 2500x200 with 1 Axes>"
      ]
     },
     "metadata": {},
     "output_type": "display_data"
    }
   ],
   "source": [
    "text_len = [len(word) for word in data['clean_text'].str.split(' ')]\n",
    "data['text_len'] = pd.DataFrame(text_len)\n",
    "\n",
    "fig, axes = plt.subplots(figsize=(25, 2))\n",
    "sns.boxplot(x=data['text_len'], palette=\"Oranges\")"
   ]
  },
  {
   "cell_type": "code",
   "execution_count": 17,
   "metadata": {},
   "outputs": [
    {
     "name": "stdout",
     "output_type": "stream",
     "text": [
      "47.0\n",
      "207.0\n"
     ]
    }
   ],
   "source": [
    "print(data['text_len'].quantile(0.25))\n",
    "print(data['text_len'].quantile(0.8))"
   ]
  },
  {
   "cell_type": "code",
   "execution_count": 18,
   "metadata": {},
   "outputs": [
    {
     "name": "stdout",
     "output_type": "stream",
     "text": [
      "47.0\n",
      "207.0\n"
     ]
    },
    {
     "data": {
      "text/plain": [
       "<Axes: xlabel='text_len'>"
      ]
     },
     "execution_count": 18,
     "metadata": {},
     "output_type": "execute_result"
    },
    {
     "data": {
      "image/png": "[encoded data removed]",
      "text/plain": [
       "<Figure size 2500x200 with 1 Axes>"
      ]
     },
     "metadata": {},
     "output_type": "display_data"
    }
   ],
   "source": [
    "Q1 = data['text_len'].quantile(0.25)\n",
    "Q3 = data['text_len'].quantile(0.8)\n",
    "\n",
    "print(Q1)\n",
    "print(Q3)\n",
    "\n",
    "data = data[(data['text_len'] > Q1) & (data['text_len'] < Q3)]\n",
    "\n",
    "fig, axes = plt.subplots(figsize=(25, 2))\n",
    "sns.boxplot(x=data['text_len'], palette=\"Oranges\")"
   ]
  },
  {
   "attachments": {},
   "cell_type": "markdown",
   "metadata": {},
   "source": [
    "### 4.6. Visualize # of label after preprocessing"
   ]
  },
  {
   "cell_type": "code",
   "execution_count": 19,
   "metadata": {},
   "outputs": [
    {
     "data": {
      "text/plain": [
       "[Text(0, 0, '10382'), Text(0, 0, '11892'), Text(0, 0, '10307')]"
      ]
     },
     "execution_count": 19,
     "metadata": {},
     "output_type": "execute_result"
    },
    {
     "data": {
      "image/png": "[encoded data removed]",
      "text/plain": [
       "<Figure size 600x400 with 1 Axes>"
      ]
     },
     "metadata": {},
     "output_type": "display_data"
    }
   ],
   "source": [
    "plt.subplots(figsize = (6,4))\n",
    "ax = sns.countplot(data = data, x = 'Y')\n",
    "ax.bar_label(ax.containers[0])"
   ]
  },
  {
   "attachments": {},
   "cell_type": "markdown",
   "metadata": {},
   "source": [
    "# 5. Model"
   ]
  },
  {
   "attachments": {},
   "cell_type": "markdown",
   "metadata": {},
   "source": [
    "### 5.1. Splitting data into Training, Testing, and Validating data"
   ]
  },
  {
   "cell_type": "code",
   "execution_count": 20,
   "metadata": {},
   "outputs": [
    {
     "name": "stdout",
     "output_type": "stream",
     "text": [
      "(22871,)\n",
      "(6451,)\n",
      "(3259,)\n"
     ]
    }
   ],
   "source": [
    "X = data['clean_text']\n",
    "Y = to_categorical(data['label'])\n",
    "\n",
    "X_train, X_val, y_train, y_val = train_test_split(X, Y, train_size=0.9, random_state = 42)\n",
    "X_train, X_test, y_train, y_test = train_test_split(X_train, y_train, train_size=0.78, random_state = 42)\n",
    "\n",
    "print(X_train.shape)\n",
    "print(X_test.shape)\n",
    "print(X_val.shape)"
   ]
  },
  {
   "attachments": {},
   "cell_type": "markdown",
   "metadata": {},
   "source": [
    "### 5.2. Declare parameter for Tokenizing and Training Model process"
   ]
  },
  {
   "cell_type": "code",
   "execution_count": 22,
   "metadata": {},
   "outputs": [],
   "source": [
    "vocab_size = 10000\n",
    "embedding_dim = 128\n",
    "max_length = 210\n",
    "trunc_type = 'post'\n",
    "padding_type = 'post'\n",
    "oov_tok = \"<OOV>\""
   ]
  },
  {
   "attachments": {},
   "cell_type": "markdown",
   "metadata": {},
   "source": [
    "### 5.3. Tokenizing text"
   ]
  },
  {
   "cell_type": "code",
   "execution_count": 23,
   "metadata": {},
   "outputs": [
    {
     "name": "stdout",
     "output_type": "stream",
     "text": [
      "119483\n"
     ]
    }
   ],
   "source": [
    "# Tokenizing \n",
    "tokenizer = Tokenizer(num_words=vocab_size, oov_token=oov_tok)\n",
    "tokenizer.fit_on_texts(X)\n",
    "\n",
    "print(len(tokenizer.word_index))\n",
    "\n",
    "# Text to Sequences\n",
    "training_sequences = tokenizer.texts_to_sequences(X_train)\n",
    "testing_sequences = tokenizer.texts_to_sequences(X_test)\n",
    "validating_sequences = tokenizer.texts_to_sequences(X_val)\n",
    "\n",
    "# Add padding\n",
    "training_padded = pad_sequences(training_sequences, maxlen = max_length, padding = padding_type)\n",
    "testing_padded = pad_sequences(testing_sequences, maxlen = max_length, padding = padding_type)\n",
    "validating_padded = pad_sequences(validating_sequences, maxlen = max_length, padding = padding_type)\n",
    "\n",
    "# Convert to numpy array\n",
    "training_padded = np.array(training_padded)\n",
    "training_label = np.array(y_train)\n",
    "\n",
    "testing_padded = np.array(testing_padded)\n",
    "testing_label = np.array(y_test)\n",
    "\n",
    "validating_padded = np.array(validating_padded)\n",
    "validating_label = np.array(y_val)"
   ]
  },
  {
   "attachments": {},
   "cell_type": "markdown",
   "metadata": {},
   "source": [
    "### 5.4. Build Deep Learning Models"
   ]
  },
  {
   "cell_type": "code",
   "execution_count": 43,
   "metadata": {},
   "outputs": [
    {
     "name": "stdout",
     "output_type": "stream",
     "text": [
      "Model: \"sequential_8\"\n",
      "_________________________________________________________________\n",
      " Layer (type)                Output Shape              Param #   \n",
      "=================================================================\n",
      " embedding_8 (Embedding)     (None, 210, 128)          1280000   \n",
      "                                                                 \n",
      " conv1d_21 (Conv1D)          (None, 210, 64)           24640     \n",
      "                                                                 \n",
      " batch_normalization_21 (Bat  (None, 210, 64)          256       \n",
      " chNormalization)                                                \n",
      "                                                                 \n",
      " re_lu_21 (ReLU)             (None, 210, 64)           0         \n",
      "                                                                 \n",
      " max_pooling1d_21 (MaxPoolin  (None, 105, 64)          0         \n",
      " g1D)                                                            \n",
      "                                                                 \n",
      " conv1d_22 (Conv1D)          (None, 105, 64)           12352     \n",
      "                                                                 \n",
      " batch_normalization_22 (Bat  (None, 105, 64)          256       \n",
      " chNormalization)                                                \n",
      "                                                                 \n",
      " re_lu_22 (ReLU)             (None, 105, 64)           0         \n",
      "                                                                 \n",
      " max_pooling1d_22 (MaxPoolin  (None, 52, 64)           0         \n",
      " g1D)                                                            \n",
      "                                                                 \n",
      " conv1d_23 (Conv1D)          (None, 52, 32)            6176      \n",
      "                                                                 \n",
      " re_lu_23 (ReLU)             (None, 52, 32)            0         \n",
      "                                                                 \n",
      " max_pooling1d_23 (MaxPoolin  (None, 26, 32)           0         \n",
      " g1D)                                                            \n",
      "                                                                 \n",
      " dropout_5 (Dropout)         (None, 26, 32)            0         \n",
      "                                                                 \n",
      " batch_normalization_23 (Bat  (None, 26, 32)           128       \n",
      " chNormalization)                                                \n",
      "                                                                 \n",
      " flatten_8 (Flatten)         (None, 832)               0         \n",
      "                                                                 \n",
      " dense_24 (Dense)            (None, 512)               426496    \n",
      "                                                                 \n",
      " dense_25 (Dense)            (None, 512)               262656    \n",
      "                                                                 \n",
      " dense_26 (Dense)            (None, 3)                 1539      \n",
      "                                                                 \n",
      "=================================================================\n",
      "Total params: 2,014,499\n",
      "Trainable params: 2,014,179\n",
      "Non-trainable params: 320\n",
      "_________________________________________________________________\n"
     ]
    }
   ],
   "source": [
    "# initializer = tf.keras.initializers.RandomNormal(mean=0., stddev=1.) ### 0.9\n",
    "# initializer = tf.keras.initializers.RandomUniform(minval=0., maxval=1.) ### 0.8004\n",
    "# initializer = tf.keras.initializers.TruncatedNormal(mean=0., stddev=1.) ### 0.8842\n",
    "# initializer = tf.keras.initializers.Zeros() ### 0.3400\n",
    "# initializer = tf.keras.initializers.Ones()\n",
    "# initializer = tf.keras.initializers.GlorotNormal() ### 0.8963\n",
    "# initializer = tf.keras.initializers.GlorotUniform() ### 0.8916\n",
    "initializer = tf.keras.initializers.HeNormal() ### 0.9082\n",
    "# initializer = tf.keras.initializers.HeUniform()\n",
    "# initializer = tf.keras.initializers.Identity()\n",
    "# initializer = tf.keras.initializers.Orthogonal()\n",
    "# initializer = tf.keras.initializers.Constant(3.)\n",
    "# initializer = tf.keras.initializers.VarianceScaling(scale=0.1, mode='fan_in', distribution='uniform')\n",
    "\n",
    "def CNN_Model():\n",
    "    model = Sequential()\n",
    "    model.add(Embedding(vocab_size, embedding_dim, input_length=max_length))\n",
    "\n",
    "    model.add(Conv1D(64, 3, kernel_regularizer=keras.regularizers.l2(l=0.001), padding='same'))\n",
    "    model.add(BatchNormalization())\n",
    "    # model.add(LeakyReLU(0.2))\n",
    "    model.add(ReLU())\n",
    "    # model.add(Dropout(0.4))\n",
    "    model.add(MaxPooling1D())\n",
    "\n",
    "    # model.add(Conv1D(512, 3, kernel_regularizer=keras.regularizers.l2(l=0.001), padding='same'))\n",
    "    # # model.add(LeakyReLU(0.2))\n",
    "    # model.add(ReLU())\n",
    "    # model.add(MaxPooling1D())\n",
    "    # model.add(Dropout(0.4))\n",
    "    # model.add(BatchNormalization())\n",
    "\n",
    "    model.add(Conv1D(64, 3, kernel_regularizer=keras.regularizers.l2(l=0.001), padding='same'))\n",
    "    # model.add(LeakyReLU(0.2))\n",
    "    model.add(BatchNormalization())\n",
    "    model.add(ReLU())\n",
    "    # model.add(Dropout(0.4))\n",
    "    model.add(MaxPooling1D())\n",
    "\n",
    "    model.add(Conv1D(32, 3, kernel_regularizer=keras.regularizers.l2(l=0.001), padding='same'))\n",
    "    # model.add(LeakyReLU(0.2))\n",
    "    model.add(ReLU())\n",
    "    model.add(MaxPooling1D())\n",
    "    model.add(Dropout(0.4))\n",
    "    model.add(BatchNormalization())\n",
    "\n",
    "    # model.add(GlobalMaxPooling1D())\n",
    "    model.add(Flatten())\n",
    "    # model.add(Dense(4098, activation='relu'))\n",
    "    model.add(Dense(512, activation='relu'))\n",
    "    # model.add(Dropout(0.2))\n",
    "    model.add(Dense(512, activation='relu'))\n",
    "    # model.add(Dropout(0.2))\n",
    "    model.add(Dense(3, activation='softmax'))\n",
    "    return model\n",
    "\n",
    "def LSTM_Model():\n",
    "    model = Sequential()\n",
    "    model.add(Embedding(input_dim=vocab_size, output_dim=embedding_dim, input_length=max_length))\n",
    "    model.add(Bidirectional(LSTM(64, return_sequences=True)))\n",
    "    model.add(Bidirectional(LSTM(64)))\n",
    "    model.add(Dense(32, activation='swish'))\n",
    "    model.add(Dropout(0.2))\n",
    "    # model.add(Dropout(0.5))\n",
    "    # model.add(Dense(16, activation='relu'))\n",
    "    model.add(Dense(3, activation='softmax'))\n",
    "    return model\n",
    "\n",
    "def GRU_Model():\n",
    "    model = Sequential()\n",
    "    model.add(Embedding(vocab_size, embedding_dim, input_length=max_length))\n",
    "    # model.add(Bidirectional(GRU(64, activation ='tanh', recurrent_activation ='sigmoid', recurrent_dropout = 0, unroll=False, use_bias=True, reset_after=True, return_sequences=True)))\n",
    "    model.add(Bidirectional(GRU(64, activation ='tanh', recurrent_activation ='sigmoid', recurrent_dropout = 0, unroll=False, use_bias=True, reset_after=True)))\n",
    "    model.add(Dense(32, activation='swish'))\n",
    "    model.add(Dropout(0.4))\n",
    "    model.add(Dense(3, activation='softmax'))\n",
    "    return model\n",
    "    \n",
    "\n",
    "model = CNN_Model()\n",
    "# model = LSTM_Model()\n",
    "# model = GRU_Model()\n",
    "\n",
    "model.summary()\n",
    "\n",
    "# opt = RMSprop(learning_rate = 0.001)\n",
    "# opt = SGD(learning_rate = 0.01)\n",
    "opt = Adam(learning_rate = 0.000001)\n",
    "\n",
    "model.compile(loss='categorical_crossentropy', optimizer=opt, metrics=['accuracy'])\n",
    "# model.compile(loss='categorical_crossentropy', optimizer=opt, metrics=[tf.keras.metrics.AUC()])\n",
    "# model.compile(loss='categorical_crossentropy', optimizer='rmsprop', metrics=['accuracy'])\n",
    "# model.compile(loss='categorical_crossentropy', optimizer='nadam', metrics=['accuracy'])"
   ]
  },
  {
   "attachments": {},
   "cell_type": "markdown",
   "metadata": {},
   "source": [
    "### 5.5. Training the Model"
   ]
  },
  {
   "cell_type": "code",
   "execution_count": 50,
   "metadata": {},
   "outputs": [
    {
     "name": "stdout",
     "output_type": "stream",
     "text": [
      "Epoch 1/100\n",
      "358/358 [==============================] - 5s 13ms/step - loss: 0.4913 - accuracy: 0.8779 - val_loss: 0.6979 - val_accuracy: 0.7954\n",
      "Epoch 2/100\n",
      "358/358 [==============================] - 4s 12ms/step - loss: 0.4931 - accuracy: 0.8789 - val_loss: 0.7006 - val_accuracy: 0.7955\n",
      "Epoch 3/100\n",
      "358/358 [==============================] - 4s 12ms/step - loss: 0.4926 - accuracy: 0.8785 - val_loss: 0.6976 - val_accuracy: 0.7960\n",
      "Epoch 4/100\n",
      "358/358 [==============================] - 4s 12ms/step - loss: 0.4895 - accuracy: 0.8801 - val_loss: 0.7009 - val_accuracy: 0.7966\n",
      "Epoch 5/100\n",
      "358/358 [==============================] - 4s 12ms/step - loss: 0.4877 - accuracy: 0.8822 - val_loss: 0.6985 - val_accuracy: 0.7958\n",
      "Epoch 6/100\n",
      "358/358 [==============================] - 4s 12ms/step - loss: 0.4910 - accuracy: 0.8776 - val_loss: 0.7002 - val_accuracy: 0.7968\n",
      "Epoch 7/100\n",
      "358/358 [==============================] - 4s 12ms/step - loss: 0.4856 - accuracy: 0.8834 - val_loss: 0.7011 - val_accuracy: 0.7963\n",
      "Epoch 8/100\n",
      "358/358 [==============================] - 4s 12ms/step - loss: 0.4883 - accuracy: 0.8798 - val_loss: 0.7041 - val_accuracy: 0.7974\n",
      "Epoch 9/100\n",
      "358/358 [==============================] - 4s 12ms/step - loss: 0.4820 - accuracy: 0.8842 - val_loss: 0.7042 - val_accuracy: 0.7966\n",
      "Epoch 10/100\n",
      "358/358 [==============================] - 4s 12ms/step - loss: 0.4774 - accuracy: 0.8871 - val_loss: 0.7028 - val_accuracy: 0.7969\n",
      "Epoch 11/100\n",
      "358/358 [==============================] - 4s 11ms/step - loss: 0.4832 - accuracy: 0.8839 - val_loss: 0.7036 - val_accuracy: 0.7965\n",
      "Epoch 12/100\n",
      "358/358 [==============================] - 4s 12ms/step - loss: 0.4763 - accuracy: 0.8875 - val_loss: 0.7050 - val_accuracy: 0.7971\n",
      "Epoch 13/100\n",
      "358/358 [==============================] - 4s 12ms/step - loss: 0.4816 - accuracy: 0.8831 - val_loss: 0.7010 - val_accuracy: 0.7960\n",
      "Epoch 14/100\n",
      "358/358 [==============================] - 4s 12ms/step - loss: 0.4710 - accuracy: 0.8890 - val_loss: 0.7014 - val_accuracy: 0.7968\n",
      "Epoch 15/100\n",
      "358/358 [==============================] - 4s 12ms/step - loss: 0.4748 - accuracy: 0.8875 - val_loss: 0.7038 - val_accuracy: 0.7969\n",
      "Epoch 16/100\n",
      "358/358 [==============================] - 4s 12ms/step - loss: 0.4742 - accuracy: 0.8879 - val_loss: 0.7047 - val_accuracy: 0.7977\n",
      "Epoch 17/100\n",
      "358/358 [==============================] - 4s 12ms/step - loss: 0.4724 - accuracy: 0.8874 - val_loss: 0.7031 - val_accuracy: 0.7969\n",
      "Epoch 18/100\n",
      "358/358 [==============================] - 4s 12ms/step - loss: 0.4707 - accuracy: 0.8894 - val_loss: 0.7044 - val_accuracy: 0.7971\n",
      "Epoch 19/100\n",
      "358/358 [==============================] - 4s 12ms/step - loss: 0.4685 - accuracy: 0.8903 - val_loss: 0.7056 - val_accuracy: 0.7980\n",
      "Epoch 20/100\n",
      "358/358 [==============================] - 4s 12ms/step - loss: 0.4670 - accuracy: 0.8913 - val_loss: 0.7054 - val_accuracy: 0.7966\n",
      "Epoch 21/100\n",
      "358/358 [==============================] - 4s 12ms/step - loss: 0.4680 - accuracy: 0.8913 - val_loss: 0.7063 - val_accuracy: 0.7972\n",
      "Epoch 22/100\n",
      "358/358 [==============================] - 4s 12ms/step - loss: 0.4646 - accuracy: 0.8895 - val_loss: 0.7041 - val_accuracy: 0.7969\n",
      "Epoch 23/100\n",
      "358/358 [==============================] - 4s 12ms/step - loss: 0.4624 - accuracy: 0.8937 - val_loss: 0.7096 - val_accuracy: 0.7977\n",
      "Epoch 24/100\n",
      "358/358 [==============================] - 4s 12ms/step - loss: 0.4626 - accuracy: 0.8904 - val_loss: 0.7036 - val_accuracy: 0.7976\n",
      "Epoch 25/100\n",
      "358/358 [==============================] - 4s 12ms/step - loss: 0.4573 - accuracy: 0.8974 - val_loss: 0.7047 - val_accuracy: 0.7971\n",
      "Epoch 26/100\n",
      "358/358 [==============================] - 4s 12ms/step - loss: 0.4580 - accuracy: 0.8956 - val_loss: 0.7057 - val_accuracy: 0.7965\n",
      "Epoch 27/100\n",
      "358/358 [==============================] - 4s 12ms/step - loss: 0.4512 - accuracy: 0.8995 - val_loss: 0.7089 - val_accuracy: 0.7966\n",
      "Epoch 28/100\n",
      "358/358 [==============================] - 4s 12ms/step - loss: 0.4568 - accuracy: 0.8956 - val_loss: 0.7064 - val_accuracy: 0.7963\n",
      "Epoch 29/100\n",
      "358/358 [==============================] - 4s 12ms/step - loss: 0.4533 - accuracy: 0.8977 - val_loss: 0.7066 - val_accuracy: 0.7971\n",
      "Epoch 30/100\n",
      "358/358 [==============================] - 4s 12ms/step - loss: 0.4574 - accuracy: 0.8931 - val_loss: 0.7105 - val_accuracy: 0.7988\n",
      "Epoch 31/100\n",
      "358/358 [==============================] - 4s 12ms/step - loss: 0.4508 - accuracy: 0.8994 - val_loss: 0.7098 - val_accuracy: 0.7972\n",
      "Epoch 32/100\n",
      "358/358 [==============================] - 4s 12ms/step - loss: 0.4485 - accuracy: 0.8984 - val_loss: 0.7088 - val_accuracy: 0.7969\n",
      "Epoch 33/100\n",
      "358/358 [==============================] - 4s 12ms/step - loss: 0.4532 - accuracy: 0.8983 - val_loss: 0.7093 - val_accuracy: 0.7971\n",
      "Epoch 34/100\n",
      "358/358 [==============================] - 4s 12ms/step - loss: 0.4550 - accuracy: 0.8956 - val_loss: 0.7132 - val_accuracy: 0.7980\n",
      "Epoch 35/100\n",
      "358/358 [==============================] - 4s 12ms/step - loss: 0.4471 - accuracy: 0.9005 - val_loss: 0.7082 - val_accuracy: 0.7985\n",
      "Epoch 36/100\n",
      "358/358 [==============================] - 4s 12ms/step - loss: 0.4450 - accuracy: 0.9005 - val_loss: 0.7093 - val_accuracy: 0.7979\n",
      "Epoch 37/100\n",
      "358/358 [==============================] - 4s 12ms/step - loss: 0.4437 - accuracy: 0.9012 - val_loss: 0.7084 - val_accuracy: 0.7982\n",
      "Epoch 38/100\n",
      "358/358 [==============================] - 4s 12ms/step - loss: 0.4414 - accuracy: 0.9007 - val_loss: 0.7132 - val_accuracy: 0.7983\n",
      "Epoch 39/100\n",
      "358/358 [==============================] - 4s 12ms/step - loss: 0.4402 - accuracy: 0.9028 - val_loss: 0.7116 - val_accuracy: 0.7985\n",
      "Epoch 40/100\n",
      "358/358 [==============================] - 4s 12ms/step - loss: 0.4365 - accuracy: 0.9042 - val_loss: 0.7094 - val_accuracy: 0.7988\n",
      "Epoch 41/100\n",
      "358/358 [==============================] - 4s 12ms/step - loss: 0.4363 - accuracy: 0.9033 - val_loss: 0.7119 - val_accuracy: 0.7991\n",
      "Epoch 42/100\n",
      "358/358 [==============================] - 4s 12ms/step - loss: 0.4431 - accuracy: 0.9026 - val_loss: 0.7119 - val_accuracy: 0.7983\n",
      "Epoch 43/100\n",
      "358/358 [==============================] - 4s 12ms/step - loss: 0.4381 - accuracy: 0.9026 - val_loss: 0.7153 - val_accuracy: 0.7977\n",
      "Epoch 44/100\n",
      "358/358 [==============================] - 4s 12ms/step - loss: 0.4306 - accuracy: 0.9063 - val_loss: 0.7124 - val_accuracy: 0.7986\n",
      "Epoch 45/100\n",
      "358/358 [==============================] - 4s 12ms/step - loss: 0.4367 - accuracy: 0.9039 - val_loss: 0.7151 - val_accuracy: 0.7986\n",
      "Epoch 46/100\n",
      "358/358 [==============================] - 4s 12ms/step - loss: 0.4319 - accuracy: 0.9074 - val_loss: 0.7141 - val_accuracy: 0.7997\n",
      "Epoch 47/100\n",
      "358/358 [==============================] - 4s 12ms/step - loss: 0.4332 - accuracy: 0.9048 - val_loss: 0.7162 - val_accuracy: 0.7982\n",
      "Epoch 48/100\n",
      "358/358 [==============================] - 4s 12ms/step - loss: 0.4319 - accuracy: 0.9048 - val_loss: 0.7177 - val_accuracy: 0.7989\n",
      "Epoch 49/100\n",
      "358/358 [==============================] - 4s 12ms/step - loss: 0.4278 - accuracy: 0.9108 - val_loss: 0.7149 - val_accuracy: 0.8005\n",
      "Epoch 50/100\n",
      "358/358 [==============================] - 4s 12ms/step - loss: 0.4308 - accuracy: 0.9070 - val_loss: 0.7176 - val_accuracy: 0.7991\n",
      "Epoch 51/100\n",
      "358/358 [==============================] - 4s 12ms/step - loss: 0.4339 - accuracy: 0.9038 - val_loss: 0.7158 - val_accuracy: 0.8005\n",
      "Epoch 52/100\n",
      "358/358 [==============================] - 4s 12ms/step - loss: 0.4234 - accuracy: 0.9104 - val_loss: 0.7159 - val_accuracy: 0.8007\n",
      "Epoch 53/100\n",
      "358/358 [==============================] - 4s 12ms/step - loss: 0.4224 - accuracy: 0.9120 - val_loss: 0.7188 - val_accuracy: 0.8003\n",
      "Epoch 54/100\n",
      "358/358 [==============================] - 4s 12ms/step - loss: 0.4223 - accuracy: 0.9110 - val_loss: 0.7172 - val_accuracy: 0.8003\n",
      "Epoch 55/100\n",
      "358/358 [==============================] - 4s 12ms/step - loss: 0.4210 - accuracy: 0.9122 - val_loss: 0.7192 - val_accuracy: 0.8000\n",
      "Epoch 56/100\n",
      "358/358 [==============================] - 4s 12ms/step - loss: 0.4206 - accuracy: 0.9111 - val_loss: 0.7192 - val_accuracy: 0.8003\n",
      "Epoch 57/100\n",
      "358/358 [==============================] - 4s 12ms/step - loss: 0.4179 - accuracy: 0.9134 - val_loss: 0.7202 - val_accuracy: 0.8005\n",
      "Epoch 58/100\n",
      "358/358 [==============================] - 4s 12ms/step - loss: 0.4191 - accuracy: 0.9112 - val_loss: 0.7199 - val_accuracy: 0.8013\n",
      "Epoch 59/100\n",
      "358/358 [==============================] - 4s 12ms/step - loss: 0.4193 - accuracy: 0.9125 - val_loss: 0.7165 - val_accuracy: 0.8019\n",
      "Epoch 60/100\n",
      "358/358 [==============================] - 4s 12ms/step - loss: 0.4097 - accuracy: 0.9144 - val_loss: 0.7216 - val_accuracy: 0.8008\n",
      "Epoch 61/100\n",
      "358/358 [==============================] - 4s 12ms/step - loss: 0.4092 - accuracy: 0.9164 - val_loss: 0.7219 - val_accuracy: 0.8016\n",
      "Epoch 62/100\n",
      "358/358 [==============================] - 4s 12ms/step - loss: 0.4145 - accuracy: 0.9129 - val_loss: 0.7228 - val_accuracy: 0.8019\n",
      "Epoch 63/100\n",
      "358/358 [==============================] - 4s 12ms/step - loss: 0.4101 - accuracy: 0.9147 - val_loss: 0.7247 - val_accuracy: 0.8010\n",
      "Epoch 64/100\n",
      "358/358 [==============================] - 4s 12ms/step - loss: 0.4128 - accuracy: 0.9145 - val_loss: 0.7228 - val_accuracy: 0.8030\n",
      "Epoch 65/100\n",
      "358/358 [==============================] - 4s 12ms/step - loss: 0.4116 - accuracy: 0.9129 - val_loss: 0.7261 - val_accuracy: 0.8011\n",
      "Epoch 66/100\n",
      "358/358 [==============================] - 4s 12ms/step - loss: 0.4128 - accuracy: 0.9133 - val_loss: 0.7255 - val_accuracy: 0.8007\n",
      "Epoch 67/100\n",
      "358/358 [==============================] - 4s 12ms/step - loss: 0.4058 - accuracy: 0.9169 - val_loss: 0.7252 - val_accuracy: 0.8016\n",
      "Epoch 68/100\n",
      "358/358 [==============================] - 4s 12ms/step - loss: 0.4057 - accuracy: 0.9163 - val_loss: 0.7250 - val_accuracy: 0.8022\n",
      "Epoch 69/100\n",
      "358/358 [==============================] - 4s 12ms/step - loss: 0.4029 - accuracy: 0.9178 - val_loss: 0.7273 - val_accuracy: 0.8019\n",
      "Epoch 70/100\n",
      "358/358 [==============================] - 4s 12ms/step - loss: 0.4048 - accuracy: 0.9172 - val_loss: 0.7268 - val_accuracy: 0.8024\n",
      "Epoch 71/100\n",
      "358/358 [==============================] - 4s 12ms/step - loss: 0.4034 - accuracy: 0.9181 - val_loss: 0.7287 - val_accuracy: 0.8030\n",
      "Epoch 72/100\n",
      "358/358 [==============================] - 4s 12ms/step - loss: 0.4034 - accuracy: 0.9177 - val_loss: 0.7270 - val_accuracy: 0.8024\n",
      "Epoch 73/100\n",
      "358/358 [==============================] - 4s 12ms/step - loss: 0.3932 - accuracy: 0.9237 - val_loss: 0.7286 - val_accuracy: 0.8016\n",
      "Epoch 74/100\n",
      "358/358 [==============================] - 4s 12ms/step - loss: 0.3995 - accuracy: 0.9182 - val_loss: 0.7297 - val_accuracy: 0.8013\n",
      "Epoch 75/100\n",
      "358/358 [==============================] - 4s 12ms/step - loss: 0.4036 - accuracy: 0.9170 - val_loss: 0.7304 - val_accuracy: 0.8017\n",
      "Epoch 76/100\n",
      "358/358 [==============================] - 4s 12ms/step - loss: 0.3950 - accuracy: 0.9210 - val_loss: 0.7319 - val_accuracy: 0.8020\n",
      "Epoch 77/100\n",
      "358/358 [==============================] - 4s 12ms/step - loss: 0.3944 - accuracy: 0.9216 - val_loss: 0.7340 - val_accuracy: 0.8008\n",
      "Epoch 78/100\n",
      "358/358 [==============================] - 4s 12ms/step - loss: 0.3911 - accuracy: 0.9229 - val_loss: 0.7329 - val_accuracy: 0.8022\n",
      "Epoch 79/100\n",
      "358/358 [==============================] - 4s 12ms/step - loss: 0.3943 - accuracy: 0.9198 - val_loss: 0.7332 - val_accuracy: 0.8017\n",
      "Epoch 80/100\n",
      "358/358 [==============================] - 4s 12ms/step - loss: 0.3922 - accuracy: 0.9214 - val_loss: 0.7376 - val_accuracy: 0.8014\n",
      "Epoch 81/100\n",
      "358/358 [==============================] - 4s 12ms/step - loss: 0.3972 - accuracy: 0.9231 - val_loss: 0.7339 - val_accuracy: 0.8020\n",
      "Epoch 82/100\n",
      "358/358 [==============================] - 4s 12ms/step - loss: 0.3893 - accuracy: 0.9227 - val_loss: 0.7385 - val_accuracy: 0.8014\n",
      "Epoch 83/100\n",
      "358/358 [==============================] - 4s 12ms/step - loss: 0.3904 - accuracy: 0.9237 - val_loss: 0.7364 - val_accuracy: 0.8020\n",
      "Epoch 84/100\n",
      "358/358 [==============================] - 4s 12ms/step - loss: 0.3879 - accuracy: 0.9255 - val_loss: 0.7348 - val_accuracy: 0.8034\n",
      "Epoch 85/100\n",
      "358/358 [==============================] - 4s 12ms/step - loss: 0.3869 - accuracy: 0.9273 - val_loss: 0.7379 - val_accuracy: 0.8027\n",
      "Epoch 86/100\n",
      "358/358 [==============================] - 4s 12ms/step - loss: 0.3868 - accuracy: 0.9254 - val_loss: 0.7360 - val_accuracy: 0.8033\n",
      "Epoch 87/100\n",
      "358/358 [==============================] - 4s 12ms/step - loss: 0.3798 - accuracy: 0.9270 - val_loss: 0.7385 - val_accuracy: 0.8028\n",
      "Epoch 88/100\n",
      "358/358 [==============================] - 4s 12ms/step - loss: 0.3852 - accuracy: 0.9263 - val_loss: 0.7403 - val_accuracy: 0.8014\n",
      "Epoch 89/100\n",
      "358/358 [==============================] - 4s 12ms/step - loss: 0.3826 - accuracy: 0.9273 - val_loss: 0.7425 - val_accuracy: 0.8022\n",
      "Epoch 90/100\n",
      "358/358 [==============================] - 4s 12ms/step - loss: 0.3787 - accuracy: 0.9298 - val_loss: 0.7411 - val_accuracy: 0.8033\n",
      "Epoch 91/100\n",
      "358/358 [==============================] - 4s 12ms/step - loss: 0.3811 - accuracy: 0.9288 - val_loss: 0.7395 - val_accuracy: 0.8025\n",
      "Epoch 92/100\n",
      "358/358 [==============================] - 4s 12ms/step - loss: 0.3804 - accuracy: 0.9251 - val_loss: 0.7442 - val_accuracy: 0.8020\n",
      "Epoch 93/100\n",
      "358/358 [==============================] - 4s 12ms/step - loss: 0.3811 - accuracy: 0.9276 - val_loss: 0.7460 - val_accuracy: 0.8019\n",
      "Epoch 94/100\n",
      "358/358 [==============================] - 4s 12ms/step - loss: 0.3773 - accuracy: 0.9285 - val_loss: 0.7435 - val_accuracy: 0.8034\n",
      "Epoch 95/100\n",
      "358/358 [==============================] - 4s 12ms/step - loss: 0.3739 - accuracy: 0.9279 - val_loss: 0.7457 - val_accuracy: 0.8030\n",
      "Epoch 96/100\n",
      "358/358 [==============================] - 4s 12ms/step - loss: 0.3760 - accuracy: 0.9290 - val_loss: 0.7474 - val_accuracy: 0.8034\n",
      "Epoch 97/100\n",
      "358/358 [==============================] - 4s 12ms/step - loss: 0.3726 - accuracy: 0.9312 - val_loss: 0.7485 - val_accuracy: 0.8025\n",
      "Epoch 98/100\n",
      "358/358 [==============================] - 4s 12ms/step - loss: 0.3726 - accuracy: 0.9281 - val_loss: 0.7475 - val_accuracy: 0.8030\n",
      "Epoch 99/100\n",
      "358/358 [==============================] - 4s 11ms/step - loss: 0.3745 - accuracy: 0.9310 - val_loss: 0.7470 - val_accuracy: 0.8031\n",
      "Epoch 100/100\n",
      "358/358 [==============================] - 4s 12ms/step - loss: 0.3724 - accuracy: 0.9296 - val_loss: 0.7492 - val_accuracy: 0.8033\n"
     ]
    }
   ],
   "source": [
    "num_epoch = 100\n",
    "batch_size = 64\n",
    "\n",
    "lr_schedule = tf.keras.callbacks.LearningRateScheduler(\n",
    "    lambda epoch: 1e-5 * 10**(epoch/20)\n",
    ")\n",
    "\n",
    "history = model.fit(training_padded, training_label, \n",
    "                    batch_size = batch_size, epochs = num_epoch, \n",
    "                    # callbacks=[lr_schedule], \n",
    "                    validation_data = (testing_padded, testing_label))"
   ]
  },
  {
   "attachments": {},
   "cell_type": "markdown",
   "metadata": {},
   "source": [
    "# 6. Evaluating Performance"
   ]
  },
  {
   "attachments": {},
   "cell_type": "markdown",
   "metadata": {},
   "source": [
    "### 6.21. Plotting Accuracy and Loss of the Model"
   ]
  },
  {
   "cell_type": "code",
   "execution_count": 51,
   "metadata": {},
   "outputs": [
    {
     "data": {
      "image/png": "[encoded data removed]",
      "text/plain": [
       "<Figure size 2500x400 with 2 Axes>"
      ]
     },
     "metadata": {},
     "output_type": "display_data"
    }
   ],
   "source": [
    "fig, ax = plt.subplots(nrows=1, ncols=2,figsize=(25, 4))\n",
    "ax[0].plot(history.history['accuracy'])\n",
    "ax[0].plot(history.history['val_accuracy'])\n",
    "ax[0].set_title('Accuracy')\n",
    "ax[0].set_xlabel('Accuracy')\n",
    "ax[0].set_ylabel('Epoch')\n",
    "\n",
    "ax[1].plot(history.history['loss'])\n",
    "ax[1].plot(history.history['val_loss'])\n",
    "ax[1].set_title('Loss')\n",
    "ax[1].set_xlabel('Loss')\n",
    "ax[1].set_ylabel('Epoch')\n",
    "\n",
    "plt.legend(['Train', 'Test'])\n",
    "plt.show()"
   ]
  },
  {
   "attachments": {},
   "cell_type": "markdown",
   "metadata": {},
   "source": [
    "### 6.2. Confusion Matrix"
   ]
  },
  {
   "cell_type": "code",
   "execution_count": 39,
   "metadata": {},
   "outputs": [
    {
     "name": "stdout",
     "output_type": "stream",
     "text": [
      "93/93 [==============================] - 1s 5ms/step\n"
     ]
    },
    {
     "data": {
      "image/png": "[encoded data removed]",
      "text/plain": [
       "<Figure size 640x480 with 2 Axes>"
      ]
     },
     "metadata": {},
     "output_type": "display_data"
    }
   ],
   "source": [
    "labels = ['HQ', 'LQ_EDIT', 'LQ_CLOSE']\n",
    "\n",
    "y_pred = np.rint(model.predict(validating_padded))\n",
    "# Build confusion matrix\n",
    "con_mat = confusion_matrix(validating_label.argmax(axis=1),y_pred.argmax(axis=1))\n",
    "\n",
    "# Compute the percentages for the confusion matrix\n",
    "cm_percent = con_mat.astype('float') / con_mat.sum(axis=1)[:, np.newaxis]\n",
    "\n",
    "# Create the heatmap using Seaborn\n",
    "sns.heatmap(cm_percent, annot=True, fmt='.2%', cmap='Blues', xticklabels=labels, yticklabels=labels)\n",
    "\n",
    "# Add labels to the plot\n",
    "plt.xlabel('Predicted Labels')\n",
    "plt.ylabel('True Labels')\n",
    "plt.title('Confusion Matrix - Fake News Detection')\n",
    "plt.show()"
   ]
  },
  {
   "cell_type": "code",
   "execution_count": 40,
   "metadata": {},
   "outputs": [
    {
     "name": "stdout",
     "output_type": "stream",
     "text": [
      "93/93 [==============================] - 0s 4ms/step\n",
      "              precision    recall  f1-score   support\n",
      "\n",
      "           0       0.77      0.76      0.76      1098\n",
      "           1       0.94      0.89      0.91       894\n",
      "           2       0.69      0.75      0.72       969\n",
      "\n",
      "    accuracy                           0.79      2961\n",
      "   macro avg       0.80      0.80      0.80      2961\n",
      "weighted avg       0.80      0.79      0.79      2961\n",
      "\n"
     ]
    }
   ],
   "source": [
    "from sklearn.metrics import classification_report\n",
    "y_pred = np.rint(model.predict(validating_padded))\n",
    "\n",
    "print(classification_report(validating_label.argmax(axis=1),y_pred.argmax(axis=1)))"
   ]
  },
  {
   "attachments": {},
   "cell_type": "markdown",
   "metadata": {},
   "source": [
    "### 6.3. ROC Curve "
   ]
  },
  {
   "cell_type": "code",
   "execution_count": 41,
   "metadata": {},
   "outputs": [
    {
     "name": "stdout",
     "output_type": "stream",
     "text": [
      "93/93 [==============================] - 0s 2ms/step\n"
     ]
    },
    {
     "data": {
      "image/png": "[encoded data removed]",
      "text/plain": [
       "<Figure size 500x500 with 1 Axes>"
      ]
     },
     "metadata": {},
     "output_type": "display_data"
    }
   ],
   "source": [
    "y_pred = np.rint(model.predict(validating_padded))\n",
    "n_classes = 3\n",
    "\n",
    "fig, ax = plt.subplots(figsize=(5, 5))\n",
    "target_names = ['HQ', 'LQ_EDIT', 'LQ_CLOSE']\n",
    "colors = cycle([\"aqua\", \"darkorange\", \"cornflowerblue\"])\n",
    "for class_id, color in zip(range(n_classes), colors):\n",
    "    RocCurveDisplay.from_predictions(\n",
    "        validating_label[:, class_id],\n",
    "        y_pred[:, class_id],\n",
    "        name=f\"ROC curve for {target_names[class_id]}\",\n",
    "        color=color,\n",
    "        ax=ax,\n",
    "    )"
   ]
  }
 ],
 "metadata": {
  "kernelspec": {
   "display_name": "gan",
   "language": "python",
   "name": "python3"
  },
  "language_info": {
   "codemirror_mode": {
    "name": "ipython",
    "version": 3
   },
   "file_extension": ".py",
   "mimetype": "text/x-python",
   "name": "python",
   "nbconvert_exporter": "python",
   "pygments_lexer": "ipython3",
   "version": "3.9.16"
  },
  "orig_nbformat": 4
 },
 "nbformat": 4,
 "nbformat_minor": 2
}
